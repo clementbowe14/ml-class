{
  "nbformat": 4,
  "nbformat_minor": 0,
  "metadata": {
    "colab": {
      "provenance": [],
      "authorship_tag": "ABX9TyPKXDSvJomvuqBFUrcZeDFv",
      "include_colab_link": true
    },
    "kernelspec": {
      "name": "python3",
      "display_name": "Python 3"
    },
    "language_info": {
      "name": "python"
    }
  },
  "cells": [
    {
      "cell_type": "markdown",
      "metadata": {
        "id": "view-in-github",
        "colab_type": "text"
      },
      "source": [
        "<a href=\"https://colab.research.google.com/github/clementbowe14/ml-class/blob/main/projects/ImageClassification.ipynb\" target=\"_parent\"><img src=\"https://colab.research.google.com/assets/colab-badge.svg\" alt=\"Open In Colab\"/></a>"
      ]
    },
    {
      "cell_type": "markdown",
      "source": [
        "# Image Classification\n",
        "\n",
        "\n",
        "For this assignment I will be predicting the classes of different images.\n",
        "\n",
        "The dataset that will be used for this task comes from CIFAR-10.\n",
        "\n",
        "First lets load the dataset.\n"
      ],
      "metadata": {
        "id": "Hr9YFQno6TCd"
      }
    },
    {
      "cell_type": "code",
      "source": [
        "from keras.datasets import cifar10\n",
        "\n",
        "final_scores = {}\n",
        "(train_X, train_y), (test_X, test_y) = cifar10.load_data()"
      ],
      "metadata": {
        "id": "rCFx8Zpw84bR"
      },
      "execution_count": null,
      "outputs": []
    },
    {
      "cell_type": "markdown",
      "source": [
        "Before we start working creating a deep learning model for this there are a few things to do. The features are a matrix of values between 0-255. The values in the matrices  0 to 1 because machine learning models have better performance when the data has a lower variability. Also, the numpy arrays will be reshaped  to 50000, 32, 32, 3.\n",
        "\n",
        "For our labels we are going to categorically encode them so our model encodes each one of the label classes. "
      ],
      "metadata": {
        "id": "xPJ23qtL9xkE"
      }
    },
    {
      "cell_type": "code",
      "source": [
        "from keras.utils import to_categorical\n",
        "\n",
        "train_X = (train_X.reshape(50000, 32, 32, 3).astype('float32'))/255\n",
        "test_X = (test_X.reshape(10000, 32, 32, 3).astype('float32'))/255\n",
        "\n",
        "train_y = to_categorical(train_y)\n",
        "test_y = to_categorical(test_y)"
      ],
      "metadata": {
        "id": "Po8szS5v_DPX"
      },
      "execution_count": null,
      "outputs": []
    },
    {
      "cell_type": "markdown",
      "source": [
        "Let now create our first model. The model will contain:\n",
        "- A flatten layer with input shape (32, 32, 3)\n",
        "- A dense layer with input size 256, an relu activation function and input shape (32, 32, 3)\n",
        "- A dense layer with input size 64 and activation function relu\n",
        "- and a Dense layer with output size 10 and the softmax activation function. \n",
        "\n",
        "After we create the model we compile it using categorical crossentropy as the loss function, rmsprop as the optimizer and accuracy as the metrics. "
      ],
      "metadata": {
        "id": "rpwOLJZDV0ll"
      }
    },
    {
      "cell_type": "code",
      "source": [
        "from keras import models, layers, optimizers\n",
        "\n",
        "network = models.Sequential()\n",
        "network.add(layers.Flatten(input_shape=(32, 32, 3)))\n",
        "network.add(layers.Dense(256, activation='relu', input_shape=(32,32,3)))\n",
        "network.add(layers.Dense(64, activation='relu'))\n",
        "network.add(layers.Dense(10, activation=\"softmax\"))\n",
        "\n",
        "network.compile(loss='categorical_crossentropy',\n",
        "                optimizer='rmsprop',\n",
        "                metrics=['accuracy'])"
      ],
      "metadata": {
        "id": "5BCXI2ov_xia"
      },
      "execution_count": null,
      "outputs": []
    },
    {
      "cell_type": "markdown",
      "source": [
        "Train the model the using the training features and the test labels for 50 epochs."
      ],
      "metadata": {
        "id": "mHy4qvfrdlOK"
      }
    },
    {
      "cell_type": "code",
      "source": [
        "history = network.fit(train_X, train_y, epochs=50,  validation_split=0.2, validation_steps=10)"
      ],
      "metadata": {
        "colab": {
          "base_uri": "https://localhost:8080/"
        },
        "id": "JRpXYDqiCkIH",
        "outputId": "79580e86-443c-42b7-98f9-3347330778d7"
      },
      "execution_count": null,
      "outputs": [
        {
          "output_type": "stream",
          "name": "stdout",
          "text": [
            "Epoch 1/20\n",
            "5000/5000 [==============================] - 48s 9ms/step - loss: 1.9535 - accuracy: 0.2933 - val_loss: 1.8379 - val_accuracy: 0.3419\n",
            "Epoch 2/20\n",
            "5000/5000 [==============================] - 46s 9ms/step - loss: 1.8058 - accuracy: 0.3542 - val_loss: 1.8364 - val_accuracy: 0.3551\n",
            "Epoch 3/20\n",
            "5000/5000 [==============================] - 47s 9ms/step - loss: 1.7839 - accuracy: 0.3652 - val_loss: 1.7472 - val_accuracy: 0.3788\n",
            "Epoch 4/20\n",
            "5000/5000 [==============================] - 45s 9ms/step - loss: 1.7788 - accuracy: 0.3737 - val_loss: 1.8280 - val_accuracy: 0.3386\n",
            "Epoch 5/20\n",
            "5000/5000 [==============================] - 42s 8ms/step - loss: 1.7819 - accuracy: 0.3762 - val_loss: 1.7939 - val_accuracy: 0.3694\n",
            "Epoch 6/20\n",
            "5000/5000 [==============================] - 43s 9ms/step - loss: 1.7759 - accuracy: 0.3781 - val_loss: 1.7755 - val_accuracy: 0.3837\n",
            "Epoch 7/20\n",
            "5000/5000 [==============================] - 44s 9ms/step - loss: 1.7704 - accuracy: 0.3800 - val_loss: 1.7831 - val_accuracy: 0.3639\n",
            "Epoch 8/20\n",
            "5000/5000 [==============================] - 43s 9ms/step - loss: 1.7669 - accuracy: 0.3844 - val_loss: 1.7705 - val_accuracy: 0.3874\n",
            "Epoch 9/20\n",
            "5000/5000 [==============================] - 43s 9ms/step - loss: 1.7645 - accuracy: 0.3854 - val_loss: 1.8326 - val_accuracy: 0.3722\n",
            "Epoch 10/20\n",
            "5000/5000 [==============================] - 43s 9ms/step - loss: 1.7725 - accuracy: 0.3823 - val_loss: 1.7360 - val_accuracy: 0.4099\n",
            "Epoch 11/20\n",
            "5000/5000 [==============================] - 48s 10ms/step - loss: 1.7701 - accuracy: 0.3810 - val_loss: 1.8486 - val_accuracy: 0.3473\n",
            "Epoch 12/20\n",
            "5000/5000 [==============================] - 43s 9ms/step - loss: 1.7682 - accuracy: 0.3788 - val_loss: 1.7558 - val_accuracy: 0.3739\n",
            "Epoch 13/20\n",
            "5000/5000 [==============================] - 42s 8ms/step - loss: 1.7644 - accuracy: 0.3771 - val_loss: 1.7486 - val_accuracy: 0.3775\n",
            "Epoch 14/20\n",
            "5000/5000 [==============================] - 45s 9ms/step - loss: 1.7491 - accuracy: 0.3793 - val_loss: 1.7697 - val_accuracy: 0.3795\n",
            "Epoch 15/20\n",
            "5000/5000 [==============================] - 43s 9ms/step - loss: 1.7410 - accuracy: 0.3832 - val_loss: 1.7908 - val_accuracy: 0.3837\n",
            "Epoch 16/20\n",
            "5000/5000 [==============================] - 43s 9ms/step - loss: 1.7307 - accuracy: 0.3834 - val_loss: 1.7523 - val_accuracy: 0.3932\n",
            "Epoch 17/20\n",
            "5000/5000 [==============================] - 46s 9ms/step - loss: 1.7180 - accuracy: 0.3918 - val_loss: 1.7353 - val_accuracy: 0.4045\n",
            "Epoch 18/20\n",
            "5000/5000 [==============================] - 42s 8ms/step - loss: 1.7083 - accuracy: 0.3945 - val_loss: 1.8793 - val_accuracy: 0.3861\n",
            "Epoch 19/20\n",
            "5000/5000 [==============================] - 44s 9ms/step - loss: 1.7006 - accuracy: 0.3976 - val_loss: 1.8111 - val_accuracy: 0.3577\n",
            "Epoch 20/20\n",
            "5000/5000 [==============================] - 45s 9ms/step - loss: 1.6869 - accuracy: 0.4010 - val_loss: 1.7718 - val_accuracy: 0.3976\n"
          ]
        }
      ]
    },
    {
      "cell_type": "markdown",
      "source": [
        "Let's plot the training and validation accuracy and loss."
      ],
      "metadata": {
        "id": "9yZdxASMy5GF"
      }
    },
    {
      "cell_type": "code",
      "source": [
        "import matplotlib.pyplot as plt\n",
        "\n",
        "acc = history.history['accuracy']\n",
        "val_acc = history.history['val_accuracy']\n",
        "loss = history.history['loss']\n",
        "val_loss = history.history['val_loss']\n",
        "\n",
        "epochs = range(len(acc))\n",
        "\n",
        "plt.plot(epochs, acc, 'bo', label='Training acc')\n",
        "plt.plot(epochs, val_acc, 'b', label='Validation acc')\n",
        "plt.title('Training and validation accuracy')\n",
        "plt.legend()\n",
        "\n",
        "plt.figure()\n",
        "\n",
        "plt.plot(epochs, loss, 'bo', label='Training loss')\n",
        "plt.plot(epochs, val_loss, 'b', label='Validation loss')\n",
        "plt.title('Training and validation loss')\n",
        "plt.legend()\n",
        "\n",
        "plt.show()"
      ],
      "metadata": {
        "colab": {
          "base_uri": "https://localhost:8080/",
          "height": 887
        },
        "id": "HS4NpNjcRK5O",
        "outputId": "eae6ffcf-ff2c-4893-f415-d0ac7c77fff0"
      },
      "execution_count": null,
      "outputs": [
        {
          "output_type": "display_data",
          "data": {
            "text/plain": [
              "<Figure size 640x480 with 1 Axes>"
            ],
            "image/png": "[encoded data removed]"
          },
          "metadata": {}
        },
        {
          "output_type": "display_data",
          "data": {
            "text/plain": [
              "<Figure size 640x480 with 1 Axes>"
            ],
            "image/png": "[encoded data removed]"
          },
          "metadata": {}
        }
      ]
    },
    {
      "cell_type": "markdown",
      "source": [
        "Test the network on the test data."
      ],
      "metadata": {
        "id": "pxGPrPWxfPKU"
      }
    },
    {
      "cell_type": "code",
      "source": [
        "test_loss, test_acc = network.evaluate(test_X, test_y)\n",
        "final_scores['Simple Neural Network'] = test_acc"
      ],
      "metadata": {
        "colab": {
          "base_uri": "https://localhost:8080/"
        },
        "id": "A5gJktoADWBc",
        "outputId": "64234af9-14ee-430c-8934-1f4a2849a101"
      },
      "execution_count": null,
      "outputs": [
        {
          "output_type": "stream",
          "name": "stdout",
          "text": [
            "313/313 [==============================] - 2s 5ms/step - loss: 1.7371 - accuracy: 0.3933\n"
          ]
        }
      ]
    },
    {
      "cell_type": "markdown",
      "source": [
        "The next model will utilize convolutional networks to improve the performance. This will model use:\n",
        " - a Conv2d layer with a 128 unit size, a (3,3) kernel window and a relu activation function.\n",
        " - a MaxPooling2D layer with pool size (2,2)\n",
        " - a Conv2d with a 64 unit size, a (3,3) kernel window, and a relu activation function\n",
        " - a flatten layer\n",
        " -a Dense layer with a 64 unit size and a relu activation function.\n",
        " - output layer using activation softmax\n",
        "\n",
        " The model will be compiled using the same parameters as the first model.\n",
        "- optimizer: rmsprop\n",
        "- metrics: accuracy\n",
        "- loss: categorical crossentropy"
      ],
      "metadata": {
        "id": "ylNhVNwdfVb0"
      }
    },
    {
      "cell_type": "code",
      "source": [
        "\n",
        "network = models.Sequential()\n",
        "\n",
        "network.add(layers.Conv2D(128, (3, 3), activation='relu', input_shape=(32,32,3)))\n",
        "network.add(layers.MaxPooling2D((2,2)))\n",
        "network.add(layers.Conv2D(64, (3,3), activation='relu'))\n",
        "network.add(layers.MaxPooling2D((2, 2)))\n",
        "network.add(layers.Flatten())\n",
        "network.add(layers.Dense(64, activation=\"relu\"))\n",
        "network.add(layers.Dense(10, activation='softmax'))\n"
      ],
      "metadata": {
        "id": "qEp7MPHZVwF8"
      },
      "execution_count": null,
      "outputs": []
    },
    {
      "cell_type": "code",
      "source": [
        "network.compile(optimizer='rmsprop',\n",
        "                metrics=['accuracy'],\n",
        "                loss='categorical_crossentropy')"
      ],
      "metadata": {
        "id": "WJ83bt4mkVdS"
      },
      "execution_count": null,
      "outputs": []
    },
    {
      "cell_type": "code",
      "source": [
        "history = network.fit(train_X, train_y, epochs=50,  validation_split=0.2, validation_steps=10)"
      ],
      "metadata": {
        "colab": {
          "base_uri": "https://localhost:8080/",
          "height": 943
        },
        "id": "f-Wsek-Akr8Q",
        "outputId": "9cbf1d63-ac80-4718-aaff-c35fbf4c60cc"
      },
      "execution_count": null,
      "outputs": [
        {
          "output_type": "stream",
          "name": "stdout",
          "text": [
            "Epoch 1/20\n",
            "5000/5000 [==============================] - 198s 39ms/step - loss: 1.4655 - accuracy: 0.4812 - val_loss: 1.2095 - val_accuracy: 0.5677\n",
            "Epoch 2/20\n",
            "5000/5000 [==============================] - 206s 41ms/step - loss: 1.1676 - accuracy: 0.5990 - val_loss: 1.3231 - val_accuracy: 0.5449\n",
            "Epoch 3/20\n",
            "5000/5000 [==============================] - 191s 38ms/step - loss: 1.1226 - accuracy: 0.6219 - val_loss: 1.3419 - val_accuracy: 0.5591\n",
            "Epoch 4/20\n",
            "5000/5000 [==============================] - 199s 40ms/step - loss: 1.1440 - accuracy: 0.6233 - val_loss: 1.1398 - val_accuracy: 0.6345\n",
            "Epoch 5/20\n",
            "5000/5000 [==============================] - 203s 41ms/step - loss: 1.1634 - accuracy: 0.6221 - val_loss: 1.5575 - val_accuracy: 0.5959\n",
            "Epoch 6/20\n",
            "5000/5000 [==============================] - 192s 38ms/step - loss: 1.1885 - accuracy: 0.6151 - val_loss: 1.2712 - val_accuracy: 0.6066\n",
            "Epoch 7/20\n",
            "5000/5000 [==============================] - 194s 39ms/step - loss: 1.2074 - accuracy: 0.6111 - val_loss: 1.3502 - val_accuracy: 0.5683\n",
            "Epoch 8/20\n",
            "5000/5000 [==============================] - 191s 38ms/step - loss: 1.2269 - accuracy: 0.6053 - val_loss: 1.3117 - val_accuracy: 0.5870\n",
            "Epoch 9/20\n",
            "5000/5000 [==============================] - 205s 41ms/step - loss: 1.2828 - accuracy: 0.5939 - val_loss: 1.2841 - val_accuracy: 0.6060\n",
            "Epoch 10/20\n",
            "5000/5000 [==============================] - 205s 41ms/step - loss: 1.2524 - accuracy: 0.6010 - val_loss: 1.3993 - val_accuracy: 0.5251\n",
            "Epoch 11/20\n",
            "5000/5000 [==============================] - 203s 41ms/step - loss: 1.2630 - accuracy: 0.5977 - val_loss: 1.2465 - val_accuracy: 0.5732\n",
            "Epoch 12/20\n",
            "5000/5000 [==============================] - 197s 39ms/step - loss: 1.2678 - accuracy: 0.5938 - val_loss: 1.6026 - val_accuracy: 0.5063\n",
            "Epoch 13/20\n",
            "5000/5000 [==============================] - 206s 41ms/step - loss: 1.2685 - accuracy: 0.5969 - val_loss: 1.3246 - val_accuracy: 0.5717\n",
            "Epoch 14/20\n",
            "5000/5000 [==============================] - 207s 41ms/step - loss: 1.2835 - accuracy: 0.5918 - val_loss: 1.3372 - val_accuracy: 0.6014\n",
            "Epoch 15/20\n",
            "5000/5000 [==============================] - 200s 40ms/step - loss: 1.3120 - accuracy: 0.5867 - val_loss: 1.3375 - val_accuracy: 0.5988\n",
            "Epoch 16/20\n",
            " 295/5000 [>.............................] - ETA: 2:54 - loss: 1.3269 - accuracy: 0.5703"
          ]
        },
        {
          "output_type": "error",
          "ename": "KeyboardInterrupt",
          "evalue": "ignored",
          "traceback": [
            "\u001b[0;31m---------------------------------------------------------------------------\u001b[0m",
            "\u001b[0;31mKeyboardInterrupt\u001b[0m                         Traceback (most recent call last)",
            "\u001b[0;32m<ipython-input-40-42ab69edf1d9>\u001b[0m in \u001b[0;36m<cell line: 1>\u001b[0;34m()\u001b[0m\n\u001b[0;32m----> 1\u001b[0;31m \u001b[0mhistory\u001b[0m \u001b[0;34m=\u001b[0m \u001b[0mnetwork\u001b[0m\u001b[0;34m.\u001b[0m\u001b[0mfit\u001b[0m\u001b[0;34m(\u001b[0m\u001b[0mtrain_X\u001b[0m\u001b[0;34m,\u001b[0m \u001b[0mtrain_y\u001b[0m\u001b[0;34m,\u001b[0m \u001b[0mepochs\u001b[0m\u001b[0;34m=\u001b[0m\u001b[0;36m20\u001b[0m\u001b[0;34m,\u001b[0m \u001b[0msteps_per_epoch\u001b[0m\u001b[0;34m=\u001b[0m\u001b[0mlen\u001b[0m\u001b[0;34m(\u001b[0m\u001b[0mtrain_X\u001b[0m\u001b[0;34m)\u001b[0m\u001b[0;34m/\u001b[0m\u001b[0;36m10\u001b[0m\u001b[0;34m,\u001b[0m  \u001b[0mvalidation_split\u001b[0m\u001b[0;34m=\u001b[0m\u001b[0;36m0.2\u001b[0m\u001b[0;34m,\u001b[0m \u001b[0mvalidation_steps\u001b[0m\u001b[0;34m=\u001b[0m\u001b[0;36m10\u001b[0m\u001b[0;34m)\u001b[0m\u001b[0;34m\u001b[0m\u001b[0;34m\u001b[0m\u001b[0m\n\u001b[0m",
            "\u001b[0;32m/usr/local/lib/python3.9/dist-packages/keras/utils/traceback_utils.py\u001b[0m in \u001b[0;36merror_handler\u001b[0;34m(*args, **kwargs)\u001b[0m\n\u001b[1;32m     63\u001b[0m         \u001b[0mfiltered_tb\u001b[0m \u001b[0;34m=\u001b[0m \u001b[0;32mNone\u001b[0m\u001b[0;34m\u001b[0m\u001b[0;34m\u001b[0m\u001b[0m\n\u001b[1;32m     64\u001b[0m         \u001b[0;32mtry\u001b[0m\u001b[0;34m:\u001b[0m\u001b[0;34m\u001b[0m\u001b[0;34m\u001b[0m\u001b[0m\n\u001b[0;32m---> 65\u001b[0;31m             \u001b[0;32mreturn\u001b[0m \u001b[0mfn\u001b[0m\u001b[0;34m(\u001b[0m\u001b[0;34m*\u001b[0m\u001b[0margs\u001b[0m\u001b[0;34m,\u001b[0m \u001b[0;34m**\u001b[0m\u001b[0mkwargs\u001b[0m\u001b[0;34m)\u001b[0m\u001b[0;34m\u001b[0m\u001b[0;34m\u001b[0m\u001b[0m\n\u001b[0m\u001b[1;32m     66\u001b[0m         \u001b[0;32mexcept\u001b[0m \u001b[0mException\u001b[0m \u001b[0;32mas\u001b[0m \u001b[0me\u001b[0m\u001b[0;34m:\u001b[0m\u001b[0;34m\u001b[0m\u001b[0;34m\u001b[0m\u001b[0m\n\u001b[1;32m     67\u001b[0m             \u001b[0mfiltered_tb\u001b[0m \u001b[0;34m=\u001b[0m \u001b[0m_process_traceback_frames\u001b[0m\u001b[0;34m(\u001b[0m\u001b[0me\u001b[0m\u001b[0;34m.\u001b[0m\u001b[0m__traceback__\u001b[0m\u001b[0;34m)\u001b[0m\u001b[0;34m\u001b[0m\u001b[0;34m\u001b[0m\u001b[0m\n",
            "\u001b[0;32m/usr/local/lib/python3.9/dist-packages/keras/engine/training.py\u001b[0m in \u001b[0;36mfit\u001b[0;34m(self, x, y, batch_size, epochs, verbose, callbacks, validation_split, validation_data, shuffle, class_weight, sample_weight, initial_epoch, steps_per_epoch, validation_steps, validation_batch_size, validation_freq, max_queue_size, workers, use_multiprocessing)\u001b[0m\n\u001b[1;32m   1683\u001b[0m                         ):\n\u001b[1;32m   1684\u001b[0m                             \u001b[0mcallbacks\u001b[0m\u001b[0;34m.\u001b[0m\u001b[0mon_train_batch_begin\u001b[0m\u001b[0;34m(\u001b[0m\u001b[0mstep\u001b[0m\u001b[0;34m)\u001b[0m\u001b[0;34m\u001b[0m\u001b[0;34m\u001b[0m\u001b[0m\n\u001b[0;32m-> 1685\u001b[0;31m                             \u001b[0mtmp_logs\u001b[0m \u001b[0;34m=\u001b[0m \u001b[0mself\u001b[0m\u001b[0;34m.\u001b[0m\u001b[0mtrain_function\u001b[0m\u001b[0;34m(\u001b[0m\u001b[0miterator\u001b[0m\u001b[0;34m)\u001b[0m\u001b[0;34m\u001b[0m\u001b[0;34m\u001b[0m\u001b[0m\n\u001b[0m\u001b[1;32m   1686\u001b[0m                             \u001b[0;32mif\u001b[0m \u001b[0mdata_handler\u001b[0m\u001b[0;34m.\u001b[0m\u001b[0mshould_sync\u001b[0m\u001b[0;34m:\u001b[0m\u001b[0;34m\u001b[0m\u001b[0;34m\u001b[0m\u001b[0m\n\u001b[1;32m   1687\u001b[0m                                 \u001b[0mcontext\u001b[0m\u001b[0;34m.\u001b[0m\u001b[0masync_wait\u001b[0m\u001b[0;34m(\u001b[0m\u001b[0;34m)\u001b[0m\u001b[0;34m\u001b[0m\u001b[0;34m\u001b[0m\u001b[0m\n",
            "\u001b[0;32m/usr/local/lib/python3.9/dist-packages/tensorflow/python/util/traceback_utils.py\u001b[0m in \u001b[0;36merror_handler\u001b[0;34m(*args, **kwargs)\u001b[0m\n\u001b[1;32m    148\u001b[0m     \u001b[0mfiltered_tb\u001b[0m \u001b[0;34m=\u001b[0m \u001b[0;32mNone\u001b[0m\u001b[0;34m\u001b[0m\u001b[0;34m\u001b[0m\u001b[0m\n\u001b[1;32m    149\u001b[0m     \u001b[0;32mtry\u001b[0m\u001b[0;34m:\u001b[0m\u001b[0;34m\u001b[0m\u001b[0;34m\u001b[0m\u001b[0m\n\u001b[0;32m--> 150\u001b[0;31m       \u001b[0;32mreturn\u001b[0m \u001b[0mfn\u001b[0m\u001b[0;34m(\u001b[0m\u001b[0;34m*\u001b[0m\u001b[0margs\u001b[0m\u001b[0;34m,\u001b[0m \u001b[0;34m**\u001b[0m\u001b[0mkwargs\u001b[0m\u001b[0;34m)\u001b[0m\u001b[0;34m\u001b[0m\u001b[0;34m\u001b[0m\u001b[0m\n\u001b[0m\u001b[1;32m    151\u001b[0m     \u001b[0;32mexcept\u001b[0m \u001b[0mException\u001b[0m \u001b[0;32mas\u001b[0m \u001b[0me\u001b[0m\u001b[0;34m:\u001b[0m\u001b[0;34m\u001b[0m\u001b[0;34m\u001b[0m\u001b[0m\n\u001b[1;32m    152\u001b[0m       \u001b[0mfiltered_tb\u001b[0m \u001b[0;34m=\u001b[0m \u001b[0m_process_traceback_frames\u001b[0m\u001b[0;34m(\u001b[0m\u001b[0me\u001b[0m\u001b[0;34m.\u001b[0m\u001b[0m__traceback__\u001b[0m\u001b[0;34m)\u001b[0m\u001b[0;34m\u001b[0m\u001b[0;34m\u001b[0m\u001b[0m\n",
            "\u001b[0;32m/usr/local/lib/python3.9/dist-packages/tensorflow/python/eager/polymorphic_function/polymorphic_function.py\u001b[0m in \u001b[0;36m__call__\u001b[0;34m(self, *args, **kwds)\u001b[0m\n\u001b[1;32m    892\u001b[0m \u001b[0;34m\u001b[0m\u001b[0m\n\u001b[1;32m    893\u001b[0m       \u001b[0;32mwith\u001b[0m \u001b[0mOptionalXlaContext\u001b[0m\u001b[0;34m(\u001b[0m\u001b[0mself\u001b[0m\u001b[0;34m.\u001b[0m\u001b[0m_jit_compile\u001b[0m\u001b[0;34m)\u001b[0m\u001b[0;34m:\u001b[0m\u001b[0;34m\u001b[0m\u001b[0;34m\u001b[0m\u001b[0m\n\u001b[0;32m--> 894\u001b[0;31m         \u001b[0mresult\u001b[0m \u001b[0;34m=\u001b[0m \u001b[0mself\u001b[0m\u001b[0;34m.\u001b[0m\u001b[0m_call\u001b[0m\u001b[0;34m(\u001b[0m\u001b[0;34m*\u001b[0m\u001b[0margs\u001b[0m\u001b[0;34m,\u001b[0m \u001b[0;34m**\u001b[0m\u001b[0mkwds\u001b[0m\u001b[0;34m)\u001b[0m\u001b[0;34m\u001b[0m\u001b[0;34m\u001b[0m\u001b[0m\n\u001b[0m\u001b[1;32m    895\u001b[0m \u001b[0;34m\u001b[0m\u001b[0m\n\u001b[1;32m    896\u001b[0m       \u001b[0mnew_tracing_count\u001b[0m \u001b[0;34m=\u001b[0m \u001b[0mself\u001b[0m\u001b[0;34m.\u001b[0m\u001b[0mexperimental_get_tracing_count\u001b[0m\u001b[0;34m(\u001b[0m\u001b[0;34m)\u001b[0m\u001b[0;34m\u001b[0m\u001b[0;34m\u001b[0m\u001b[0m\n",
            "\u001b[0;32m/usr/local/lib/python3.9/dist-packages/tensorflow/python/eager/polymorphic_function/polymorphic_function.py\u001b[0m in \u001b[0;36m_call\u001b[0;34m(self, *args, **kwds)\u001b[0m\n\u001b[1;32m    924\u001b[0m       \u001b[0;31m# In this case we have created variables on the first call, so we run the\u001b[0m\u001b[0;34m\u001b[0m\u001b[0;34m\u001b[0m\u001b[0m\n\u001b[1;32m    925\u001b[0m       \u001b[0;31m# defunned version which is guaranteed to never create variables.\u001b[0m\u001b[0;34m\u001b[0m\u001b[0;34m\u001b[0m\u001b[0m\n\u001b[0;32m--> 926\u001b[0;31m       \u001b[0;32mreturn\u001b[0m \u001b[0mself\u001b[0m\u001b[0;34m.\u001b[0m\u001b[0m_no_variable_creation_fn\u001b[0m\u001b[0;34m(\u001b[0m\u001b[0;34m*\u001b[0m\u001b[0margs\u001b[0m\u001b[0;34m,\u001b[0m \u001b[0;34m**\u001b[0m\u001b[0mkwds\u001b[0m\u001b[0;34m)\u001b[0m  \u001b[0;31m# pylint: disable=not-callable\u001b[0m\u001b[0;34m\u001b[0m\u001b[0;34m\u001b[0m\u001b[0m\n\u001b[0m\u001b[1;32m    927\u001b[0m     \u001b[0;32melif\u001b[0m \u001b[0mself\u001b[0m\u001b[0;34m.\u001b[0m\u001b[0m_variable_creation_fn\u001b[0m \u001b[0;32mis\u001b[0m \u001b[0;32mnot\u001b[0m \u001b[0;32mNone\u001b[0m\u001b[0;34m:\u001b[0m\u001b[0;34m\u001b[0m\u001b[0;34m\u001b[0m\u001b[0m\n\u001b[1;32m    928\u001b[0m       \u001b[0;31m# Release the lock early so that multiple threads can perform the call\u001b[0m\u001b[0;34m\u001b[0m\u001b[0;34m\u001b[0m\u001b[0m\n",
            "\u001b[0;32m/usr/local/lib/python3.9/dist-packages/tensorflow/python/eager/polymorphic_function/tracing_compiler.py\u001b[0m in \u001b[0;36m__call__\u001b[0;34m(self, *args, **kwargs)\u001b[0m\n\u001b[1;32m    141\u001b[0m       (concrete_function,\n\u001b[1;32m    142\u001b[0m        filtered_flat_args) = self._maybe_define_function(args, kwargs)\n\u001b[0;32m--> 143\u001b[0;31m     return concrete_function._call_flat(\n\u001b[0m\u001b[1;32m    144\u001b[0m         filtered_flat_args, captured_inputs=concrete_function.captured_inputs)  # pylint: disable=protected-access\n\u001b[1;32m    145\u001b[0m \u001b[0;34m\u001b[0m\u001b[0m\n",
            "\u001b[0;32m/usr/local/lib/python3.9/dist-packages/tensorflow/python/eager/polymorphic_function/monomorphic_function.py\u001b[0m in \u001b[0;36m_call_flat\u001b[0;34m(self, args, captured_inputs, cancellation_manager)\u001b[0m\n\u001b[1;32m   1755\u001b[0m         and executing_eagerly):\n\u001b[1;32m   1756\u001b[0m       \u001b[0;31m# No tape is watching; skip to running the function.\u001b[0m\u001b[0;34m\u001b[0m\u001b[0;34m\u001b[0m\u001b[0m\n\u001b[0;32m-> 1757\u001b[0;31m       return self._build_call_outputs(self._inference_function.call(\n\u001b[0m\u001b[1;32m   1758\u001b[0m           ctx, args, cancellation_manager=cancellation_manager))\n\u001b[1;32m   1759\u001b[0m     forward_backward = self._select_forward_and_backward_functions(\n",
            "\u001b[0;32m/usr/local/lib/python3.9/dist-packages/tensorflow/python/eager/polymorphic_function/monomorphic_function.py\u001b[0m in \u001b[0;36mcall\u001b[0;34m(self, ctx, args, cancellation_manager)\u001b[0m\n\u001b[1;32m    379\u001b[0m       \u001b[0;32mwith\u001b[0m \u001b[0m_InterpolateFunctionError\u001b[0m\u001b[0;34m(\u001b[0m\u001b[0mself\u001b[0m\u001b[0;34m)\u001b[0m\u001b[0;34m:\u001b[0m\u001b[0;34m\u001b[0m\u001b[0;34m\u001b[0m\u001b[0m\n\u001b[1;32m    380\u001b[0m         \u001b[0;32mif\u001b[0m \u001b[0mcancellation_manager\u001b[0m \u001b[0;32mis\u001b[0m \u001b[0;32mNone\u001b[0m\u001b[0;34m:\u001b[0m\u001b[0;34m\u001b[0m\u001b[0;34m\u001b[0m\u001b[0m\n\u001b[0;32m--> 381\u001b[0;31m           outputs = execute.execute(\n\u001b[0m\u001b[1;32m    382\u001b[0m               \u001b[0mstr\u001b[0m\u001b[0;34m(\u001b[0m\u001b[0mself\u001b[0m\u001b[0;34m.\u001b[0m\u001b[0msignature\u001b[0m\u001b[0;34m.\u001b[0m\u001b[0mname\u001b[0m\u001b[0;34m)\u001b[0m\u001b[0;34m,\u001b[0m\u001b[0;34m\u001b[0m\u001b[0;34m\u001b[0m\u001b[0m\n\u001b[1;32m    383\u001b[0m               \u001b[0mnum_outputs\u001b[0m\u001b[0;34m=\u001b[0m\u001b[0mself\u001b[0m\u001b[0;34m.\u001b[0m\u001b[0m_num_outputs\u001b[0m\u001b[0;34m,\u001b[0m\u001b[0;34m\u001b[0m\u001b[0;34m\u001b[0m\u001b[0m\n",
            "\u001b[0;32m/usr/local/lib/python3.9/dist-packages/tensorflow/python/eager/execute.py\u001b[0m in \u001b[0;36mquick_execute\u001b[0;34m(op_name, num_outputs, inputs, attrs, ctx, name)\u001b[0m\n\u001b[1;32m     50\u001b[0m   \u001b[0;32mtry\u001b[0m\u001b[0;34m:\u001b[0m\u001b[0;34m\u001b[0m\u001b[0;34m\u001b[0m\u001b[0m\n\u001b[1;32m     51\u001b[0m     \u001b[0mctx\u001b[0m\u001b[0;34m.\u001b[0m\u001b[0mensure_initialized\u001b[0m\u001b[0;34m(\u001b[0m\u001b[0;34m)\u001b[0m\u001b[0;34m\u001b[0m\u001b[0;34m\u001b[0m\u001b[0m\n\u001b[0;32m---> 52\u001b[0;31m     tensors = pywrap_tfe.TFE_Py_Execute(ctx._handle, device_name, op_name,\n\u001b[0m\u001b[1;32m     53\u001b[0m                                         inputs, attrs, num_outputs)\n\u001b[1;32m     54\u001b[0m   \u001b[0;32mexcept\u001b[0m \u001b[0mcore\u001b[0m\u001b[0;34m.\u001b[0m\u001b[0m_NotOkStatusException\u001b[0m \u001b[0;32mas\u001b[0m \u001b[0me\u001b[0m\u001b[0;34m:\u001b[0m\u001b[0;34m\u001b[0m\u001b[0;34m\u001b[0m\u001b[0m\n",
            "\u001b[0;31mKeyboardInterrupt\u001b[0m: "
          ]
        }
      ]
    },
    {
      "cell_type": "code",
      "source": [
        "import matplotlib.pyplot as plt\n",
        "\n",
        "acc = history.history['accuracy']\n",
        "val_acc = history.history['val_accuracy']\n",
        "loss = history.history['loss']\n",
        "val_loss = history.history['val_loss']\n",
        "\n",
        "epochs = range(len(acc))\n",
        "\n",
        "plt.plot(epochs, acc, 'bo', label='Training acc')\n",
        "plt.plot(epochs, val_acc, 'b', label='Validation acc')\n",
        "plt.title('Training and validation accuracy')\n",
        "plt.legend()\n",
        "\n",
        "plt.figure()\n",
        "\n",
        "plt.plot(epochs, loss, 'bo', label='Training loss')\n",
        "plt.plot(epochs, val_loss, 'b', label='Validation loss')\n",
        "plt.title('Training and validation loss')\n",
        "plt.legend()\n",
        "\n",
        "plt.show()"
      ],
      "metadata": {
        "id": "00SbrJHDUyGJ"
      },
      "execution_count": null,
      "outputs": []
    },
    {
      "cell_type": "code",
      "source": [
        "test_loss, test_acc = network.evaluate(test_X, test_y)\n",
        "final_scores['CNN with Max pooling 1'] = test_acc"
      ],
      "metadata": {
        "id": "X6-QQFVyFi7o"
      },
      "execution_count": null,
      "outputs": []
    },
    {
      "cell_type": "markdown",
      "source": [
        "The next model is constructed using:\n",
        "- A Conv2D layer with a 32 input size and (3,3) kernel size\n",
        "- A MaxPooling2D with a (2,2) pool size\n",
        "- A Conv2d layer with 128 input size and (3,3) kernel size\n",
        "- A MaxPooling2D layer with a (2,2) pool size\n",
        "- A Flatten layer\n",
        "- A Dropout layer with a .5 unit drop rate\n",
        "- A dense layer with 512 input size and relu activation function\n",
        "-  An output layer with 10 input size and softmax activation function\n",
        "\n",
        "The model is compiled with a rmsprop optimizer,categorical crossentropy loss function, and accuracy for metrics. "
      ],
      "metadata": {
        "id": "sAqimyw5JQCM"
      }
    },
    {
      "cell_type": "code",
      "source": [
        "\n",
        "network = models.Sequential()\n",
        "network.add(layers.Conv2D(32, (3,3), activation='relu', input_shape=(32, 32, 3)))\n",
        "network.add(layers.MaxPooling2D(2,2))\n",
        "network.add(layers.Conv2D(128, (3,3)))\n",
        "network.add(layers.MaxPooling2D(2,2))\n",
        "network.add(layers.Conv2D(128, (3,3), activation='relu'))\n",
        "network.add(layers.MaxPooling2D((2,2)))\n",
        "network.add(layers.Flatten())\n",
        "network.add(layers.Dropout(0.5))\n",
        "network.add(layers.Dense(512, activation='relu'))\n",
        "network.add(layers.Dense(10, activation='softmax'))"
      ],
      "metadata": {
        "id": "C3i-6oEAJNm9"
      },
      "execution_count": null,
      "outputs": []
    },
    {
      "cell_type": "code",
      "source": [
        "network.compile(optimizer='rmsprop',\n",
        "                metrics=['accuracy'],\n",
        "                loss='categorical_crossentropy')"
      ],
      "metadata": {
        "id": "Ilib7kvKMwn4"
      },
      "execution_count": null,
      "outputs": []
    },
    {
      "cell_type": "code",
      "source": [
        "history = network.fit(train_X, train_y, epochs=10, validation_size=0.2, validation_steps=10)"
      ],
      "metadata": {
        "id": "Iv5JbxsOMzvk"
      },
      "execution_count": null,
      "outputs": []
    },
    {
      "cell_type": "code",
      "source": [
        "import matplotlib.pyplot as plt\n",
        "\n",
        "acc = history.history['accuracy']\n",
        "val_acc = history.history['val_accuracy']\n",
        "loss = history.history['loss']\n",
        "val_loss = history.history['val_loss']\n",
        "\n",
        "epochs = range(len(acc))\n",
        "\n",
        "plt.plot(epochs, acc, 'bo', label='Training acc')\n",
        "plt.plot(epochs, val_acc, 'b', label='Validation acc')\n",
        "plt.title('Training and validation accuracy')\n",
        "plt.legend()\n",
        "\n",
        "plt.figure()\n",
        "\n",
        "plt.plot(epochs, loss, 'bo', label='Training loss')\n",
        "plt.plot(epochs, val_loss, 'b', label='Validation loss')\n",
        "plt.title('Training and validation loss')\n",
        "plt.legend()\n",
        "\n",
        "plt.show()"
      ],
      "metadata": {
        "id": "UpIV4dr0S-5x"
      },
      "execution_count": null,
      "outputs": []
    },
    {
      "cell_type": "code",
      "source": [
        "test_loss, test_acc = network.evaluate(test_X, test_y)\n"
      ],
      "metadata": {
        "id": "etsYdreVUKVn"
      },
      "execution_count": null,
      "outputs": []
    },
    {
      "cell_type": "markdown",
      "source": [
        "The next model is built using\n",
        "\n",
        "- VGG16 with input shape (32, 32,3), using imagenet as the weights, and include top set to false.\n",
        "- A flatten layer\n",
        "- an output layer with 10 input size and a softmax activation function.\n",
        "\n",
        " To prevent the retraining of those layers each layer has its trainable field set to false. The next layer flattens the output from the VGG16 and the output layer\n"
      ],
      "metadata": {
        "id": "-g9j7py91XJm"
      }
    },
    {
      "cell_type": "code",
      "source": [
        "from keras.applications.vgg16 import VGG16\n",
        "\n",
        "vgg_model = VGG16(input_shape=[32, 32, 3], weights='imagenet', include_top=False)\n",
        "\n",
        "for layer in vgg_model.layers:\n",
        "  layer.trainable = False\n",
        "\n",
        "  flattened_layer = layers.Flatten()(vgg_model.output)\n",
        "  \n",
        "  output_layer = layers.Dense(10, activation='softmax')(flattened_layer)\n",
        "\n",
        "  network = models.Model(inputs=vgg_model.input, outputs=output_layer)"
      ],
      "metadata": {
        "id": "MMTCavu6NIQ6",
        "colab": {
          "base_uri": "https://localhost:8080/",
          "height": 290
        },
        "outputId": "3a38ea2f-56e9-4861-bd2d-9d8e42228234"
      },
      "execution_count": 1,
      "outputs": [
        {
          "output_type": "stream",
          "name": "stdout",
          "text": [
            "Downloading data from https://storage.googleapis.com/tensorflow/keras-applications/vgg16/vgg16_weights_tf_dim_ordering_tf_kernels_notop.h5\n",
            "58889256/58889256 [==============================] - 1s 0us/step\n"
          ]
        },
        {
          "output_type": "error",
          "ename": "NameError",
          "evalue": "ignored",
          "traceback": [
            "\u001b[0;31m---------------------------------------------------------------------------\u001b[0m",
            "\u001b[0;31mNameError\u001b[0m                                 Traceback (most recent call last)",
            "\u001b[0;32m<ipython-input-1-32f2f6ad58ff>\u001b[0m in \u001b[0;36m<cell line: 5>\u001b[0;34m()\u001b[0m\n\u001b[1;32m      6\u001b[0m   \u001b[0mlayer\u001b[0m\u001b[0;34m.\u001b[0m\u001b[0mtrainable\u001b[0m \u001b[0;34m=\u001b[0m \u001b[0;32mFalse\u001b[0m\u001b[0;34m\u001b[0m\u001b[0;34m\u001b[0m\u001b[0m\n\u001b[1;32m      7\u001b[0m \u001b[0;34m\u001b[0m\u001b[0m\n\u001b[0;32m----> 8\u001b[0;31m   \u001b[0mflattened_layer\u001b[0m \u001b[0;34m=\u001b[0m \u001b[0mlayers\u001b[0m\u001b[0;34m.\u001b[0m\u001b[0mFlatten\u001b[0m\u001b[0;34m(\u001b[0m\u001b[0;34m)\u001b[0m\u001b[0;34m(\u001b[0m\u001b[0mvgg_model\u001b[0m\u001b[0;34m.\u001b[0m\u001b[0moutput\u001b[0m\u001b[0;34m)\u001b[0m\u001b[0;34m\u001b[0m\u001b[0;34m\u001b[0m\u001b[0m\n\u001b[0m\u001b[1;32m      9\u001b[0m \u001b[0;34m\u001b[0m\u001b[0m\n\u001b[1;32m     10\u001b[0m   \u001b[0moutput_layer\u001b[0m \u001b[0;34m=\u001b[0m \u001b[0mlayers\u001b[0m\u001b[0;34m.\u001b[0m\u001b[0mDense\u001b[0m\u001b[0;34m(\u001b[0m\u001b[0;36m10\u001b[0m\u001b[0;34m,\u001b[0m \u001b[0mactivation\u001b[0m\u001b[0;34m=\u001b[0m\u001b[0;34m'softmax'\u001b[0m\u001b[0;34m)\u001b[0m\u001b[0;34m(\u001b[0m\u001b[0mflattened_layer\u001b[0m\u001b[0;34m)\u001b[0m\u001b[0;34m\u001b[0m\u001b[0;34m\u001b[0m\u001b[0m\n",
            "\u001b[0;31mNameError\u001b[0m: name 'layers' is not defined"
          ]
        }
      ]
    },
    {
      "cell_type": "code",
      "source": [
        "network.compile(loss='categorical_crossentropy', optimizer='adam', metrics=['accuracy'])"
      ],
      "metadata": {
        "id": "mNfHE6jxPyQN"
      },
      "execution_count": null,
      "outputs": []
    },
    {
      "cell_type": "code",
      "source": [
        "history = network.fit(train_X, train_y, epochs=10, steps_per_epoch=len(train_X)/10, validation_split=0.2, validation_steps=10)"
      ],
      "metadata": {
        "id": "cmL3HiSIQEiN"
      },
      "execution_count": null,
      "outputs": []
    },
    {
      "cell_type": "code",
      "source": [
        "import matplotlib.pyplot as plt\n",
        "\n",
        "acc = history.history['accuracy']\n",
        "val_acc = history.history['val_accuracy']\n",
        "loss = history.history['loss']\n",
        "val_loss = history.history['val_loss']\n",
        "\n",
        "epochs = range(len(acc))\n",
        "\n",
        "plt.plot(epochs, acc, 'bo', label='Training acc')\n",
        "plt.plot(epochs, val_acc, 'b', label='Validation acc')\n",
        "plt.title('Training and validation accuracy')\n",
        "plt.legend()\n",
        "\n",
        "plt.figure()\n",
        "\n",
        "plt.plot(epochs, loss, 'bo', label='Training loss')\n",
        "plt.plot(epochs, val_loss, 'b', label='Validation loss')\n",
        "plt.title('Training and validation loss')\n",
        "plt.legend()\n",
        "\n",
        "plt.show()"
      ],
      "metadata": {
        "id": "61mqMVyKQkvD"
      },
      "execution_count": null,
      "outputs": []
    },
    {
      "cell_type": "code",
      "source": [
        "test_loss, test_acc = network.evaluate(test_X, test_y)\n",
        "final_scores['VGG16'] = test_acc\n",
        "final_scores['VGG16']"
      ],
      "metadata": {
        "id": "B91Qi-8qVQA9"
      },
      "execution_count": null,
      "outputs": []
    },
    {
      "cell_type": "markdown",
      "source": [
        "Let's take a look at the final scores."
      ],
      "metadata": {
        "id": "X5kCSbBP3KPv"
      }
    },
    {
      "cell_type": "code",
      "source": [
        "for score in final_scores:\n",
        "  print(\"{}: {}\".format(score, final_scores[score]))"
      ],
      "metadata": {
        "id": "RMlXW4DkpozM"
      },
      "execution_count": null,
      "outputs": []
    }
  ]
}