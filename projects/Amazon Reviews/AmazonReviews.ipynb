{
  "nbformat": 4,
  "nbformat_minor": 0,
  "metadata": {
    "colab": {
      "provenance": [],
      "machine_shape": "hm",
      "authorship_tag": "ABX9TyO5gffqRVbH2qQ7wZuRuorF",
      "include_colab_link": true
    },
    "kernelspec": {
      "name": "python3",
      "display_name": "Python 3"
    },
    "language_info": {
      "name": "python"
    },
    "accelerator": "GPU",
    "gpuClass": "premium"
  },
  "cells": [
    {
      "cell_type": "markdown",
      "metadata": {
        "id": "view-in-github",
        "colab_type": "text"
      },
      "source": [
        "<a href=\"https://colab.research.google.com/github/clementbowe14/ml-class/blob/main/projects/Amazon%20Reviews/AmazonReviews.ipynb\" target=\"_parent\"><img src=\"https://colab.research.google.com/assets/colab-badge.svg\" alt=\"Open In Colab\"/></a>"
      ]
    },
    {
      "cell_type": "code",
      "execution_count": 1,
      "metadata": {
        "colab": {
          "base_uri": "https://localhost:8080/",
          "height": 600
        },
        "id": "1k6yefnfj0M7",
        "outputId": "a83938f5-a3d9-44a8-e6bd-61c034107871"
      },
      "outputs": [
        {
          "output_type": "stream",
          "name": "stderr",
          "text": [
            "<ipython-input-1-c2d660663bad>:5: DtypeWarning: Columns (8) have mixed types. Specify dtype option on import or set low_memory=False.\n",
            "  data_df = pd.read_csv(\"http://34.82.108.37/amazonReviewsTrain.csv.zip\")\n"
          ]
        },
        {
          "output_type": "execute_result",
          "data": {
            "text/plain": [
              "   verified   reviewTime      reviewerID        asin  \\\n",
              "0      True   05 4, 2017  A2QNLVLQHW6OOC  B00NEZNT74   \n",
              "1      True   12 1, 2014  A32SHV461SUWNQ  B002Q0WTCE   \n",
              "2      True  12 23, 2015  A2SKHG5ULPYIMC  B0002GFP9I   \n",
              "3      True   09 4, 2013  A2MFJ6C67AL015  B003AJVKDO   \n",
              "4      True  08 28, 2015   ACYCDUUE9A3T2  B004XNK7AI   \n",
              "\n",
              "                          reviewerName  \\\n",
              "0                             Jason L.   \n",
              "1                           Richard C.   \n",
              "2  BellaLatinaReina-ACP Zero-Nine-Five   \n",
              "3                               BOS116   \n",
              "4                         jack edwards   \n",
              "\n",
              "                                          reviewText  \\\n",
              "0         Have 30 of these in operation great lights   \n",
              "1  Good replacement.  I prefer my Rovner L5, but ...   \n",
              "2  My son & band teacher loves it. Really nice. B...   \n",
              "3  This was a gift for a friend who is a fan of t...   \n",
              "4  Wish it would attach to my violin a little eas...   \n",
              "\n",
              "                                             summary  unixReviewTime vote  \\\n",
              "0                                         Five Stars      1493856000  NaN   \n",
              "1            Good replacement. I prefer my Rovner L5      1417392000  NaN   \n",
              "2               Really Helps With Their Practice Pad      1450828800  NaN   \n",
              "3                                       Guitar picks      1378252800  NaN   \n",
              "4  ... to my violin a little easier but it works ...      1440720000  NaN   \n",
              "\n",
              "                         style image    rating  \n",
              "0            {'Size:': ' 4PC'}   NaN  positive  \n",
              "1                          NaN   NaN  positive  \n",
              "2                          NaN   NaN  positive  \n",
              "3          {'Color:': ' Logo'}   NaN  positive  \n",
              "4  {'Color:': ' Black - SN-5'}   NaN  positive  "
            ],
            "text/html": [
              "\n",
              "  <div id=\"df-a3d7b841-8907-49cf-974f-3350744f88c6\">\n",
              "    <div class=\"colab-df-container\">\n",
              "      <div>\n",
              "<style scoped>\n",
              "    .dataframe tbody tr th:only-of-type {\n",
              "        vertical-align: middle;\n",
              "    }\n",
              "\n",
              "    .dataframe tbody tr th {\n",
              "        vertical-align: top;\n",
              "    }\n",
              "\n",
              "    .dataframe thead th {\n",
              "        text-align: right;\n",
              "    }\n",
              "</style>\n",
              "<table border=\"1\" class=\"dataframe\">\n",
              "  <thead>\n",
              "    <tr style=\"text-align: right;\">\n",
              "      <th></th>\n",
              "      <th>verified</th>\n",
              "      <th>reviewTime</th>\n",
              "      <th>reviewerID</th>\n",
              "      <th>asin</th>\n",
              "      <th>reviewerName</th>\n",
              "      <th>reviewText</th>\n",
              "      <th>summary</th>\n",
              "      <th>unixReviewTime</th>\n",
              "      <th>vote</th>\n",
              "      <th>style</th>\n",
              "      <th>image</th>\n",
              "      <th>rating</th>\n",
              "    </tr>\n",
              "  </thead>\n",
              "  <tbody>\n",
              "    <tr>\n",
              "      <th>0</th>\n",
              "      <td>True</td>\n",
              "      <td>05 4, 2017</td>\n",
              "      <td>A2QNLVLQHW6OOC</td>\n",
              "      <td>B00NEZNT74</td>\n",
              "      <td>Jason L.</td>\n",
              "      <td>Have 30 of these in operation great lights</td>\n",
              "      <td>Five Stars</td>\n",
              "      <td>1493856000</td>\n",
              "      <td>NaN</td>\n",
              "      <td>{'Size:': ' 4PC'}</td>\n",
              "      <td>NaN</td>\n",
              "      <td>positive</td>\n",
              "    </tr>\n",
              "    <tr>\n",
              "      <th>1</th>\n",
              "      <td>True</td>\n",
              "      <td>12 1, 2014</td>\n",
              "      <td>A32SHV461SUWNQ</td>\n",
              "      <td>B002Q0WTCE</td>\n",
              "      <td>Richard C.</td>\n",
              "      <td>Good replacement.  I prefer my Rovner L5, but ...</td>\n",
              "      <td>Good replacement. I prefer my Rovner L5</td>\n",
              "      <td>1417392000</td>\n",
              "      <td>NaN</td>\n",
              "      <td>NaN</td>\n",
              "      <td>NaN</td>\n",
              "      <td>positive</td>\n",
              "    </tr>\n",
              "    <tr>\n",
              "      <th>2</th>\n",
              "      <td>True</td>\n",
              "      <td>12 23, 2015</td>\n",
              "      <td>A2SKHG5ULPYIMC</td>\n",
              "      <td>B0002GFP9I</td>\n",
              "      <td>BellaLatinaReina-ACP Zero-Nine-Five</td>\n",
              "      <td>My son &amp; band teacher loves it. Really nice. B...</td>\n",
              "      <td>Really Helps With Their Practice Pad</td>\n",
              "      <td>1450828800</td>\n",
              "      <td>NaN</td>\n",
              "      <td>NaN</td>\n",
              "      <td>NaN</td>\n",
              "      <td>positive</td>\n",
              "    </tr>\n",
              "    <tr>\n",
              "      <th>3</th>\n",
              "      <td>True</td>\n",
              "      <td>09 4, 2013</td>\n",
              "      <td>A2MFJ6C67AL015</td>\n",
              "      <td>B003AJVKDO</td>\n",
              "      <td>BOS116</td>\n",
              "      <td>This was a gift for a friend who is a fan of t...</td>\n",
              "      <td>Guitar picks</td>\n",
              "      <td>1378252800</td>\n",
              "      <td>NaN</td>\n",
              "      <td>{'Color:': ' Logo'}</td>\n",
              "      <td>NaN</td>\n",
              "      <td>positive</td>\n",
              "    </tr>\n",
              "    <tr>\n",
              "      <th>4</th>\n",
              "      <td>True</td>\n",
              "      <td>08 28, 2015</td>\n",
              "      <td>ACYCDUUE9A3T2</td>\n",
              "      <td>B004XNK7AI</td>\n",
              "      <td>jack edwards</td>\n",
              "      <td>Wish it would attach to my violin a little eas...</td>\n",
              "      <td>... to my violin a little easier but it works ...</td>\n",
              "      <td>1440720000</td>\n",
              "      <td>NaN</td>\n",
              "      <td>{'Color:': ' Black - SN-5'}</td>\n",
              "      <td>NaN</td>\n",
              "      <td>positive</td>\n",
              "    </tr>\n",
              "  </tbody>\n",
              "</table>\n",
              "</div>\n",
              "      <button class=\"colab-df-convert\" onclick=\"convertToInteractive('df-a3d7b841-8907-49cf-974f-3350744f88c6')\"\n",
              "              title=\"Convert this dataframe to an interactive table.\"\n",
              "              style=\"display:none;\">\n",
              "        \n",
              "  <svg xmlns=\"http://www.w3.org/2000/svg\" height=\"24px\"viewBox=\"0 0 24 24\"\n",
              "       width=\"24px\">\n",
              "    <path d=\"M0 0h24v24H0V0z\" fill=\"none\"/>\n",
              "    <path d=\"M18.56 5.44l.94 2.06.94-2.06 2.06-.94-2.06-.94-.94-2.06-.94 2.06-2.06.94zm-11 1L8.5 8.5l.94-2.06 2.06-.94-2.06-.94L8.5 2.5l-.94 2.06-2.06.94zm10 10l.94 2.06.94-2.06 2.06-.94-2.06-.94-.94-2.06-.94 2.06-2.06.94z\"/><path d=\"M17.41 7.96l-1.37-1.37c-.4-.4-.92-.59-1.43-.59-.52 0-1.04.2-1.43.59L10.3 9.45l-7.72 7.72c-.78.78-.78 2.05 0 2.83L4 21.41c.39.39.9.59 1.41.59.51 0 1.02-.2 1.41-.59l7.78-7.78 2.81-2.81c.8-.78.8-2.07 0-2.86zM5.41 20L4 18.59l7.72-7.72 1.47 1.35L5.41 20z\"/>\n",
              "  </svg>\n",
              "      </button>\n",
              "      \n",
              "  <style>\n",
              "    .colab-df-container {\n",
              "      display:flex;\n",
              "      flex-wrap:wrap;\n",
              "      gap: 12px;\n",
              "    }\n",
              "\n",
              "    .colab-df-convert {\n",
              "      background-color: #E8F0FE;\n",
              "      border: none;\n",
              "      border-radius: 50%;\n",
              "      cursor: pointer;\n",
              "      display: none;\n",
              "      fill: #1967D2;\n",
              "      height: 32px;\n",
              "      padding: 0 0 0 0;\n",
              "      width: 32px;\n",
              "    }\n",
              "\n",
              "    .colab-df-convert:hover {\n",
              "      background-color: #E2EBFA;\n",
              "      box-shadow: 0px 1px 2px rgba(60, 64, 67, 0.3), 0px 1px 3px 1px rgba(60, 64, 67, 0.15);\n",
              "      fill: #174EA6;\n",
              "    }\n",
              "\n",
              "    [theme=dark] .colab-df-convert {\n",
              "      background-color: #3B4455;\n",
              "      fill: #D2E3FC;\n",
              "    }\n",
              "\n",
              "    [theme=dark] .colab-df-convert:hover {\n",
              "      background-color: #434B5C;\n",
              "      box-shadow: 0px 1px 3px 1px rgba(0, 0, 0, 0.15);\n",
              "      filter: drop-shadow(0px 1px 2px rgba(0, 0, 0, 0.3));\n",
              "      fill: #FFFFFF;\n",
              "    }\n",
              "  </style>\n",
              "\n",
              "      <script>\n",
              "        const buttonEl =\n",
              "          document.querySelector('#df-a3d7b841-8907-49cf-974f-3350744f88c6 button.colab-df-convert');\n",
              "        buttonEl.style.display =\n",
              "          google.colab.kernel.accessAllowed ? 'block' : 'none';\n",
              "\n",
              "        async function convertToInteractive(key) {\n",
              "          const element = document.querySelector('#df-a3d7b841-8907-49cf-974f-3350744f88c6');\n",
              "          const dataTable =\n",
              "            await google.colab.kernel.invokeFunction('convertToInteractive',\n",
              "                                                     [key], {});\n",
              "          if (!dataTable) return;\n",
              "\n",
              "          const docLinkHtml = 'Like what you see? Visit the ' +\n",
              "            '<a target=\"_blank\" href=https://colab.research.google.com/notebooks/data_table.ipynb>data table notebook</a>'\n",
              "            + ' to learn more about interactive tables.';\n",
              "          element.innerHTML = '';\n",
              "          dataTable['output_type'] = 'display_data';\n",
              "          await google.colab.output.renderOutput(dataTable, element);\n",
              "          const docLink = document.createElement('div');\n",
              "          docLink.innerHTML = docLinkHtml;\n",
              "          element.appendChild(docLink);\n",
              "        }\n",
              "      </script>\n",
              "    </div>\n",
              "  </div>\n",
              "  "
            ]
          },
          "metadata": {},
          "execution_count": 1
        }
      ],
      "source": [
        "import pandas as pd\n",
        "\n",
        "\n",
        "model_scores = []\n",
        "data_df = pd.read_csv(\"http://34.82.108.37/amazonReviewsTrain.csv.zip\")\n",
        "data_df.head()"
      ]
    },
    {
      "cell_type": "code",
      "source": [
        "# https://stackoverflow.com/questions/34724246/attributeerror-float-object-has-no-attribute-lower\n",
        "\n",
        "data_text = data_df.reviewText.astype('str')\n",
        "data_labels = data_df.rating.astype('str')"
      ],
      "metadata": {
        "id": "ZIC5aliUkSIo"
      },
      "execution_count": 2,
      "outputs": []
    },
    {
      "cell_type": "code",
      "source": [
        "pattern = r'[^\\w\\s]|\\d'\n",
        "data_text = data_text.str.replace(pattern, '')\n",
        "data_text[0]"
      ],
      "metadata": {
        "colab": {
          "base_uri": "https://localhost:8080/",
          "height": 90
        },
        "id": "oT3h7I_v0n6a",
        "outputId": "a8e74101-ae13-41a5-da44-2607a4344b85"
      },
      "execution_count": 3,
      "outputs": [
        {
          "output_type": "stream",
          "name": "stderr",
          "text": [
            "<ipython-input-3-09384e363b90>:2: FutureWarning: The default value of regex will change from True to False in a future version.\n",
            "  data_text = data_text.str.replace(pattern, '')\n"
          ]
        },
        {
          "output_type": "execute_result",
          "data": {
            "text/plain": [
              "'Have  of these in operation great lights'"
            ],
            "application/vnd.google.colaboratory.intrinsic+json": {
              "type": "string"
            }
          },
          "metadata": {},
          "execution_count": 3
        }
      ]
    },
    {
      "cell_type": "code",
      "source": [
        "labels = pd.get_dummies(data_labels)\n",
        "labels"
      ],
      "metadata": {
        "id": "-L3AK2xrlTrT",
        "colab": {
          "base_uri": "https://localhost:8080/",
          "height": 423
        },
        "outputId": "e5cebe90-8eb4-405c-a7ac-61a0431f5f76"
      },
      "execution_count": 4,
      "outputs": [
        {
          "output_type": "execute_result",
          "data": {
            "text/plain": [
              "        negative  neutral  positive\n",
              "0              0        0         1\n",
              "1              0        0         1\n",
              "2              0        0         1\n",
              "3              0        0         1\n",
              "4              0        0         1\n",
              "...          ...      ...       ...\n",
              "221387         0        0         1\n",
              "221388         0        0         1\n",
              "221389         0        0         1\n",
              "221390         0        0         1\n",
              "221391         0        0         1\n",
              "\n",
              "[221392 rows x 3 columns]"
            ],
            "text/html": [
              "\n",
              "  <div id=\"df-274c70ef-f553-4a14-8c0c-18a7c0da07a2\">\n",
              "    <div class=\"colab-df-container\">\n",
              "      <div>\n",
              "<style scoped>\n",
              "    .dataframe tbody tr th:only-of-type {\n",
              "        vertical-align: middle;\n",
              "    }\n",
              "\n",
              "    .dataframe tbody tr th {\n",
              "        vertical-align: top;\n",
              "    }\n",
              "\n",
              "    .dataframe thead th {\n",
              "        text-align: right;\n",
              "    }\n",
              "</style>\n",
              "<table border=\"1\" class=\"dataframe\">\n",
              "  <thead>\n",
              "    <tr style=\"text-align: right;\">\n",
              "      <th></th>\n",
              "      <th>negative</th>\n",
              "      <th>neutral</th>\n",
              "      <th>positive</th>\n",
              "    </tr>\n",
              "  </thead>\n",
              "  <tbody>\n",
              "    <tr>\n",
              "      <th>0</th>\n",
              "      <td>0</td>\n",
              "      <td>0</td>\n",
              "      <td>1</td>\n",
              "    </tr>\n",
              "    <tr>\n",
              "      <th>1</th>\n",
              "      <td>0</td>\n",
              "      <td>0</td>\n",
              "      <td>1</td>\n",
              "    </tr>\n",
              "    <tr>\n",
              "      <th>2</th>\n",
              "      <td>0</td>\n",
              "      <td>0</td>\n",
              "      <td>1</td>\n",
              "    </tr>\n",
              "    <tr>\n",
              "      <th>3</th>\n",
              "      <td>0</td>\n",
              "      <td>0</td>\n",
              "      <td>1</td>\n",
              "    </tr>\n",
              "    <tr>\n",
              "      <th>4</th>\n",
              "      <td>0</td>\n",
              "      <td>0</td>\n",
              "      <td>1</td>\n",
              "    </tr>\n",
              "    <tr>\n",
              "      <th>...</th>\n",
              "      <td>...</td>\n",
              "      <td>...</td>\n",
              "      <td>...</td>\n",
              "    </tr>\n",
              "    <tr>\n",
              "      <th>221387</th>\n",
              "      <td>0</td>\n",
              "      <td>0</td>\n",
              "      <td>1</td>\n",
              "    </tr>\n",
              "    <tr>\n",
              "      <th>221388</th>\n",
              "      <td>0</td>\n",
              "      <td>0</td>\n",
              "      <td>1</td>\n",
              "    </tr>\n",
              "    <tr>\n",
              "      <th>221389</th>\n",
              "      <td>0</td>\n",
              "      <td>0</td>\n",
              "      <td>1</td>\n",
              "    </tr>\n",
              "    <tr>\n",
              "      <th>221390</th>\n",
              "      <td>0</td>\n",
              "      <td>0</td>\n",
              "      <td>1</td>\n",
              "    </tr>\n",
              "    <tr>\n",
              "      <th>221391</th>\n",
              "      <td>0</td>\n",
              "      <td>0</td>\n",
              "      <td>1</td>\n",
              "    </tr>\n",
              "  </tbody>\n",
              "</table>\n",
              "<p>221392 rows × 3 columns</p>\n",
              "</div>\n",
              "      <button class=\"colab-df-convert\" onclick=\"convertToInteractive('df-274c70ef-f553-4a14-8c0c-18a7c0da07a2')\"\n",
              "              title=\"Convert this dataframe to an interactive table.\"\n",
              "              style=\"display:none;\">\n",
              "        \n",
              "  <svg xmlns=\"http://www.w3.org/2000/svg\" height=\"24px\"viewBox=\"0 0 24 24\"\n",
              "       width=\"24px\">\n",
              "    <path d=\"M0 0h24v24H0V0z\" fill=\"none\"/>\n",
              "    <path d=\"M18.56 5.44l.94 2.06.94-2.06 2.06-.94-2.06-.94-.94-2.06-.94 2.06-2.06.94zm-11 1L8.5 8.5l.94-2.06 2.06-.94-2.06-.94L8.5 2.5l-.94 2.06-2.06.94zm10 10l.94 2.06.94-2.06 2.06-.94-2.06-.94-.94-2.06-.94 2.06-2.06.94z\"/><path d=\"M17.41 7.96l-1.37-1.37c-.4-.4-.92-.59-1.43-.59-.52 0-1.04.2-1.43.59L10.3 9.45l-7.72 7.72c-.78.78-.78 2.05 0 2.83L4 21.41c.39.39.9.59 1.41.59.51 0 1.02-.2 1.41-.59l7.78-7.78 2.81-2.81c.8-.78.8-2.07 0-2.86zM5.41 20L4 18.59l7.72-7.72 1.47 1.35L5.41 20z\"/>\n",
              "  </svg>\n",
              "      </button>\n",
              "      \n",
              "  <style>\n",
              "    .colab-df-container {\n",
              "      display:flex;\n",
              "      flex-wrap:wrap;\n",
              "      gap: 12px;\n",
              "    }\n",
              "\n",
              "    .colab-df-convert {\n",
              "      background-color: #E8F0FE;\n",
              "      border: none;\n",
              "      border-radius: 50%;\n",
              "      cursor: pointer;\n",
              "      display: none;\n",
              "      fill: #1967D2;\n",
              "      height: 32px;\n",
              "      padding: 0 0 0 0;\n",
              "      width: 32px;\n",
              "    }\n",
              "\n",
              "    .colab-df-convert:hover {\n",
              "      background-color: #E2EBFA;\n",
              "      box-shadow: 0px 1px 2px rgba(60, 64, 67, 0.3), 0px 1px 3px 1px rgba(60, 64, 67, 0.15);\n",
              "      fill: #174EA6;\n",
              "    }\n",
              "\n",
              "    [theme=dark] .colab-df-convert {\n",
              "      background-color: #3B4455;\n",
              "      fill: #D2E3FC;\n",
              "    }\n",
              "\n",
              "    [theme=dark] .colab-df-convert:hover {\n",
              "      background-color: #434B5C;\n",
              "      box-shadow: 0px 1px 3px 1px rgba(0, 0, 0, 0.15);\n",
              "      filter: drop-shadow(0px 1px 2px rgba(0, 0, 0, 0.3));\n",
              "      fill: #FFFFFF;\n",
              "    }\n",
              "  </style>\n",
              "\n",
              "      <script>\n",
              "        const buttonEl =\n",
              "          document.querySelector('#df-274c70ef-f553-4a14-8c0c-18a7c0da07a2 button.colab-df-convert');\n",
              "        buttonEl.style.display =\n",
              "          google.colab.kernel.accessAllowed ? 'block' : 'none';\n",
              "\n",
              "        async function convertToInteractive(key) {\n",
              "          const element = document.querySelector('#df-274c70ef-f553-4a14-8c0c-18a7c0da07a2');\n",
              "          const dataTable =\n",
              "            await google.colab.kernel.invokeFunction('convertToInteractive',\n",
              "                                                     [key], {});\n",
              "          if (!dataTable) return;\n",
              "\n",
              "          const docLinkHtml = 'Like what you see? Visit the ' +\n",
              "            '<a target=\"_blank\" href=https://colab.research.google.com/notebooks/data_table.ipynb>data table notebook</a>'\n",
              "            + ' to learn more about interactive tables.';\n",
              "          element.innerHTML = '';\n",
              "          dataTable['output_type'] = 'display_data';\n",
              "          await google.colab.output.renderOutput(dataTable, element);\n",
              "          const docLink = document.createElement('div');\n",
              "          docLink.innerHTML = docLinkHtml;\n",
              "          element.appendChild(docLink);\n",
              "        }\n",
              "      </script>\n",
              "    </div>\n",
              "  </div>\n",
              "  "
            ]
          },
          "metadata": {},
          "execution_count": 4
        }
      ]
    },
    {
      "cell_type": "code",
      "source": [
        "from keras.preprocessing.text import Tokenizer\n",
        "\n",
        "tokenizer = Tokenizer(num_words=20000)\n",
        "tokenizer.fit_on_texts(data_text)\n",
        "sequences = tokenizer.texts_to_sequences(data_text)"
      ],
      "metadata": {
        "id": "wufEBwBirv3N"
      },
      "execution_count": 5,
      "outputs": []
    },
    {
      "cell_type": "code",
      "source": [
        "from keras.utils import pad_sequences\n",
        "\n",
        "maxlen = 300\n",
        "padded_data_sequences = pad_sequences(sequences, maxlen=maxlen)"
      ],
      "metadata": {
        "id": "wXunAi-U9tgu"
      },
      "execution_count": 6,
      "outputs": []
    },
    {
      "cell_type": "code",
      "source": [
        "from sklearn.model_selection import train_test_split\n",
        "\n",
        "train_X, test_X, train_y, test_y = train_test_split(padded_data_sequences, labels, test_size=0.2)"
      ],
      "metadata": {
        "id": "l2W5MTcVAtu9"
      },
      "execution_count": 7,
      "outputs": []
    },
    {
      "cell_type": "code",
      "source": [
        "from keras.models import Sequential\n",
        "from keras.layers import Flatten, Dense, Embedding\n",
        "\n",
        "vocabulary_size = 20000\n",
        "embedding_size = 300\n",
        "model = Sequential()\n",
        "model.add(Embedding(vocabulary_size, embedding_size, input_length=maxlen))\n",
        "model.add(Flatten())\n",
        "model.add(Dense(3, activation='softmax'))\n",
        "\n",
        "model.compile(optimizer='rmsprop', loss='categorical_crossentropy', metrics=['accuracy'])\n",
        "model.summary()"
      ],
      "metadata": {
        "colab": {
          "base_uri": "https://localhost:8080/"
        },
        "id": "756_15fHBkdm",
        "outputId": "6dc0423f-75ba-414a-8d18-d3f16b72ccf6"
      },
      "execution_count": 8,
      "outputs": [
        {
          "output_type": "stream",
          "name": "stdout",
          "text": [
            "Model: \"sequential\"\n",
            "_________________________________________________________________\n",
            " Layer (type)                Output Shape              Param #   \n",
            "=================================================================\n",
            " embedding (Embedding)       (None, 300, 300)          6000000   \n",
            "                                                                 \n",
            " flatten (Flatten)           (None, 90000)             0         \n",
            "                                                                 \n",
            " dense (Dense)               (None, 3)                 270003    \n",
            "                                                                 \n",
            "=================================================================\n",
            "Total params: 6,270,003\n",
            "Trainable params: 6,270,003\n",
            "Non-trainable params: 0\n",
            "_________________________________________________________________\n"
          ]
        }
      ]
    },
    {
      "cell_type": "code",
      "source": [
        "history = model.fit(\n",
        "    train_X,\n",
        "    train_y,\n",
        "    epochs=10,\n",
        "    steps_per_epoch=1000,\n",
        "    validation_split=0.2,\n",
        "    validation_steps=10,\n",
        ")"
      ],
      "metadata": {
        "colab": {
          "base_uri": "https://localhost:8080/"
        },
        "id": "fzdXUQcCG18i",
        "outputId": "b4a5c647-32e9-4cf7-ac80-3bd460ce6be2"
      },
      "execution_count": 9,
      "outputs": [
        {
          "output_type": "stream",
          "name": "stdout",
          "text": [
            "Epoch 1/10\n",
            "1000/1000 [==============================] - 69s 67ms/step - loss: 0.3756 - accuracy: 0.8762 - val_loss: 0.3246 - val_accuracy: 0.8861\n",
            "Epoch 2/10\n",
            "1000/1000 [==============================] - 20s 20ms/step - loss: 0.2706 - accuracy: 0.9041 - val_loss: 0.3254 - val_accuracy: 0.8891\n",
            "Epoch 3/10\n",
            "1000/1000 [==============================] - 10s 10ms/step - loss: 0.2051 - accuracy: 0.9294 - val_loss: 0.3437 - val_accuracy: 0.8910\n",
            "Epoch 4/10\n",
            "1000/1000 [==============================] - 8s 8ms/step - loss: 0.1547 - accuracy: 0.9493 - val_loss: 0.3698 - val_accuracy: 0.8876\n",
            "Epoch 5/10\n",
            "1000/1000 [==============================] - 8s 8ms/step - loss: 0.1192 - accuracy: 0.9626 - val_loss: 0.4161 - val_accuracy: 0.8821\n",
            "Epoch 6/10\n",
            "1000/1000 [==============================] - 6s 6ms/step - loss: 0.0944 - accuracy: 0.9721 - val_loss: 0.4452 - val_accuracy: 0.8840\n",
            "Epoch 7/10\n",
            "1000/1000 [==============================] - 5s 5ms/step - loss: 0.0771 - accuracy: 0.9784 - val_loss: 0.4924 - val_accuracy: 0.8834\n",
            "Epoch 8/10\n",
            "1000/1000 [==============================] - 5s 5ms/step - loss: 0.0650 - accuracy: 0.9823 - val_loss: 0.5302 - val_accuracy: 0.8819\n",
            "Epoch 9/10\n",
            "1000/1000 [==============================] - 5s 5ms/step - loss: 0.0561 - accuracy: 0.9850 - val_loss: 0.5568 - val_accuracy: 0.8778\n",
            "Epoch 10/10\n",
            " 967/1000 [============================>.] - ETA: 0s - loss: 0.0502 - accuracy: 0.9869"
          ]
        },
        {
          "output_type": "stream",
          "name": "stderr",
          "text": [
            "WARNING:tensorflow:Your input ran out of data; interrupting training. Make sure that your dataset or generator can generate at least `steps_per_epoch * epochs` batches (in this case, 10000 batches). You may need to use the repeat() function when building your dataset.\n"
          ]
        },
        {
          "output_type": "stream",
          "name": "stdout",
          "text": [
            "\b\b\b\b\b\b\b\b\b\b\b\b\b\b\b\b\b\b\b\b\b\b\b\b\b\b\b\b\b\b\b\b\b\b\b\b\b\b\b\b\b\b\b\b\b\b\b\b\b\b\b\b\b\b\b\b\b\b\b\b\b\b\b\b\b\b\b\b\b\b\b\b\b\b\b\b\b\b\b\b\b\b\b\b\b\b\r1000/1000 [==============================] - 5s 5ms/step - loss: 0.0502 - accuracy: 0.9869 - val_loss: 0.5867 - val_accuracy: 0.8773\n"
          ]
        }
      ]
    },
    {
      "cell_type": "code",
      "source": [
        "import matplotlib.pyplot as plt\n",
        "\n",
        "acc = history.history['accuracy']\n",
        "val_acc = history.history['val_accuracy']\n",
        "loss = history.history['loss']\n",
        "val_loss = history.history['val_loss']\n",
        "\n",
        "epochs = range(1, len(acc) + 1)\n",
        "\n",
        "plt.plot(epochs, acc, 'bo', label='Training acc')\n",
        "plt.plot(epochs, val_acc, 'b', label='Validation acc')\n",
        "plt.title('Training and validation accuracy')\n",
        "plt.legend()\n",
        "\n",
        "plt.figure()\n",
        "\n",
        "plt.plot(epochs, loss, 'bo', label='Training loss')\n",
        "plt.plot(epochs, val_loss, 'b', label='Validation loss')\n",
        "plt.title('Training and validation loss')\n",
        "plt.legend()\n",
        "\n",
        "plt.show()"
      ],
      "metadata": {
        "id": "40XMg5AgIm2Q",
        "colab": {
          "base_uri": "https://localhost:8080/",
          "height": 887
        },
        "outputId": "f2570469-fc17-4e39-ec01-af7abeb2ebe2"
      },
      "execution_count": 11,
      "outputs": [
        {
          "output_type": "display_data",
          "data": {
            "text/plain": [
              "<Figure size 640x480 with 1 Axes>"
            ],
            "image/png": "[encoded data removed]"
          },
          "metadata": {}
        },
        {
          "output_type": "display_data",
          "data": {
            "text/plain": [
              "<Figure size 640x480 with 1 Axes>"
            ],
            "image/png": "[encoded data removed]"
          },
          "metadata": {}
        }
      ]
    },
    {
      "cell_type": "code",
      "source": [
        "test_loss, test_acc = model.evaluate(test_X, test_y)\n",
        "print('Accuracy: {}    Loss: {}'.format(test_acc, test_loss))\n",
        "model_scores.append([model, test_acc])"
      ],
      "metadata": {
        "id": "_2e6wtToIqKZ",
        "colab": {
          "base_uri": "https://localhost:8080/"
        },
        "outputId": "ab904c50-69ce-4e98-e850-efbe6af405a7"
      },
      "execution_count": 12,
      "outputs": [
        {
          "output_type": "stream",
          "name": "stdout",
          "text": [
            "1384/1384 [==============================] - 3s 2ms/step - loss: 0.5865 - accuracy: 0.8777\n",
            "Accuracy: 0.8776846528053284    Loss: 0.5865160226821899\n"
          ]
        }
      ]
    },
    {
      "cell_type": "code",
      "source": [
        "!curl http://zacharski.org/files/courses/cs419/glove.6B.100d.zip > glove.6B.100d.zip\n",
        "!ls"
      ],
      "metadata": {
        "colab": {
          "base_uri": "https://localhost:8080/"
        },
        "id": "fJsoMhhkKajf",
        "outputId": "25e78169-390d-4ba1-f5f0-3d9aea4c5db5"
      },
      "execution_count": 13,
      "outputs": [
        {
          "output_type": "stream",
          "name": "stdout",
          "text": [
            "  % Total    % Received % Xferd  Average Speed   Time    Time     Time  Current\n",
            "                                 Dload  Upload   Total   Spent    Left  Speed\n",
            "100  128M  100  128M    0     0  11.5M      0  0:00:11  0:00:11 --:--:-- 13.8M\n",
            "glove.6B.100d.zip  sample_data\n"
          ]
        }
      ]
    },
    {
      "cell_type": "code",
      "source": [
        "!unzip glove.6B.100d.zip"
      ],
      "metadata": {
        "colab": {
          "base_uri": "https://localhost:8080/"
        },
        "id": "CQBXacooLnL5",
        "outputId": "6326e586-0441-4b26-9b55-59888fc9fe25"
      },
      "execution_count": 14,
      "outputs": [
        {
          "output_type": "stream",
          "name": "stdout",
          "text": [
            "Archive:  glove.6B.100d.zip\n",
            "  inflating: glove.6B.100d.txt       \n"
          ]
        }
      ]
    },
    {
      "cell_type": "code",
      "source": [
        "!curl https://github.com/zacharski/ml-class/raw/master/data/fasttext.zip > fasttext.zip"
      ],
      "metadata": {
        "colab": {
          "base_uri": "https://localhost:8080/"
        },
        "id": "9fabdbmIYTcY",
        "outputId": "9f40bc4a-f0af-4a6e-d04e-455d0fd9de02"
      },
      "execution_count": 15,
      "outputs": [
        {
          "output_type": "stream",
          "name": "stdout",
          "text": [
            "  % Total    % Received % Xferd  Average Speed   Time    Time     Time  Current\n",
            "                                 Dload  Upload   Total   Spent    Left  Speed\n",
            "  0     0    0     0    0     0      0      0 --:--:-- --:--:-- --:--:--     0\n"
          ]
        }
      ]
    },
    {
      "cell_type": "code",
      "source": [
        "import numpy as np"
      ],
      "metadata": {
        "id": "Yf8D4eyhLyWk"
      },
      "execution_count": 16,
      "outputs": []
    },
    {
      "cell_type": "code",
      "source": [
        "\n",
        "def create_embedding_matrix(file_name, max_words, embedding_dim):\n",
        "  embeddings_index = {}\n",
        "  f = open(file_name)\n",
        "  for line in f:\n",
        "    values = line.split()\n",
        "    word = values[0]\n",
        "    coefs = np.asarray(values[1:], dtype='float32')\n",
        "  f.close()\n",
        "\n",
        "  word_index = tokenizer.word_index\n",
        "\n",
        "  embedding_matrix = np.zeros((max_words, embedding_dim))\n",
        "  for word, i in word_index.items():\n",
        "    embedding_vector = embeddings_index.get(word)\n",
        "    if i < max_words:\n",
        "      if embedding_vector is not None:\n",
        "        embedding_matrix[i] = embedding_vector\n",
        "  return embedding_matrix"
      ],
      "metadata": {
        "id": "cp0EkdluMqnt"
      },
      "execution_count": 17,
      "outputs": []
    },
    {
      "cell_type": "code",
      "source": [
        "embedding_dim = 300\n",
        "max_words = 20000\n",
        "embedding_matrix = create_embedding_matrix('glove.6B.100d.txt', 20000, 300)\n",
        "model = Sequential()\n",
        "model.add(Embedding(max_words, embedding_dim, input_length=maxlen))\n",
        "model.add(Flatten())\n",
        "model.add(Dense(64, activation='relu'))\n",
        "model.add(Dense(3, activation='softmax'))\n",
        "model.summary()"
      ],
      "metadata": {
        "colab": {
          "base_uri": "https://localhost:8080/"
        },
        "id": "RT0ibrYlPD-y",
        "outputId": "22e477b6-f69f-4dac-c925-f460b1b70f23"
      },
      "execution_count": 23,
      "outputs": [
        {
          "output_type": "stream",
          "name": "stdout",
          "text": [
            "Model: \"sequential_2\"\n",
            "_________________________________________________________________\n",
            " Layer (type)                Output Shape              Param #   \n",
            "=================================================================\n",
            " embedding_2 (Embedding)     (None, 300, 300)          6000000   \n",
            "                                                                 \n",
            " flatten_2 (Flatten)         (None, 90000)             0         \n",
            "                                                                 \n",
            " dense_3 (Dense)             (None, 64)                5760064   \n",
            "                                                                 \n",
            " dense_4 (Dense)             (None, 3)                 195       \n",
            "                                                                 \n",
            "=================================================================\n",
            "Total params: 11,760,259\n",
            "Trainable params: 11,760,259\n",
            "Non-trainable params: 0\n",
            "_________________________________________________________________\n"
          ]
        }
      ]
    },
    {
      "cell_type": "code",
      "source": [
        "model.layers[0].set_weights([embedding_matrix])\n",
        "model.layers[0].trainable = False\n",
        "\n",
        "model.compile(optimizer='rmsprop',\n",
        "              loss='categorical_crossentropy',\n",
        "              metrics=['acc'])"
      ],
      "metadata": {
        "id": "SFknLXxhVr9v"
      },
      "execution_count": 24,
      "outputs": []
    },
    {
      "cell_type": "code",
      "source": [
        "history = model.fit(\n",
        "    train_X,\n",
        "    train_y,\n",
        "    epochs=10,\n",
        "    steps_per_epoch=100,\n",
        "    validation_split=0.2,\n",
        "    validation_steps=10,\n",
        ")"
      ],
      "metadata": {
        "id": "RUzwUIoPZQM9",
        "colab": {
          "base_uri": "https://localhost:8080/"
        },
        "outputId": "c69d1d7a-7bb3-4ad3-9255-a33a9007a4da"
      },
      "execution_count": 26,
      "outputs": [
        {
          "output_type": "stream",
          "name": "stdout",
          "text": [
            "Epoch 1/10\n",
            "100/100 [==============================] - 1s 5ms/step - loss: 0.4844 - acc: 0.8669 - val_loss: 0.4842 - val_acc: 0.8670\n",
            "Epoch 2/10\n",
            "100/100 [==============================] - 0s 5ms/step - loss: 0.4844 - acc: 0.8669 - val_loss: 0.4842 - val_acc: 0.8670\n",
            "Epoch 3/10\n",
            "100/100 [==============================] - 0s 5ms/step - loss: 0.4844 - acc: 0.8669 - val_loss: 0.4842 - val_acc: 0.8670\n",
            "Epoch 4/10\n",
            "100/100 [==============================] - 0s 5ms/step - loss: 0.4844 - acc: 0.8669 - val_loss: 0.4842 - val_acc: 0.8670\n",
            "Epoch 5/10\n",
            "100/100 [==============================] - 0s 5ms/step - loss: 0.4844 - acc: 0.8669 - val_loss: 0.4842 - val_acc: 0.8670\n",
            "Epoch 6/10\n",
            "100/100 [==============================] - 0s 5ms/step - loss: 0.4844 - acc: 0.8669 - val_loss: 0.4842 - val_acc: 0.8670\n",
            "Epoch 7/10\n",
            "100/100 [==============================] - 0s 5ms/step - loss: 0.4844 - acc: 0.8669 - val_loss: 0.4842 - val_acc: 0.8670\n",
            "Epoch 8/10\n",
            "100/100 [==============================] - 0s 5ms/step - loss: 0.4844 - acc: 0.8669 - val_loss: 0.4842 - val_acc: 0.8670\n",
            "Epoch 9/10\n",
            "100/100 [==============================] - 0s 5ms/step - loss: 0.4844 - acc: 0.8669 - val_loss: 0.4842 - val_acc: 0.8670\n",
            "Epoch 10/10\n",
            "100/100 [==============================] - 0s 5ms/step - loss: 0.4844 - acc: 0.8669 - val_loss: 0.4842 - val_acc: 0.8670\n"
          ]
        }
      ]
    },
    {
      "cell_type": "code",
      "source": [
        "import matplotlib.pyplot as plt\n",
        "\n",
        "acc = history.history['acc']\n",
        "val_acc = history.history['val_acc']\n",
        "loss = history.history['loss']\n",
        "val_loss = history.history['val_loss']\n",
        "\n",
        "epochs = range(1, len(acc) + 1)\n",
        "\n",
        "plt.plot(epochs, acc, 'bo', label='Training acc')\n",
        "plt.plot(epochs, val_acc, 'b', label='Validation acc')\n",
        "plt.title('Training and validation accuracy')\n",
        "plt.legend()\n",
        "\n",
        "plt.figure()\n",
        "\n",
        "plt.plot(epochs, loss, 'bo', label='Training loss')\n",
        "plt.plot(epochs, val_loss, 'b', label='Validation loss')\n",
        "plt.title('Training and validation loss')\n",
        "plt.legend()\n",
        "\n",
        "plt.show()"
      ],
      "metadata": {
        "id": "tonfL4wMZTUT",
        "colab": {
          "base_uri": "https://localhost:8080/",
          "height": 887
        },
        "outputId": "c02631a3-865b-42bf-d7fc-6d082ebc2885"
      },
      "execution_count": 28,
      "outputs": [
        {
          "output_type": "display_data",
          "data": {
            "text/plain": [
              "<Figure size 640x480 with 1 Axes>"
            ],
            "image/png": "[encoded data removed]"
          },
          "metadata": {}
        },
        {
          "output_type": "display_data",
          "data": {
            "text/plain": [
              "<Figure size 640x480 with 1 Axes>"
            ],
            "image/png": "[encoded data removed]"
          },
          "metadata": {}
        }
      ]
    },
    {
      "cell_type": "code",
      "source": [
        "test_loss, test_acc = model.evaluate(test_X, test_y)\n",
        "model_scores.append([model, test_acc])"
      ],
      "metadata": {
        "id": "NJM8x1l0ZWSm",
        "colab": {
          "base_uri": "https://localhost:8080/"
        },
        "outputId": "574caaec-15c7-4d73-cf7e-ba68db9a9dc0"
      },
      "execution_count": 29,
      "outputs": [
        {
          "output_type": "stream",
          "name": "stdout",
          "text": [
            "1384/1384 [==============================] - 3s 2ms/step - loss: 0.4830 - acc: 0.8674\n"
          ]
        }
      ]
    },
    {
      "cell_type": "code",
      "source": [
        "!ls"
      ],
      "metadata": {
        "colab": {
          "base_uri": "https://localhost:8080/"
        },
        "id": "PtogJCw0ztOE",
        "outputId": "e0fed384-4019-422d-c505-076fd99a210d"
      },
      "execution_count": 32,
      "outputs": [
        {
          "output_type": "stream",
          "name": "stdout",
          "text": [
            "fasttext.zip  glove.6B.100d.txt  glove.6B.100d.zip  sample_data\n"
          ]
        }
      ]
    },
    {
      "cell_type": "code",
      "source": [
        "embedding_dim = 300\n",
        "max_words = 20000\n",
        "embedding_matrix = create_embedding_matrix('fasttext.vec', 20000, 300)\n",
        "model = Sequential()\n",
        "model.add(Embedding(max_words, embedding_dim, input_length=maxlen))\n",
        "model.add(Flatten())\n",
        "model.add(Dense(64, activation='relu'))\n",
        "model.add(Dense(3, activation='softmax'))\n",
        "model.summary()"
      ],
      "metadata": {
        "colab": {
          "base_uri": "https://localhost:8080/"
        },
        "id": "RuLTGOjGZvYC",
        "outputId": "2594c3c2-31b1-4633-c3ef-65c1bcf75a73"
      },
      "execution_count": 35,
      "outputs": [
        {
          "output_type": "stream",
          "name": "stdout",
          "text": [
            "Model: \"sequential_3\"\n",
            "_________________________________________________________________\n",
            " Layer (type)                Output Shape              Param #   \n",
            "=================================================================\n",
            " embedding_3 (Embedding)     (None, 300, 300)          6000000   \n",
            "                                                                 \n",
            " flatten_3 (Flatten)         (None, 90000)             0         \n",
            "                                                                 \n",
            " dense_5 (Dense)             (None, 64)                5760064   \n",
            "                                                                 \n",
            " dense_6 (Dense)             (None, 3)                 195       \n",
            "                                                                 \n",
            "=================================================================\n",
            "Total params: 11,760,259\n",
            "Trainable params: 11,760,259\n",
            "Non-trainable params: 0\n",
            "_________________________________________________________________\n"
          ]
        }
      ]
    },
    {
      "cell_type": "code",
      "source": [
        "model.compile(optimizer='rmsprop',\n",
        "              loss='categorical_crossentropy',\n",
        "              metrics=['acc'])"
      ],
      "metadata": {
        "id": "9evXwyWpbGT-"
      },
      "execution_count": 36,
      "outputs": []
    },
    {
      "cell_type": "code",
      "source": [
        "history = model.fit(train_X, train_y, epochs=10, steps_per_epoch=100, validation_split=0.2, validation_steps=10)"
      ],
      "metadata": {
        "colab": {
          "base_uri": "https://localhost:8080/"
        },
        "id": "wKtilfg3bUlS",
        "outputId": "521ea060-942c-4e65-df3b-7eac37bcaf64"
      },
      "execution_count": 37,
      "outputs": [
        {
          "output_type": "stream",
          "name": "stdout",
          "text": [
            "Epoch 1/10\n",
            "100/100 [==============================] - 15s 141ms/step - loss: 0.5464 - acc: 0.8586 - val_loss: 0.4435 - val_acc: 0.8670\n",
            "Epoch 2/10\n",
            "100/100 [==============================] - 11s 110ms/step - loss: 0.4134 - acc: 0.8675 - val_loss: 0.3925 - val_acc: 0.8679\n",
            "Epoch 3/10\n",
            "100/100 [==============================] - 10s 104ms/step - loss: 0.3595 - acc: 0.8755 - val_loss: 0.3602 - val_acc: 0.8761\n",
            "Epoch 4/10\n",
            "100/100 [==============================] - 8s 80ms/step - loss: 0.3223 - acc: 0.8867 - val_loss: 0.3307 - val_acc: 0.8824\n",
            "Epoch 5/10\n",
            "100/100 [==============================] - 7s 67ms/step - loss: 0.2865 - acc: 0.8981 - val_loss: 0.3235 - val_acc: 0.8865\n",
            "Epoch 6/10\n",
            "100/100 [==============================] - 6s 57ms/step - loss: 0.2556 - acc: 0.9096 - val_loss: 0.3237 - val_acc: 0.8880\n",
            "Epoch 7/10\n",
            "100/100 [==============================] - 5s 47ms/step - loss: 0.2277 - acc: 0.9202 - val_loss: 0.3213 - val_acc: 0.8910\n",
            "Epoch 8/10\n",
            "100/100 [==============================] - 4s 37ms/step - loss: 0.2011 - acc: 0.9302 - val_loss: 0.3262 - val_acc: 0.8913\n",
            "Epoch 9/10\n",
            "100/100 [==============================] - 3s 34ms/step - loss: 0.1771 - acc: 0.9398 - val_loss: 0.3405 - val_acc: 0.8917\n",
            "Epoch 10/10\n",
            "100/100 [==============================] - 4s 36ms/step - loss: 0.1550 - acc: 0.9482 - val_loss: 0.3662 - val_acc: 0.8922\n"
          ]
        }
      ]
    },
    {
      "cell_type": "code",
      "source": [
        "import matplotlib.pyplot as plt\n",
        "\n",
        "acc = history.history['acc']\n",
        "val_acc = history.history['val_acc']\n",
        "loss = history.history['loss']\n",
        "val_loss = history.history['val_loss']\n",
        "\n",
        "epochs = range(1, len(acc) + 1)\n",
        "\n",
        "plt.plot(epochs, acc, 'bo', label='Training acc')\n",
        "plt.plot(epochs, val_acc, 'b', label='Validation acc')\n",
        "plt.title('Training and validation accuracy')\n",
        "plt.legend()\n",
        "\n",
        "plt.figure()\n",
        "\n",
        "plt.plot(epochs, loss, 'bo', label='Training loss')\n",
        "plt.plot(epochs, val_loss, 'b', label='Validation loss')\n",
        "plt.title('Training and validation loss')\n",
        "plt.legend()\n",
        "\n",
        "plt.show()"
      ],
      "metadata": {
        "id": "Ds2bRvlRbbE6",
        "colab": {
          "base_uri": "https://localhost:8080/",
          "height": 887
        },
        "outputId": "a758488d-12ff-4d3c-e633-75df02656042"
      },
      "execution_count": 39,
      "outputs": [
        {
          "output_type": "display_data",
          "data": {
            "text/plain": [
              "<Figure size 640x480 with 1 Axes>"
            ],
            "image/png": "[encoded data removed]"
          },
          "metadata": {}
        },
        {
          "output_type": "display_data",
          "data": {
            "text/plain": [
              "<Figure size 640x480 with 1 Axes>"
            ],
            "image/png": "[encoded data removed]"
          },
          "metadata": {}
        }
      ]
    },
    {
      "cell_type": "code",
      "source": [
        "test_loss, test_acc = model.evaluate(test_X, test_y)\n",
        "model_scores.append([model, test_acc])"
      ],
      "metadata": {
        "id": "jOSPg-YbbgGF",
        "colab": {
          "base_uri": "https://localhost:8080/"
        },
        "outputId": "a8ea416a-a511-4e92-8f38-1063cec2dcb3"
      },
      "execution_count": 40,
      "outputs": [
        {
          "output_type": "stream",
          "name": "stdout",
          "text": [
            "1384/1384 [==============================] - 3s 2ms/step - loss: 0.3695 - acc: 0.8928\n"
          ]
        }
      ]
    },
    {
      "cell_type": "code",
      "source": [
        "max = 0\n",
        "best_model = None\n",
        "for score in model_scores:\n",
        "  if score[1] > max:\n",
        "    max = score[1]\n",
        "    best_model = score[0]\n",
        "\n",
        "def mapPredictions(val):\n",
        "  if val == 0:\n",
        "    return 'positive'\n",
        "  if val == 1:\n",
        "    return 'negative'\n",
        "  if val == 2:\n",
        "    return 'neutral'\n",
        "\n",
        "final_test = pd.read_csv(\"http://34.82.108.37/amazonReviewsTest.csv\")\n",
        "tokenizer = Tokenizer(num_words=20000)\n",
        "tokenizer.fit_on_texts(final_test)\n",
        "sequences = tokenizer.texts_to_sequences(final_test)\n",
        "maxlen = 300\n",
        "test_padded_sequences = pad_sequences(sequences, maxlen=maxlen)\n",
        "predictions = best_model.predict(test_padded_sequences)\n",
        "\n"
      ],
      "metadata": {
        "colab": {
          "base_uri": "https://localhost:8080/"
        },
        "id": "8YPT6XtBcTjj",
        "outputId": "d3e214d7-d25f-48e5-f7d5-25e25cbe691f"
      },
      "execution_count": 50,
      "outputs": [
        {
          "output_type": "stream",
          "name": "stdout",
          "text": [
            "1/1 [==============================] - 0s 28ms/step\n"
          ]
        }
      ]
    },
    {
      "cell_type": "code",
      "source": [
        "final_test.head()"
      ],
      "metadata": {
        "colab": {
          "base_uri": "https://localhost:8080/",
          "height": 634
        },
        "id": "-na9ri4Q1pab",
        "outputId": "9758710a-7540-41a3-feaa-a524b2e30357"
      },
      "execution_count": 52,
      "outputs": [
        {
          "output_type": "execute_result",
          "data": {
            "text/plain": [
              "   verified   reviewTime      reviewerID        asin       reviewerName  \\\n",
              "0     False  08 17, 2016   AMKHFIJJ81LYJ  B00EA1U1X6           Frank P.   \n",
              "1      True  08 22, 2015   A3SZ045Z7CP56  B0002GNUYU  David A. Caufield   \n",
              "2      True  07 30, 2014   AZMSVSJFACBPB  B0006LOBA8          Neurofizz   \n",
              "3      True   03 9, 2012  A39SRYB2M0Z5FG  B000Y30NAA           s.reeths   \n",
              "4      True   02 3, 2013  A35A62ZXXKXHIW  B002N4ZBE6        Marine Docl   \n",
              "\n",
              "                                          reviewText  \\\n",
              "0  I am a (very amateur) EDM and Hip Hop Producer...   \n",
              "1  These are pretty beefy strings even for black ...   \n",
              "2  I've played every new \"improved\" string out th...   \n",
              "3  I thought I would give this pedal a try, becau...   \n",
              "4  Been wanting to try one for over a year.  Good...   \n",
              "\n",
              "                                             summary  unixReviewTime  vote  \\\n",
              "0                                   Extremely Happy.      1471392000   NaN   \n",
              "1  once again, Rotosound strings fail to impress ...      1440201600   NaN   \n",
              "2  and keep coming home to the girls that really ...      1406678400   NaN   \n",
              "3                         save up for a better pedal      1331251200   NaN   \n",
              "4                                            Big Six      1359849600   NaN   \n",
              "\n",
              "                               style image  \n",
              "0  {'style:': ' 5\" Monitor Speaker'}   NaN  \n",
              "1                                NaN   NaN  \n",
              "2                                NaN   NaN  \n",
              "3              {'Style:': ' CHORUS'}   NaN  \n",
              "4                                NaN   NaN  "
            ],
            "text/html": [
              "\n",
              "  <div id=\"df-4f301977-5928-42d8-a390-2630758229f9\">\n",
              "    <div class=\"colab-df-container\">\n",
              "      <div>\n",
              "<style scoped>\n",
              "    .dataframe tbody tr th:only-of-type {\n",
              "        vertical-align: middle;\n",
              "    }\n",
              "\n",
              "    .dataframe tbody tr th {\n",
              "        vertical-align: top;\n",
              "    }\n",
              "\n",
              "    .dataframe thead th {\n",
              "        text-align: right;\n",
              "    }\n",
              "</style>\n",
              "<table border=\"1\" class=\"dataframe\">\n",
              "  <thead>\n",
              "    <tr style=\"text-align: right;\">\n",
              "      <th></th>\n",
              "      <th>verified</th>\n",
              "      <th>reviewTime</th>\n",
              "      <th>reviewerID</th>\n",
              "      <th>asin</th>\n",
              "      <th>reviewerName</th>\n",
              "      <th>reviewText</th>\n",
              "      <th>summary</th>\n",
              "      <th>unixReviewTime</th>\n",
              "      <th>vote</th>\n",
              "      <th>style</th>\n",
              "      <th>image</th>\n",
              "    </tr>\n",
              "  </thead>\n",
              "  <tbody>\n",
              "    <tr>\n",
              "      <th>0</th>\n",
              "      <td>False</td>\n",
              "      <td>08 17, 2016</td>\n",
              "      <td>AMKHFIJJ81LYJ</td>\n",
              "      <td>B00EA1U1X6</td>\n",
              "      <td>Frank P.</td>\n",
              "      <td>I am a (very amateur) EDM and Hip Hop Producer...</td>\n",
              "      <td>Extremely Happy.</td>\n",
              "      <td>1471392000</td>\n",
              "      <td>NaN</td>\n",
              "      <td>{'style:': ' 5\" Monitor Speaker'}</td>\n",
              "      <td>NaN</td>\n",
              "    </tr>\n",
              "    <tr>\n",
              "      <th>1</th>\n",
              "      <td>True</td>\n",
              "      <td>08 22, 2015</td>\n",
              "      <td>A3SZ045Z7CP56</td>\n",
              "      <td>B0002GNUYU</td>\n",
              "      <td>David A. Caufield</td>\n",
              "      <td>These are pretty beefy strings even for black ...</td>\n",
              "      <td>once again, Rotosound strings fail to impress ...</td>\n",
              "      <td>1440201600</td>\n",
              "      <td>NaN</td>\n",
              "      <td>NaN</td>\n",
              "      <td>NaN</td>\n",
              "    </tr>\n",
              "    <tr>\n",
              "      <th>2</th>\n",
              "      <td>True</td>\n",
              "      <td>07 30, 2014</td>\n",
              "      <td>AZMSVSJFACBPB</td>\n",
              "      <td>B0006LOBA8</td>\n",
              "      <td>Neurofizz</td>\n",
              "      <td>I've played every new \"improved\" string out th...</td>\n",
              "      <td>and keep coming home to the girls that really ...</td>\n",
              "      <td>1406678400</td>\n",
              "      <td>NaN</td>\n",
              "      <td>NaN</td>\n",
              "      <td>NaN</td>\n",
              "    </tr>\n",
              "    <tr>\n",
              "      <th>3</th>\n",
              "      <td>True</td>\n",
              "      <td>03 9, 2012</td>\n",
              "      <td>A39SRYB2M0Z5FG</td>\n",
              "      <td>B000Y30NAA</td>\n",
              "      <td>s.reeths</td>\n",
              "      <td>I thought I would give this pedal a try, becau...</td>\n",
              "      <td>save up for a better pedal</td>\n",
              "      <td>1331251200</td>\n",
              "      <td>NaN</td>\n",
              "      <td>{'Style:': ' CHORUS'}</td>\n",
              "      <td>NaN</td>\n",
              "    </tr>\n",
              "    <tr>\n",
              "      <th>4</th>\n",
              "      <td>True</td>\n",
              "      <td>02 3, 2013</td>\n",
              "      <td>A35A62ZXXKXHIW</td>\n",
              "      <td>B002N4ZBE6</td>\n",
              "      <td>Marine Docl</td>\n",
              "      <td>Been wanting to try one for over a year.  Good...</td>\n",
              "      <td>Big Six</td>\n",
              "      <td>1359849600</td>\n",
              "      <td>NaN</td>\n",
              "      <td>NaN</td>\n",
              "      <td>NaN</td>\n",
              "    </tr>\n",
              "  </tbody>\n",
              "</table>\n",
              "</div>\n",
              "      <button class=\"colab-df-convert\" onclick=\"convertToInteractive('df-4f301977-5928-42d8-a390-2630758229f9')\"\n",
              "              title=\"Convert this dataframe to an interactive table.\"\n",
              "              style=\"display:none;\">\n",
              "        \n",
              "  <svg xmlns=\"http://www.w3.org/2000/svg\" height=\"24px\"viewBox=\"0 0 24 24\"\n",
              "       width=\"24px\">\n",
              "    <path d=\"M0 0h24v24H0V0z\" fill=\"none\"/>\n",
              "    <path d=\"M18.56 5.44l.94 2.06.94-2.06 2.06-.94-2.06-.94-.94-2.06-.94 2.06-2.06.94zm-11 1L8.5 8.5l.94-2.06 2.06-.94-2.06-.94L8.5 2.5l-.94 2.06-2.06.94zm10 10l.94 2.06.94-2.06 2.06-.94-2.06-.94-.94-2.06-.94 2.06-2.06.94z\"/><path d=\"M17.41 7.96l-1.37-1.37c-.4-.4-.92-.59-1.43-.59-.52 0-1.04.2-1.43.59L10.3 9.45l-7.72 7.72c-.78.78-.78 2.05 0 2.83L4 21.41c.39.39.9.59 1.41.59.51 0 1.02-.2 1.41-.59l7.78-7.78 2.81-2.81c.8-.78.8-2.07 0-2.86zM5.41 20L4 18.59l7.72-7.72 1.47 1.35L5.41 20z\"/>\n",
              "  </svg>\n",
              "      </button>\n",
              "      \n",
              "  <style>\n",
              "    .colab-df-container {\n",
              "      display:flex;\n",
              "      flex-wrap:wrap;\n",
              "      gap: 12px;\n",
              "    }\n",
              "\n",
              "    .colab-df-convert {\n",
              "      background-color: #E8F0FE;\n",
              "      border: none;\n",
              "      border-radius: 50%;\n",
              "      cursor: pointer;\n",
              "      display: none;\n",
              "      fill: #1967D2;\n",
              "      height: 32px;\n",
              "      padding: 0 0 0 0;\n",
              "      width: 32px;\n",
              "    }\n",
              "\n",
              "    .colab-df-convert:hover {\n",
              "      background-color: #E2EBFA;\n",
              "      box-shadow: 0px 1px 2px rgba(60, 64, 67, 0.3), 0px 1px 3px 1px rgba(60, 64, 67, 0.15);\n",
              "      fill: #174EA6;\n",
              "    }\n",
              "\n",
              "    [theme=dark] .colab-df-convert {\n",
              "      background-color: #3B4455;\n",
              "      fill: #D2E3FC;\n",
              "    }\n",
              "\n",
              "    [theme=dark] .colab-df-convert:hover {\n",
              "      background-color: #434B5C;\n",
              "      box-shadow: 0px 1px 3px 1px rgba(0, 0, 0, 0.15);\n",
              "      filter: drop-shadow(0px 1px 2px rgba(0, 0, 0, 0.3));\n",
              "      fill: #FFFFFF;\n",
              "    }\n",
              "  </style>\n",
              "\n",
              "      <script>\n",
              "        const buttonEl =\n",
              "          document.querySelector('#df-4f301977-5928-42d8-a390-2630758229f9 button.colab-df-convert');\n",
              "        buttonEl.style.display =\n",
              "          google.colab.kernel.accessAllowed ? 'block' : 'none';\n",
              "\n",
              "        async function convertToInteractive(key) {\n",
              "          const element = document.querySelector('#df-4f301977-5928-42d8-a390-2630758229f9');\n",
              "          const dataTable =\n",
              "            await google.colab.kernel.invokeFunction('convertToInteractive',\n",
              "                                                     [key], {});\n",
              "          if (!dataTable) return;\n",
              "\n",
              "          const docLinkHtml = 'Like what you see? Visit the ' +\n",
              "            '<a target=\"_blank\" href=https://colab.research.google.com/notebooks/data_table.ipynb>data table notebook</a>'\n",
              "            + ' to learn more about interactive tables.';\n",
              "          element.innerHTML = '';\n",
              "          dataTable['output_type'] = 'display_data';\n",
              "          await google.colab.output.renderOutput(dataTable, element);\n",
              "          const docLink = document.createElement('div');\n",
              "          docLink.innerHTML = docLinkHtml;\n",
              "          element.appendChild(docLink);\n",
              "        }\n",
              "      </script>\n",
              "    </div>\n",
              "  </div>\n",
              "  "
            ]
          },
          "metadata": {},
          "execution_count": 52
        }
      ]
    },
    {
      "cell_type": "code",
      "source": [
        "predictions"
      ],
      "metadata": {
        "colab": {
          "base_uri": "https://localhost:8080/"
        },
        "id": "j72eG2bb1fIU",
        "outputId": "d1f334ab-51c2-4e7f-d297-0cae6eb3af39"
      },
      "execution_count": 51,
      "outputs": [
        {
          "output_type": "execute_result",
          "data": {
            "text/plain": [
              "array([[0.02222067, 0.05751312, 0.9202663 ],\n",
              "       [0.00876879, 0.01600025, 0.97523093],\n",
              "       [0.01153856, 0.02726872, 0.9611928 ],\n",
              "       [0.01949311, 0.03180879, 0.9486981 ],\n",
              "       [0.01761365, 0.05131234, 0.931074  ],\n",
              "       [0.02460085, 0.04137955, 0.9340197 ],\n",
              "       [0.03441983, 0.04660816, 0.918972  ],\n",
              "       [0.0277226 , 0.0665506 , 0.9057268 ],\n",
              "       [0.05778416, 0.06619358, 0.8760223 ],\n",
              "       [0.0447263 , 0.04158115, 0.9136926 ],\n",
              "       [0.02252187, 0.04407947, 0.93339866]], dtype=float32)"
            ]
          },
          "metadata": {},
          "execution_count": 51
        }
      ]
    },
    {
      "cell_type": "code",
      "source": [
        "predictions = np.argmax(predictions, axis=1)\n",
        "results = []\n",
        "\n",
        "for prediction in predictions:\n",
        "  results.append(mapPredictions(prediction))"
      ],
      "metadata": {
        "id": "G_rpQbiDgaan"
      },
      "execution_count": 47,
      "outputs": []
    },
    {
      "cell_type": "code",
      "source": [
        "with open(r'AmazonReviewsPredictions.txt', 'w') as fp:\n",
        "    for item in results:\n",
        "        # write each item on a new line\n",
        "        fp.write(\"%s\\n\" % item)\n",
        "    print('Done')\n",
        "from google.colab import files\n",
        "files.download('AmazonReviewsPredictions.txt')"
      ],
      "metadata": {
        "colab": {
          "base_uri": "https://localhost:8080/",
          "height": 34
        },
        "id": "8RTVt3OYg3JW",
        "outputId": "f998b43e-ee7d-4fef-be02-a9ea864ae460"
      },
      "execution_count": 48,
      "outputs": [
        {
          "output_type": "stream",
          "name": "stdout",
          "text": [
            "Done\n"
          ]
        },
        {
          "output_type": "display_data",
          "data": {
            "text/plain": [
              "<IPython.core.display.Javascript object>"
            ],
            "application/javascript": [
              "\n",
              "    async function download(id, filename, size) {\n",
              "      if (!google.colab.kernel.accessAllowed) {\n",
              "        return;\n",
              "      }\n",
              "      const div = document.createElement('div');\n",
              "      const label = document.createElement('label');\n",
              "      label.textContent = `Downloading \"${filename}\": `;\n",
              "      div.appendChild(label);\n",
              "      const progress = document.createElement('progress');\n",
              "      progress.max = size;\n",
              "      div.appendChild(progress);\n",
              "      document.body.appendChild(div);\n",
              "\n",
              "      const buffers = [];\n",
              "      let downloaded = 0;\n",
              "\n",
              "      const channel = await google.colab.kernel.comms.open(id);\n",
              "      // Send a message to notify the kernel that we're ready.\n",
              "      channel.send({})\n",
              "\n",
              "      for await (const message of channel.messages) {\n",
              "        // Send a message to notify the kernel that we're ready.\n",
              "        channel.send({})\n",
              "        if (message.buffers) {\n",
              "          for (const buffer of message.buffers) {\n",
              "            buffers.push(buffer);\n",
              "            downloaded += buffer.byteLength;\n",
              "            progress.value = downloaded;\n",
              "          }\n",
              "        }\n",
              "      }\n",
              "      const blob = new Blob(buffers, {type: 'application/binary'});\n",
              "      const a = document.createElement('a');\n",
              "      a.href = window.URL.createObjectURL(blob);\n",
              "      a.download = filename;\n",
              "      div.appendChild(a);\n",
              "      a.click();\n",
              "      div.remove();\n",
              "    }\n",
              "  "
            ]
          },
          "metadata": {}
        },
        {
          "output_type": "display_data",
          "data": {
            "text/plain": [
              "<IPython.core.display.Javascript object>"
            ],
            "application/javascript": [
              "download(\"download_5c2fa965-4848-44d7-b041-7653b4a70370\", \"AmazonReviewsPredictions.txt\", 88)"
            ]
          },
          "metadata": {}
        }
      ]
    }
  ]
}