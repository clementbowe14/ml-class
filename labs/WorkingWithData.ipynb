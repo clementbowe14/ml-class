{
  "cells": [
    {
      "cell_type": "markdown",
      "metadata": {
        "id": "yvcMba2B4OCA"
      },
      "source": [
        "# Working with Data\n",
        "\n",
        "#### Part of the [Inquiryum Machine Learning Fundamentals Course](http://inquiryum.com/machine-learning/)\n",
        "\n",
        "In the examples we have been working with so far, all the columns had numerical data. For example, the violet classification data looked like:\n",
        "    \n",
        "    \n",
        "Sepal Length|Sepal Width|Petal Length|Petal Width|Class\n",
        ":--: | :--: |:--: |:--: |:--: \n",
        "5.3|3.7|1.5|0.2|Iris-setosa\n",
        "5.0|3.3|1.4|0.2|Iris-setosa\n",
        "5.0|2.0|3.5|1.0|Iris-versicolor\n",
        "5.9|3.0|4.2|1.5|Iris-versicolor\n",
        "6.3|3.4|5.6|2.4|Iris-virginica\n",
        "6.4|3.1|5.5|1.8|Iris-virginica\n",
        "\n",
        "Notice that all the feature columns had numeric data. This isn't always the case. In addition to **numeric** data, datasets often contain **categorical data**. A column that contains **categorical data** means that the values are from a limited set of values. For example:\n",
        "\n",
        "![](https://raw.githubusercontent.com/zacharski/ml-class/master/labs/pics/rotten.png)\n",
        "\n",
        "Movie | Tomato Rating | Genre | Rating | Length \n",
        ":---: | :---: | :---: | :---: | :---:  \n",
        "First Man | 88 | Drama | PG-13 | 138\n",
        "Can You Ever Forgive Me | 98 | Drama | R | 107\n",
        "The Girl in the Spider's Web | 41 | Drama | R | -99\n",
        "Free Solo | 99 | Documentary | PG-13 | 97\n",
        "The Grinch | 57 | Animation | PG | 86\n",
        "Overlord | 80 | Action | R | 109\n",
        "Christopher Robin | 71 | Comedy | PG | -99\n",
        "Ant Man and the Wasp  |  88 | Science Fiction | PG-13 | 118\n",
        "\n",
        "Numeric columns like `Tomato Rating` and `Length` are fine as is, but the columns `Genre` and `Rating` are problematic for machine learning. Those columns contain categorical data which again means that the values of those columns are from a limited set of possibilities. Modern machine learning algorithms are designed to handle only numeric and boolean (True, False) data. So, as a preprocessing step, we will need to convert the categorical columns to numeric. One solution would be simply to map each categorical value to an integer. So drama is 1, documentary 2 etc:\n",
        "\n",
        "index | genre\n",
        " :--: | :--:\n",
        " 1 | Drama\n",
        " 2 | Documentary\n",
        " 3 | Animation\n",
        " 4| Action\n",
        " 5 | Comedy\n",
        " 6 | Science Fiction\n",
        "\n",
        "Using this scheme we can convert the original data to:\n",
        "\n",
        "Movie | Tomato Rating | Genre | Rating | Length \n",
        ":---: | :---: | :---: | :---: | :---:  \n",
        "First Man | 88 | 1 | 1 | 138\n",
        "Can You Ever Forgive Me | 98 | 1 | 2 | 107\n",
        "The Girl in the Spider's Web | 41 | 1 | 2 | -99\n",
        "Free Solo | 99 | 2 | 1 | 97\n",
        "The Grinch | 57 | 3 | 3 | 86\n",
        "Overlord | 80 | 4 | 2 | 109\n",
        "Christopher Robin | 71 | 5 | 3 | -99\n",
        "Ant Man and the Wasp  |  88 | 6 | 1 | 118\n",
        "\n",
        "\n",
        "But this solution is problematic in a different way. Integers infer  both an ordering and a distance where 2 is closer to 1 than 4. \n",
        "\n",
        "![](https://raw.githubusercontent.com/zacharski/ml-class/master/labs/pics/GenreLine.png)\n",
        "\n",
        "Since in the genre column 1 is drama, 2 is documentary, and 4 is action, our scheme implies that dramas are closer to documentaries than they are to action films, which is clearly not the case. This problem also exists in the rating column (PG,PG13, R). Mapping the categories to integers in a different way will not fix this problem. No matter how clever we are in making this mapping, the problem will still exist. **So clearly this method is not the way to go**!\n",
        "![](https://raw.githubusercontent.com/zacharski/datamining-guide/master/labs/pics/divider.png)\n",
        "### One Hot Encoding\n",
        "The solution is to do what is called one hot encoding. Our original table looked like:\n",
        "\n",
        "\n",
        "Movie | Tomato Rating | Genre | Rating | Length \n",
        ":---: | :---: | :---: | :---: | :---:  \n",
        "First Man | 88 | Drama | PG-13 | 138\n",
        "Can You Ever Forgive Me | 98 | Drama | R | 107\n",
        "The Girl in the Spider's Web | 41 | Drama | R | -99\n",
        "Free Solo | 99 | Documentary | PG-13 | 97\n",
        "The Grinch | 57 | Animation | PG | 86\n",
        "Overlord | 80 | Action | R | 109\n",
        "Christopher Robin | 71 | Comedy | PG | -99\n",
        "Ant Man and the Wasp  |  88 | Science Fiction | PG-13 | 118\n",
        "\n",
        "So, for example, we had the categorical column genre with the possible values drama, documentary, animation, action, comedy and science fiction. Instead of one column with those values, we are going to convert it to a form where each value is its own column.\n",
        "\n",
        "![](https://raw.githubusercontent.com/zacharski/ml-class/master/labs/pics/normalize2.jpg)\n",
        "\n",
        "\n",
        "If that data instance is of that value then we would put a **one** in the column, otherwise we would put a zero. For example, since *The Girl in the Spider's Web* is a drama, we would put a 1 in the drama column and a zero in the animation column. So we would convert\n",
        "\n",
        "Movie | Genre \n",
        ":---: | :---: \n",
        "First Man | Drama \n",
        "Can You Ever Forgive Me | Drama\n",
        "The Girl in the Spider's Web |  Drama \n",
        "Free Solo |  Documentary \n",
        "The Grinch |  Animation \n",
        "Overlord |  Action\n",
        "Christopher Robin |  Comedy\n",
        "Ant Man and the Wasp  |   Science Fiction\n",
        "\n",
        "to\n",
        "\n",
        "Movie | Drama | Documentary | Animation | Action | Comedy | Science Fiction\n",
        ":--: | :--: | :--: | :--: | :--: | :--: | :--: \n",
        "First Man | 1 | 0 | 0| 0| 0 | 0 \n",
        "Can You Ever Forgive Me | 1 | 0 | 0| 0| 0 | 0 \n",
        "The Girl in the Spider's Web | 1 | 0 | 0| 0| 0 | 0 \n",
        "Free Solo | 0 | 1 | 0| 0| 0 | 0 \n",
        "The Grinch | 0 | 0 | 1| 0| 0 | 0 \n",
        "Overlord | 0 | 0 | 0| 1| 0 | 0 \n",
        "Christopher Robin | 0 | 0 | 0| 0| 1 | 0 \n",
        "Ant Man and the Wasp | 0 | 0 | 0| 0| 0 | 1 \n",
        "\n",
        "Notice that the movie *First Man* has a one in the drama column and zeroes elsewhere. The movie *Free Solo* has a one in the documentary column and zeroes elsewhere.\n",
        "This is the prefered way of converting categorical data (when we work with text we will see other options). An added benefit to this approach is now an instance can be of multiple categories. For example, we may want to categorize *Ant Man and the Wasp* as both a comedy and science fiction, and that is easy to do in this scheme:\n",
        "\n",
        "Movie | Drama | Documentary | Animation | Action | Comedy | Science Fiction\n",
        ":--: | :--: | :--: | :--: | :--: | :--: | :--: \n",
        "First Man | 1 | 0 | 0| 0| 0 | 0 \n",
        "Can You Ever Forgive Me | 1 | 0 | 0| 0| 0 | 0 \n",
        "The Girl in the Spider's Web | 1 | 0 | 0| 0| 0 | 0 \n",
        "Free Solo | 0 | 1 | 0| 0| 0 | 0 \n",
        "The Grinch | 0 | 0 | 1| 0| 0 | 0 \n",
        "Overlord | 0 | 0 | 0| 1| 0 | 0 \n",
        "Christopher Robin | 0 | 0 | 0| 0| 1 | 0 \n",
        "Ant Man and the Wasp | 0 | 0 | 0| 0| 1 | 1 \n",
        "\n",
        "\n",
        "\n",
        "If we one-hot encoded all the categorical columns in our original dataset it would look like:\n",
        "\n",
        "Movie            | Tomato Rating | Action | Animation | Comedy | Documentary | Drama | Science Fiction | PG | PG-13 | R | Length \n",
        ":---: | :---: | :---: | :---: | :---: |  :---: |  :---: |  :---: |  :---: |  :---: |  :---: |  :---: \n",
        "First Man        | 88            |  0     |    0      |   0    | 0           | 1     | 0    | 0 | 1  |    0| 138\n",
        "Can You Ever Forgive Me | 98 |      0     |    0      |   0    | 0           | 1     | 0    | 0 | 0  |   1|   107\n",
        "The Girl in the Spider's Web | 41 |  0     |    0      |   0    | 0           | 1     | 0    | 0 | 1  |    0|    -99\n",
        "Free Solo | 99 |  0     |    0      |   0    | 1           | 0     | 0    | 0 | 1  |    0|   97\n",
        "The Grinch | 57 |  0     |    1      |   0    | 0           | 0     | 0    | 1 | 0  |    0| 86\n",
        "Overlord | 80 |  1     |    0      |   0    | 0           | 0     | 0    | 0 | 1  |    0|  109\n",
        "Christopher Robin | 71  |  0     |    0      |   1   | 0           | 0     | 0    | 1 | 0  |    0| -99\n",
        "Ant Man and the Wasp   |  0    |    0      |   0    | 0       | 0    | 0     | 1    | 0 | 1  |    0| 118\n",
        "\n",
        "\n",
        "\n",
        "### Coding\n",
        "Let's investigate this a bit with a coding example. \n"
      ]
    },
    {
      "cell_type": "code",
      "execution_count": 35,
      "metadata": {
        "colab": {
          "base_uri": "https://localhost:8080/",
          "height": 520
        },
        "id": "vH3QlG624OCF",
        "outputId": "adf9f701-2489-4b4b-b331-bcf7c0727d02"
      },
      "outputs": [
        {
          "output_type": "execute_result",
          "data": {
            "text/plain": [
              "      Outlook Temperature Humidity    Wind Bike\n",
              "Day                                            \n",
              "1       Sunny         Hot     High    Weak   No\n",
              "2       Sunny         Hot     High  Strong   No\n",
              "3    Overcast         Hot     High    Weak  Yes\n",
              "4        Rain        Mild     High    Weak  Yes\n",
              "5        Rain        Cool   Normal    Weak  Yes\n",
              "6        Rain        Cool   Normal  Strong   No\n",
              "7    Overcast        Cool   Normal  Strong  Yes\n",
              "8       Sunny        Mild     High    Weak   No\n",
              "9       Sunny        Cool   Normal    Weak  Yes\n",
              "10       Rain        Mild   Normal    Weak  Yes\n",
              "11      Sunny        Mild   Normal  Strong  Yes\n",
              "12   Overcast        Mild     High  Strong  Yes\n",
              "13   Overcast         Hot   Normal    Weak  Yes\n",
              "14       Rain        Mild     High  Strong   No"
            ],
            "text/html": [
              "\n",
              "  <div id=\"df-7a78a286-8fac-42bf-bd61-d02b1cff243e\">\n",
              "    <div class=\"colab-df-container\">\n",
              "      <div>\n",
              "<style scoped>\n",
              "    .dataframe tbody tr th:only-of-type {\n",
              "        vertical-align: middle;\n",
              "    }\n",
              "\n",
              "    .dataframe tbody tr th {\n",
              "        vertical-align: top;\n",
              "    }\n",
              "\n",
              "    .dataframe thead th {\n",
              "        text-align: right;\n",
              "    }\n",
              "</style>\n",
              "<table border=\"1\" class=\"dataframe\">\n",
              "  <thead>\n",
              "    <tr style=\"text-align: right;\">\n",
              "      <th></th>\n",
              "      <th>Outlook</th>\n",
              "      <th>Temperature</th>\n",
              "      <th>Humidity</th>\n",
              "      <th>Wind</th>\n",
              "      <th>Bike</th>\n",
              "    </tr>\n",
              "    <tr>\n",
              "      <th>Day</th>\n",
              "      <th></th>\n",
              "      <th></th>\n",
              "      <th></th>\n",
              "      <th></th>\n",
              "      <th></th>\n",
              "    </tr>\n",
              "  </thead>\n",
              "  <tbody>\n",
              "    <tr>\n",
              "      <th>1</th>\n",
              "      <td>Sunny</td>\n",
              "      <td>Hot</td>\n",
              "      <td>High</td>\n",
              "      <td>Weak</td>\n",
              "      <td>No</td>\n",
              "    </tr>\n",
              "    <tr>\n",
              "      <th>2</th>\n",
              "      <td>Sunny</td>\n",
              "      <td>Hot</td>\n",
              "      <td>High</td>\n",
              "      <td>Strong</td>\n",
              "      <td>No</td>\n",
              "    </tr>\n",
              "    <tr>\n",
              "      <th>3</th>\n",
              "      <td>Overcast</td>\n",
              "      <td>Hot</td>\n",
              "      <td>High</td>\n",
              "      <td>Weak</td>\n",
              "      <td>Yes</td>\n",
              "    </tr>\n",
              "    <tr>\n",
              "      <th>4</th>\n",
              "      <td>Rain</td>\n",
              "      <td>Mild</td>\n",
              "      <td>High</td>\n",
              "      <td>Weak</td>\n",
              "      <td>Yes</td>\n",
              "    </tr>\n",
              "    <tr>\n",
              "      <th>5</th>\n",
              "      <td>Rain</td>\n",
              "      <td>Cool</td>\n",
              "      <td>Normal</td>\n",
              "      <td>Weak</td>\n",
              "      <td>Yes</td>\n",
              "    </tr>\n",
              "    <tr>\n",
              "      <th>6</th>\n",
              "      <td>Rain</td>\n",
              "      <td>Cool</td>\n",
              "      <td>Normal</td>\n",
              "      <td>Strong</td>\n",
              "      <td>No</td>\n",
              "    </tr>\n",
              "    <tr>\n",
              "      <th>7</th>\n",
              "      <td>Overcast</td>\n",
              "      <td>Cool</td>\n",
              "      <td>Normal</td>\n",
              "      <td>Strong</td>\n",
              "      <td>Yes</td>\n",
              "    </tr>\n",
              "    <tr>\n",
              "      <th>8</th>\n",
              "      <td>Sunny</td>\n",
              "      <td>Mild</td>\n",
              "      <td>High</td>\n",
              "      <td>Weak</td>\n",
              "      <td>No</td>\n",
              "    </tr>\n",
              "    <tr>\n",
              "      <th>9</th>\n",
              "      <td>Sunny</td>\n",
              "      <td>Cool</td>\n",
              "      <td>Normal</td>\n",
              "      <td>Weak</td>\n",
              "      <td>Yes</td>\n",
              "    </tr>\n",
              "    <tr>\n",
              "      <th>10</th>\n",
              "      <td>Rain</td>\n",
              "      <td>Mild</td>\n",
              "      <td>Normal</td>\n",
              "      <td>Weak</td>\n",
              "      <td>Yes</td>\n",
              "    </tr>\n",
              "    <tr>\n",
              "      <th>11</th>\n",
              "      <td>Sunny</td>\n",
              "      <td>Mild</td>\n",
              "      <td>Normal</td>\n",
              "      <td>Strong</td>\n",
              "      <td>Yes</td>\n",
              "    </tr>\n",
              "    <tr>\n",
              "      <th>12</th>\n",
              "      <td>Overcast</td>\n",
              "      <td>Mild</td>\n",
              "      <td>High</td>\n",
              "      <td>Strong</td>\n",
              "      <td>Yes</td>\n",
              "    </tr>\n",
              "    <tr>\n",
              "      <th>13</th>\n",
              "      <td>Overcast</td>\n",
              "      <td>Hot</td>\n",
              "      <td>Normal</td>\n",
              "      <td>Weak</td>\n",
              "      <td>Yes</td>\n",
              "    </tr>\n",
              "    <tr>\n",
              "      <th>14</th>\n",
              "      <td>Rain</td>\n",
              "      <td>Mild</td>\n",
              "      <td>High</td>\n",
              "      <td>Strong</td>\n",
              "      <td>No</td>\n",
              "    </tr>\n",
              "  </tbody>\n",
              "</table>\n",
              "</div>\n",
              "      <button class=\"colab-df-convert\" onclick=\"convertToInteractive('df-7a78a286-8fac-42bf-bd61-d02b1cff243e')\"\n",
              "              title=\"Convert this dataframe to an interactive table.\"\n",
              "              style=\"display:none;\">\n",
              "        \n",
              "  <svg xmlns=\"http://www.w3.org/2000/svg\" height=\"24px\"viewBox=\"0 0 24 24\"\n",
              "       width=\"24px\">\n",
              "    <path d=\"M0 0h24v24H0V0z\" fill=\"none\"/>\n",
              "    <path d=\"M18.56 5.44l.94 2.06.94-2.06 2.06-.94-2.06-.94-.94-2.06-.94 2.06-2.06.94zm-11 1L8.5 8.5l.94-2.06 2.06-.94-2.06-.94L8.5 2.5l-.94 2.06-2.06.94zm10 10l.94 2.06.94-2.06 2.06-.94-2.06-.94-.94-2.06-.94 2.06-2.06.94z\"/><path d=\"M17.41 7.96l-1.37-1.37c-.4-.4-.92-.59-1.43-.59-.52 0-1.04.2-1.43.59L10.3 9.45l-7.72 7.72c-.78.78-.78 2.05 0 2.83L4 21.41c.39.39.9.59 1.41.59.51 0 1.02-.2 1.41-.59l7.78-7.78 2.81-2.81c.8-.78.8-2.07 0-2.86zM5.41 20L4 18.59l7.72-7.72 1.47 1.35L5.41 20z\"/>\n",
              "  </svg>\n",
              "      </button>\n",
              "      \n",
              "  <style>\n",
              "    .colab-df-container {\n",
              "      display:flex;\n",
              "      flex-wrap:wrap;\n",
              "      gap: 12px;\n",
              "    }\n",
              "\n",
              "    .colab-df-convert {\n",
              "      background-color: #E8F0FE;\n",
              "      border: none;\n",
              "      border-radius: 50%;\n",
              "      cursor: pointer;\n",
              "      display: none;\n",
              "      fill: #1967D2;\n",
              "      height: 32px;\n",
              "      padding: 0 0 0 0;\n",
              "      width: 32px;\n",
              "    }\n",
              "\n",
              "    .colab-df-convert:hover {\n",
              "      background-color: #E2EBFA;\n",
              "      box-shadow: 0px 1px 2px rgba(60, 64, 67, 0.3), 0px 1px 3px 1px rgba(60, 64, 67, 0.15);\n",
              "      fill: #174EA6;\n",
              "    }\n",
              "\n",
              "    [theme=dark] .colab-df-convert {\n",
              "      background-color: #3B4455;\n",
              "      fill: #D2E3FC;\n",
              "    }\n",
              "\n",
              "    [theme=dark] .colab-df-convert:hover {\n",
              "      background-color: #434B5C;\n",
              "      box-shadow: 0px 1px 3px 1px rgba(0, 0, 0, 0.15);\n",
              "      filter: drop-shadow(0px 1px 2px rgba(0, 0, 0, 0.3));\n",
              "      fill: #FFFFFF;\n",
              "    }\n",
              "  </style>\n",
              "\n",
              "      <script>\n",
              "        const buttonEl =\n",
              "          document.querySelector('#df-7a78a286-8fac-42bf-bd61-d02b1cff243e button.colab-df-convert');\n",
              "        buttonEl.style.display =\n",
              "          google.colab.kernel.accessAllowed ? 'block' : 'none';\n",
              "\n",
              "        async function convertToInteractive(key) {\n",
              "          const element = document.querySelector('#df-7a78a286-8fac-42bf-bd61-d02b1cff243e');\n",
              "          const dataTable =\n",
              "            await google.colab.kernel.invokeFunction('convertToInteractive',\n",
              "                                                     [key], {});\n",
              "          if (!dataTable) return;\n",
              "\n",
              "          const docLinkHtml = 'Like what you see? Visit the ' +\n",
              "            '<a target=\"_blank\" href=https://colab.research.google.com/notebooks/data_table.ipynb>data table notebook</a>'\n",
              "            + ' to learn more about interactive tables.';\n",
              "          element.innerHTML = '';\n",
              "          dataTable['output_type'] = 'display_data';\n",
              "          await google.colab.output.renderOutput(dataTable, element);\n",
              "          const docLink = document.createElement('div');\n",
              "          docLink.innerHTML = docLinkHtml;\n",
              "          element.appendChild(docLink);\n",
              "        }\n",
              "      </script>\n",
              "    </div>\n",
              "  </div>\n",
              "  "
            ]
          },
          "metadata": {},
          "execution_count": 35
        }
      ],
      "source": [
        "import pandas as pd\n",
        "bike = pd.read_csv('https://raw.githubusercontent.com/zacharski/ml-class/master/data/bike.csv')\n",
        "bike = bike.set_index('Day')\n",
        "bike\n"
      ]
    },
    {
      "cell_type": "markdown",
      "metadata": {
        "id": "Ye7VjXnX4OCG"
      },
      "source": [
        "Here we are trying to predict whether someone will mountain bike or not based on the outlook, temperature, humidity, and wind. \n",
        "Let's forge ahead and see if we can build a decision tree classifier:"
      ]
    },
    {
      "cell_type": "code",
      "execution_count": 36,
      "metadata": {
        "colab": {
          "base_uri": "https://localhost:8080/",
          "height": 346
        },
        "id": "ERpoSsdi4OCG",
        "outputId": "79517f6d-de80-445f-9fdb-abcd762fae5d"
      },
      "outputs": [
        {
          "output_type": "error",
          "ename": "ValueError",
          "evalue": "ignored",
          "traceback": [
            "\u001b[0;31m---------------------------------------------------------------------------\u001b[0m",
            "\u001b[0;31mValueError\u001b[0m                                Traceback (most recent call last)",
            "\u001b[0;32m<ipython-input-36-345cbf4908d9>\u001b[0m in \u001b[0;36m<module>\u001b[0;34m\u001b[0m\n\u001b[1;32m      1\u001b[0m \u001b[0;32mfrom\u001b[0m \u001b[0msklearn\u001b[0m \u001b[0;32mimport\u001b[0m \u001b[0mtree\u001b[0m\u001b[0;34m\u001b[0m\u001b[0;34m\u001b[0m\u001b[0m\n\u001b[1;32m      2\u001b[0m \u001b[0mclf\u001b[0m \u001b[0;34m=\u001b[0m \u001b[0mtree\u001b[0m\u001b[0;34m.\u001b[0m\u001b[0mDecisionTreeClassifier\u001b[0m\u001b[0;34m(\u001b[0m\u001b[0mcriterion\u001b[0m\u001b[0;34m=\u001b[0m\u001b[0;34m'entropy'\u001b[0m\u001b[0;34m)\u001b[0m\u001b[0;34m\u001b[0m\u001b[0;34m\u001b[0m\u001b[0m\n\u001b[0;32m----> 3\u001b[0;31m \u001b[0mclf\u001b[0m\u001b[0;34m.\u001b[0m\u001b[0mfit\u001b[0m\u001b[0;34m(\u001b[0m\u001b[0mbike\u001b[0m\u001b[0;34m[\u001b[0m\u001b[0;34m[\u001b[0m\u001b[0;34m'Outlook'\u001b[0m\u001b[0;34m,\u001b[0m \u001b[0;34m'Temperature'\u001b[0m\u001b[0;34m,\u001b[0m \u001b[0;34m'Humidity'\u001b[0m\u001b[0;34m,\u001b[0m \u001b[0;34m'Wind'\u001b[0m\u001b[0;34m]\u001b[0m\u001b[0;34m]\u001b[0m\u001b[0;34m,\u001b[0m \u001b[0mbike\u001b[0m\u001b[0;34m[\u001b[0m\u001b[0;34m'Bike'\u001b[0m\u001b[0;34m]\u001b[0m\u001b[0;34m)\u001b[0m\u001b[0;34m\u001b[0m\u001b[0;34m\u001b[0m\u001b[0m\n\u001b[0m",
            "\u001b[0;32m/usr/local/lib/python3.9/dist-packages/sklearn/tree/_classes.py\u001b[0m in \u001b[0;36mfit\u001b[0;34m(self, X, y, sample_weight, check_input)\u001b[0m\n\u001b[1;32m    887\u001b[0m         \"\"\"\n\u001b[1;32m    888\u001b[0m \u001b[0;34m\u001b[0m\u001b[0m\n\u001b[0;32m--> 889\u001b[0;31m         super().fit(\n\u001b[0m\u001b[1;32m    890\u001b[0m             \u001b[0mX\u001b[0m\u001b[0;34m,\u001b[0m\u001b[0;34m\u001b[0m\u001b[0;34m\u001b[0m\u001b[0m\n\u001b[1;32m    891\u001b[0m             \u001b[0my\u001b[0m\u001b[0;34m,\u001b[0m\u001b[0;34m\u001b[0m\u001b[0;34m\u001b[0m\u001b[0m\n",
            "\u001b[0;32m/usr/local/lib/python3.9/dist-packages/sklearn/tree/_classes.py\u001b[0m in \u001b[0;36mfit\u001b[0;34m(self, X, y, sample_weight, check_input)\u001b[0m\n\u001b[1;32m    184\u001b[0m             \u001b[0mcheck_X_params\u001b[0m \u001b[0;34m=\u001b[0m \u001b[0mdict\u001b[0m\u001b[0;34m(\u001b[0m\u001b[0mdtype\u001b[0m\u001b[0;34m=\u001b[0m\u001b[0mDTYPE\u001b[0m\u001b[0;34m,\u001b[0m \u001b[0maccept_sparse\u001b[0m\u001b[0;34m=\u001b[0m\u001b[0;34m\"csc\"\u001b[0m\u001b[0;34m)\u001b[0m\u001b[0;34m\u001b[0m\u001b[0;34m\u001b[0m\u001b[0m\n\u001b[1;32m    185\u001b[0m             \u001b[0mcheck_y_params\u001b[0m \u001b[0;34m=\u001b[0m \u001b[0mdict\u001b[0m\u001b[0;34m(\u001b[0m\u001b[0mensure_2d\u001b[0m\u001b[0;34m=\u001b[0m\u001b[0;32mFalse\u001b[0m\u001b[0;34m,\u001b[0m \u001b[0mdtype\u001b[0m\u001b[0;34m=\u001b[0m\u001b[0;32mNone\u001b[0m\u001b[0;34m)\u001b[0m\u001b[0;34m\u001b[0m\u001b[0;34m\u001b[0m\u001b[0m\n\u001b[0;32m--> 186\u001b[0;31m             X, y = self._validate_data(\n\u001b[0m\u001b[1;32m    187\u001b[0m                 \u001b[0mX\u001b[0m\u001b[0;34m,\u001b[0m \u001b[0my\u001b[0m\u001b[0;34m,\u001b[0m \u001b[0mvalidate_separately\u001b[0m\u001b[0;34m=\u001b[0m\u001b[0;34m(\u001b[0m\u001b[0mcheck_X_params\u001b[0m\u001b[0;34m,\u001b[0m \u001b[0mcheck_y_params\u001b[0m\u001b[0;34m)\u001b[0m\u001b[0;34m\u001b[0m\u001b[0;34m\u001b[0m\u001b[0m\n\u001b[1;32m    188\u001b[0m             )\n",
            "\u001b[0;32m/usr/local/lib/python3.9/dist-packages/sklearn/base.py\u001b[0m in \u001b[0;36m_validate_data\u001b[0;34m(self, X, y, reset, validate_separately, **check_params)\u001b[0m\n\u001b[1;32m    558\u001b[0m                 \u001b[0;32mif\u001b[0m \u001b[0;34m\"estimator\"\u001b[0m \u001b[0;32mnot\u001b[0m \u001b[0;32min\u001b[0m \u001b[0mcheck_X_params\u001b[0m\u001b[0;34m:\u001b[0m\u001b[0;34m\u001b[0m\u001b[0;34m\u001b[0m\u001b[0m\n\u001b[1;32m    559\u001b[0m                     \u001b[0mcheck_X_params\u001b[0m \u001b[0;34m=\u001b[0m \u001b[0;34m{\u001b[0m\u001b[0;34m**\u001b[0m\u001b[0mdefault_check_params\u001b[0m\u001b[0;34m,\u001b[0m \u001b[0;34m**\u001b[0m\u001b[0mcheck_X_params\u001b[0m\u001b[0;34m}\u001b[0m\u001b[0;34m\u001b[0m\u001b[0;34m\u001b[0m\u001b[0m\n\u001b[0;32m--> 560\u001b[0;31m                 \u001b[0mX\u001b[0m \u001b[0;34m=\u001b[0m \u001b[0mcheck_array\u001b[0m\u001b[0;34m(\u001b[0m\u001b[0mX\u001b[0m\u001b[0;34m,\u001b[0m \u001b[0minput_name\u001b[0m\u001b[0;34m=\u001b[0m\u001b[0;34m\"X\"\u001b[0m\u001b[0;34m,\u001b[0m \u001b[0;34m**\u001b[0m\u001b[0mcheck_X_params\u001b[0m\u001b[0;34m)\u001b[0m\u001b[0;34m\u001b[0m\u001b[0;34m\u001b[0m\u001b[0m\n\u001b[0m\u001b[1;32m    561\u001b[0m                 \u001b[0;32mif\u001b[0m \u001b[0;34m\"estimator\"\u001b[0m \u001b[0;32mnot\u001b[0m \u001b[0;32min\u001b[0m \u001b[0mcheck_y_params\u001b[0m\u001b[0;34m:\u001b[0m\u001b[0;34m\u001b[0m\u001b[0;34m\u001b[0m\u001b[0m\n\u001b[1;32m    562\u001b[0m                     \u001b[0mcheck_y_params\u001b[0m \u001b[0;34m=\u001b[0m \u001b[0;34m{\u001b[0m\u001b[0;34m**\u001b[0m\u001b[0mdefault_check_params\u001b[0m\u001b[0;34m,\u001b[0m \u001b[0;34m**\u001b[0m\u001b[0mcheck_y_params\u001b[0m\u001b[0;34m}\u001b[0m\u001b[0;34m\u001b[0m\u001b[0;34m\u001b[0m\u001b[0m\n",
            "\u001b[0;32m/usr/local/lib/python3.9/dist-packages/sklearn/utils/validation.py\u001b[0m in \u001b[0;36mcheck_array\u001b[0;34m(array, accept_sparse, accept_large_sparse, dtype, order, copy, force_all_finite, ensure_2d, allow_nd, ensure_min_samples, ensure_min_features, estimator, input_name)\u001b[0m\n\u001b[1;32m    877\u001b[0m                     \u001b[0marray\u001b[0m \u001b[0;34m=\u001b[0m \u001b[0mxp\u001b[0m\u001b[0;34m.\u001b[0m\u001b[0mastype\u001b[0m\u001b[0;34m(\u001b[0m\u001b[0marray\u001b[0m\u001b[0;34m,\u001b[0m \u001b[0mdtype\u001b[0m\u001b[0;34m,\u001b[0m \u001b[0mcopy\u001b[0m\u001b[0;34m=\u001b[0m\u001b[0;32mFalse\u001b[0m\u001b[0;34m)\u001b[0m\u001b[0;34m\u001b[0m\u001b[0;34m\u001b[0m\u001b[0m\n\u001b[1;32m    878\u001b[0m                 \u001b[0;32melse\u001b[0m\u001b[0;34m:\u001b[0m\u001b[0;34m\u001b[0m\u001b[0;34m\u001b[0m\u001b[0m\n\u001b[0;32m--> 879\u001b[0;31m                     \u001b[0marray\u001b[0m \u001b[0;34m=\u001b[0m \u001b[0m_asarray_with_order\u001b[0m\u001b[0;34m(\u001b[0m\u001b[0marray\u001b[0m\u001b[0;34m,\u001b[0m \u001b[0morder\u001b[0m\u001b[0;34m=\u001b[0m\u001b[0morder\u001b[0m\u001b[0;34m,\u001b[0m \u001b[0mdtype\u001b[0m\u001b[0;34m=\u001b[0m\u001b[0mdtype\u001b[0m\u001b[0;34m,\u001b[0m \u001b[0mxp\u001b[0m\u001b[0;34m=\u001b[0m\u001b[0mxp\u001b[0m\u001b[0;34m)\u001b[0m\u001b[0;34m\u001b[0m\u001b[0;34m\u001b[0m\u001b[0m\n\u001b[0m\u001b[1;32m    880\u001b[0m             \u001b[0;32mexcept\u001b[0m \u001b[0mComplexWarning\u001b[0m \u001b[0;32mas\u001b[0m \u001b[0mcomplex_warning\u001b[0m\u001b[0;34m:\u001b[0m\u001b[0;34m\u001b[0m\u001b[0;34m\u001b[0m\u001b[0m\n\u001b[1;32m    881\u001b[0m                 raise ValueError(\n",
            "\u001b[0;32m/usr/local/lib/python3.9/dist-packages/sklearn/utils/_array_api.py\u001b[0m in \u001b[0;36m_asarray_with_order\u001b[0;34m(array, dtype, order, copy, xp)\u001b[0m\n\u001b[1;32m    183\u001b[0m     \u001b[0;32mif\u001b[0m \u001b[0mxp\u001b[0m\u001b[0;34m.\u001b[0m\u001b[0m__name__\u001b[0m \u001b[0;32min\u001b[0m \u001b[0;34m{\u001b[0m\u001b[0;34m\"numpy\"\u001b[0m\u001b[0;34m,\u001b[0m \u001b[0;34m\"numpy.array_api\"\u001b[0m\u001b[0;34m}\u001b[0m\u001b[0;34m:\u001b[0m\u001b[0;34m\u001b[0m\u001b[0;34m\u001b[0m\u001b[0m\n\u001b[1;32m    184\u001b[0m         \u001b[0;31m# Use NumPy API to support order\u001b[0m\u001b[0;34m\u001b[0m\u001b[0;34m\u001b[0m\u001b[0m\n\u001b[0;32m--> 185\u001b[0;31m         \u001b[0marray\u001b[0m \u001b[0;34m=\u001b[0m \u001b[0mnumpy\u001b[0m\u001b[0;34m.\u001b[0m\u001b[0masarray\u001b[0m\u001b[0;34m(\u001b[0m\u001b[0marray\u001b[0m\u001b[0;34m,\u001b[0m \u001b[0morder\u001b[0m\u001b[0;34m=\u001b[0m\u001b[0morder\u001b[0m\u001b[0;34m,\u001b[0m \u001b[0mdtype\u001b[0m\u001b[0;34m=\u001b[0m\u001b[0mdtype\u001b[0m\u001b[0;34m)\u001b[0m\u001b[0;34m\u001b[0m\u001b[0;34m\u001b[0m\u001b[0m\n\u001b[0m\u001b[1;32m    186\u001b[0m         \u001b[0;32mreturn\u001b[0m \u001b[0mxp\u001b[0m\u001b[0;34m.\u001b[0m\u001b[0masarray\u001b[0m\u001b[0;34m(\u001b[0m\u001b[0marray\u001b[0m\u001b[0;34m,\u001b[0m \u001b[0mcopy\u001b[0m\u001b[0;34m=\u001b[0m\u001b[0mcopy\u001b[0m\u001b[0;34m)\u001b[0m\u001b[0;34m\u001b[0m\u001b[0;34m\u001b[0m\u001b[0m\n\u001b[1;32m    187\u001b[0m     \u001b[0;32melse\u001b[0m\u001b[0;34m:\u001b[0m\u001b[0;34m\u001b[0m\u001b[0;34m\u001b[0m\u001b[0m\n",
            "\u001b[0;32m/usr/local/lib/python3.9/dist-packages/pandas/core/generic.py\u001b[0m in \u001b[0;36m__array__\u001b[0;34m(self, dtype)\u001b[0m\n\u001b[1;32m   1991\u001b[0m \u001b[0;34m\u001b[0m\u001b[0m\n\u001b[1;32m   1992\u001b[0m     \u001b[0;32mdef\u001b[0m \u001b[0m__array__\u001b[0m\u001b[0;34m(\u001b[0m\u001b[0mself\u001b[0m\u001b[0;34m,\u001b[0m \u001b[0mdtype\u001b[0m\u001b[0;34m:\u001b[0m \u001b[0mNpDtype\u001b[0m \u001b[0;34m|\u001b[0m \u001b[0;32mNone\u001b[0m \u001b[0;34m=\u001b[0m \u001b[0;32mNone\u001b[0m\u001b[0;34m)\u001b[0m \u001b[0;34m->\u001b[0m \u001b[0mnp\u001b[0m\u001b[0;34m.\u001b[0m\u001b[0mndarray\u001b[0m\u001b[0;34m:\u001b[0m\u001b[0;34m\u001b[0m\u001b[0;34m\u001b[0m\u001b[0m\n\u001b[0;32m-> 1993\u001b[0;31m         \u001b[0;32mreturn\u001b[0m \u001b[0mnp\u001b[0m\u001b[0;34m.\u001b[0m\u001b[0masarray\u001b[0m\u001b[0;34m(\u001b[0m\u001b[0mself\u001b[0m\u001b[0;34m.\u001b[0m\u001b[0m_values\u001b[0m\u001b[0;34m,\u001b[0m \u001b[0mdtype\u001b[0m\u001b[0;34m=\u001b[0m\u001b[0mdtype\u001b[0m\u001b[0;34m)\u001b[0m\u001b[0;34m\u001b[0m\u001b[0;34m\u001b[0m\u001b[0m\n\u001b[0m\u001b[1;32m   1994\u001b[0m \u001b[0;34m\u001b[0m\u001b[0m\n\u001b[1;32m   1995\u001b[0m     def __array_wrap__(\n",
            "\u001b[0;31mValueError\u001b[0m: could not convert string to float: 'Sunny'"
          ]
        }
      ],
      "source": [
        "from sklearn import tree\n",
        "clf = tree.DecisionTreeClassifier(criterion='entropy')\n",
        "clf.fit(bike[['Outlook', 'Temperature', 'Humidity', 'Wind']], bike['Bike'])"
      ]
    },
    {
      "cell_type": "markdown",
      "metadata": {
        "id": "T4Za12RY4OCH"
      },
      "source": [
        "And we see that doesn't work. We get the error:\n",
        "\n",
        "```\n",
        "ValueError: could not convert string to float: 'Sunny'\n",
        "```\n",
        "\n",
        "We need to one-hot encode these categorical columns.  Here is how to convert the Outlook column. The steps are\n",
        "\n",
        "1. Create a new Dataframe of the one-hot encoded values for the Outlook column.\n",
        "2. Drop the Outlook column from the original Dataframe.\n",
        "3. Join the new one-hot encoded Dataframe to the original.\n",
        "![](https://raw.githubusercontent.com/zacharski/datamining-guide/master/labs/pics/divider.png)\n",
        "\n",
        "#### 1. Create the new Dataframe"
      ]
    },
    {
      "cell_type": "code",
      "execution_count": null,
      "metadata": {
        "id": "Y-Iwzv5B4OCH"
      },
      "outputs": [],
      "source": [
        "one_hot = pd.get_dummies(bike['Outlook'])\n",
        "one_hot"
      ]
    },
    {
      "cell_type": "markdown",
      "metadata": {
        "id": "h8m_CIrH4OCH"
      },
      "source": [
        "Nice.\n",
        "![](https://raw.githubusercontent.com/zacharski/datamining-guide/master/labs/pics/divider.png)\n",
        "\n",
        "#### 2. Drop the outlook column from the original Dataframe:\n"
      ]
    },
    {
      "cell_type": "code",
      "execution_count": null,
      "metadata": {
        "id": "Ax0kBgtA4OCH"
      },
      "outputs": [],
      "source": [
        "bike = bike.drop('Outlook', axis=1)\n"
      ]
    },
    {
      "cell_type": "markdown",
      "metadata": {
        "id": "C_QT0_664OCH"
      },
      "source": [
        "![](https://raw.githubusercontent.com/zacharski/datamining-guide/master/labs/pics/divider.png)\n",
        "\n",
        "#### 3. join the one-hot encoded Dataframe to the original"
      ]
    },
    {
      "cell_type": "code",
      "execution_count": null,
      "metadata": {
        "id": "pYk0Tajh4OCH"
      },
      "outputs": [],
      "source": [
        "bike = bike.join(one_hot)\n",
        "bike"
      ]
    },
    {
      "cell_type": "markdown",
      "metadata": {
        "id": "XIPmT2gO4OCI"
      },
      "source": [
        "It is simple, but a little tedious. Let's finish up encoding the other columns:\n"
      ]
    },
    {
      "cell_type": "code",
      "execution_count": null,
      "metadata": {
        "id": "9rxZDTmq4OCI"
      },
      "outputs": [],
      "source": [
        "one_hot = pd.get_dummies(bike['Temperature'])\n",
        "bike = bike.drop('Temperature', axis=1)\n",
        "bike = bike.join(one_hot)\n",
        "one_hot = pd.get_dummies(bike['Humidity'])\n",
        "bike = bike.drop('Humidity', axis=1)\n",
        "bike = bike.join(one_hot)\n",
        "one_hot = pd.get_dummies(bike['Wind'])\n",
        "bike = bike.drop('Wind', axis=1)\n",
        "bike = bike.join(one_hot)\n",
        "\n",
        "bike"
      ]
    },
    {
      "cell_type": "markdown",
      "metadata": {
        "id": "63fRa6WT4OCI"
      },
      "source": [
        "Great! Now we can train our classifier. I will just cut and paste the previous `clf.fit` and ..."
      ]
    },
    {
      "cell_type": "code",
      "execution_count": null,
      "metadata": {
        "id": "XGSbR_G84OCI"
      },
      "outputs": [],
      "source": [
        "clf.fit(bike[['Outlook', 'Temperature', 'Humidity', 'Wind']], bike['Bike'])"
      ]
    },
    {
      "cell_type": "markdown",
      "metadata": {
        "id": "dM4JyeWC4OCI"
      },
      "source": [
        "Well that didn't work. The clf.fit instruction was\n",
        "\n",
        "```\n",
        "clf.fit(bike[['Outlook', 'Temperature', 'Humidity', 'Wind']], bike['Bike'])\n",
        "```\n",
        "So we instruct it to use the Outlook, Temperature, Humidity, and Wind columns, but we just deleted them. Instead we have the following columns:"
      ]
    },
    {
      "cell_type": "code",
      "execution_count": null,
      "metadata": {
        "id": "yuisKV__4OCI"
      },
      "outputs": [],
      "source": [
        "list(bike.columns)"
      ]
    },
    {
      "cell_type": "markdown",
      "metadata": {
        "id": "03OCvQKo4OCJ"
      },
      "source": [
        "Using that list let's divide up our data into the label (what we are trying to predict) and the features (what we are using to make the prediction)."
      ]
    },
    {
      "cell_type": "code",
      "execution_count": null,
      "metadata": {
        "id": "3Vz-5dcd4OCJ"
      },
      "outputs": [],
      "source": [
        "fColumns = list(bike.columns)\n",
        "fColumns.remove('Bike')\n",
        "bike_features = bike[fColumns]\n",
        "bike_features"
      ]
    },
    {
      "cell_type": "markdown",
      "metadata": {
        "id": "zlLnfZ9W4OCJ"
      },
      "source": [
        "and now the label:"
      ]
    },
    {
      "cell_type": "code",
      "execution_count": null,
      "metadata": {
        "id": "6vgp6VxE4OCJ",
        "scrolled": true
      },
      "outputs": [],
      "source": [
        "bike_labels = bike[['Bike']]\n",
        "bike_labels"
      ]
    },
    {
      "cell_type": "markdown",
      "metadata": {
        "id": "yluznlmK4OCJ"
      },
      "source": [
        "Now, finally, we can train our decision tree classifier."
      ]
    },
    {
      "cell_type": "code",
      "execution_count": null,
      "metadata": {
        "id": "APbzSmmW4OCK"
      },
      "outputs": [],
      "source": [
        "clf.fit(bike_features, bike_labels)"
      ]
    },
    {
      "cell_type": "markdown",
      "metadata": {
        "id": "p6l1S5B74OCK"
      },
      "source": [
        "As you can see, preparing the data, can actually take a longer time than running the machine learning component.\n",
        "\n",
        "### `get_dummies` not the only way\n",
        "\n",
        "There are other methods to one-hot encode a dataset. For example, sklearn has a class, [OneHotEncoder](https://scikit-learn.org/stable/modules/generated/sklearn.preprocessing.OneHotEncoder.html?highlight=one%20hot%20encorder), which might be a better option for many machine learning tasks. The reason I selected `get_dummies` for this notebook was a pedagogical one---`get_dummies` is a bit more transparent and you get a better sense of what one-hot-encoding does.\n",
        "\n",
        "![](https://raw.githubusercontent.com/zacharski/datamining-guide/master/labs/pics/divider.png)\n",
        "\n",
        "### The `One Hot Encover` method\n",
        "\n",
        "\n",
        "### Conditionals for munging data\n",
        "\n",
        "Let's say we have this small DataFrame"
      ]
    },
    {
      "cell_type": "code",
      "execution_count": null,
      "metadata": {
        "id": "btL1bB6f7S91"
      },
      "outputs": [],
      "source": [
        "bike = pd.read_csv('https://raw.githubusercontent.com/zacharski/ml-class/master/data/bike.csv')\n",
        "bike = bike.set_index('Day')\n",
        "bike"
      ]
    },
    {
      "cell_type": "code",
      "execution_count": null,
      "metadata": {
        "id": "1ntJPV3W7Bft"
      },
      "outputs": [],
      "source": [
        "from sklearn.preprocessing import OneHotEncoder\n",
        "enc = OneHotEncoder(handle_unknown='ignore')\n",
        "bikeHot = enc.fit_transform(bike)\n",
        "bikeHot"
      ]
    },
    {
      "cell_type": "markdown",
      "metadata": {
        "id": "llInQVV2d0SQ"
      },
      "source": [
        "Notice that the line \n",
        "\n",
        "```\n",
        "bikeHot\n",
        "```\n",
        "did not print the matrix as we expected. Instead it instructs us that `bikeHot` is a space matrix. In our previous Rotten Tomato example, and the bike one, there were mostly zeros in the matrix. For large matrices, these zeros take a  lot of room. Instead we can just record the non-zero values using this sparce matrix representation. When we use `print` we can see this representation:"
      ]
    },
    {
      "cell_type": "code",
      "execution_count": null,
      "metadata": {
        "id": "2_yEmL6WegLe"
      },
      "outputs": [],
      "source": [
        "print(bikeHot)"
      ]
    },
    {
      "cell_type": "markdown",
      "metadata": {
        "id": "cUnC3b5qe2_u"
      },
      "source": [
        "![](https://raw.githubusercontent.com/zacharski/datamining-guide/master/labs/pics/divider.png)\n",
        "\n",
        "Let's look at an example that has a column with only two possible values ..."
      ]
    },
    {
      "cell_type": "code",
      "execution_count": null,
      "metadata": {
        "id": "qmsOPBTA4OCK"
      },
      "outputs": [],
      "source": [
        "from pandas import DataFrame\n",
        "students = DataFrame({'name': ['Ann', 'Ben', 'Clara', 'Danielle', 'Eric', 'Akash'],\n",
        "                     'sex':   ['f', 'm', 'f', 'f', 'm', 'm'],\n",
        "                     'age': [21, 18, 23, 19, 20, 21]})\n",
        "students"
      ]
    },
    {
      "cell_type": "markdown",
      "metadata": {
        "id": "sjWhHNyW4OCK"
      },
      "source": [
        "The column sex is categorical so we need to convert it. We could \n",
        "* one-hot-encode it and have two columns: f and m. \n",
        "* one-hot-encode it, have two columns: f and m, and then delete one of those columns\n",
        "* create a column female and populate it correctly using a conditional\n",
        "\n",
        "All three are fine options with the last 2 slightly better since they reduce the dimensionality. Let's see how we can do the last one using a lambda expression:"
      ]
    },
    {
      "cell_type": "code",
      "execution_count": null,
      "metadata": {
        "id": "9bG9xM-T4OCK"
      },
      "outputs": [],
      "source": [
        "students['female'] =  students['sex'].apply(lambda x: True if x == 'f' else False)\n",
        "students  = students.drop('sex', axis=1) \n",
        "students"
      ]
    },
    {
      "cell_type": "markdown",
      "metadata": {
        "id": "C4RzcMPu4OCK"
      },
      "source": [
        "That's great! \n",
        "\n",
        "Now suppose we think that whether or not a person is under 20 is relevant for our machine learning task. We can use the same type of lambda expression to create this new column:\n"
      ]
    },
    {
      "cell_type": "code",
      "execution_count": null,
      "metadata": {
        "id": "S9o8Vv7K4OCK"
      },
      "outputs": [],
      "source": [
        "students['under20'] =  students['age'].apply(lambda x: True if x < 20 else False)\n",
        "students"
      ]
    },
    {
      "cell_type": "markdown",
      "metadata": {
        "id": "7gYvc2584OCL"
      },
      "source": [
        "As you can see, working with machine learning involves working on a pipeline of various processes--we don't start with the machine learning algorithm. Before leaping into the ML algorithm, takes some time to explore the data, decide if it needs to be cleaned in any way, one-hot-encoded, if some features are not needed or if new ones need to be added.\n",
        "\n",
        "## Hyperparameters.\n",
        "\n",
        "When we train a machine learning model (using `fit` in this case), the model learns a set of **parameters**. For example, in decision trees, one parameter is the depth of the tree. The depth isn't determined until the `fit` method finishes. The important point is that parameters are what the model learns on its own from analyzing the training dataset and not something we adjust.\n",
        "\n",
        "In contrast **hyperparameters** are things we determine and not determined by the algorithm. Hyperparameters are set before the model looks at the training data--in our case before `fit`.  For decision trees there are a number of these hyperparameters. We already saw two: `max_depth` controls the size of the tree and `criterion`. Adjusting one hyperparameter may improve the accuracy of your classifier or it may worsen it. \n",
        "\n",
        "We have already learned that we shouldn't test our model using the same data that we trained on. Why not? Because the model is already tuned to the specific instances in our training data. In a kNN classifier, it may memorize every instance in our training data--*Gabby Douglas who is 49 inches tall and weighs 90 pounds is a gymnast*.  If we test using that same data, the accuracy will tend to be higher than if we tested using data the classifier has never seen before. Again, if we told the algorithm someone who is 49 inches tall and 90 pounds is a gymnast, we shouldn't find it surprising that if we asked it what sport does someone play who is 49 inches and 90 pounds, and the algorithm predicts *gymnast*. We want to see if the algorithm learned or generalized something from processing the dataset. In some previous labs, we reserved 20% of the original data to test on and used 80% for training. \n",
        "\n",
        "Now let's imagine a process where we will adjust hyperparameters to improve the accuracy of our model. So we build a classifier with one setting of the hyperparameters and build another with a different setting for the hyperparameters and see which one is more accurate. One approach might be:\n",
        "\n",
        "1. Use 80% of the data to train on.\n",
        "2. Test the classifier using the 20% test set and get the accuracy.\n",
        "3. Adjust a hyperparameter and create a new classifier\n",
        "4. Use the same 80% of the data to train the new classifier\n",
        "5. Test the classifier using the 20% test set and get the accuracy.\n",
        "6. Keep repeating this to find the value of the hyperparameter that performs the best.\n",
        "7. The accuracy of your classifier will be the highest one obtained from evaluating the 20% test set.\n",
        "\n",
        "The problem with this approach is that since we are tuning the hyperparameters based on the accuracy on the test set, some of the information about the test set is leaking into our classifier. Let me explain about information leaking into the classifier.\n",
        "\n",
        "Let's look at our example of categorizing athletes into one of three categories: gymnast, basketball player, and marathoner. Leilani\n",
        "Mitchell is not in the training set but is in the test set. She is 5 foot 5 inches tall and weighs 138. Initially, she was among the instances in the test set that were misclassified. We kept adjusting the hyperparameters until we improved accuracy and now she is correctly classified as a basketball player. So we tuned our classifier to work well with her and others in the test set. That is what we mean by information from the test set leaking into the classifier.\n",
        "\n",
        "So again, we may get an arbitrary higher accuracy that is not reflective of the algorithm's performance on unseen data.\n",
        "\n",
        "**So what can we do?**\n",
        "\n",
        "The solution is to divide the original dataset into three:\n",
        "\n",
        "1. the training set which we use to train our model.\n",
        "2. the validation set which we use to test our model so we can adjust the hyperparameters\n",
        "3. the test set which we use to perform an evaluation of the final model fit on the training set. We make our final adjustment of the hyperparameters **before** we evaluate the model using the test set.\n",
        "\n",
        "There are many ways to divide up the original data into these three sets. For example, maybe 20% is reserved for the test set, 20% for validation and 60% for training.  However, there is a slightly better way.\n",
        "\n",
        "### Cross Validation\n",
        "For cross validation we are going to divide the dataset (typically just the training dataset) into roughly equal sized buckets. Typically we would divide the data into 10 parts and this is called 10-fold cross validation. To reiterate, with this method we have one data set which we divide randomly into 10 parts. We use 9 of\n",
        "those parts for training and reserve one tenth for validation. We repeat this procedure 10 times\n",
        "each time reserving a different tenth for validation.\n",
        "\n",
        "Let’s look at an example. Suppose we want to build a classifier that just answers yes or no to\n",
        "the question *Is this person a professional basketball player?* And our data consists of information\n",
        "about 500 basketball players and 500 non-basketball players. \n",
        "\n",
        "#### Step 1. Divide the data into 10 bucks.\n",
        "\n",
        "![](https://raw.githubusercontent.com/zacharski/ml-class/master/labs/pics/buckets.png)\n",
        "We put 50 basketball players and 50 non-players in each bucket so each bucket contains information on 100 individuals.\n",
        "\n",
        "#### Step 2. We iterate through the following steps 10 times\n",
        "\n",
        "1. During each iteration hold back one of the buckets. For iteration 1, we will hold back bucket 1, iteration 2, bucket 2, and so on.\n",
        "2. We will train the classifier with data from the other buckets. (during the first iteration we will train with the data in buckets 2 through 10)\n",
        "3. We will validate the classifier we just built using data from the bucket we held back and save the results. In our case these results might be: 35 of the basketball players were classified correctly and  29 of the non basketball players were classified correctly. \n",
        "\n",
        "\n",
        "#### Step 3. we sum up the results.\n",
        "Once we finish the ten iterations we sum the results. Perhaps we find that 937 of the 1,000 individuals were categorized correctly. \n",
        "\n",
        "#### Summary\n",
        "Using cross-validation, every instance in our data is used in training and, in a different iteration, in validation. This results in a less biased model. By **bias** we mean that the algorithm is less accurate due to it not taking into account all relevant information in the data. With cross-validation we typically train on a larger percentage of the data than we would if we set aside a fixed validation set. One small disadvantage is that it now take 10 times as long to run.\n",
        "\n",
        "\n",
        "### Leave One Out\n",
        "Here is a suggestion from Lucy:\n",
        "![](https://raw.githubusercontent.com/zacharski/ml-class/master/labs/pics/nfold.png)\n",
        "\n",
        "In the machine learning literature, n-fold cross validation (where n is the number of samples\n",
        "in our data set) is called leave-one-out. Lucy above, already mentioned one benefit of leave-one-out—\n",
        "at every iteration we are using the largest possible amount of our data for training. The other\n",
        "benefit is that it is deterministic.\n",
        "\n",
        "#### What do we mean by ‘deterministic’?\n",
        "\n",
        "Suppose Lucy spends an intense 80 hour week creating and coding a new classifier. It is\n",
        "Friday and she is exhausted so she asks two of her colleagues (Emily and Li) to evaluate the\n",
        "classifier over the weekend. She gives each of them the classifier and the same dataset and\n",
        "asks them to use 10-fold cross validation. On Monday she asks for the results ..\n",
        "\n",
        "![](https://raw.githubusercontent.com/zacharski/ml-class/master/labs/pics/nfoldwomen2.png)\n",
        "\n",
        "Hmm. They did not get the same results. Did Emily or Li make a mistake? Not necessarily. In\n",
        "10-fold cross validation we place the data randomly into 10 buckets. Since there is this\n",
        "random element, it is likely that Emily and Li did not divide the data into buckets in exactly\n",
        "the same way. In fact, it is highly unlikely that they did. So when they train the classifier, they\n",
        "are not using exactly the same data and when they test this classifier they are using different\n",
        "test sets. So it is quite logical that they would get different results. This result has nothing to\n",
        "do with the fact that two different people were performing the evaluation. If Lucy herself ran\n",
        "10-fold cross validation twice, she too would get slightly different results. The reason we get\n",
        "different results is that there is a random component to placing the data into buckets. So 10-\n",
        "fold cross validation is called non-deterministic because when we run the test again we are\n",
        "not guaranteed to get the same result. In contrast, the leave-one-out method is deterministic.\n",
        "Every time we use leave-one-out on the same classifier and the same data we will get the\n",
        "same result. That is a good thing!\n",
        "\n",
        "#### The disadvantages of leave-one-out\n",
        "The main disadvantage of leave-one-out is the computational expense of the method.\n",
        "Consider a modest-sized dataset of 10,000 instances and that it takes one minute to train a\n",
        "classifier. For 10-fold cross validation we will spend 10 minutes in training. In leave-one-out\n",
        "we will spend 16 hours in training. If our dataset contains 10 million entries the total time\n",
        "spent in training would nearly be two years. Eeeks!\n",
        "\n",
        "![](https://raw.githubusercontent.com/zacharski/ml-class/master/labs/pics/twoyears.png)\n",
        "\n",
        "\n",
        "The other disadvantage of leave-one-out is related to stratification.\n",
        "\n",
        "\n",
        "\n",
        "#### Stratification.\n",
        "Let us return to the example of building a classifier that predicts\n",
        "what sport a woman plays (basketball, gymnastics, or track). When training the classifier we\n",
        "want the training data to be representative and contain data from all three classes. Suppose\n",
        "we assign data to the training set in a completely random way. It is possible that no\n",
        "basketball players would be included in the training set and because of this, the resulting\n",
        "classifier would not be very good at classifying basketball players. Or consider creating a data\n",
        "set of 100 athletes. First we go to the Women’s NBA website and write down the info on 33\n",
        "basketball players; next we go to Wikipedia and get 33 women who competed in gymnastics\n",
        "at the 2012 Olympics and write that down; finally, we go again to Wikipedia to get\n",
        "information on women who competed in track at the Olympics and record data for 34 people.\n",
        "So our dataset looks like this:\n",
        "\n",
        "![](https://raw.githubusercontent.com/zacharski/ml-class/master/labs/pics/womensports.png)\n",
        "\n",
        "Let’s say we are doing 10-fold cross validation. We start at the beginning of the list and put\n",
        "every ten people in a different bucket. In this case we have 10 basketball players in both the\n",
        "first and second buckets. The third bucket has both basketball players and gymnasts. The\n",
        "fourth and fifth buckets solely contain gymnasts and so on. None of our buckets are\n",
        "representative of the dataset as a whole and you would be correct in thinking this would skew\n",
        "our results. The preferred method of assigning instances to buckets is to make sure that the\n",
        "classes (basketball players, gymnasts, marathoners) are represented in the same proportions\n",
        "as they are in the complete dataset. Since one-third of the complete dataset consists of\n",
        "basketball players, one-third of the entries in each bucket should also be basketball players.\n",
        "And one-third the entries should be gymnasts and one-third marathoners. This is called\n",
        "stratification and this is a good thing. The problem with the leave-one-out evaluation\n",
        "method is that necessarily all the test sets are non-stratified since they contain only one\n",
        "instance. In sum, while leave-one-out may be appropriate for very small datasets, 10-fold\n",
        "cross validation is by far the most popular choice.\n",
        "\n",
        "### Coding\n",
        "Let's see how we can use cross validation using the Iris dataset.\n",
        "\n",
        "<img src=\"https://upload.wikimedia.org/wikipedia/commons/1/1e/IMG_7911-Iris_virginica.jpg\" width=\"250\" />\n",
        "\n",
        "First, let's load the dataset:\n"
      ]
    },
    {
      "cell_type": "code",
      "execution_count": null,
      "metadata": {
        "id": "GKV3Qg7c4OCM"
      },
      "outputs": [],
      "source": [
        "iris = pd.read_csv('https://raw.githubusercontent.com/zacharski/ml-class/master/data/iris.csv')\n",
        "iris\n"
      ]
    },
    {
      "cell_type": "markdown",
      "metadata": {
        "id": "4iZn-QGI4OCM"
      },
      "source": [
        "Now let's divide this into a training set and a test set using an 80-20 split."
      ]
    },
    {
      "cell_type": "code",
      "execution_count": null,
      "metadata": {
        "id": "cktd_H0B4OCM"
      },
      "outputs": [],
      "source": [
        "from sklearn.model_selection import train_test_split\n",
        "iris_train, iris_test = train_test_split(iris, test_size = 0.2)\n",
        "iris_train"
      ]
    },
    {
      "cell_type": "markdown",
      "metadata": {
        "id": "ucL5HPSo4OCM"
      },
      "source": [
        "#### 10 fold cross validation on iris_train\n",
        "First, to make things as clear as possible, we will split the iris_train dataset into the features and the labels:"
      ]
    },
    {
      "cell_type": "code",
      "execution_count": null,
      "metadata": {
        "id": "GlyCO2A84OCM"
      },
      "outputs": [],
      "source": [
        "iris_train_features = iris_train[['Sepal Length', 'Sepal Width', 'Petal Length', 'Petal Width']]\n",
        "iris_train_labels = iris_train[['Class']]"
      ]
    },
    {
      "cell_type": "markdown",
      "metadata": {
        "id": "ABtsgGw54OCM"
      },
      "source": [
        "Let's also create an instance of a decision tree classifier"
      ]
    },
    {
      "cell_type": "code",
      "execution_count": null,
      "metadata": {
        "id": "FiH68G0a4OCM"
      },
      "outputs": [],
      "source": [
        "from sklearn import tree\n",
        "clf = tree.DecisionTreeClassifier(criterion='entropy')"
      ]
    },
    {
      "cell_type": "markdown",
      "metadata": {
        "id": "KE6IrgeC4OCM"
      },
      "source": [
        "### The cross validation steps\n",
        "\n",
        "#### Step 1. Import  cross_val_score"
      ]
    },
    {
      "cell_type": "code",
      "execution_count": null,
      "metadata": {
        "id": "lHgiC3pj4OCM"
      },
      "outputs": [],
      "source": [
        "from sklearn.model_selection import cross_val_score"
      ]
    },
    {
      "cell_type": "markdown",
      "metadata": {
        "id": "k9dZCyJm4OCM"
      },
      "source": [
        "#### Step 2. run cross validation"
      ]
    },
    {
      "cell_type": "code",
      "execution_count": null,
      "metadata": {
        "id": "fBe6YI_O4OCN"
      },
      "outputs": [],
      "source": [
        "scores = cross_val_score(clf, iris_train_features, iris_train_labels, cv=10)"
      ]
    },
    {
      "cell_type": "markdown",
      "metadata": {
        "id": "m6GN4Ugx4OCN"
      },
      "source": [
        "`cv=10` specified that we perform 10-fold cross validation. the function returns a 10 element array, where each element is the accuracy of that fold. Let's take a look:"
      ]
    },
    {
      "cell_type": "code",
      "execution_count": null,
      "metadata": {
        "id": "Sr2SJId24OCN"
      },
      "outputs": [],
      "source": [
        "print(scores)\n",
        "print(\"The average accuracy is %5.3f\" % (scores.mean()))\n"
      ]
    },
    {
      "cell_type": "markdown",
      "metadata": {
        "id": "9z7Axh-r4OCN"
      },
      "source": [
        "So `scores` contains the accuracy for each of the 10 runs. In my case it was:\n",
        "\n",
        "```\n",
        "[1.         0.83333333 1.         0.91666667 0.91666667 0.91666667\n",
        " 0.91666667 0.91666667 1.         0.91666667]\n",
        "The average accuracy is 0.933\n",
        "```\n",
        "So the best runs were 100% accurate and the worst was 83%. The average accuracy was 93%\n",
        "![](https://raw.githubusercontent.com/zacharski/datamining-guide/master/labs/pics/torchdivide.png)\n",
        "\n",
        "\n",
        "# <font color='#EE4C2C'>You Try ...</font> \n",
        "## <font color='#EE4C2C'>Pima Indian Diabetes Dataset</font> \n",
        "\n",
        "We have covered a lot of material and now is your chance to practice it using the Pima Indians Diabetes Data we used before. The data file is at \n",
        "\n",
        "[https://raw.githubusercontent.com/zacharski/ml-class/master/data/pima-indians-diabetes.csv](https://raw.githubusercontent.com/zacharski/ml-class/master/data/pima-indians-diabetes.csv)\n",
        "\n",
        "The data file does not contain a header row. Of course you can name the columns whatever you want, but I used:\n",
        "```\n",
        "['pregnant', 'glucose', 'bp', 'skinfold', 'insulin', 'bmi', 'pedigree', 'age', 'diabetes']\n",
        "```\n",
        "## <font color='#EE4C2C'>1. Load in the data file</font> \n",
        "So load in the data file and let's reserve 20% for `pima_test` and 80% for `pima_train`.\n",
        "\n"
      ]
    },
    {
      "cell_type": "code",
      "execution_count": 68,
      "metadata": {
        "id": "LVhh5rxi4OCN",
        "outputId": "83ba9094-95f2-484a-d9cc-11d4a84035d1",
        "colab": {
          "base_uri": "https://localhost:8080/",
          "height": 424
        }
      },
      "outputs": [
        {
          "output_type": "execute_result",
          "data": {
            "text/plain": [
              "     pregnant  glucose  bp  skinfold  insulin   bmi  pedigree  age  diabetes\n",
              "0           6      148  72        35        0  33.6     0.627   50         1\n",
              "1           1       85  66        29        0  26.6     0.351   31         0\n",
              "2           8      183  64         0        0  23.3     0.672   32         1\n",
              "3           1       89  66        23       94  28.1     0.167   21         0\n",
              "4           0      137  40        35      168  43.1     2.288   33         1\n",
              "..        ...      ...  ..       ...      ...   ...       ...  ...       ...\n",
              "763        10      101  76        48      180  32.9     0.171   63         0\n",
              "764         2      122  70        27        0  36.8     0.340   27         0\n",
              "765         5      121  72        23      112  26.2     0.245   30         0\n",
              "766         1      126  60         0        0  30.1     0.349   47         1\n",
              "767         1       93  70        31        0  30.4     0.315   23         0\n",
              "\n",
              "[768 rows x 9 columns]"
            ],
            "text/html": [
              "\n",
              "  <div id=\"df-4529bd56-bae1-4ed1-820e-bc3f56995a23\">\n",
              "    <div class=\"colab-df-container\">\n",
              "      <div>\n",
              "<style scoped>\n",
              "    .dataframe tbody tr th:only-of-type {\n",
              "        vertical-align: middle;\n",
              "    }\n",
              "\n",
              "    .dataframe tbody tr th {\n",
              "        vertical-align: top;\n",
              "    }\n",
              "\n",
              "    .dataframe thead th {\n",
              "        text-align: right;\n",
              "    }\n",
              "</style>\n",
              "<table border=\"1\" class=\"dataframe\">\n",
              "  <thead>\n",
              "    <tr style=\"text-align: right;\">\n",
              "      <th></th>\n",
              "      <th>pregnant</th>\n",
              "      <th>glucose</th>\n",
              "      <th>bp</th>\n",
              "      <th>skinfold</th>\n",
              "      <th>insulin</th>\n",
              "      <th>bmi</th>\n",
              "      <th>pedigree</th>\n",
              "      <th>age</th>\n",
              "      <th>diabetes</th>\n",
              "    </tr>\n",
              "  </thead>\n",
              "  <tbody>\n",
              "    <tr>\n",
              "      <th>0</th>\n",
              "      <td>6</td>\n",
              "      <td>148</td>\n",
              "      <td>72</td>\n",
              "      <td>35</td>\n",
              "      <td>0</td>\n",
              "      <td>33.6</td>\n",
              "      <td>0.627</td>\n",
              "      <td>50</td>\n",
              "      <td>1</td>\n",
              "    </tr>\n",
              "    <tr>\n",
              "      <th>1</th>\n",
              "      <td>1</td>\n",
              "      <td>85</td>\n",
              "      <td>66</td>\n",
              "      <td>29</td>\n",
              "      <td>0</td>\n",
              "      <td>26.6</td>\n",
              "      <td>0.351</td>\n",
              "      <td>31</td>\n",
              "      <td>0</td>\n",
              "    </tr>\n",
              "    <tr>\n",
              "      <th>2</th>\n",
              "      <td>8</td>\n",
              "      <td>183</td>\n",
              "      <td>64</td>\n",
              "      <td>0</td>\n",
              "      <td>0</td>\n",
              "      <td>23.3</td>\n",
              "      <td>0.672</td>\n",
              "      <td>32</td>\n",
              "      <td>1</td>\n",
              "    </tr>\n",
              "    <tr>\n",
              "      <th>3</th>\n",
              "      <td>1</td>\n",
              "      <td>89</td>\n",
              "      <td>66</td>\n",
              "      <td>23</td>\n",
              "      <td>94</td>\n",
              "      <td>28.1</td>\n",
              "      <td>0.167</td>\n",
              "      <td>21</td>\n",
              "      <td>0</td>\n",
              "    </tr>\n",
              "    <tr>\n",
              "      <th>4</th>\n",
              "      <td>0</td>\n",
              "      <td>137</td>\n",
              "      <td>40</td>\n",
              "      <td>35</td>\n",
              "      <td>168</td>\n",
              "      <td>43.1</td>\n",
              "      <td>2.288</td>\n",
              "      <td>33</td>\n",
              "      <td>1</td>\n",
              "    </tr>\n",
              "    <tr>\n",
              "      <th>...</th>\n",
              "      <td>...</td>\n",
              "      <td>...</td>\n",
              "      <td>...</td>\n",
              "      <td>...</td>\n",
              "      <td>...</td>\n",
              "      <td>...</td>\n",
              "      <td>...</td>\n",
              "      <td>...</td>\n",
              "      <td>...</td>\n",
              "    </tr>\n",
              "    <tr>\n",
              "      <th>763</th>\n",
              "      <td>10</td>\n",
              "      <td>101</td>\n",
              "      <td>76</td>\n",
              "      <td>48</td>\n",
              "      <td>180</td>\n",
              "      <td>32.9</td>\n",
              "      <td>0.171</td>\n",
              "      <td>63</td>\n",
              "      <td>0</td>\n",
              "    </tr>\n",
              "    <tr>\n",
              "      <th>764</th>\n",
              "      <td>2</td>\n",
              "      <td>122</td>\n",
              "      <td>70</td>\n",
              "      <td>27</td>\n",
              "      <td>0</td>\n",
              "      <td>36.8</td>\n",
              "      <td>0.340</td>\n",
              "      <td>27</td>\n",
              "      <td>0</td>\n",
              "    </tr>\n",
              "    <tr>\n",
              "      <th>765</th>\n",
              "      <td>5</td>\n",
              "      <td>121</td>\n",
              "      <td>72</td>\n",
              "      <td>23</td>\n",
              "      <td>112</td>\n",
              "      <td>26.2</td>\n",
              "      <td>0.245</td>\n",
              "      <td>30</td>\n",
              "      <td>0</td>\n",
              "    </tr>\n",
              "    <tr>\n",
              "      <th>766</th>\n",
              "      <td>1</td>\n",
              "      <td>126</td>\n",
              "      <td>60</td>\n",
              "      <td>0</td>\n",
              "      <td>0</td>\n",
              "      <td>30.1</td>\n",
              "      <td>0.349</td>\n",
              "      <td>47</td>\n",
              "      <td>1</td>\n",
              "    </tr>\n",
              "    <tr>\n",
              "      <th>767</th>\n",
              "      <td>1</td>\n",
              "      <td>93</td>\n",
              "      <td>70</td>\n",
              "      <td>31</td>\n",
              "      <td>0</td>\n",
              "      <td>30.4</td>\n",
              "      <td>0.315</td>\n",
              "      <td>23</td>\n",
              "      <td>0</td>\n",
              "    </tr>\n",
              "  </tbody>\n",
              "</table>\n",
              "<p>768 rows × 9 columns</p>\n",
              "</div>\n",
              "      <button class=\"colab-df-convert\" onclick=\"convertToInteractive('df-4529bd56-bae1-4ed1-820e-bc3f56995a23')\"\n",
              "              title=\"Convert this dataframe to an interactive table.\"\n",
              "              style=\"display:none;\">\n",
              "        \n",
              "  <svg xmlns=\"http://www.w3.org/2000/svg\" height=\"24px\"viewBox=\"0 0 24 24\"\n",
              "       width=\"24px\">\n",
              "    <path d=\"M0 0h24v24H0V0z\" fill=\"none\"/>\n",
              "    <path d=\"M18.56 5.44l.94 2.06.94-2.06 2.06-.94-2.06-.94-.94-2.06-.94 2.06-2.06.94zm-11 1L8.5 8.5l.94-2.06 2.06-.94-2.06-.94L8.5 2.5l-.94 2.06-2.06.94zm10 10l.94 2.06.94-2.06 2.06-.94-2.06-.94-.94-2.06-.94 2.06-2.06.94z\"/><path d=\"M17.41 7.96l-1.37-1.37c-.4-.4-.92-.59-1.43-.59-.52 0-1.04.2-1.43.59L10.3 9.45l-7.72 7.72c-.78.78-.78 2.05 0 2.83L4 21.41c.39.39.9.59 1.41.59.51 0 1.02-.2 1.41-.59l7.78-7.78 2.81-2.81c.8-.78.8-2.07 0-2.86zM5.41 20L4 18.59l7.72-7.72 1.47 1.35L5.41 20z\"/>\n",
              "  </svg>\n",
              "      </button>\n",
              "      \n",
              "  <style>\n",
              "    .colab-df-container {\n",
              "      display:flex;\n",
              "      flex-wrap:wrap;\n",
              "      gap: 12px;\n",
              "    }\n",
              "\n",
              "    .colab-df-convert {\n",
              "      background-color: #E8F0FE;\n",
              "      border: none;\n",
              "      border-radius: 50%;\n",
              "      cursor: pointer;\n",
              "      display: none;\n",
              "      fill: #1967D2;\n",
              "      height: 32px;\n",
              "      padding: 0 0 0 0;\n",
              "      width: 32px;\n",
              "    }\n",
              "\n",
              "    .colab-df-convert:hover {\n",
              "      background-color: #E2EBFA;\n",
              "      box-shadow: 0px 1px 2px rgba(60, 64, 67, 0.3), 0px 1px 3px 1px rgba(60, 64, 67, 0.15);\n",
              "      fill: #174EA6;\n",
              "    }\n",
              "\n",
              "    [theme=dark] .colab-df-convert {\n",
              "      background-color: #3B4455;\n",
              "      fill: #D2E3FC;\n",
              "    }\n",
              "\n",
              "    [theme=dark] .colab-df-convert:hover {\n",
              "      background-color: #434B5C;\n",
              "      box-shadow: 0px 1px 3px 1px rgba(0, 0, 0, 0.15);\n",
              "      filter: drop-shadow(0px 1px 2px rgba(0, 0, 0, 0.3));\n",
              "      fill: #FFFFFF;\n",
              "    }\n",
              "  </style>\n",
              "\n",
              "      <script>\n",
              "        const buttonEl =\n",
              "          document.querySelector('#df-4529bd56-bae1-4ed1-820e-bc3f56995a23 button.colab-df-convert');\n",
              "        buttonEl.style.display =\n",
              "          google.colab.kernel.accessAllowed ? 'block' : 'none';\n",
              "\n",
              "        async function convertToInteractive(key) {\n",
              "          const element = document.querySelector('#df-4529bd56-bae1-4ed1-820e-bc3f56995a23');\n",
              "          const dataTable =\n",
              "            await google.colab.kernel.invokeFunction('convertToInteractive',\n",
              "                                                     [key], {});\n",
              "          if (!dataTable) return;\n",
              "\n",
              "          const docLinkHtml = 'Like what you see? Visit the ' +\n",
              "            '<a target=\"_blank\" href=https://colab.research.google.com/notebooks/data_table.ipynb>data table notebook</a>'\n",
              "            + ' to learn more about interactive tables.';\n",
              "          element.innerHTML = '';\n",
              "          dataTable['output_type'] = 'display_data';\n",
              "          await google.colab.output.renderOutput(dataTable, element);\n",
              "          const docLink = document.createElement('div');\n",
              "          docLink.innerHTML = docLinkHtml;\n",
              "          element.appendChild(docLink);\n",
              "        }\n",
              "      </script>\n",
              "    </div>\n",
              "  </div>\n",
              "  "
            ]
          },
          "metadata": {},
          "execution_count": 68
        }
      ],
      "source": [
        "# TO DO\n",
        "header = ['pregnant', 'glucose', 'bp', 'skinfold', 'insulin', 'bmi', 'pedigree', 'age', 'diabetes']\n",
        "pima = pd.read_csv(\"https://raw.githubusercontent.com/zacharski/ml-class/master/data/pima-indians-diabetes.csv\", names=header)\n",
        "pima"
      ]
    },
    {
      "cell_type": "markdown",
      "metadata": {
        "id": "yuvDt-zX4OCN"
      },
      "source": [
        "## <font color='#EE4C2C'>2. creating separate data structures for the features and labels</font> \n",
        "\n",
        "\n",
        "\n",
        "Next, for convenience let's create 2 DataFrames and 2 Series. The DataFrames are:\n",
        "\n",
        "* `pima_train_features` will contain the feature columns from `pima_train` \n",
        "* `pima_test_features` will contain the feature columns from `pima_test`\n",
        "\n",
        "The Series are:\n",
        "\n",
        "* `pima_train_labels` will contain the `diabetes` column\n",
        "* `pima_test_labels` will also contain the `diabetes` column"
      ]
    },
    {
      "cell_type": "code",
      "execution_count": 69,
      "metadata": {
        "id": "KvUxF60-4OCN"
      },
      "outputs": [],
      "source": [
        "pima_features = pima.loc[:, pima.columns != \"diabetes\"]\n",
        "pima_labels = pima[\"diabetes\"]\n",
        "pima_train_features, pima_test_features, pima_train_labels, pima_test_labels = train_test_split(pima_features, pima_labels, train_size=0.8, random_state=0)"
      ]
    },
    {
      "cell_type": "markdown",
      "metadata": {
        "id": "pqsAzAa04OCN"
      },
      "source": [
        "## <font color='#EE4C2C'>3. Exploring hyperparameters: max_depth</font> \n",
        "\n",
        "\n",
        "We are interested in seeing which has higher accuracy:\n",
        "\n",
        "1. a classifier unconstrained for max_depth \n",
        "2. a classifier with max_depth of 4\n",
        "\n",
        "Create 2 decision tree classifiers: `clf` which is unconstrained for depth and `clf4` which has a max_depth of 4."
      ]
    },
    {
      "cell_type": "code",
      "execution_count": 70,
      "metadata": {
        "id": "ejbOBYMu4OCN"
      },
      "outputs": [],
      "source": [
        "# TO DO\n",
        "from sklearn.tree import DecisionTreeClassifier\n",
        "\n",
        "clf4 = DecisionTreeClassifier(max_depth=4)\n",
        "clf = DecisionTreeClassifier()\n"
      ]
    },
    {
      "cell_type": "markdown",
      "metadata": {
        "id": "aKtJzKNp4OCN"
      },
      "source": [
        "### using 10-fold cross validation get the average accuracy of `clf`"
      ]
    },
    {
      "cell_type": "code",
      "execution_count": 71,
      "metadata": {
        "id": "VkA0q9_a4OCN",
        "outputId": "f627a201-c2bd-4219-94f6-9ca5e14444ae",
        "colab": {
          "base_uri": "https://localhost:8080/"
        }
      },
      "outputs": [
        {
          "output_type": "execute_result",
          "data": {
            "text/plain": [
              "0.7102326811211"
            ]
          },
          "metadata": {},
          "execution_count": 71
        }
      ],
      "source": [
        "# TO \n",
        "from sklearn.model_selection import cross_val_score\n",
        "scores = cross_val_score(clf, pima_train_features, pima_train_labels, cv=10)\n",
        "scores.mean()"
      ]
    },
    {
      "cell_type": "markdown",
      "metadata": {
        "id": "GhJ6BM-s4OCN"
      },
      "source": [
        "## <font color='#EE4C2C'>4. Using 10-fold cross validation get the average accuracy of `clf4`</font> \n",
        "\n"
      ]
    },
    {
      "cell_type": "code",
      "execution_count": 72,
      "metadata": {
        "id": "BxQRO1ND4OCO",
        "outputId": "f2a54fba-31b8-4926-8378-ee817a4ebb60",
        "colab": {
          "base_uri": "https://localhost:8080/"
        }
      },
      "outputs": [
        {
          "output_type": "execute_result",
          "data": {
            "text/plain": [
              "0.7066631411951348"
            ]
          },
          "metadata": {},
          "execution_count": 72
        }
      ],
      "source": [
        "scores = cross_val_score(clf4, pima_train_features, pima_train_labels, cv=10)\n",
        "scores.mean()"
      ]
    },
    {
      "cell_type": "markdown",
      "metadata": {
        "id": "E2G9BA6R4OCO"
      },
      "source": [
        "which has better accuracy, the one unconstrained for depth or the one whose max_depth is 4?\n",
        "\n",
        "\n",
        "## <font color='#EE4C2C'>5. Using the entire training set, train a new classifier with the best setting for the max_depth hyperparameter</font> \n",
        "\n"
      ]
    },
    {
      "cell_type": "code",
      "execution_count": 73,
      "metadata": {
        "id": "z4d0Ngjr4OCO",
        "outputId": "9e39b049-4b50-467c-b2a6-76666e0d547e",
        "colab": {
          "base_uri": "https://localhost:8080/",
          "height": 75
        }
      },
      "outputs": [
        {
          "output_type": "execute_result",
          "data": {
            "text/plain": [
              "DecisionTreeClassifier(max_depth=4)"
            ],
            "text/html": [
              "<style>#sk-container-id-2 {color: black;background-color: white;}#sk-container-id-2 pre{padding: 0;}#sk-container-id-2 div.sk-toggleable {background-color: white;}#sk-container-id-2 label.sk-toggleable__label {cursor: pointer;display: block;width: 100%;margin-bottom: 0;padding: 0.3em;box-sizing: border-box;text-align: center;}#sk-container-id-2 label.sk-toggleable__label-arrow:before {content: \"▸\";float: left;margin-right: 0.25em;color: #696969;}#sk-container-id-2 label.sk-toggleable__label-arrow:hover:before {color: black;}#sk-container-id-2 div.sk-estimator:hover label.sk-toggleable__label-arrow:before {color: black;}#sk-container-id-2 div.sk-toggleable__content {max-height: 0;max-width: 0;overflow: hidden;text-align: left;background-color: #f0f8ff;}#sk-container-id-2 div.sk-toggleable__content pre {margin: 0.2em;color: black;border-radius: 0.25em;background-color: #f0f8ff;}#sk-container-id-2 input.sk-toggleable__control:checked~div.sk-toggleable__content {max-height: 200px;max-width: 100%;overflow: auto;}#sk-container-id-2 input.sk-toggleable__control:checked~label.sk-toggleable__label-arrow:before {content: \"▾\";}#sk-container-id-2 div.sk-estimator input.sk-toggleable__control:checked~label.sk-toggleable__label {background-color: #d4ebff;}#sk-container-id-2 div.sk-label input.sk-toggleable__control:checked~label.sk-toggleable__label {background-color: #d4ebff;}#sk-container-id-2 input.sk-hidden--visually {border: 0;clip: rect(1px 1px 1px 1px);clip: rect(1px, 1px, 1px, 1px);height: 1px;margin: -1px;overflow: hidden;padding: 0;position: absolute;width: 1px;}#sk-container-id-2 div.sk-estimator {font-family: monospace;background-color: #f0f8ff;border: 1px dotted black;border-radius: 0.25em;box-sizing: border-box;margin-bottom: 0.5em;}#sk-container-id-2 div.sk-estimator:hover {background-color: #d4ebff;}#sk-container-id-2 div.sk-parallel-item::after {content: \"\";width: 100%;border-bottom: 1px solid gray;flex-grow: 1;}#sk-container-id-2 div.sk-label:hover label.sk-toggleable__label {background-color: #d4ebff;}#sk-container-id-2 div.sk-serial::before {content: \"\";position: absolute;border-left: 1px solid gray;box-sizing: border-box;top: 0;bottom: 0;left: 50%;z-index: 0;}#sk-container-id-2 div.sk-serial {display: flex;flex-direction: column;align-items: center;background-color: white;padding-right: 0.2em;padding-left: 0.2em;position: relative;}#sk-container-id-2 div.sk-item {position: relative;z-index: 1;}#sk-container-id-2 div.sk-parallel {display: flex;align-items: stretch;justify-content: center;background-color: white;position: relative;}#sk-container-id-2 div.sk-item::before, #sk-container-id-2 div.sk-parallel-item::before {content: \"\";position: absolute;border-left: 1px solid gray;box-sizing: border-box;top: 0;bottom: 0;left: 50%;z-index: -1;}#sk-container-id-2 div.sk-parallel-item {display: flex;flex-direction: column;z-index: 1;position: relative;background-color: white;}#sk-container-id-2 div.sk-parallel-item:first-child::after {align-self: flex-end;width: 50%;}#sk-container-id-2 div.sk-parallel-item:last-child::after {align-self: flex-start;width: 50%;}#sk-container-id-2 div.sk-parallel-item:only-child::after {width: 0;}#sk-container-id-2 div.sk-dashed-wrapped {border: 1px dashed gray;margin: 0 0.4em 0.5em 0.4em;box-sizing: border-box;padding-bottom: 0.4em;background-color: white;}#sk-container-id-2 div.sk-label label {font-family: monospace;font-weight: bold;display: inline-block;line-height: 1.2em;}#sk-container-id-2 div.sk-label-container {text-align: center;}#sk-container-id-2 div.sk-container {/* jupyter's `normalize.less` sets `[hidden] { display: none; }` but bootstrap.min.css set `[hidden] { display: none !important; }` so we also need the `!important` here to be able to override the default hidden behavior on the sphinx rendered scikit-learn.org. See: https://github.com/scikit-learn/scikit-learn/issues/21755 */display: inline-block !important;position: relative;}#sk-container-id-2 div.sk-text-repr-fallback {display: none;}</style><div id=\"sk-container-id-2\" class=\"sk-top-container\"><div class=\"sk-text-repr-fallback\"><pre>DecisionTreeClassifier(max_depth=4)</pre><b>In a Jupyter environment, please rerun this cell to show the HTML representation or trust the notebook. <br />On GitHub, the HTML representation is unable to render, please try loading this page with nbviewer.org.</b></div><div class=\"sk-container\" hidden><div class=\"sk-item\"><div class=\"sk-estimator sk-toggleable\"><input class=\"sk-toggleable__control sk-hidden--visually\" id=\"sk-estimator-id-2\" type=\"checkbox\" checked><label for=\"sk-estimator-id-2\" class=\"sk-toggleable__label sk-toggleable__label-arrow\">DecisionTreeClassifier</label><div class=\"sk-toggleable__content\"><pre>DecisionTreeClassifier(max_depth=4)</pre></div></div></div></div></div>"
            ]
          },
          "metadata": {},
          "execution_count": 73
        }
      ],
      "source": [
        "# TO DO\n",
        "clf4.fit(pima_train_features, pima_train_labels)"
      ]
    },
    {
      "cell_type": "markdown",
      "metadata": {
        "id": "tTIPyrTp4OCO"
      },
      "source": [
        "## <font color='#EE4C2C'>6. Finally, using the test set what is the accuracy?</font> "
      ]
    },
    {
      "cell_type": "code",
      "execution_count": 74,
      "metadata": {
        "id": "zHZSu8Jm4OCO",
        "outputId": "9cf7543d-aadb-414e-9f1f-b9c441652f6e",
        "scrolled": true,
        "colab": {
          "base_uri": "https://localhost:8080/"
        }
      },
      "outputs": [
        {
          "output_type": "execute_result",
          "data": {
            "text/plain": [
              "0.7662337662337663"
            ]
          },
          "metadata": {},
          "execution_count": 74
        }
      ],
      "source": [
        "# TO DO\n",
        "from sklearn.metrics import accuracy_score\n",
        "predictions = clf4.predict(pima_test_features)\n",
        "scores = accuracy_score(pima_test_labels, predictions)\n",
        "scores"
      ]
    },
    {
      "cell_type": "markdown",
      "metadata": {
        "id": "rYrDySjH4OCO"
      },
      "source": [
        "## Automation\n",
        "\n",
        "Let's say we want to find the best settings for `max_depth`and we will check out the values, 3, 4, 5, 6, ...12 and the best for `min_samples_split` and we will try 2, 3, 4, 5. That makes 10 values for `max_depth` and 4 for `min_samples_split`. That makes 40 different classifiers and it would be time consuming to do that by hand. Fortunately, we can automate the process using [GridSearchCV](https://scikit-learn.org/stable/modules/generated/sklearn.model_selection.GridSearchCV.html?highlight=gridsearchcv#sklearn.model_selection.GridSearchCV). \n",
        "\n",
        "First we will import the module:"
      ]
    },
    {
      "cell_type": "code",
      "execution_count": 75,
      "metadata": {
        "id": "NdArMQip4OCO"
      },
      "outputs": [],
      "source": [
        "from sklearn.model_selection import GridSearchCV"
      ]
    },
    {
      "cell_type": "markdown",
      "metadata": {
        "id": "ZvEuMDyy4OCO"
      },
      "source": [
        "Now we are going to specify the values we want to test. For `max_depth` we want 3, 4, 5, 6, ... 12 and for `min_samples_split` we want  2, 3, 4, 5:"
      ]
    },
    {
      "cell_type": "code",
      "execution_count": 76,
      "metadata": {
        "id": "YNazEAlh4OCO"
      },
      "outputs": [],
      "source": [
        "hyperparam_grid = [\n",
        "    {'max_depth': [3, 4, 5, 6, 7, 8, 9, 10, 11, 12], \n",
        "     'min_samples_split': [2,3,4, 5]}\n",
        "  ]\n"
      ]
    },
    {
      "cell_type": "markdown",
      "metadata": {
        "id": "vTEUEkJ34OCO"
      },
      "source": [
        "Next, let's create a decision tree classifier:"
      ]
    },
    {
      "cell_type": "code",
      "execution_count": 77,
      "metadata": {
        "id": "57QJ6wJi4OCO"
      },
      "outputs": [],
      "source": [
        "\n",
        "clf = tree.DecisionTreeClassifier(criterion='entropy')\n"
      ]
    },
    {
      "cell_type": "markdown",
      "metadata": {
        "id": "iomQ8KEP4OCO"
      },
      "source": [
        "#### now create a grid search object"
      ]
    },
    {
      "cell_type": "code",
      "execution_count": 83,
      "metadata": {
        "id": "Lxyix_AU4OCO"
      },
      "outputs": [],
      "source": [
        "grid_search = GridSearchCV(clf4, hyperparam_grid, cv=10)"
      ]
    },
    {
      "cell_type": "markdown",
      "metadata": {
        "id": "byzA1axg4OCO"
      },
      "source": [
        "When we create the object we pass in:\n",
        "\n",
        "* the classifer - in our case `clf`\n",
        "* the Python dictionary containing the hyperparameters we want to evaluate. In our case `hyperparam_grid`\n",
        "* how many bins we are using. In our case 10: `cv=10`\n",
        "\n",
        "#### now perform `fit`"
      ]
    },
    {
      "cell_type": "code",
      "execution_count": 84,
      "metadata": {
        "id": "KYKf8je-4OCP",
        "outputId": "dea53f18-aea8-426e-c0ac-5897b09566ac",
        "colab": {
          "base_uri": "https://localhost:8080/",
          "height": 118
        }
      },
      "outputs": [
        {
          "output_type": "execute_result",
          "data": {
            "text/plain": [
              "GridSearchCV(cv=10, estimator=DecisionTreeClassifier(max_depth=4),\n",
              "             param_grid=[{'max_depth': [3, 4, 5, 6, 7, 8, 9, 10, 11, 12],\n",
              "                          'min_samples_split': [2, 3, 4, 5]}])"
            ],
            "text/html": [
              "<style>#sk-container-id-4 {color: black;background-color: white;}#sk-container-id-4 pre{padding: 0;}#sk-container-id-4 div.sk-toggleable {background-color: white;}#sk-container-id-4 label.sk-toggleable__label {cursor: pointer;display: block;width: 100%;margin-bottom: 0;padding: 0.3em;box-sizing: border-box;text-align: center;}#sk-container-id-4 label.sk-toggleable__label-arrow:before {content: \"▸\";float: left;margin-right: 0.25em;color: #696969;}#sk-container-id-4 label.sk-toggleable__label-arrow:hover:before {color: black;}#sk-container-id-4 div.sk-estimator:hover label.sk-toggleable__label-arrow:before {color: black;}#sk-container-id-4 div.sk-toggleable__content {max-height: 0;max-width: 0;overflow: hidden;text-align: left;background-color: #f0f8ff;}#sk-container-id-4 div.sk-toggleable__content pre {margin: 0.2em;color: black;border-radius: 0.25em;background-color: #f0f8ff;}#sk-container-id-4 input.sk-toggleable__control:checked~div.sk-toggleable__content {max-height: 200px;max-width: 100%;overflow: auto;}#sk-container-id-4 input.sk-toggleable__control:checked~label.sk-toggleable__label-arrow:before {content: \"▾\";}#sk-container-id-4 div.sk-estimator input.sk-toggleable__control:checked~label.sk-toggleable__label {background-color: #d4ebff;}#sk-container-id-4 div.sk-label input.sk-toggleable__control:checked~label.sk-toggleable__label {background-color: #d4ebff;}#sk-container-id-4 input.sk-hidden--visually {border: 0;clip: rect(1px 1px 1px 1px);clip: rect(1px, 1px, 1px, 1px);height: 1px;margin: -1px;overflow: hidden;padding: 0;position: absolute;width: 1px;}#sk-container-id-4 div.sk-estimator {font-family: monospace;background-color: #f0f8ff;border: 1px dotted black;border-radius: 0.25em;box-sizing: border-box;margin-bottom: 0.5em;}#sk-container-id-4 div.sk-estimator:hover {background-color: #d4ebff;}#sk-container-id-4 div.sk-parallel-item::after {content: \"\";width: 100%;border-bottom: 1px solid gray;flex-grow: 1;}#sk-container-id-4 div.sk-label:hover label.sk-toggleable__label {background-color: #d4ebff;}#sk-container-id-4 div.sk-serial::before {content: \"\";position: absolute;border-left: 1px solid gray;box-sizing: border-box;top: 0;bottom: 0;left: 50%;z-index: 0;}#sk-container-id-4 div.sk-serial {display: flex;flex-direction: column;align-items: center;background-color: white;padding-right: 0.2em;padding-left: 0.2em;position: relative;}#sk-container-id-4 div.sk-item {position: relative;z-index: 1;}#sk-container-id-4 div.sk-parallel {display: flex;align-items: stretch;justify-content: center;background-color: white;position: relative;}#sk-container-id-4 div.sk-item::before, #sk-container-id-4 div.sk-parallel-item::before {content: \"\";position: absolute;border-left: 1px solid gray;box-sizing: border-box;top: 0;bottom: 0;left: 50%;z-index: -1;}#sk-container-id-4 div.sk-parallel-item {display: flex;flex-direction: column;z-index: 1;position: relative;background-color: white;}#sk-container-id-4 div.sk-parallel-item:first-child::after {align-self: flex-end;width: 50%;}#sk-container-id-4 div.sk-parallel-item:last-child::after {align-self: flex-start;width: 50%;}#sk-container-id-4 div.sk-parallel-item:only-child::after {width: 0;}#sk-container-id-4 div.sk-dashed-wrapped {border: 1px dashed gray;margin: 0 0.4em 0.5em 0.4em;box-sizing: border-box;padding-bottom: 0.4em;background-color: white;}#sk-container-id-4 div.sk-label label {font-family: monospace;font-weight: bold;display: inline-block;line-height: 1.2em;}#sk-container-id-4 div.sk-label-container {text-align: center;}#sk-container-id-4 div.sk-container {/* jupyter's `normalize.less` sets `[hidden] { display: none; }` but bootstrap.min.css set `[hidden] { display: none !important; }` so we also need the `!important` here to be able to override the default hidden behavior on the sphinx rendered scikit-learn.org. See: https://github.com/scikit-learn/scikit-learn/issues/21755 */display: inline-block !important;position: relative;}#sk-container-id-4 div.sk-text-repr-fallback {display: none;}</style><div id=\"sk-container-id-4\" class=\"sk-top-container\"><div class=\"sk-text-repr-fallback\"><pre>GridSearchCV(cv=10, estimator=DecisionTreeClassifier(max_depth=4),\n",
              "             param_grid=[{&#x27;max_depth&#x27;: [3, 4, 5, 6, 7, 8, 9, 10, 11, 12],\n",
              "                          &#x27;min_samples_split&#x27;: [2, 3, 4, 5]}])</pre><b>In a Jupyter environment, please rerun this cell to show the HTML representation or trust the notebook. <br />On GitHub, the HTML representation is unable to render, please try loading this page with nbviewer.org.</b></div><div class=\"sk-container\" hidden><div class=\"sk-item sk-dashed-wrapped\"><div class=\"sk-label-container\"><div class=\"sk-label sk-toggleable\"><input class=\"sk-toggleable__control sk-hidden--visually\" id=\"sk-estimator-id-6\" type=\"checkbox\" ><label for=\"sk-estimator-id-6\" class=\"sk-toggleable__label sk-toggleable__label-arrow\">GridSearchCV</label><div class=\"sk-toggleable__content\"><pre>GridSearchCV(cv=10, estimator=DecisionTreeClassifier(max_depth=4),\n",
              "             param_grid=[{&#x27;max_depth&#x27;: [3, 4, 5, 6, 7, 8, 9, 10, 11, 12],\n",
              "                          &#x27;min_samples_split&#x27;: [2, 3, 4, 5]}])</pre></div></div></div><div class=\"sk-parallel\"><div class=\"sk-parallel-item\"><div class=\"sk-item\"><div class=\"sk-label-container\"><div class=\"sk-label sk-toggleable\"><input class=\"sk-toggleable__control sk-hidden--visually\" id=\"sk-estimator-id-7\" type=\"checkbox\" ><label for=\"sk-estimator-id-7\" class=\"sk-toggleable__label sk-toggleable__label-arrow\">estimator: DecisionTreeClassifier</label><div class=\"sk-toggleable__content\"><pre>DecisionTreeClassifier(max_depth=4)</pre></div></div></div><div class=\"sk-serial\"><div class=\"sk-item\"><div class=\"sk-estimator sk-toggleable\"><input class=\"sk-toggleable__control sk-hidden--visually\" id=\"sk-estimator-id-8\" type=\"checkbox\" ><label for=\"sk-estimator-id-8\" class=\"sk-toggleable__label sk-toggleable__label-arrow\">DecisionTreeClassifier</label><div class=\"sk-toggleable__content\"><pre>DecisionTreeClassifier(max_depth=4)</pre></div></div></div></div></div></div></div></div></div></div>"
            ]
          },
          "metadata": {},
          "execution_count": 84
        }
      ],
      "source": [
        "grid_search.fit(pima_train_features, pima_train_labels)"
      ]
    },
    {
      "cell_type": "markdown",
      "metadata": {
        "id": "OQjxNYs-4OCP"
      },
      "source": [
        "When `grid_search` runs, it creates 40 different classifiers and runs 10-fold cross validation on each of them. We can ask `grid_search` what were the parameters of the classifier with the highest accuracy:"
      ]
    },
    {
      "cell_type": "code",
      "execution_count": 85,
      "metadata": {
        "id": "GBpnrOKt4OCP",
        "outputId": "fe28f43e-6296-4e8f-e5d9-d31289c39905",
        "colab": {
          "base_uri": "https://localhost:8080/"
        }
      },
      "outputs": [
        {
          "output_type": "execute_result",
          "data": {
            "text/plain": [
              "{'max_depth': 8, 'min_samples_split': 5}"
            ]
          },
          "metadata": {},
          "execution_count": 85
        }
      ],
      "source": [
        "grid_search.best_params_"
      ]
    },
    {
      "cell_type": "markdown",
      "metadata": {
        "id": "4i9Do8rB4OCP"
      },
      "source": [
        "We can also ask `grid_search` to return the best classifier so we can use it to make predictions."
      ]
    },
    {
      "cell_type": "code",
      "execution_count": 86,
      "metadata": {
        "id": "8aKPmw9D4OCP"
      },
      "outputs": [],
      "source": [
        "predictions = grid_search.best_estimator_.predict(pima_test_features)"
      ]
    },
    {
      "cell_type": "code",
      "execution_count": 87,
      "metadata": {
        "id": "z8M1ZWIN4OCP",
        "outputId": "978a8a6e-813a-48b0-ce9b-9f03ae7f4a90",
        "colab": {
          "base_uri": "https://localhost:8080/"
        }
      },
      "outputs": [
        {
          "output_type": "execute_result",
          "data": {
            "text/plain": [
              "0.7597402597402597"
            ]
          },
          "metadata": {},
          "execution_count": 87
        }
      ],
      "source": [
        "\n",
        "accuracy_score(pima_test_labels, predictions)"
      ]
    },
    {
      "cell_type": "markdown",
      "metadata": {
        "id": "E7UkRyHa4OCP"
      },
      "source": [
        "As you can see, grid search is extremely helpful in tuning a classifier to work well with a particular problem.\n",
        "\n"
      ]
    },
    {
      "cell_type": "code",
      "execution_count": null,
      "metadata": {
        "id": "zqXLU3AC4OCP"
      },
      "outputs": [],
      "source": []
    }
  ],
  "metadata": {
    "colab": {
      "collapsed_sections": [
        "ucL5HPSo4OCM",
        "k9dZCyJm4OCM",
        "iomQ8KEP4OCO"
      ],
      "name": "Working Version of WorkingWithData.ipynb",
      "provenance": []
    },
    "kernelspec": {
      "display_name": "Python 3 (ipykernel)",
      "language": "python",
      "name": "python3"
    },
    "language_info": {
      "codemirror_mode": {
        "name": "ipython",
        "version": 3
      },
      "file_extension": ".py",
      "mimetype": "text/x-python",
      "name": "python",
      "nbconvert_exporter": "python",
      "pygments_lexer": "ipython3",
      "version": "3.9.12"
    }
  },
  "nbformat": 4,
  "nbformat_minor": 0
}