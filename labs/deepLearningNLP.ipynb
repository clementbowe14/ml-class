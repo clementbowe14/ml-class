{
  "cells": [
    {
      "cell_type": "markdown",
      "metadata": {
        "id": "view-in-github",
        "colab_type": "text"
      },
      "source": [
        "<a href=\"https://colab.research.google.com/github/clementbowe14/ml-class/blob/main/labs/deepLearningNLP.ipynb\" target=\"_parent\"><img src=\"https://colab.research.google.com/assets/colab-badge.svg\" alt=\"Open In Colab\"/></a>"
      ]
    },
    {
      "cell_type": "code",
      "execution_count": null,
      "metadata": {
        "id": "hHAxGRCXb7X_",
        "outputId": "b3703912-31a9-461b-b01a-973f5c246246",
        "colab": {
          "base_uri": "https://localhost:8080/"
        }
      },
      "outputs": [
        {
          "output_type": "stream",
          "name": "stdout",
          "text": [
            "Tue Apr 18 13:56:55 2023       \n",
            "+-----------------------------------------------------------------------------+\n",
            "| NVIDIA-SMI 525.85.12    Driver Version: 525.85.12    CUDA Version: 12.0     |\n",
            "|-------------------------------+----------------------+----------------------+\n",
            "| GPU  Name        Persistence-M| Bus-Id        Disp.A | Volatile Uncorr. ECC |\n",
            "| Fan  Temp  Perf  Pwr:Usage/Cap|         Memory-Usage | GPU-Util  Compute M. |\n",
            "|                               |                      |               MIG M. |\n",
            "|===============================+======================+======================|\n",
            "|   0  Tesla T4            Off  | 00000000:00:04.0 Off |                    0 |\n",
            "| N/A   40C    P8     9W /  70W |      0MiB / 15360MiB |      0%      Default |\n",
            "|                               |                      |                  N/A |\n",
            "+-------------------------------+----------------------+----------------------+\n",
            "                                                                               \n",
            "+-----------------------------------------------------------------------------+\n",
            "| Processes:                                                                  |\n",
            "|  GPU   GI   CI        PID   Type   Process name                  GPU Memory |\n",
            "|        ID   ID                                                   Usage      |\n",
            "|=============================================================================|\n",
            "|  No running processes found                                                 |\n",
            "+-----------------------------------------------------------------------------+\n"
          ]
        }
      ],
      "source": [
        "!nvidia-smi"
      ]
    },
    {
      "cell_type": "markdown",
      "metadata": {
        "id": "Omp4N9HXb-b4"
      },
      "source": [
        "\n",
        "# Deep Learning for Natural Language Processing\n",
        "\n",
        "Natural Language Processing (NLP) covers machine learning techniques dealing with text and includes\n",
        "\n",
        "* classification\n",
        "  * sentiment analyis (is this tweet a Pro-Biden or Anti-Biden one)\n",
        "  * stylometrics (was this typed suicide note really from the deceased or did the murderer write it [1](https://www.rosette.com/case-studies/alias/), [2](https://www.ncbi.nlm.nih.gov/pmc/articles/PMC3107011/)\n",
        "  * general classification (out of 40 topics, which is this article about)\n",
        "* question answering (building systems that can answer questions -- *What is the best treatment for hemangiosarcoma in dogs?*)\n",
        "* machine translation\n",
        "* speech recognition\n",
        "\n",
        "among many others. Deep Learning has led to tremendous improvements in all these areas of NLP. \n",
        "\n",
        "In this notebook, we are going to examine classification systems for textual information.\n",
        "\n",
        "\n"
      ]
    },
    {
      "cell_type": "markdown",
      "metadata": {
        "id": "Cm5JKEGBvFZH"
      },
      "source": [
        "\n",
        "## Analyzing and Classifying Text\n",
        "\n",
        "\n",
        "\n",
        "<img src=\"https://raw.githubusercontent.com/zacharski/ml-class/master/labs/pics/tiles.jpg\" width=\"500\"/>\n",
        "\n",
        "So far we have been dealing with **structured data**. Structured data is ... well ... structured. This means that an instance of our data has nice attributes that can be represented in a DataFrame or a table:\n",
        "\n",
        "make | mpg | cylinders | HP | 0-60 |\n",
        "---- | :---: | :---: | :---: | :---: |\n",
        "Fiat | 38 | 4 | 157   | 6.9 \n",
        "Ford F150 | 19 | 6 | 386 | 6.3 \n",
        "Mazda 3 | 37 | 4 | 155 |  7.5 \n",
        "Ford Escape | 27 | 4 | 245 | 7.1 \n",
        "Kia Soul | 31 | 4 | 164 | 8.5 \n",
        "\n",
        "The majority of data in the world is **unstructured**. Take text for example. Suppose I have a corpus of twitter posts from former president Donald Trump and the Dalai Lama and my goal is to create a classifier that takes a tweet and tells me if it was produced by Trump or the Dalai Lama:\n",
        "\n",
        "*The purpose of education is to build a happier society, we need a more holistic approach that promotes the practice of love and compassion.*\n",
        "\n",
        "*How low has President Obama gone to tapp my phones during the very sacred election*\n",
        "\n",
        "We might consider  the columns of a table to be things like *first word of the tweet*, *second word of the tweet* and so on:\n",
        "\n",
        "\n",
        "id | word 1 | word 2 | word 3 | word 4 |word 5 |word 6 | ... |\n",
        "---- | :---: | :---: | :---: | :---: | :---: |:---: |:---: |\n",
        "1 | The | purpose | of   | education |is | to | ...\n",
        "2 | How | low | has |President | Obama | gone | ...\n",
        "\n",
        "So we would be counting how many times the word *President* occurred as the fourth word of a tweet. **But that would be the wrong way to go**. First, the deep learning models we have developed so far require input of a specific length. For example, we resized our dog and cat images to a uniform 150x150 and because each image was a uniform size we could specify the input shape of our network to be ....\n",
        "\n",
        "```\n",
        "model.add(layers.Conv2D(32, (3, 3), activation='relu', input_shape=(150, 150, 3)))\n",
        "```\n",
        "\n",
        "But what should the input length be for tweets? Sometimes there are short, one-word, tweets like *nice*. The average length of a tweet is 30 characters so something like the six word *Today, Toaster is 10 years old.*  And the limit of course is 280 characters so...\n",
        "\n",
        "> Like anything else, life has a beginning and in due course must end. In between those two events the important goal should be to live meaningfully, not to create trouble for others. If we can do that, when the end comes, we can go feeling at peace.\n",
        "\n",
        "That's 47 words so maybe we can limit our input to 50 words and for shorter tweets we can pad them with blank words.  But there is another possibility ...\n",
        "\n",
        "### Bag of Words (bow)\n",
        "\n",
        "A more common way to represent text is to treat the text as an unordered set of words, which is called the **bag of words** approach. \n",
        "\n",
        "\n",
        "<img src=\"https://raw.githubusercontent.com/zacharski/ml-class/master/labs/pics/BagofWords.jpg\" width=\"350\"/>\n",
        "\n",
        "With the bag of words approach we count word occurrences and the features (what we might think of as columns) are the unique words. For example, we have a collection of Trump and Dalai Lama tweets and indicate whether the word occurred in the tweet or not. So we might get something like:\n",
        "\n",
        "id | a | the | compassion | love |sad |fake | rigged | ... |\n",
        "---- | :---: | :---: | :---: | :---: | :---: |:---: |:---: | :---:\n",
        "Trump_1 | 1 | 0 | 0   | 0 |1 | 1 | 1 |...\n",
        "Trump_2 | 1 | 1 | 0   | 0 | 0 | 1 | 1 |...\n",
        "DalaiLama_1 | 1 | 1 | 1 |1 | 0 | 0 | 0 | ...\n",
        "\n",
        "So, for example, in DalaiLama_1, in the text there was\n",
        "\n",
        "* an occurrence of *a*\n",
        "* an occurrence of *the*\n",
        "* an occurrence of *compassion*\n",
        "* an occurrence of *love*\n",
        "\n",
        "We don't know what order the words occurred in, we just know what words occurred in the tweet. This is the bag-of-words method. \n",
        "\n",
        "Instead of short text snippets like tweets, let's say we are analyzing speeches of Trump and the Dalai Lama. Maybe then we will count how many times they used each word. So something like:\n",
        "\n",
        "id | a | the | compassion | love |sad |fake | rigged | ... |\n",
        "---- | :---: | :---: | :---: | :---: | :---: |:---: |:---: | :---:\n",
        "Trump_1 | 52 | 25 | 0   | 0 |21 | 82 | 19 |...\n",
        "Trump_2 | 30 | 35 | 0   | 0 | 5 | 20 | 31 |...\n",
        "DalaiLama_1 | 60 | 271 | 27 |63 | 12 | 0 | 0 | ...\n",
        "\n",
        "Of course we are still faced with how many columns to make, representing the vocabulary size. We could limit it to the 10,000 most common words, for example.\n",
        "\n",
        "Once we have the text in this format we can use the standard deep learning classification techniques we used before.\n",
        "\n",
        "\n",
        "Converting **unstructured** text to something **structured** is a multistep process. Let's learn the bits before putting it together. And we will start with the last step first-- creating the bag of words.\n",
        "\n",
        "### Import Keras ...\n",
        "\n"
      ]
    },
    {
      "cell_type": "code",
      "execution_count": null,
      "metadata": {
        "id": "-igfitKjuYru",
        "outputId": "1643f5a8-3aa6-4c7b-b50f-d3533b35d6f4",
        "colab": {
          "base_uri": "https://localhost:8080/",
          "height": 35
        }
      },
      "outputs": [
        {
          "output_type": "execute_result",
          "data": {
            "text/plain": [
              "'2.12.0'"
            ],
            "application/vnd.google.colaboratory.intrinsic+json": {
              "type": "string"
            }
          },
          "metadata": {},
          "execution_count": 2
        }
      ],
      "source": [
        "import keras\n",
        "keras.__version__"
      ]
    },
    {
      "cell_type": "markdown",
      "metadata": {
        "id": "y1153Guw8wB_"
      },
      "source": [
        "### Some sample data"
      ]
    },
    {
      "cell_type": "code",
      "execution_count": null,
      "metadata": {
        "id": "u1mf095J8u_0"
      },
      "outputs": [],
      "source": [
        "trump1 = \"How low has President Obama gone to tapp my phones during the very sacred election process. This is Nixon/Watergate. Obama bad (or sick) guy! Sad\"\n",
        "trump2 = \"Our wonderful new Healthcare Bill is now out for review and negotiation. ObamaCare is a complete and total disaster - is imploding fast! Sad\"\n",
        "trump3 = \"Don't let the FAKE NEWS tell you that there is big infighting in the Trump Admin. We are getting along great, and getting major things done!\"\n",
        "trump4 = \"Russia talk is FAKE NEWS put out by the Dems, and played up by the media, in order to mask the big election defeat and the illegal leaks! Sad\"\n",
        "dalaiLama1 = \"The purpose of education is to build a happier society, we need a more holistic approach that promotes the practice of love and compassion.\"\n",
        "dalaiLama2 = \"Be a kind and compassionate person. This is the inner beauty that is a key factor to making a better world.\"\n",
        "dalaiLama3 = \"If our goal is a happier, more peaceful world in the future, only education will bring change.\"\n",
        "dalaiLama4 = \"Love and compassion are important, because they strengthen us. This is a source of hope\"\n",
        "tinyCorpus = [trump1, trump2, trump3, trump4, dalaiLama1, dalaiLama2, dalaiLama3, dalaiLama4]\n",
        "tinyCorpus"
      ]
    },
    {
      "cell_type": "markdown",
      "metadata": {
        "id": "y-y3dlin89du"
      },
      "source": [
        "### Create the bag of words"
      ]
    },
    {
      "cell_type": "code",
      "execution_count": null,
      "metadata": {
        "id": "LrWO8riu80Bm"
      },
      "outputs": [],
      "source": [
        "from keras.preprocessing.text import Tokenizer\n",
        "tokenizer = Tokenizer(num_words=200)\n",
        "tokenizer.fit_on_texts(tinyCorpus)\n",
        "\n",
        "# Directly get the one-hot binary representations.\n",
        "# Note that other vectorization modes than one-hot encoding are supported!\n",
        "one_hot_results = tokenizer.texts_to_matrix(tinyCorpus, mode='binary')\n",
        "# let's look at an example of an encoding ...\n",
        "print(one_hot_results[0])\n",
        "\n",
        "\n",
        "# This is how you can recover the word index that was computed\n",
        "word_index = tokenizer.word_index\n",
        "print('Found %s unique tokens.' % len(word_index))"
      ]
    },
    {
      "cell_type": "markdown",
      "metadata": {
        "id": "p13Daqp__dfB"
      },
      "source": [
        "That was pretty easy. And now we have the texts in a form we can use for deep learning.\n",
        "\n",
        "Instead of the binary choice (a 1 if the word is present and a 0 if not) -- `mode='binary'` we can count how many occurrences of each word there were in the text by using `mode='count'`:\n"
      ]
    },
    {
      "cell_type": "code",
      "execution_count": null,
      "metadata": {
        "id": "GgOPTdZf_sBy"
      },
      "outputs": [],
      "source": [
        "one_hot_results = tokenizer.texts_to_matrix(tinyCorpus, mode='count')\n",
        "# let's look at an example of an encoding ...\n",
        "print(one_hot_results[1])"
      ]
    },
    {
      "cell_type": "markdown",
      "metadata": {
        "id": "skKDJALg_-Is"
      },
      "source": [
        "So in the first tweet:\n",
        "\n",
        "> 'Our wonderful new Healthcare Bill is now out for review and negotiation. ObamaCare is a complete and total disaster - is imploding fast! Sad',\n",
        "\n",
        "There were 3 occurrences of the word *is*, 2 of *and*, and so on as indicated in the first row above.\n",
        "\n",
        "How do we know what columns are associated with which words? We can use the word_index.\n",
        "\n"
      ]
    },
    {
      "cell_type": "code",
      "execution_count": null,
      "metadata": {
        "id": "HwaZVV8fAMnL"
      },
      "outputs": [],
      "source": [
        "# tokenizer.word_index is a python dictionary containing the word as a key and the column as its value\n",
        "[(k, v) for k, v in sorted(tokenizer.word_index.items(), key=lambda item: item[1])]"
      ]
    },
    {
      "cell_type": "markdown",
      "metadata": {
        "id": "b-F8umxI-JnV"
      },
      "source": [
        "So, *the, is, and, a, to* are the words represented by the first five columns.\n",
        "\n",
        "\n",
        "# TF-IDF representation\n",
        "\n",
        "![](https://raw.githubusercontent.com/zacharski/ml-class/master/labs/pics/bigTFIDF.png)\n",
        "So far we looked at \n",
        "\n",
        "* a binary bag-of-words (whether or not the word was present in the text).\n",
        "* a raw count bag-of-words (counting how many occurrences of each word)\n",
        "\n",
        "There are several other approaches\n",
        "We could represent a document as a bag of words and their probabilities (`mode=\"freq\"`). For example, in *Tom Sawyer* 4.6% of the words are *the* and 0.95% are *Tom*. But the word *the* probably occurs in most novels with that frequency. So in some sense the word *the* is uninteresting. On the other hand *Tom* probably occurs much more frequently in *Tom Sawyer* than it does in *Moby Dick* and, in that way, it is a more interesting word. One way to discount words that occur evenly throughout our document collection is to use TF-IDF.  \n",
        "\n",
        "* TF: Term Frequency - each word uprated by how often the word occurs in the document.\n",
        "* IDF Inverse Document Frequency - how often the word appears in the entire corpus\n",
        "\n",
        "\n",
        "\n",
        "> TF-IDF was first proposed by Karen Sparck Jones as a heuristic--not having any theoretical foundation. Researchers since then have tried to justify this metric by relating it to probablistic theories and information theories. But these attempts have been problematic. Nevertheless, as we will see, this heuristic works quite well. \n",
        "\n",
        "The formula is\n",
        "\n",
        "### $$ tfidf(t, d) = tf(t,d) \\times idf(t) $$\n",
        "\n",
        "where *t* is the term (the word) and *d* is the document.\n",
        "\n",
        "To explain this I will use some made up data--the word counts of 5 emails (and for the sake of later computations let's assume that each email is 100 words long):\n",
        "\n",
        "id | the | sad | compassion |  \n",
        "----: | :---: | :---: | :---:\n",
        "1 | 3 | 0 | 1 \n",
        "2 | 3 | 0 | 0 \n",
        "3 | 4 | 0 | 0 \n",
        "4 | 3 | 2 | 0 \n",
        "5 | 3 | 0 | 2\n",
        "\n",
        "\n",
        "The intuition is this. Even though the word *the* occurs frequently in each email, it is unlikely to help us classify email because it occurs in **every** email. The words *sad* and *compassion* are more interesting as they don't occur uniformly in our collection. \n",
        "\n",
        "#### TF\n",
        "\n",
        "The TF part of TF-IDF refers to how often the word occurs in the document. There are a number of ways to define TF. The simplist is to use the raw count.  So for example, the TF of *the* in document 1 is 3 (the word *the* occurred 3 times in document 1). One problem with this approach is that the raw count is influenced by the length of the document. So if you in your 1,000 word essay on Tom Sachs use 50 occurrences of *the* and Jane in her 90,000 word Zen van life mystery novel use 4,5000 occurrences of *the*, it doesn't mean that Jane is a bigger fan of *the* than you are. Even though there is that disparity in the raw counts it is not a characteristic that will help us distinguish texts about Zen from those about Tom Sachs.  In both the 1,000 word essay and the 90,000 word book about 5% of the words are *the*. A popular measure of TF is to divide the number of occurrences of a word by the total words in the document. So the TF of the word *the* in both your 1,000 word essay and my novel would be .05\n",
        "\n",
        "\n",
        "\n",
        "\n",
        "#### IDF\n",
        "\n",
        "IDF is defined as:\n",
        "\n",
        "### $$ idf(t)=\\log\\frac{1+n_d}{1+df(d,t)}+ 1 $$\n",
        "\n",
        "$n_d$ is the total number of documents and $df(d,t)$ is how many documents the term *t* occurred in. \n",
        "\n",
        "So:\n",
        "\n",
        "### $$ idf(the)=\\log\\frac{1+5}{1+5}+ 1 =  1.5 $$\n",
        "\n",
        "### $$ idf(compassion)=\\log\\frac{1+5}{1+2}+ 1 = \\log{2} + 1 =  2 $$\n",
        "\n",
        "So, *the* in document 1 has a tf-idf of $.03 \\times 1.5 = 0.045$ and *compassion* has a tf-idf of $.01 \\times \\ 2 = 0.02$\n",
        "\n",
        "This is a fairly important concept to understand. I was asked about tf-idf in my oral exam to become a certified instructor at the Deep Learning Institute and fortunately I knew about it. \n",
        "\n",
        "It is also important to know that while it works well as a heuristic and has been around since the 70s, there really is no theoretical foundation to it. \n",
        "\n",
        "With all that as background, it is easy to convert a document collection into an array of TFIDF values:"
      ]
    },
    {
      "cell_type": "code",
      "execution_count": null,
      "metadata": {
        "id": "-KVXgJ3R9Pmf"
      },
      "outputs": [],
      "source": [
        "one_hot_results = tokenizer.texts_to_matrix(tinyCorpus, mode='tfidf')\n",
        "# let's look at an example of an encoding ...\n",
        "print(one_hot_results[1])"
      ]
    },
    {
      "cell_type": "markdown",
      "metadata": {
        "id": "NTRonUNXFZRj"
      },
      "source": [
        "Again, once we have this representation we can use the deep learning methods we already used.\n",
        "\n",
        "\n",
        "## An initial example - IMDB\n",
        "\n",
        "![](https://raw.githubusercontent.com/zacharski/ml-class/master/labs/pics/imdb.png)\n",
        "\n",
        "The Internet Movie DataBase consists of 50,000 movie reviews and contains an equal number of positive and negative reviews. The task of identifying the affect of a text (whether it is postive or negative, or how strongly someone feels about the topic) is called **sentiment analysis**. \n",
        "\n",
        "### Load the data"
      ]
    },
    {
      "cell_type": "code",
      "execution_count": null,
      "metadata": {
        "id": "xLDR_eiY1YCL",
        "colab": {
          "base_uri": "https://localhost:8080/"
        },
        "outputId": "c14be6ee-cfca-4d71-c457-1c437aa2be42"
      },
      "outputs": [
        {
          "output_type": "stream",
          "name": "stdout",
          "text": [
            "--2023-04-19 16:00:23--  http://zacharski.org/files/courses/cs419/imdb.zip\n",
            "Resolving zacharski.org (zacharski.org)... 198.199.65.227\n",
            "Connecting to zacharski.org (zacharski.org)|198.199.65.227|:80... connected.\n",
            "HTTP request sent, awaiting response... 200 OK\n",
            "Length: 26559010 (25M) [application/zip]\n",
            "Saving to: ‘imdb.zip’\n",
            "\n",
            "imdb.zip            100%[===================>]  25.33M  5.79MB/s    in 4.4s    \n",
            "\n",
            "2023-04-19 16:00:28 (5.79 MB/s) - ‘imdb.zip’ saved [26559010/26559010]\n",
            "\n",
            "Archive:  imdb.zip\n",
            "  inflating: imdb.csv                \n"
          ]
        }
      ],
      "source": [
        "!wget http://zacharski.org/files/courses/cs419/imdb.zip\n",
        "!unzip imdb.zip"
      ]
    },
    {
      "cell_type": "code",
      "execution_count": null,
      "metadata": {
        "id": "YLkosiEaRc2W",
        "colab": {
          "base_uri": "https://localhost:8080/"
        },
        "outputId": "d1ba4161-7c82-4f69-e098-b4683de236ef"
      },
      "outputs": [
        {
          "output_type": "stream",
          "name": "stdout",
          "text": [
            "total 90608\n",
            "-rw-r--r-- 1 root root 66212309 Oct 31  2020 imdb.csv\n",
            "-rw-r--r-- 1 root root 26559010 Oct 31  2020 imdb.zip\n",
            "drwxr-xr-x 1 root root     4096 Apr 14 13:35 sample_data\n"
          ]
        }
      ],
      "source": [
        "!ls -l"
      ]
    },
    {
      "cell_type": "markdown",
      "metadata": {
        "id": "dAnWmyR3rgK6"
      },
      "source": [
        "The zip file only contained one file so we could have read it directly.  Since we already unzipped it let's use the unzipped version."
      ]
    },
    {
      "cell_type": "code",
      "execution_count": null,
      "metadata": {
        "id": "T0tpCqv_BkWF",
        "colab": {
          "base_uri": "https://localhost:8080/",
          "height": 423
        },
        "outputId": "11ab9d04-3d4d-4d4b-f323-e030041f11ae"
      },
      "outputs": [
        {
          "output_type": "execute_result",
          "data": {
            "text/plain": [
              "                                                  review sentiment\n",
              "0      One of the other reviewers has mentioned that ...  positive\n",
              "1      A wonderful little production. <br /><br />The...  positive\n",
              "2      I thought this was a wonderful way to spend ti...  positive\n",
              "3      Basically there's a family where a little boy ...  negative\n",
              "4      Petter Mattei's \"Love in the Time of Money\" is...  positive\n",
              "...                                                  ...       ...\n",
              "49995  I thought this movie did a down right good job...  positive\n",
              "49996  Bad plot, bad dialogue, bad acting, idiotic di...  negative\n",
              "49997  I am a Catholic taught in parochial elementary...  negative\n",
              "49998  I'm going to have to disagree with the previou...  negative\n",
              "49999  No one expects the Star Trek movies to be high...  negative\n",
              "\n",
              "[50000 rows x 2 columns]"
            ],
            "text/html": [
              "\n",
              "  <div id=\"df-36b6a769-8ae8-4522-8166-947a920f3d0b\">\n",
              "    <div class=\"colab-df-container\">\n",
              "      <div>\n",
              "<style scoped>\n",
              "    .dataframe tbody tr th:only-of-type {\n",
              "        vertical-align: middle;\n",
              "    }\n",
              "\n",
              "    .dataframe tbody tr th {\n",
              "        vertical-align: top;\n",
              "    }\n",
              "\n",
              "    .dataframe thead th {\n",
              "        text-align: right;\n",
              "    }\n",
              "</style>\n",
              "<table border=\"1\" class=\"dataframe\">\n",
              "  <thead>\n",
              "    <tr style=\"text-align: right;\">\n",
              "      <th></th>\n",
              "      <th>review</th>\n",
              "      <th>sentiment</th>\n",
              "    </tr>\n",
              "  </thead>\n",
              "  <tbody>\n",
              "    <tr>\n",
              "      <th>0</th>\n",
              "      <td>One of the other reviewers has mentioned that ...</td>\n",
              "      <td>positive</td>\n",
              "    </tr>\n",
              "    <tr>\n",
              "      <th>1</th>\n",
              "      <td>A wonderful little production. &lt;br /&gt;&lt;br /&gt;The...</td>\n",
              "      <td>positive</td>\n",
              "    </tr>\n",
              "    <tr>\n",
              "      <th>2</th>\n",
              "      <td>I thought this was a wonderful way to spend ti...</td>\n",
              "      <td>positive</td>\n",
              "    </tr>\n",
              "    <tr>\n",
              "      <th>3</th>\n",
              "      <td>Basically there's a family where a little boy ...</td>\n",
              "      <td>negative</td>\n",
              "    </tr>\n",
              "    <tr>\n",
              "      <th>4</th>\n",
              "      <td>Petter Mattei's \"Love in the Time of Money\" is...</td>\n",
              "      <td>positive</td>\n",
              "    </tr>\n",
              "    <tr>\n",
              "      <th>...</th>\n",
              "      <td>...</td>\n",
              "      <td>...</td>\n",
              "    </tr>\n",
              "    <tr>\n",
              "      <th>49995</th>\n",
              "      <td>I thought this movie did a down right good job...</td>\n",
              "      <td>positive</td>\n",
              "    </tr>\n",
              "    <tr>\n",
              "      <th>49996</th>\n",
              "      <td>Bad plot, bad dialogue, bad acting, idiotic di...</td>\n",
              "      <td>negative</td>\n",
              "    </tr>\n",
              "    <tr>\n",
              "      <th>49997</th>\n",
              "      <td>I am a Catholic taught in parochial elementary...</td>\n",
              "      <td>negative</td>\n",
              "    </tr>\n",
              "    <tr>\n",
              "      <th>49998</th>\n",
              "      <td>I'm going to have to disagree with the previou...</td>\n",
              "      <td>negative</td>\n",
              "    </tr>\n",
              "    <tr>\n",
              "      <th>49999</th>\n",
              "      <td>No one expects the Star Trek movies to be high...</td>\n",
              "      <td>negative</td>\n",
              "    </tr>\n",
              "  </tbody>\n",
              "</table>\n",
              "<p>50000 rows × 2 columns</p>\n",
              "</div>\n",
              "      <button class=\"colab-df-convert\" onclick=\"convertToInteractive('df-36b6a769-8ae8-4522-8166-947a920f3d0b')\"\n",
              "              title=\"Convert this dataframe to an interactive table.\"\n",
              "              style=\"display:none;\">\n",
              "        \n",
              "  <svg xmlns=\"http://www.w3.org/2000/svg\" height=\"24px\"viewBox=\"0 0 24 24\"\n",
              "       width=\"24px\">\n",
              "    <path d=\"M0 0h24v24H0V0z\" fill=\"none\"/>\n",
              "    <path d=\"M18.56 5.44l.94 2.06.94-2.06 2.06-.94-2.06-.94-.94-2.06-.94 2.06-2.06.94zm-11 1L8.5 8.5l.94-2.06 2.06-.94-2.06-.94L8.5 2.5l-.94 2.06-2.06.94zm10 10l.94 2.06.94-2.06 2.06-.94-2.06-.94-.94-2.06-.94 2.06-2.06.94z\"/><path d=\"M17.41 7.96l-1.37-1.37c-.4-.4-.92-.59-1.43-.59-.52 0-1.04.2-1.43.59L10.3 9.45l-7.72 7.72c-.78.78-.78 2.05 0 2.83L4 21.41c.39.39.9.59 1.41.59.51 0 1.02-.2 1.41-.59l7.78-7.78 2.81-2.81c.8-.78.8-2.07 0-2.86zM5.41 20L4 18.59l7.72-7.72 1.47 1.35L5.41 20z\"/>\n",
              "  </svg>\n",
              "      </button>\n",
              "      \n",
              "  <style>\n",
              "    .colab-df-container {\n",
              "      display:flex;\n",
              "      flex-wrap:wrap;\n",
              "      gap: 12px;\n",
              "    }\n",
              "\n",
              "    .colab-df-convert {\n",
              "      background-color: #E8F0FE;\n",
              "      border: none;\n",
              "      border-radius: 50%;\n",
              "      cursor: pointer;\n",
              "      display: none;\n",
              "      fill: #1967D2;\n",
              "      height: 32px;\n",
              "      padding: 0 0 0 0;\n",
              "      width: 32px;\n",
              "    }\n",
              "\n",
              "    .colab-df-convert:hover {\n",
              "      background-color: #E2EBFA;\n",
              "      box-shadow: 0px 1px 2px rgba(60, 64, 67, 0.3), 0px 1px 3px 1px rgba(60, 64, 67, 0.15);\n",
              "      fill: #174EA6;\n",
              "    }\n",
              "\n",
              "    [theme=dark] .colab-df-convert {\n",
              "      background-color: #3B4455;\n",
              "      fill: #D2E3FC;\n",
              "    }\n",
              "\n",
              "    [theme=dark] .colab-df-convert:hover {\n",
              "      background-color: #434B5C;\n",
              "      box-shadow: 0px 1px 3px 1px rgba(0, 0, 0, 0.15);\n",
              "      filter: drop-shadow(0px 1px 2px rgba(0, 0, 0, 0.3));\n",
              "      fill: #FFFFFF;\n",
              "    }\n",
              "  </style>\n",
              "\n",
              "      <script>\n",
              "        const buttonEl =\n",
              "          document.querySelector('#df-36b6a769-8ae8-4522-8166-947a920f3d0b button.colab-df-convert');\n",
              "        buttonEl.style.display =\n",
              "          google.colab.kernel.accessAllowed ? 'block' : 'none';\n",
              "\n",
              "        async function convertToInteractive(key) {\n",
              "          const element = document.querySelector('#df-36b6a769-8ae8-4522-8166-947a920f3d0b');\n",
              "          const dataTable =\n",
              "            await google.colab.kernel.invokeFunction('convertToInteractive',\n",
              "                                                     [key], {});\n",
              "          if (!dataTable) return;\n",
              "\n",
              "          const docLinkHtml = 'Like what you see? Visit the ' +\n",
              "            '<a target=\"_blank\" href=https://colab.research.google.com/notebooks/data_table.ipynb>data table notebook</a>'\n",
              "            + ' to learn more about interactive tables.';\n",
              "          element.innerHTML = '';\n",
              "          dataTable['output_type'] = 'display_data';\n",
              "          await google.colab.output.renderOutput(dataTable, element);\n",
              "          const docLink = document.createElement('div');\n",
              "          docLink.innerHTML = docLinkHtml;\n",
              "          element.appendChild(docLink);\n",
              "        }\n",
              "      </script>\n",
              "    </div>\n",
              "  </div>\n",
              "  "
            ]
          },
          "metadata": {},
          "execution_count": 18
        }
      ],
      "source": [
        "import pandas as pd\n",
        "data = pd.read_csv('imdb.csv')\n",
        "data"
      ]
    },
    {
      "cell_type": "code",
      "source": [
        "data.sentiment.unique()"
      ],
      "metadata": {
        "colab": {
          "base_uri": "https://localhost:8080/"
        },
        "id": "7Afcy35bPojU",
        "outputId": "4ad09e25-9289-4326-c71c-58ad67d6b480"
      },
      "execution_count": null,
      "outputs": [
        {
          "output_type": "execute_result",
          "data": {
            "text/plain": [
              "array(['positive', 'negative'], dtype=object)"
            ]
          },
          "metadata": {},
          "execution_count": 19
        }
      ]
    },
    {
      "cell_type": "markdown",
      "metadata": {
        "id": "Eg97QeqW2KoT"
      },
      "source": [
        "Now let's separate the texts from the labels. Also note that the labels are the strings *positive* and *negative* so let's convert those to 1 and 0."
      ]
    },
    {
      "cell_type": "code",
      "execution_count": null,
      "metadata": {
        "id": "ql-GmhdXLShN",
        "colab": {
          "base_uri": "https://localhost:8080/"
        },
        "outputId": "4db69bbd-e86e-4194-b660-098648a665c9"
      },
      "outputs": [
        {
          "output_type": "execute_result",
          "data": {
            "text/plain": [
              "0        1\n",
              "1        1\n",
              "2        1\n",
              "3        0\n",
              "4        1\n",
              "        ..\n",
              "49995    1\n",
              "49996    0\n",
              "49997    0\n",
              "49998    0\n",
              "49999    0\n",
              "Name: sentiment, Length: 50000, dtype: int64"
            ]
          },
          "metadata": {},
          "execution_count": 20
        }
      ],
      "source": [
        "data_text = data.review\n",
        "data_label =data.sentiment\n",
        "data_label =  data['sentiment'].apply(lambda x: 1 if x == 'positive' else 0)\n",
        "data_label "
      ]
    },
    {
      "cell_type": "markdown",
      "metadata": {
        "id": "NXn9kHUb2cn1"
      },
      "source": [
        "### TFIDF\n",
        "Now we are going to convert the text represented as strings to a tfidf representation. \n",
        "\n",
        "Let's use the 5,000 most common words in the documents (`Tokenizer(num_words=5000)`)\n",
        "\n",
        "This will take a bit of time!"
      ]
    },
    {
      "cell_type": "code",
      "execution_count": null,
      "metadata": {
        "id": "XOjTzQdOJz-Z",
        "colab": {
          "base_uri": "https://localhost:8080/"
        },
        "outputId": "dd3a8c51-3697-492c-d8c6-8a1a64c62255"
      },
      "outputs": [
        {
          "output_type": "stream",
          "name": "stdout",
          "text": [
            "[0.         2.63159248 1.98374445 ... 0.         0.         0.        ]\n"
          ]
        }
      ],
      "source": [
        "from keras.preprocessing.text import Tokenizer\n",
        "tokenizer = Tokenizer(num_words=5000)\n",
        "tokenizer.fit_on_texts(data_text)\n",
        "\n",
        "# Directly get the one-hot binary representations.\n",
        "# Note that other vectorization modes than one-hot encoding are supported!\n",
        "one_hot_results = tokenizer.texts_to_matrix(data_text, mode='tfidf')\n",
        "# let's look at an example of an encoding ...\n",
        "print(one_hot_results[0])"
      ]
    },
    {
      "cell_type": "markdown",
      "metadata": {
        "id": "dC35HHYgbUqW"
      },
      "source": [
        "###  Divide into training and test sets"
      ]
    },
    {
      "cell_type": "code",
      "execution_count": null,
      "metadata": {
        "id": "dbPLee2_MJEd",
        "colab": {
          "base_uri": "https://localhost:8080/"
        },
        "outputId": "4e8447e0-a583-42c8-f93d-9df43dc4443b"
      },
      "outputs": [
        {
          "output_type": "execute_result",
          "data": {
            "text/plain": [
              "33553    1\n",
              "9427     1\n",
              "199      0\n",
              "12447    1\n",
              "39489    0\n",
              "        ..\n",
              "28567    0\n",
              "25079    1\n",
              "18707    1\n",
              "15200    0\n",
              "5857     1\n",
              "Name: sentiment, Length: 10000, dtype: int64"
            ]
          },
          "metadata": {},
          "execution_count": 22
        }
      ],
      "source": [
        "from sklearn.model_selection import train_test_split\n",
        "imdb_train_text, imdb_test_text, imdb_train_labels, imdb_test_labels = train_test_split(one_hot_results, data_label, test_size = 0.2, random_state=42)\n",
        "imdb_test_labels\n"
      ]
    },
    {
      "cell_type": "code",
      "source": [
        "type(imdb_test_labels)"
      ],
      "metadata": {
        "colab": {
          "base_uri": "https://localhost:8080/"
        },
        "id": "EHyObjUUQ-Zg",
        "outputId": "30940667-5930-4dab-fe51-816cbe295111"
      },
      "execution_count": null,
      "outputs": [
        {
          "output_type": "execute_result",
          "data": {
            "text/plain": [
              "pandas.core.series.Series"
            ]
          },
          "metadata": {},
          "execution_count": 23
        }
      ]
    },
    {
      "cell_type": "markdown",
      "metadata": {
        "id": "04NGZqtVdOpF"
      },
      "source": [
        "### Build a deep learning model\n",
        "Let's go with a basic, no frills, model:"
      ]
    },
    {
      "cell_type": "code",
      "execution_count": null,
      "metadata": {
        "id": "Lj35GJladKJs"
      },
      "outputs": [],
      "source": [
        "import keras\n",
        "keras.__version__"
      ]
    },
    {
      "cell_type": "markdown",
      "metadata": {
        "id": "M3BxwR6u3YnG"
      },
      "source": [
        "In our tokenizer we specified a vocabulary size of 5,000 words, so that is our `input_shape`. We are trying to predict a binary 1,0 classification so we need \n",
        "\n",
        "```\n",
        "network.add(layers.Dense(1, activation='sigmoid'))\n",
        "```\n",
        "at the very end of our network. \n",
        "\n",
        "We would like a network with\n",
        "\n",
        "1. a dense layer with 512 nodes and input shape (5000,)\n",
        "2. a dense layer of 256\n",
        "3. A dense layer of 128\n",
        "4. A dense layer (the output layer) of 1 with the sigmoid activation function.\n"
      ]
    },
    {
      "cell_type": "code",
      "execution_count": null,
      "metadata": {
        "id": "4Pb3pBO7dpS4"
      },
      "outputs": [],
      "source": [
        "from keras import models\n",
        "from keras import layers\n",
        "\n",
        "network = models.Sequential()\n",
        "network.add(layers.Dense(512, activation='relu', input_shape=(5000,)))\n",
        "network.add(layers.Dense(256, activation='relu'))\n",
        "network.add(layers.Dense(128, activation='relu'))\n",
        "network.add(layers.Dense(1, activation='sigmoid'))"
      ]
    },
    {
      "cell_type": "markdown",
      "metadata": {
        "id": "0tqZ-8UO30wu"
      },
      "source": [
        "Again, we are predicting a binary 1,0 classification (was it a positive review or not) so we will use `binary_crossentropy` as our loss function"
      ]
    },
    {
      "cell_type": "code",
      "execution_count": null,
      "metadata": {
        "id": "nNchu2tmerGA"
      },
      "outputs": [],
      "source": [
        "from keras import optimizers\n",
        "network.compile(optimizer=optimizers.RMSprop(learning_rate=1e-4),\n",
        "                loss='binary_crossentropy',\n",
        "                metrics=['accuracy'])"
      ]
    },
    {
      "cell_type": "code",
      "execution_count": null,
      "metadata": {
        "id": "F5PiezmrexYS"
      },
      "outputs": [],
      "source": [
        "network.summary()"
      ]
    },
    {
      "cell_type": "markdown",
      "metadata": {
        "id": "bTbirosf4JSO"
      },
      "source": [
        "### fitting to the data\n",
        "Now it is time to fit the network to the data. Let's use 20% of the data for validation and run for 30 epochs."
      ]
    },
    {
      "cell_type": "code",
      "execution_count": null,
      "metadata": {
        "id": "yEP-UYpIe2Vb"
      },
      "outputs": [],
      "source": [
        "history = network.fit(\n",
        "      imdb_train_text, imdb_train_labels,\n",
        "      steps_per_epoch=100,\n",
        "      epochs=30,\n",
        "      validation_split=0.2,\n",
        "      validation_steps=50)"
      ]
    },
    {
      "cell_type": "markdown",
      "metadata": {
        "id": "U1R-XCz-4gEN"
      },
      "source": [
        "### Our accuracy and loss\n",
        "Let's plot out both the training and validation accuracy and loss."
      ]
    },
    {
      "cell_type": "code",
      "execution_count": null,
      "metadata": {
        "id": "x6oPJSbM4gW8"
      },
      "outputs": [],
      "source": [
        "import matplotlib.pyplot as plt\n",
        "\n",
        "acc = history.history['accuracy']\n",
        "val_acc = history.history['val_accuracy']\n",
        "loss = history.history['loss']\n",
        "val_loss = history.history['val_loss']\n",
        "\n",
        "epochs = range(len(acc))\n",
        "\n",
        "plt.plot(epochs, acc, 'bo', label='Training acc')\n",
        "plt.plot(epochs, val_acc, 'b', label='Validation acc')\n",
        "plt.title('Training and validation accuracy')\n",
        "plt.legend()\n",
        "\n",
        "plt.figure()\n",
        "\n",
        "plt.plot(epochs, loss, 'bo', label='Training loss')\n",
        "plt.plot(epochs, val_loss, 'b', label='Validation loss')\n",
        "plt.title('Training and validation loss')\n",
        "plt.legend()\n",
        "\n",
        "plt.show()"
      ]
    },
    {
      "cell_type": "markdown",
      "metadata": {
        "id": "OiqOLIsJ5bg8"
      },
      "source": [
        "What is your interpretation of the plots?\n",
        "\n",
        ".\n",
        "\n",
        ".\n",
        "\n",
        ".\n",
        "\n",
        "\n",
        "Okay, that definitely looks like overfitting. We will examine ways of ameliorating overfitting shortly.  \n",
        "\n",
        "Let's see how our network performs on the test data"
      ]
    },
    {
      "cell_type": "code",
      "execution_count": null,
      "metadata": {
        "id": "Byb8BGdL8Xtr"
      },
      "outputs": [],
      "source": [
        "scoreSeg = network.evaluate(imdb_test_text, imdb_test_labels)\n",
        "print(\"Accuracy: \", scoreSeg[1])"
      ]
    },
    {
      "cell_type": "markdown",
      "metadata": {
        "id": "AaPCNeGgrTdF"
      },
      "source": [
        "Not bad for our first attempt at text classification!!!"
      ]
    },
    {
      "cell_type": "markdown",
      "metadata": {
        "id": "s3Y8Ck5hCfYk"
      },
      "source": [
        "![](https://raw.githubusercontent.com/zacharski/datamining-guide/master/labs/pics/torchdivide.png)\n",
        "\n",
        "\n",
        "# <font color='#EE4C2C'>Climate Change ...</font> \n",
        "\n",
        "\n",
        "\n",
        "![](https://raw.githubusercontent.com/zacharski/ml-class/master/labs/pics/factfake.jpeg)\n",
        "\n",
        "On Twitter there are people who deny climate change:\n",
        "\n",
        "> I don't know about you guys, but I think climate change is -- as Lord Monckton said -- bullsh*t\n",
        "\n",
        "and people who believe it is real:\n",
        "\n",
        "> Millennials, and Gen z, and all these folks that come after us, are looking up and we’re like ‘the world will end in 12 years if we don’t address climate change, and your biggest issue is how are we gonna pay for it?\n",
        "\n",
        "We are going to investigate the sentiment of tweets from the Twitter Climate Change Sentiment Dataset compiled by Edward Qian. The dataset consists of 43,943 tweets. Instead of a binary label (a positive sentiment on climate change or a negative, there are four possible labels:\n",
        "\n",
        "Label | Description\n",
        ":--- | :---- \n",
        "News | the tweet links to factual news about climate change\n",
        "Pro | the tweet supports the belief of man-made climate change\n",
        "Neutral |  the tweet neither supports nor refutes the belief of man-made climate change\n",
        "Anti | the tweet does not believe in man-made climate change\n",
        "\n",
        "\n",
        "![](https://raw.githubusercontent.com/zacharski/datamining-guide/master/labs/pics/PyDivideTwo.png)\n",
        "## <font color='#EE4C2C'>1. Load the data.</font> \n",
        "\n",
        "The file is \n",
        "\n",
        "https://raw.githubusercontent.com/zacharski/ml-class/master/data/climateSentiment.csv.zip\n",
        "\n",
        "You will need:\n",
        "\n",
        "* to load the file\n",
        "* convert the text of the tweet to a tf-idf representation. We will start with using the 5,000 most common words\n",
        "* convert the labels\n",
        "* divide into training and testing."
      ]
    },
    {
      "cell_type": "code",
      "execution_count": 1,
      "metadata": {
        "id": "gvC3tJUiCppb",
        "colab": {
          "base_uri": "https://localhost:8080/",
          "height": 423
        },
        "outputId": "d8e6a0b6-bd25-4088-87a3-6eacef9ce601"
      },
      "outputs": [
        {
          "output_type": "execute_result",
          "data": {
            "text/plain": [
              "      sentiment                                            message  \\\n",
              "0          Anti  @tiniebeany climate change is an interesting h...   \n",
              "1           Pro  RT @NatGeoChannel: Watch #BeforeTheFlood right...   \n",
              "2           Pro  Fabulous! Leonardo #DiCaprio's film on #climat...   \n",
              "3           Pro  RT @Mick_Fanning: Just watched this amazing do...   \n",
              "4          News  RT @cnalive: Pranita Biswasi, a Lutheran from ...   \n",
              "...         ...                                                ...   \n",
              "43938       Pro  Dear @realDonaldTrump,\\nYeah right. Human Medi...   \n",
              "43939       Pro  What will your respective parties do to preven...   \n",
              "43940      News  RT @MikkiL: UN Poll Shows Climate Change Is th...   \n",
              "43941   Neutral  RT @taehbeingextra: i still can$q$t believe th...   \n",
              "43942       Pro  @Likeabat77 @zachhaller \\n\\nThe wealthy + foss...   \n",
              "\n",
              "                  tweetid  \n",
              "0      792927353886371840  \n",
              "1      793124211518832641  \n",
              "2      793124402388832256  \n",
              "3      793124635873275904  \n",
              "4      793125156185137153  \n",
              "...                   ...  \n",
              "43938  791307031919550464  \n",
              "43939  791316857403936768  \n",
              "43940  791357509101621249  \n",
              "43941  791390042136641537  \n",
              "43942  791401610308038656  \n",
              "\n",
              "[43943 rows x 3 columns]"
            ],
            "text/html": [
              "\n",
              "  <div id=\"df-1acb5bbd-39d1-46b6-a8ba-de38d34462dc\">\n",
              "    <div class=\"colab-df-container\">\n",
              "      <div>\n",
              "<style scoped>\n",
              "    .dataframe tbody tr th:only-of-type {\n",
              "        vertical-align: middle;\n",
              "    }\n",
              "\n",
              "    .dataframe tbody tr th {\n",
              "        vertical-align: top;\n",
              "    }\n",
              "\n",
              "    .dataframe thead th {\n",
              "        text-align: right;\n",
              "    }\n",
              "</style>\n",
              "<table border=\"1\" class=\"dataframe\">\n",
              "  <thead>\n",
              "    <tr style=\"text-align: right;\">\n",
              "      <th></th>\n",
              "      <th>sentiment</th>\n",
              "      <th>message</th>\n",
              "      <th>tweetid</th>\n",
              "    </tr>\n",
              "  </thead>\n",
              "  <tbody>\n",
              "    <tr>\n",
              "      <th>0</th>\n",
              "      <td>Anti</td>\n",
              "      <td>@tiniebeany climate change is an interesting h...</td>\n",
              "      <td>792927353886371840</td>\n",
              "    </tr>\n",
              "    <tr>\n",
              "      <th>1</th>\n",
              "      <td>Pro</td>\n",
              "      <td>RT @NatGeoChannel: Watch #BeforeTheFlood right...</td>\n",
              "      <td>793124211518832641</td>\n",
              "    </tr>\n",
              "    <tr>\n",
              "      <th>2</th>\n",
              "      <td>Pro</td>\n",
              "      <td>Fabulous! Leonardo #DiCaprio's film on #climat...</td>\n",
              "      <td>793124402388832256</td>\n",
              "    </tr>\n",
              "    <tr>\n",
              "      <th>3</th>\n",
              "      <td>Pro</td>\n",
              "      <td>RT @Mick_Fanning: Just watched this amazing do...</td>\n",
              "      <td>793124635873275904</td>\n",
              "    </tr>\n",
              "    <tr>\n",
              "      <th>4</th>\n",
              "      <td>News</td>\n",
              "      <td>RT @cnalive: Pranita Biswasi, a Lutheran from ...</td>\n",
              "      <td>793125156185137153</td>\n",
              "    </tr>\n",
              "    <tr>\n",
              "      <th>...</th>\n",
              "      <td>...</td>\n",
              "      <td>...</td>\n",
              "      <td>...</td>\n",
              "    </tr>\n",
              "    <tr>\n",
              "      <th>43938</th>\n",
              "      <td>Pro</td>\n",
              "      <td>Dear @realDonaldTrump,\\nYeah right. Human Medi...</td>\n",
              "      <td>791307031919550464</td>\n",
              "    </tr>\n",
              "    <tr>\n",
              "      <th>43939</th>\n",
              "      <td>Pro</td>\n",
              "      <td>What will your respective parties do to preven...</td>\n",
              "      <td>791316857403936768</td>\n",
              "    </tr>\n",
              "    <tr>\n",
              "      <th>43940</th>\n",
              "      <td>News</td>\n",
              "      <td>RT @MikkiL: UN Poll Shows Climate Change Is th...</td>\n",
              "      <td>791357509101621249</td>\n",
              "    </tr>\n",
              "    <tr>\n",
              "      <th>43941</th>\n",
              "      <td>Neutral</td>\n",
              "      <td>RT @taehbeingextra: i still can$q$t believe th...</td>\n",
              "      <td>791390042136641537</td>\n",
              "    </tr>\n",
              "    <tr>\n",
              "      <th>43942</th>\n",
              "      <td>Pro</td>\n",
              "      <td>@Likeabat77 @zachhaller \\n\\nThe wealthy + foss...</td>\n",
              "      <td>791401610308038656</td>\n",
              "    </tr>\n",
              "  </tbody>\n",
              "</table>\n",
              "<p>43943 rows × 3 columns</p>\n",
              "</div>\n",
              "      <button class=\"colab-df-convert\" onclick=\"convertToInteractive('df-1acb5bbd-39d1-46b6-a8ba-de38d34462dc')\"\n",
              "              title=\"Convert this dataframe to an interactive table.\"\n",
              "              style=\"display:none;\">\n",
              "        \n",
              "  <svg xmlns=\"http://www.w3.org/2000/svg\" height=\"24px\"viewBox=\"0 0 24 24\"\n",
              "       width=\"24px\">\n",
              "    <path d=\"M0 0h24v24H0V0z\" fill=\"none\"/>\n",
              "    <path d=\"M18.56 5.44l.94 2.06.94-2.06 2.06-.94-2.06-.94-.94-2.06-.94 2.06-2.06.94zm-11 1L8.5 8.5l.94-2.06 2.06-.94-2.06-.94L8.5 2.5l-.94 2.06-2.06.94zm10 10l.94 2.06.94-2.06 2.06-.94-2.06-.94-.94-2.06-.94 2.06-2.06.94z\"/><path d=\"M17.41 7.96l-1.37-1.37c-.4-.4-.92-.59-1.43-.59-.52 0-1.04.2-1.43.59L10.3 9.45l-7.72 7.72c-.78.78-.78 2.05 0 2.83L4 21.41c.39.39.9.59 1.41.59.51 0 1.02-.2 1.41-.59l7.78-7.78 2.81-2.81c.8-.78.8-2.07 0-2.86zM5.41 20L4 18.59l7.72-7.72 1.47 1.35L5.41 20z\"/>\n",
              "  </svg>\n",
              "      </button>\n",
              "      \n",
              "  <style>\n",
              "    .colab-df-container {\n",
              "      display:flex;\n",
              "      flex-wrap:wrap;\n",
              "      gap: 12px;\n",
              "    }\n",
              "\n",
              "    .colab-df-convert {\n",
              "      background-color: #E8F0FE;\n",
              "      border: none;\n",
              "      border-radius: 50%;\n",
              "      cursor: pointer;\n",
              "      display: none;\n",
              "      fill: #1967D2;\n",
              "      height: 32px;\n",
              "      padding: 0 0 0 0;\n",
              "      width: 32px;\n",
              "    }\n",
              "\n",
              "    .colab-df-convert:hover {\n",
              "      background-color: #E2EBFA;\n",
              "      box-shadow: 0px 1px 2px rgba(60, 64, 67, 0.3), 0px 1px 3px 1px rgba(60, 64, 67, 0.15);\n",
              "      fill: #174EA6;\n",
              "    }\n",
              "\n",
              "    [theme=dark] .colab-df-convert {\n",
              "      background-color: #3B4455;\n",
              "      fill: #D2E3FC;\n",
              "    }\n",
              "\n",
              "    [theme=dark] .colab-df-convert:hover {\n",
              "      background-color: #434B5C;\n",
              "      box-shadow: 0px 1px 3px 1px rgba(0, 0, 0, 0.15);\n",
              "      filter: drop-shadow(0px 1px 2px rgba(0, 0, 0, 0.3));\n",
              "      fill: #FFFFFF;\n",
              "    }\n",
              "  </style>\n",
              "\n",
              "      <script>\n",
              "        const buttonEl =\n",
              "          document.querySelector('#df-1acb5bbd-39d1-46b6-a8ba-de38d34462dc button.colab-df-convert');\n",
              "        buttonEl.style.display =\n",
              "          google.colab.kernel.accessAllowed ? 'block' : 'none';\n",
              "\n",
              "        async function convertToInteractive(key) {\n",
              "          const element = document.querySelector('#df-1acb5bbd-39d1-46b6-a8ba-de38d34462dc');\n",
              "          const dataTable =\n",
              "            await google.colab.kernel.invokeFunction('convertToInteractive',\n",
              "                                                     [key], {});\n",
              "          if (!dataTable) return;\n",
              "\n",
              "          const docLinkHtml = 'Like what you see? Visit the ' +\n",
              "            '<a target=\"_blank\" href=https://colab.research.google.com/notebooks/data_table.ipynb>data table notebook</a>'\n",
              "            + ' to learn more about interactive tables.';\n",
              "          element.innerHTML = '';\n",
              "          dataTable['output_type'] = 'display_data';\n",
              "          await google.colab.output.renderOutput(dataTable, element);\n",
              "          const docLink = document.createElement('div');\n",
              "          docLink.innerHTML = docLinkHtml;\n",
              "          element.appendChild(docLink);\n",
              "        }\n",
              "      </script>\n",
              "    </div>\n",
              "  </div>\n",
              "  "
            ]
          },
          "metadata": {},
          "execution_count": 1
        }
      ],
      "source": [
        "import pandas as pd\n",
        "climate_data = pd.read_csv('https://raw.githubusercontent.com/zacharski/ml-class/master/data/climateSentiment.csv.zip')\n",
        "climate_data"
      ]
    },
    {
      "cell_type": "code",
      "source": [
        "from sklearn.preprocessing import LabelEncoder\n",
        "from keras.utils import to_categorical\n",
        "\n",
        "\n",
        "le = LabelEncoder()\n",
        "le.fit(climate_data['sentiment'])\n",
        "labels = le.transform(climate_data['sentiment'])\n",
        "\n",
        "labels = to_categorical(labels, num_classes=4)"
      ],
      "metadata": {
        "id": "mgTCoN0DrXsF"
      },
      "execution_count": 3,
      "outputs": []
    },
    {
      "cell_type": "code",
      "execution_count": 4,
      "metadata": {
        "id": "4H5XRUog_as5",
        "colab": {
          "base_uri": "https://localhost:8080/"
        },
        "outputId": "aa2428a2-72c2-4614-fb59-c8155d26497e"
      },
      "outputs": [
        {
          "output_type": "stream",
          "name": "stdout",
          "text": [
            "[0.         0.83715075 0.85454543 ... 0.         0.         0.        ]\n"
          ]
        }
      ],
      "source": [
        "from keras.preprocessing.text import Tokenizer\n",
        "data_text = climate_data['message']\n",
        "tokenizer = Tokenizer(num_words=5000)\n",
        "tokenizer.fit_on_texts(data_text)\n",
        "one_hot_results = tokenizer.texts_to_matrix(data_text, mode='tfidf')\n",
        "print(one_hot_results[0])"
      ]
    },
    {
      "cell_type": "code",
      "execution_count": 5,
      "metadata": {
        "id": "GXTd0E9wBZQK"
      },
      "outputs": [],
      "source": [
        "from sklearn.model_selection import train_test_split\n",
        "climate_train_text, climate_test_text, climate_train_label, climate_test_label = train_test_split(one_hot_results, labels, train_size=0.8, random_state=100)"
      ]
    },
    {
      "cell_type": "markdown",
      "metadata": {
        "id": "JzPe1NnLpeG3"
      },
      "source": [
        "![](https://raw.githubusercontent.com/zacharski/datamining-guide/master/labs/pics/PyDivideTwo.png)\n",
        "## <font color='#EE4C2C'>2. Create a deep learning densely connected network.</font> \n",
        "\n",
        "You can decide how many layers and how many nodes per layer. Keep in mind that for the imdb task the last layer was:\n",
        "\n",
        "```\n",
        "network.add(layers.Dense(1, activation='sigmoid'))\n",
        "```\n",
        "\n",
        "The `1` was selected because we only had a binary choice (positive or negative). `sigmoid` was also selected because we had a binary choice.  This will not be the same for this task. In the imdb example, we used the binary_crossentropy loss function because, again, we only had a binary choice.\n",
        "\n",
        "Create the network, compile it, and fit it to the data. "
      ]
    },
    {
      "cell_type": "code",
      "execution_count": 6,
      "metadata": {
        "id": "4_TOQQHKBKHG"
      },
      "outputs": [],
      "source": [
        "from keras import layers, models\n",
        "import numpy as np\n",
        "\n",
        "network = models.Sequential()\n",
        "network.add(layers.Dense(512, activation='relu', input_shape=(5000,)))\n",
        "network.add(layers.Dense(256, activation='relu'))\n",
        "network.add(layers.Dense(128, activation='relu'))\n",
        "network.add(layers.Dense(4, activation='softmax'))\n",
        " "
      ]
    },
    {
      "cell_type": "code",
      "execution_count": 7,
      "metadata": {
        "id": "g3MqPKtsEalS"
      },
      "outputs": [],
      "source": [
        "from keras import optimizers\n",
        "network.compile(optimizer=optimizers.RMSprop(learning_rate=1e-4),\n",
        "                loss='categorical_crossentropy',\n",
        "                metrics=['accuracy'])"
      ]
    },
    {
      "cell_type": "code",
      "execution_count": 8,
      "metadata": {
        "id": "ob7PnaBgFB__",
        "colab": {
          "base_uri": "https://localhost:8080/"
        },
        "outputId": "3732404a-174b-4e32-c86b-58868f24a4d6"
      },
      "outputs": [
        {
          "output_type": "stream",
          "name": "stdout",
          "text": [
            "Model: \"sequential\"\n",
            "_________________________________________________________________\n",
            " Layer (type)                Output Shape              Param #   \n",
            "=================================================================\n",
            " dense (Dense)               (None, 512)               2560512   \n",
            "                                                                 \n",
            " dense_1 (Dense)             (None, 256)               131328    \n",
            "                                                                 \n",
            " dense_2 (Dense)             (None, 128)               32896     \n",
            "                                                                 \n",
            " dense_3 (Dense)             (None, 4)                 516       \n",
            "                                                                 \n",
            "=================================================================\n",
            "Total params: 2,725,252\n",
            "Trainable params: 2,725,252\n",
            "Non-trainable params: 0\n",
            "_________________________________________________________________\n"
          ]
        }
      ],
      "source": [
        "network.summary()"
      ]
    },
    {
      "cell_type": "code",
      "source": [
        "history = network.fit(\n",
        "    climate_train_text, climate_train_label,\n",
        "    steps_per_epoch=100,\n",
        "    epochs=30,\n",
        "    validation_split=0.2,\n",
        "    validation_steps=50\n",
        ")"
      ],
      "metadata": {
        "colab": {
          "base_uri": "https://localhost:8080/"
        },
        "id": "sQVEv_LoN5Vm",
        "outputId": "75dc7ea0-181e-43e5-8964-78d273a744ff"
      },
      "execution_count": 9,
      "outputs": [
        {
          "output_type": "stream",
          "name": "stdout",
          "text": [
            "Epoch 1/30\n",
            "100/100 [==============================] - 3s 17ms/step - loss: 1.0496 - accuracy: 0.5620 - val_loss: 0.8605 - val_accuracy: 0.6585\n",
            "Epoch 2/30\n",
            "100/100 [==============================] - 1s 10ms/step - loss: 0.7208 - accuracy: 0.7165 - val_loss: 0.7196 - val_accuracy: 0.7138\n",
            "Epoch 3/30\n",
            "100/100 [==============================] - 1s 11ms/step - loss: 0.5558 - accuracy: 0.7870 - val_loss: 0.6883 - val_accuracy: 0.7350\n",
            "Epoch 4/30\n",
            "100/100 [==============================] - 1s 8ms/step - loss: 0.4467 - accuracy: 0.8349 - val_loss: 0.6940 - val_accuracy: 0.7403\n",
            "Epoch 5/30\n",
            "100/100 [==============================] - 1s 8ms/step - loss: 0.3621 - accuracy: 0.8690 - val_loss: 0.7232 - val_accuracy: 0.7386\n",
            "Epoch 6/30\n",
            "100/100 [==============================] - 1s 8ms/step - loss: 0.2931 - accuracy: 0.8970 - val_loss: 0.7649 - val_accuracy: 0.7301\n",
            "Epoch 7/30\n",
            "100/100 [==============================] - 1s 8ms/step - loss: 0.2354 - accuracy: 0.9193 - val_loss: 0.8139 - val_accuracy: 0.7298\n",
            "Epoch 8/30\n",
            "100/100 [==============================] - 1s 8ms/step - loss: 0.1859 - accuracy: 0.9383 - val_loss: 0.8894 - val_accuracy: 0.7326\n",
            "Epoch 9/30\n",
            "100/100 [==============================] - 1s 8ms/step - loss: 0.1456 - accuracy: 0.9551 - val_loss: 0.9621 - val_accuracy: 0.7299\n",
            "Epoch 10/30\n",
            "100/100 [==============================] - 1s 8ms/step - loss: 0.1121 - accuracy: 0.9673 - val_loss: 1.0463 - val_accuracy: 0.7266\n",
            "Epoch 11/30\n",
            "100/100 [==============================] - 1s 10ms/step - loss: 0.0853 - accuracy: 0.9755 - val_loss: 1.1258 - val_accuracy: 0.7201\n",
            "Epoch 12/30\n",
            "100/100 [==============================] - 1s 8ms/step - loss: 0.0651 - accuracy: 0.9808 - val_loss: 1.2422 - val_accuracy: 0.7269\n",
            "Epoch 13/30\n",
            "100/100 [==============================] - 1s 8ms/step - loss: 0.0502 - accuracy: 0.9852 - val_loss: 1.3621 - val_accuracy: 0.7214\n",
            "Epoch 14/30\n",
            "100/100 [==============================] - 1s 8ms/step - loss: 0.0393 - accuracy: 0.9882 - val_loss: 1.4248 - val_accuracy: 0.7161\n",
            "Epoch 15/30\n",
            "100/100 [==============================] - 1s 11ms/step - loss: 0.0321 - accuracy: 0.9903 - val_loss: 1.5081 - val_accuracy: 0.7126\n",
            "Epoch 16/30\n",
            "100/100 [==============================] - 1s 9ms/step - loss: 0.0261 - accuracy: 0.9920 - val_loss: 1.6023 - val_accuracy: 0.7140\n",
            "Epoch 17/30\n",
            "100/100 [==============================] - 1s 11ms/step - loss: 0.0223 - accuracy: 0.9929 - val_loss: 1.6820 - val_accuracy: 0.7118\n",
            "Epoch 18/30\n",
            "100/100 [==============================] - 1s 8ms/step - loss: 0.0191 - accuracy: 0.9939 - val_loss: 1.7692 - val_accuracy: 0.7094\n",
            "Epoch 19/30\n",
            "100/100 [==============================] - 1s 9ms/step - loss: 0.0179 - accuracy: 0.9944 - val_loss: 1.8152 - val_accuracy: 0.7056\n",
            "Epoch 20/30\n",
            "100/100 [==============================] - 1s 8ms/step - loss: 0.0158 - accuracy: 0.9950 - val_loss: 1.9260 - val_accuracy: 0.7153\n",
            "Epoch 21/30\n",
            "100/100 [==============================] - 1s 8ms/step - loss: 0.0152 - accuracy: 0.9950 - val_loss: 1.9676 - val_accuracy: 0.7140\n",
            "Epoch 22/30\n",
            "100/100 [==============================] - 1s 8ms/step - loss: 0.0135 - accuracy: 0.9954 - val_loss: 1.9841 - val_accuracy: 0.7111\n",
            "Epoch 23/30\n",
            "100/100 [==============================] - 1s 8ms/step - loss: 0.0129 - accuracy: 0.9954 - val_loss: 2.0382 - val_accuracy: 0.7107\n",
            "Epoch 24/30\n",
            "100/100 [==============================] - 1s 8ms/step - loss: 0.0124 - accuracy: 0.9960 - val_loss: 2.1112 - val_accuracy: 0.7128\n",
            "Epoch 25/30\n",
            "100/100 [==============================] - 1s 8ms/step - loss: 0.0123 - accuracy: 0.9960 - val_loss: 2.1218 - val_accuracy: 0.7101\n",
            "Epoch 26/30\n",
            "100/100 [==============================] - 1s 8ms/step - loss: 0.0113 - accuracy: 0.9958 - val_loss: 2.1555 - val_accuracy: 0.7063\n",
            "Epoch 27/30\n",
            "100/100 [==============================] - 1s 8ms/step - loss: 0.0113 - accuracy: 0.9962 - val_loss: 2.2401 - val_accuracy: 0.7126\n",
            "Epoch 28/30\n",
            "100/100 [==============================] - 1s 8ms/step - loss: 0.0109 - accuracy: 0.9962 - val_loss: 2.2166 - val_accuracy: 0.7104\n",
            "Epoch 29/30\n",
            "100/100 [==============================] - 1s 9ms/step - loss: 0.0106 - accuracy: 0.9961 - val_loss: 2.2075 - val_accuracy: 0.7079\n",
            "Epoch 30/30\n",
            "100/100 [==============================] - 1s 10ms/step - loss: 0.0099 - accuracy: 0.9962 - val_loss: 2.2951 - val_accuracy: 0.7096\n"
          ]
        }
      ]
    },
    {
      "cell_type": "markdown",
      "metadata": {
        "id": "cMNg3FIoqrEE"
      },
      "source": [
        "![](https://raw.githubusercontent.com/zacharski/datamining-guide/master/labs/pics/PyDivideTwo.png)\n",
        "## <font color='#EE4C2C'>2. Plot the accuracy and loss for both the training and validation sets.</font> \n",
        "\n",
        "Also, state in a few sentences what you see in the plots."
      ]
    },
    {
      "cell_type": "code",
      "execution_count": 10,
      "metadata": {
        "id": "bBr_F10YFOzJ",
        "colab": {
          "base_uri": "https://localhost:8080/",
          "height": 887
        },
        "outputId": "1d04f1c1-a63b-4736-c7bf-14e93db12ff5"
      },
      "outputs": [
        {
          "output_type": "display_data",
          "data": {
            "text/plain": [
              "<Figure size 640x480 with 1 Axes>"
            ],
            "image/png": "[encoded data removed]"
          },
          "metadata": {}
        },
        {
          "output_type": "display_data",
          "data": {
            "text/plain": [
              "<Figure size 640x480 with 1 Axes>"
            ],
            "image/png": "[encoded data removed]"
          },
          "metadata": {}
        }
      ],
      "source": [
        "import matplotlib.pyplot as plt\n",
        "\n",
        "acc = history.history['accuracy']\n",
        "val_acc = history.history['val_accuracy']\n",
        "loss = history.history['loss']\n",
        "val_loss = history.history['val_loss']\n",
        "\n",
        "epochs = range(len(acc))\n",
        "\n",
        "plt.plot(epochs, acc, 'bo', label='Training acc')\n",
        "plt.plot(epochs, val_acc, 'b', label='Validation acc')\n",
        "plt.title('Training and validation accuracy')\n",
        "plt.legend()\n",
        "\n",
        "plt.figure()\n",
        "\n",
        "plt.plot(epochs, loss, 'bo', label='Training loss')\n",
        "plt.plot(epochs, val_loss, 'b', label='Validation loss')\n",
        "plt.title('Training and validation loss')\n",
        "plt.legend()\n",
        "\n",
        "plt.show()"
      ]
    },
    {
      "cell_type": "markdown",
      "metadata": {
        "id": "5qipxYocrmy6"
      },
      "source": [
        "![](https://raw.githubusercontent.com/zacharski/datamining-guide/master/labs/pics/PyDivideTwo.png)\n",
        "## <font color='#EE4C2C'>4. Accuracy on the test data</font> \n",
        "\n",
        "What is the accuracy on the test data?"
      ]
    },
    {
      "cell_type": "code",
      "execution_count": 11,
      "metadata": {
        "id": "Kh9VDWCGFfGc",
        "colab": {
          "base_uri": "https://localhost:8080/"
        },
        "outputId": "02ecef02-810e-4e0d-f98b-5dd18383068e"
      },
      "outputs": [
        {
          "output_type": "stream",
          "name": "stdout",
          "text": [
            "275/275 [==============================] - 1s 2ms/step - loss: 2.2334 - accuracy: 0.7176\n"
          ]
        },
        {
          "output_type": "execute_result",
          "data": {
            "text/plain": [
              "[2.2334492206573486, 0.7176015377044678]"
            ]
          },
          "metadata": {},
          "execution_count": 11
        }
      ],
      "source": [
        "test_loss, test_acc = network.evaluate(climate_test_text, climate_test_label)"
      ]
    },
    {
      "cell_type": "markdown",
      "metadata": {
        "id": "f6sHJ2hEryR3"
      },
      "source": [
        "![](https://raw.githubusercontent.com/zacharski/datamining-guide/master/labs/pics/PyDivideTwo.png)\n",
        "## <font color='#EE4C2C'>5. Can you do better than the baseline accuracy? +5-10 xp</font> \n",
        "Can you create a network that has better accuracy than that shown in #4 above?\n",
        "\n",
        "You can change:\n",
        "\n",
        "* the number of layers, \n",
        "* the number of nodes in each layer\n",
        "* change the `num_words` used in the tokenizer\n",
        "* add one or more dropout layers\n"
      ]
    },
    {
      "cell_type": "code",
      "execution_count": null,
      "metadata": {
        "id": "-0U5UMresDkj"
      },
      "outputs": [],
      "source": []
    }
  ],
  "metadata": {
    "accelerator": "GPU",
    "colab": {
      "provenance": [],
      "include_colab_link": true
    },
    "kernelspec": {
      "display_name": "Python 3 (ipykernel)",
      "language": "python",
      "name": "python3"
    },
    "language_info": {
      "codemirror_mode": {
        "name": "ipython",
        "version": 3
      },
      "file_extension": ".py",
      "mimetype": "text/x-python",
      "name": "python",
      "nbconvert_exporter": "python",
      "pygments_lexer": "ipython3",
      "version": "3.9.12"
    }
  },
  "nbformat": 4,
  "nbformat_minor": 0
}