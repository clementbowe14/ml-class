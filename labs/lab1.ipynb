{
  "nbformat": 4,
  "nbformat_minor": 0,
  "metadata": {
    "colab": {
      "provenance": [],
      "authorship_tag": "ABX9TyO+1IV3PUICOievWVvmYuL4",
      "include_colab_link": true
    },
    "kernelspec": {
      "name": "python3",
      "display_name": "Python 3"
    },
    "language_info": {
      "name": "python"
    },
    "accelerator": "GPU",
    "gpuClass": "standard"
  },
  "cells": [
    {
      "cell_type": "markdown",
      "metadata": {
        "id": "view-in-github",
        "colab_type": "text"
      },
      "source": [
        "<a href=\"https://colab.research.google.com/github/clementbowe14/ml-class/blob/main/labs/lab1.ipynb\" target=\"_parent\"><img src=\"https://colab.research.google.com/assets/colab-badge.svg\" alt=\"Open In Colab\"/></a>"
      ]
    },
    {
      "cell_type": "code",
      "execution_count": null,
      "metadata": {
        "colab": {
          "base_uri": "https://localhost:8080/"
        },
        "id": "npSyeFsmOx9a",
        "outputId": "c646f255-f3e2-4757-a6cc-f0d8e53f9ef5"
      },
      "outputs": [
        {
          "output_type": "stream",
          "name": "stdout",
          "text": [
            "Thu Nov 10 22:02:44 2022       \n",
            "+-----------------------------------------------------------------------------+\n",
            "| NVIDIA-SMI 460.32.03    Driver Version: 460.32.03    CUDA Version: 11.2     |\n",
            "|-------------------------------+----------------------+----------------------+\n",
            "| GPU  Name        Persistence-M| Bus-Id        Disp.A | Volatile Uncorr. ECC |\n",
            "| Fan  Temp  Perf  Pwr:Usage/Cap|         Memory-Usage | GPU-Util  Compute M. |\n",
            "|                               |                      |               MIG M. |\n",
            "|===============================+======================+======================|\n",
            "|   0  Tesla T4            Off  | 00000000:00:04.0 Off |                    0 |\n",
            "| N/A   77C    P0    32W /  70W |   2054MiB / 15109MiB |      0%      Default |\n",
            "|                               |                      |                  N/A |\n",
            "+-------------------------------+----------------------+----------------------+\n",
            "                                                                               \n",
            "+-----------------------------------------------------------------------------+\n",
            "| Processes:                                                                  |\n",
            "|  GPU   GI   CI        PID   Type   Process name                  GPU Memory |\n",
            "|        ID   ID                                                   Usage      |\n",
            "|=============================================================================|\n",
            "+-----------------------------------------------------------------------------+\n"
          ]
        }
      ],
      "source": [
        "!nvidia-smi"
      ]
    },
    {
      "cell_type": "code",
      "source": [
        "import torch\n",
        "\n",
        "if torch.cuda.is_available():\n",
        "  dev = \"cuda:0\"\n",
        "else:\n",
        "  dev = \"cpu\"\n",
        "device = torch.device(dev)\n",
        "dev"
      ],
      "metadata": {
        "colab": {
          "base_uri": "https://localhost:8080/",
          "height": 35
        },
        "id": "JTGQNmI1OJXD",
        "outputId": "6b8a1196-4a53-49e6-e3c3-a0ca0b1bd0ef"
      },
      "execution_count": null,
      "outputs": [
        {
          "output_type": "execute_result",
          "data": {
            "text/plain": [
              "'cuda:0'"
            ],
            "application/vnd.google.colaboratory.intrinsic+json": {
              "type": "string"
            }
          },
          "metadata": {},
          "execution_count": 115
        }
      ]
    },
    {
      "cell_type": "code",
      "source": [
        "!pip install pytorch-lightning"
      ],
      "metadata": {
        "colab": {
          "base_uri": "https://localhost:8080/"
        },
        "id": "fc-9NK8oOwaa",
        "outputId": "004616db-6bef-47c2-fe8a-c5ccda8455ba"
      },
      "execution_count": null,
      "outputs": [
        {
          "output_type": "stream",
          "name": "stdout",
          "text": [
            "Looking in indexes: https://pypi.org/simple, https://us-python.pkg.dev/colab-wheels/public/simple/\n",
            "Requirement already satisfied: pytorch-lightning in /usr/local/lib/python3.7/dist-packages (1.8.0.post1)\n",
            "Requirement already satisfied: lightning-lite==1.8.0.post1 in /usr/local/lib/python3.7/dist-packages (from pytorch-lightning) (1.8.0.post1)\n",
            "Requirement already satisfied: torchmetrics>=0.7.0 in /usr/local/lib/python3.7/dist-packages (from pytorch-lightning) (0.10.2)\n",
            "Requirement already satisfied: tqdm>=4.57.0 in /usr/local/lib/python3.7/dist-packages (from pytorch-lightning) (4.64.1)\n",
            "Requirement already satisfied: torch>=1.9.* in /usr/local/lib/python3.7/dist-packages (from pytorch-lightning) (1.12.1+cu113)\n",
            "Requirement already satisfied: PyYAML>=5.4 in /usr/local/lib/python3.7/dist-packages (from pytorch-lightning) (6.0)\n",
            "Requirement already satisfied: typing-extensions>=4.0.0 in /usr/local/lib/python3.7/dist-packages (from pytorch-lightning) (4.1.1)\n",
            "Requirement already satisfied: lightning-utilities==0.3.* in /usr/local/lib/python3.7/dist-packages (from pytorch-lightning) (0.3.0)\n",
            "Requirement already satisfied: packaging>=17.0 in /usr/local/lib/python3.7/dist-packages (from pytorch-lightning) (21.3)\n",
            "Requirement already satisfied: fsspec[http]>2021.06.0 in /usr/local/lib/python3.7/dist-packages (from pytorch-lightning) (2022.10.0)\n",
            "Requirement already satisfied: tensorboard>=2.9.1 in /usr/local/lib/python3.7/dist-packages (from pytorch-lightning) (2.9.1)\n",
            "Requirement already satisfied: numpy>=1.17.2 in /usr/local/lib/python3.7/dist-packages (from pytorch-lightning) (1.21.6)\n",
            "Requirement already satisfied: fire in /usr/local/lib/python3.7/dist-packages (from lightning-utilities==0.3.*->pytorch-lightning) (0.4.0)\n",
            "Requirement already satisfied: requests in /usr/local/lib/python3.7/dist-packages (from fsspec[http]>2021.06.0->pytorch-lightning) (2.23.0)\n",
            "Requirement already satisfied: aiohttp!=4.0.0a0,!=4.0.0a1 in /usr/local/lib/python3.7/dist-packages (from fsspec[http]>2021.06.0->pytorch-lightning) (3.8.3)\n",
            "Requirement already satisfied: attrs>=17.3.0 in /usr/local/lib/python3.7/dist-packages (from aiohttp!=4.0.0a0,!=4.0.0a1->fsspec[http]>2021.06.0->pytorch-lightning) (22.1.0)\n",
            "Requirement already satisfied: multidict<7.0,>=4.5 in /usr/local/lib/python3.7/dist-packages (from aiohttp!=4.0.0a0,!=4.0.0a1->fsspec[http]>2021.06.0->pytorch-lightning) (6.0.2)\n",
            "Requirement already satisfied: asynctest==0.13.0 in /usr/local/lib/python3.7/dist-packages (from aiohttp!=4.0.0a0,!=4.0.0a1->fsspec[http]>2021.06.0->pytorch-lightning) (0.13.0)\n",
            "Requirement already satisfied: async-timeout<5.0,>=4.0.0a3 in /usr/local/lib/python3.7/dist-packages (from aiohttp!=4.0.0a0,!=4.0.0a1->fsspec[http]>2021.06.0->pytorch-lightning) (4.0.2)\n",
            "Requirement already satisfied: aiosignal>=1.1.2 in /usr/local/lib/python3.7/dist-packages (from aiohttp!=4.0.0a0,!=4.0.0a1->fsspec[http]>2021.06.0->pytorch-lightning) (1.3.1)\n",
            "Requirement already satisfied: charset-normalizer<3.0,>=2.0 in /usr/local/lib/python3.7/dist-packages (from aiohttp!=4.0.0a0,!=4.0.0a1->fsspec[http]>2021.06.0->pytorch-lightning) (2.1.1)\n",
            "Requirement already satisfied: yarl<2.0,>=1.0 in /usr/local/lib/python3.7/dist-packages (from aiohttp!=4.0.0a0,!=4.0.0a1->fsspec[http]>2021.06.0->pytorch-lightning) (1.8.1)\n",
            "Requirement already satisfied: frozenlist>=1.1.1 in /usr/local/lib/python3.7/dist-packages (from aiohttp!=4.0.0a0,!=4.0.0a1->fsspec[http]>2021.06.0->pytorch-lightning) (1.3.3)\n",
            "Requirement already satisfied: pyparsing!=3.0.5,>=2.0.2 in /usr/local/lib/python3.7/dist-packages (from packaging>=17.0->pytorch-lightning) (3.0.9)\n",
            "Requirement already satisfied: setuptools>=41.0.0 in /usr/local/lib/python3.7/dist-packages (from tensorboard>=2.9.1->pytorch-lightning) (57.4.0)\n",
            "Requirement already satisfied: werkzeug>=1.0.1 in /usr/local/lib/python3.7/dist-packages (from tensorboard>=2.9.1->pytorch-lightning) (1.0.1)\n",
            "Requirement already satisfied: absl-py>=0.4 in /usr/local/lib/python3.7/dist-packages (from tensorboard>=2.9.1->pytorch-lightning) (1.3.0)\n",
            "Requirement already satisfied: google-auth<3,>=1.6.3 in /usr/local/lib/python3.7/dist-packages (from tensorboard>=2.9.1->pytorch-lightning) (2.14.1)\n",
            "Requirement already satisfied: tensorboard-data-server<0.7.0,>=0.6.0 in /usr/local/lib/python3.7/dist-packages (from tensorboard>=2.9.1->pytorch-lightning) (0.6.1)\n",
            "Requirement already satisfied: protobuf<3.20,>=3.9.2 in /usr/local/lib/python3.7/dist-packages (from tensorboard>=2.9.1->pytorch-lightning) (3.19.6)\n",
            "Requirement already satisfied: wheel>=0.26 in /usr/local/lib/python3.7/dist-packages (from tensorboard>=2.9.1->pytorch-lightning) (0.38.3)\n",
            "Requirement already satisfied: markdown>=2.6.8 in /usr/local/lib/python3.7/dist-packages (from tensorboard>=2.9.1->pytorch-lightning) (3.4.1)\n",
            "Requirement already satisfied: grpcio>=1.24.3 in /usr/local/lib/python3.7/dist-packages (from tensorboard>=2.9.1->pytorch-lightning) (1.50.0)\n",
            "Requirement already satisfied: tensorboard-plugin-wit>=1.6.0 in /usr/local/lib/python3.7/dist-packages (from tensorboard>=2.9.1->pytorch-lightning) (1.8.1)\n",
            "Requirement already satisfied: google-auth-oauthlib<0.5,>=0.4.1 in /usr/local/lib/python3.7/dist-packages (from tensorboard>=2.9.1->pytorch-lightning) (0.4.6)\n",
            "Requirement already satisfied: rsa<5,>=3.1.4 in /usr/local/lib/python3.7/dist-packages (from google-auth<3,>=1.6.3->tensorboard>=2.9.1->pytorch-lightning) (4.9)\n",
            "Requirement already satisfied: cachetools<6.0,>=2.0.0 in /usr/local/lib/python3.7/dist-packages (from google-auth<3,>=1.6.3->tensorboard>=2.9.1->pytorch-lightning) (5.2.0)\n",
            "Requirement already satisfied: pyasn1-modules>=0.2.1 in /usr/local/lib/python3.7/dist-packages (from google-auth<3,>=1.6.3->tensorboard>=2.9.1->pytorch-lightning) (0.2.8)\n",
            "Requirement already satisfied: six>=1.9.0 in /usr/local/lib/python3.7/dist-packages (from google-auth<3,>=1.6.3->tensorboard>=2.9.1->pytorch-lightning) (1.15.0)\n",
            "Requirement already satisfied: requests-oauthlib>=0.7.0 in /usr/local/lib/python3.7/dist-packages (from google-auth-oauthlib<0.5,>=0.4.1->tensorboard>=2.9.1->pytorch-lightning) (1.3.1)\n",
            "Requirement already satisfied: importlib-metadata>=4.4 in /usr/local/lib/python3.7/dist-packages (from markdown>=2.6.8->tensorboard>=2.9.1->pytorch-lightning) (4.13.0)\n",
            "Requirement already satisfied: zipp>=0.5 in /usr/local/lib/python3.7/dist-packages (from importlib-metadata>=4.4->markdown>=2.6.8->tensorboard>=2.9.1->pytorch-lightning) (3.10.0)\n",
            "Requirement already satisfied: pyasn1<0.5.0,>=0.4.6 in /usr/local/lib/python3.7/dist-packages (from pyasn1-modules>=0.2.1->google-auth<3,>=1.6.3->tensorboard>=2.9.1->pytorch-lightning) (0.4.8)\n",
            "Requirement already satisfied: idna<3,>=2.5 in /usr/local/lib/python3.7/dist-packages (from requests->fsspec[http]>2021.06.0->pytorch-lightning) (2.10)\n",
            "Requirement already satisfied: urllib3!=1.25.0,!=1.25.1,<1.26,>=1.21.1 in /usr/local/lib/python3.7/dist-packages (from requests->fsspec[http]>2021.06.0->pytorch-lightning) (1.24.3)\n",
            "Requirement already satisfied: chardet<4,>=3.0.2 in /usr/local/lib/python3.7/dist-packages (from requests->fsspec[http]>2021.06.0->pytorch-lightning) (3.0.4)\n",
            "Requirement already satisfied: certifi>=2017.4.17 in /usr/local/lib/python3.7/dist-packages (from requests->fsspec[http]>2021.06.0->pytorch-lightning) (2022.9.24)\n",
            "Requirement already satisfied: oauthlib>=3.0.0 in /usr/local/lib/python3.7/dist-packages (from requests-oauthlib>=0.7.0->google-auth-oauthlib<0.5,>=0.4.1->tensorboard>=2.9.1->pytorch-lightning) (3.2.2)\n",
            "Requirement already satisfied: termcolor in /usr/local/lib/python3.7/dist-packages (from fire->lightning-utilities==0.3.*->pytorch-lightning) (2.1.0)\n"
          ]
        }
      ]
    },
    {
      "cell_type": "code",
      "source": [
        "from torchvision import models\n",
        "import torch"
      ],
      "metadata": {
        "id": "UQE-gbSMOw2r"
      },
      "execution_count": null,
      "outputs": []
    },
    {
      "cell_type": "code",
      "source": [
        "dir(models)"
      ],
      "metadata": {
        "colab": {
          "base_uri": "https://localhost:8080/"
        },
        "id": "028NlJtvPHF8",
        "outputId": "fe90b5e2-a551-45e4-9844-ea17740b67ef"
      },
      "execution_count": null,
      "outputs": [
        {
          "output_type": "execute_result",
          "data": {
            "text/plain": [
              "['AlexNet',\n",
              " 'AlexNet_Weights',\n",
              " 'ConvNeXt',\n",
              " 'ConvNeXt_Base_Weights',\n",
              " 'ConvNeXt_Large_Weights',\n",
              " 'ConvNeXt_Small_Weights',\n",
              " 'ConvNeXt_Tiny_Weights',\n",
              " 'DenseNet',\n",
              " 'DenseNet121_Weights',\n",
              " 'DenseNet161_Weights',\n",
              " 'DenseNet169_Weights',\n",
              " 'DenseNet201_Weights',\n",
              " 'EfficientNet',\n",
              " 'EfficientNet_B0_Weights',\n",
              " 'EfficientNet_B1_Weights',\n",
              " 'EfficientNet_B2_Weights',\n",
              " 'EfficientNet_B3_Weights',\n",
              " 'EfficientNet_B4_Weights',\n",
              " 'EfficientNet_B5_Weights',\n",
              " 'EfficientNet_B6_Weights',\n",
              " 'EfficientNet_B7_Weights',\n",
              " 'EfficientNet_V2_L_Weights',\n",
              " 'EfficientNet_V2_M_Weights',\n",
              " 'EfficientNet_V2_S_Weights',\n",
              " 'GoogLeNet',\n",
              " 'GoogLeNetOutputs',\n",
              " 'GoogLeNet_Weights',\n",
              " 'Inception3',\n",
              " 'InceptionOutputs',\n",
              " 'Inception_V3_Weights',\n",
              " 'MNASNet',\n",
              " 'MNASNet0_5_Weights',\n",
              " 'MNASNet0_75_Weights',\n",
              " 'MNASNet1_0_Weights',\n",
              " 'MNASNet1_3_Weights',\n",
              " 'MobileNetV2',\n",
              " 'MobileNetV3',\n",
              " 'MobileNet_V2_Weights',\n",
              " 'MobileNet_V3_Large_Weights',\n",
              " 'MobileNet_V3_Small_Weights',\n",
              " 'RegNet',\n",
              " 'RegNet_X_16GF_Weights',\n",
              " 'RegNet_X_1_6GF_Weights',\n",
              " 'RegNet_X_32GF_Weights',\n",
              " 'RegNet_X_3_2GF_Weights',\n",
              " 'RegNet_X_400MF_Weights',\n",
              " 'RegNet_X_800MF_Weights',\n",
              " 'RegNet_X_8GF_Weights',\n",
              " 'RegNet_Y_128GF_Weights',\n",
              " 'RegNet_Y_16GF_Weights',\n",
              " 'RegNet_Y_1_6GF_Weights',\n",
              " 'RegNet_Y_32GF_Weights',\n",
              " 'RegNet_Y_3_2GF_Weights',\n",
              " 'RegNet_Y_400MF_Weights',\n",
              " 'RegNet_Y_800MF_Weights',\n",
              " 'RegNet_Y_8GF_Weights',\n",
              " 'ResNeXt101_32X8D_Weights',\n",
              " 'ResNeXt101_64X4D_Weights',\n",
              " 'ResNeXt50_32X4D_Weights',\n",
              " 'ResNet',\n",
              " 'ResNet101_Weights',\n",
              " 'ResNet152_Weights',\n",
              " 'ResNet18_Weights',\n",
              " 'ResNet34_Weights',\n",
              " 'ResNet50_Weights',\n",
              " 'ShuffleNetV2',\n",
              " 'ShuffleNet_V2_X0_5_Weights',\n",
              " 'ShuffleNet_V2_X1_0_Weights',\n",
              " 'ShuffleNet_V2_X1_5_Weights',\n",
              " 'ShuffleNet_V2_X2_0_Weights',\n",
              " 'SqueezeNet',\n",
              " 'SqueezeNet1_0_Weights',\n",
              " 'SqueezeNet1_1_Weights',\n",
              " 'SwinTransformer',\n",
              " 'Swin_B_Weights',\n",
              " 'Swin_S_Weights',\n",
              " 'Swin_T_Weights',\n",
              " 'VGG',\n",
              " 'VGG11_BN_Weights',\n",
              " 'VGG11_Weights',\n",
              " 'VGG13_BN_Weights',\n",
              " 'VGG13_Weights',\n",
              " 'VGG16_BN_Weights',\n",
              " 'VGG16_Weights',\n",
              " 'VGG19_BN_Weights',\n",
              " 'VGG19_Weights',\n",
              " 'ViT_B_16_Weights',\n",
              " 'ViT_B_32_Weights',\n",
              " 'ViT_H_14_Weights',\n",
              " 'ViT_L_16_Weights',\n",
              " 'ViT_L_32_Weights',\n",
              " 'VisionTransformer',\n",
              " 'Wide_ResNet101_2_Weights',\n",
              " 'Wide_ResNet50_2_Weights',\n",
              " '_GoogLeNetOutputs',\n",
              " '_InceptionOutputs',\n",
              " '__builtins__',\n",
              " '__cached__',\n",
              " '__doc__',\n",
              " '__file__',\n",
              " '__loader__',\n",
              " '__name__',\n",
              " '__package__',\n",
              " '__path__',\n",
              " '__spec__',\n",
              " '_api',\n",
              " '_meta',\n",
              " '_utils',\n",
              " 'alexnet',\n",
              " 'convnext',\n",
              " 'convnext_base',\n",
              " 'convnext_large',\n",
              " 'convnext_small',\n",
              " 'convnext_tiny',\n",
              " 'densenet',\n",
              " 'densenet121',\n",
              " 'densenet161',\n",
              " 'densenet169',\n",
              " 'densenet201',\n",
              " 'detection',\n",
              " 'efficientnet',\n",
              " 'efficientnet_b0',\n",
              " 'efficientnet_b1',\n",
              " 'efficientnet_b2',\n",
              " 'efficientnet_b3',\n",
              " 'efficientnet_b4',\n",
              " 'efficientnet_b5',\n",
              " 'efficientnet_b6',\n",
              " 'efficientnet_b7',\n",
              " 'efficientnet_v2_l',\n",
              " 'efficientnet_v2_m',\n",
              " 'efficientnet_v2_s',\n",
              " 'get_weight',\n",
              " 'googlenet',\n",
              " 'inception',\n",
              " 'inception_v3',\n",
              " 'mnasnet',\n",
              " 'mnasnet0_5',\n",
              " 'mnasnet0_75',\n",
              " 'mnasnet1_0',\n",
              " 'mnasnet1_3',\n",
              " 'mobilenet',\n",
              " 'mobilenet_v2',\n",
              " 'mobilenet_v3_large',\n",
              " 'mobilenet_v3_small',\n",
              " 'mobilenetv2',\n",
              " 'mobilenetv3',\n",
              " 'optical_flow',\n",
              " 'quantization',\n",
              " 'regnet',\n",
              " 'regnet_x_16gf',\n",
              " 'regnet_x_1_6gf',\n",
              " 'regnet_x_32gf',\n",
              " 'regnet_x_3_2gf',\n",
              " 'regnet_x_400mf',\n",
              " 'regnet_x_800mf',\n",
              " 'regnet_x_8gf',\n",
              " 'regnet_y_128gf',\n",
              " 'regnet_y_16gf',\n",
              " 'regnet_y_1_6gf',\n",
              " 'regnet_y_32gf',\n",
              " 'regnet_y_3_2gf',\n",
              " 'regnet_y_400mf',\n",
              " 'regnet_y_800mf',\n",
              " 'regnet_y_8gf',\n",
              " 'resnet',\n",
              " 'resnet101',\n",
              " 'resnet152',\n",
              " 'resnet18',\n",
              " 'resnet34',\n",
              " 'resnet50',\n",
              " 'resnext101_32x8d',\n",
              " 'resnext101_64x4d',\n",
              " 'resnext50_32x4d',\n",
              " 'segmentation',\n",
              " 'shufflenet_v2_x0_5',\n",
              " 'shufflenet_v2_x1_0',\n",
              " 'shufflenet_v2_x1_5',\n",
              " 'shufflenet_v2_x2_0',\n",
              " 'shufflenetv2',\n",
              " 'squeezenet',\n",
              " 'squeezenet1_0',\n",
              " 'squeezenet1_1',\n",
              " 'swin_b',\n",
              " 'swin_s',\n",
              " 'swin_t',\n",
              " 'swin_transformer',\n",
              " 'vgg',\n",
              " 'vgg11',\n",
              " 'vgg11_bn',\n",
              " 'vgg13',\n",
              " 'vgg13_bn',\n",
              " 'vgg16',\n",
              " 'vgg16_bn',\n",
              " 'vgg19',\n",
              " 'vgg19_bn',\n",
              " 'video',\n",
              " 'vision_transformer',\n",
              " 'vit_b_16',\n",
              " 'vit_b_32',\n",
              " 'vit_h_14',\n",
              " 'vit_l_16',\n",
              " 'vit_l_32',\n",
              " 'wide_resnet101_2',\n",
              " 'wide_resnet50_2']"
            ]
          },
          "metadata": {},
          "execution_count": 118
        }
      ]
    },
    {
      "cell_type": "code",
      "source": [
        "alexnet = models.alexnet(weights='AlexNet_Weights.DEFAULT')\n",
        "alexnet.cuda()"
      ],
      "metadata": {
        "colab": {
          "base_uri": "https://localhost:8080/"
        },
        "id": "_PEV4CxyPZiG",
        "outputId": "de65e083-a78a-4af3-a563-74311fc335db"
      },
      "execution_count": null,
      "outputs": [
        {
          "output_type": "execute_result",
          "data": {
            "text/plain": [
              "AlexNet(\n",
              "  (features): Sequential(\n",
              "    (0): Conv2d(3, 64, kernel_size=(11, 11), stride=(4, 4), padding=(2, 2))\n",
              "    (1): ReLU(inplace=True)\n",
              "    (2): MaxPool2d(kernel_size=3, stride=2, padding=0, dilation=1, ceil_mode=False)\n",
              "    (3): Conv2d(64, 192, kernel_size=(5, 5), stride=(1, 1), padding=(2, 2))\n",
              "    (4): ReLU(inplace=True)\n",
              "    (5): MaxPool2d(kernel_size=3, stride=2, padding=0, dilation=1, ceil_mode=False)\n",
              "    (6): Conv2d(192, 384, kernel_size=(3, 3), stride=(1, 1), padding=(1, 1))\n",
              "    (7): ReLU(inplace=True)\n",
              "    (8): Conv2d(384, 256, kernel_size=(3, 3), stride=(1, 1), padding=(1, 1))\n",
              "    (9): ReLU(inplace=True)\n",
              "    (10): Conv2d(256, 256, kernel_size=(3, 3), stride=(1, 1), padding=(1, 1))\n",
              "    (11): ReLU(inplace=True)\n",
              "    (12): MaxPool2d(kernel_size=3, stride=2, padding=0, dilation=1, ceil_mode=False)\n",
              "  )\n",
              "  (avgpool): AdaptiveAvgPool2d(output_size=(6, 6))\n",
              "  (classifier): Sequential(\n",
              "    (0): Dropout(p=0.5, inplace=False)\n",
              "    (1): Linear(in_features=9216, out_features=4096, bias=True)\n",
              "    (2): ReLU(inplace=True)\n",
              "    (3): Dropout(p=0.5, inplace=False)\n",
              "    (4): Linear(in_features=4096, out_features=4096, bias=True)\n",
              "    (5): ReLU(inplace=True)\n",
              "    (6): Linear(in_features=4096, out_features=1000, bias=True)\n",
              "  )\n",
              ")"
            ]
          },
          "metadata": {},
          "execution_count": 119
        }
      ]
    },
    {
      "cell_type": "code",
      "source": [
        "next(alexnet.parameters()).is_cuda"
      ],
      "metadata": {
        "colab": {
          "base_uri": "https://localhost:8080/"
        },
        "id": "lHhS-8VfP_GG",
        "outputId": "61c97071-d44f-4c44-c4de-27272797efd5"
      },
      "execution_count": null,
      "outputs": [
        {
          "output_type": "execute_result",
          "data": {
            "text/plain": [
              "True"
            ]
          },
          "metadata": {},
          "execution_count": 120
        }
      ]
    },
    {
      "cell_type": "code",
      "source": [
        "!curl http://zacharski.org/files/courses/dmpics/poodle.jpg -o poodle.jpg"
      ],
      "metadata": {
        "colab": {
          "base_uri": "https://localhost:8080/"
        },
        "id": "fPQ6BF7ZRfel",
        "outputId": "71ee09d7-547d-46fd-c869-af37bc2d078b"
      },
      "execution_count": null,
      "outputs": [
        {
          "output_type": "stream",
          "name": "stdout",
          "text": [
            "  % Total    % Received % Xferd  Average Speed   Time    Time     Time  Current\n",
            "                                 Dload  Upload   Total   Spent    Left  Speed\n",
            "100 2796k  100 2796k    0     0  1221k      0  0:00:02  0:00:02 --:--:-- 1221k\n"
          ]
        }
      ]
    },
    {
      "cell_type": "code",
      "source": [
        "from PIL import Image\n",
        "img = Image.open(\"poodle.jpg\")"
      ],
      "metadata": {
        "id": "dQ8SDZGmRjVu"
      },
      "execution_count": null,
      "outputs": []
    },
    {
      "cell_type": "code",
      "source": [
        "from torchvision import transforms\n",
        "transform = transforms.Compose([\n",
        "    transforms.Resize(256),\n",
        "    transforms.CenterCrop(224),\n",
        "    transforms.ToTensor(),\n",
        "    transforms.Normalize(\n",
        "        mean=[0.485, 0.456, 0.406],\n",
        "        std=[0.229,0.224,0.225]\n",
        "    )\n",
        "])"
      ],
      "metadata": {
        "id": "3uSCa38nSlSC"
      },
      "execution_count": null,
      "outputs": []
    },
    {
      "cell_type": "code",
      "source": [
        "from torchvision import transforms\n",
        "\n",
        "img_t = transform(img)\n",
        "\n",
        "batch_t = torch.unsqueeze(img_t, 0)\n",
        "\n",
        "# put the tensor on the GPU\n",
        "batch_t = batch_t.to(device)\n",
        "batch_t.is_cuda"
      ],
      "metadata": {
        "colab": {
          "base_uri": "https://localhost:8080/"
        },
        "id": "2HLRlxJxVWGO",
        "outputId": "4050fbe2-2287-4ba1-f812-fdc170bb8a87"
      },
      "execution_count": null,
      "outputs": [
        {
          "output_type": "execute_result",
          "data": {
            "text/plain": [
              "True"
            ]
          },
          "metadata": {},
          "execution_count": 124
        }
      ]
    },
    {
      "cell_type": "code",
      "source": [
        "alexnet.eval()"
      ],
      "metadata": {
        "colab": {
          "base_uri": "https://localhost:8080/"
        },
        "id": "wYKWKdTGbDyo",
        "outputId": "f23ebf88-6807-4f1d-deb9-3213330309b2"
      },
      "execution_count": null,
      "outputs": [
        {
          "output_type": "execute_result",
          "data": {
            "text/plain": [
              "AlexNet(\n",
              "  (features): Sequential(\n",
              "    (0): Conv2d(3, 64, kernel_size=(11, 11), stride=(4, 4), padding=(2, 2))\n",
              "    (1): ReLU(inplace=True)\n",
              "    (2): MaxPool2d(kernel_size=3, stride=2, padding=0, dilation=1, ceil_mode=False)\n",
              "    (3): Conv2d(64, 192, kernel_size=(5, 5), stride=(1, 1), padding=(2, 2))\n",
              "    (4): ReLU(inplace=True)\n",
              "    (5): MaxPool2d(kernel_size=3, stride=2, padding=0, dilation=1, ceil_mode=False)\n",
              "    (6): Conv2d(192, 384, kernel_size=(3, 3), stride=(1, 1), padding=(1, 1))\n",
              "    (7): ReLU(inplace=True)\n",
              "    (8): Conv2d(384, 256, kernel_size=(3, 3), stride=(1, 1), padding=(1, 1))\n",
              "    (9): ReLU(inplace=True)\n",
              "    (10): Conv2d(256, 256, kernel_size=(3, 3), stride=(1, 1), padding=(1, 1))\n",
              "    (11): ReLU(inplace=True)\n",
              "    (12): MaxPool2d(kernel_size=3, stride=2, padding=0, dilation=1, ceil_mode=False)\n",
              "  )\n",
              "  (avgpool): AdaptiveAvgPool2d(output_size=(6, 6))\n",
              "  (classifier): Sequential(\n",
              "    (0): Dropout(p=0.5, inplace=False)\n",
              "    (1): Linear(in_features=9216, out_features=4096, bias=True)\n",
              "    (2): ReLU(inplace=True)\n",
              "    (3): Dropout(p=0.5, inplace=False)\n",
              "    (4): Linear(in_features=4096, out_features=4096, bias=True)\n",
              "    (5): ReLU(inplace=True)\n",
              "    (6): Linear(in_features=4096, out_features=1000, bias=True)\n",
              "  )\n",
              ")"
            ]
          },
          "metadata": {},
          "execution_count": 125
        }
      ]
    },
    {
      "cell_type": "code",
      "source": [
        "out = alexnet(batch_t)\n",
        "print(out.shape)"
      ],
      "metadata": {
        "colab": {
          "base_uri": "https://localhost:8080/"
        },
        "id": "VVU8GNghbjiJ",
        "outputId": "5087325e-72b8-4b8c-fe4c-b0f2e26f67f2"
      },
      "execution_count": null,
      "outputs": [
        {
          "output_type": "stream",
          "name": "stdout",
          "text": [
            "torch.Size([1, 1000])\n"
          ]
        }
      ]
    },
    {
      "cell_type": "code",
      "source": [
        "out"
      ],
      "metadata": {
        "colab": {
          "base_uri": "https://localhost:8080/"
        },
        "id": "jo1YZLFdcHNw",
        "outputId": "6504bd93-1b97-406a-e127-3c105310680f"
      },
      "execution_count": null,
      "outputs": [
        {
          "output_type": "execute_result",
          "data": {
            "text/plain": [
              "tensor([[-8.7935e+00, -8.0680e+00, -2.0317e+00, -9.1752e+00, -5.5638e+00,\n",
              "         -1.0078e+00, -3.8634e+00, -1.4121e+00,  2.8845e+00,  3.6369e+00,\n",
              "         -7.0047e+00, -7.7846e+00, -4.9590e+00, -4.6131e+00, -5.8931e+00,\n",
              "         -7.2925e+00, -4.7969e+00, -1.7377e+00, -2.0239e+00, -3.3923e+00,\n",
              "         -6.1958e+00, -2.4802e+00, -8.5094e-01,  1.7095e+00,  6.2048e+00,\n",
              "         -6.8440e+00, -9.5310e+00, -8.6412e+00, -6.6451e+00, -5.8358e+00,\n",
              "         -8.0254e+00, -5.7845e+00, -5.5532e+00, -2.0515e+00, -4.8657e-01,\n",
              "         -5.1958e+00,  1.1178e+00, -4.7632e+00, -6.4776e+00,  1.9730e-01,\n",
              "         -7.2411e+00, -5.8235e+00, -4.4841e+00, -6.2480e-01, -6.6839e+00,\n",
              "         -2.6448e+00, -6.1167e+00, -6.0165e+00, -2.3940e+00, -5.1472e+00,\n",
              "         -6.9878e-01, -3.7524e+00, -3.2170e+00, -7.2655e+00, -4.5017e+00,\n",
              "         -7.2716e+00, -3.9784e+00, -6.9354e+00, -5.8916e+00, -7.8432e+00,\n",
              "         -3.2768e+00, -6.4154e+00, -4.2688e+00,  1.4413e+00, -6.7428e+00,\n",
              "         -2.1894e+00, -9.7917e-01,  8.5014e-02, -3.0578e+00, -7.2695e-01,\n",
              "         -4.1549e+00, -6.7628e+00, -1.7960e+00, -1.9698e+00, -4.6283e+00,\n",
              "         -2.6988e+00, -4.3488e+00,  4.6474e-01, -2.7454e+00, -3.8579e-01,\n",
              "         -2.0165e+00, -2.9821e+00, -6.2056e-01, -2.2761e+00,  4.0120e+00,\n",
              "          1.2171e+00, -1.6158e+00,  1.0624e+01,  4.4784e-01,  2.0163e+00,\n",
              "         -4.5686e+00, -8.9286e+00, -7.2480e+00, -2.3906e+00, -4.7471e+00,\n",
              "         -1.0973e+01, -5.4750e+00,  1.0964e+00, -3.7970e+00, -4.6084e-01,\n",
              "         -3.7016e+00, -2.1960e+00, -1.5075e-01, -8.3843e-01, -4.7164e-01,\n",
              "          4.5642e+00,  2.7968e+00, -5.3462e+00, -5.5025e+00, -3.7282e-01,\n",
              "         -1.0189e+01, -4.5951e+00, -1.8987e+00, -4.8288e+00, -1.4970e+00,\n",
              "         -7.3246e+00, -8.7176e+00, -2.8932e+00, -5.2039e+00, -6.1801e+00,\n",
              "         -5.5875e+00, -4.5601e+00, -3.9026e+00, -4.3895e+00, -2.9526e+00,\n",
              "         -1.8747e+00, -2.6543e+00,  8.0164e-01, -2.9654e+00, -1.0635e+00,\n",
              "         -5.1314e+00, -5.4442e+00, -4.7754e+00, -8.9740e+00, -3.5841e+00,\n",
              "         -6.8991e+00, -5.3598e+00, -5.9084e+00, -8.9590e-01, -3.0776e+00,\n",
              "         -2.0958e+00, -6.4608e+00, -4.4758e+00, -5.2244e+00,  3.4487e+00,\n",
              "         -3.9365e+00,  3.3754e+00, -6.4323e+00, -3.6435e+00, -2.3831e+00,\n",
              "          5.8749e-01,  6.5800e+00,  1.0065e+01,  2.1060e+01,  1.3212e+01,\n",
              "          1.4923e+01,  1.2229e+01,  6.3411e+00,  5.5088e+00,  1.7461e+00,\n",
              "          1.6245e+01,  8.6918e+00,  8.8569e+00,  2.8610e+00,  7.4006e+00,\n",
              "          3.7006e-01,  6.7563e+00,  4.9993e+00,  5.7325e+00,  1.1811e+01,\n",
              "          1.2147e+01,  3.3933e+00,  3.1175e+00,  4.8214e+00,  8.2009e+00,\n",
              "          1.5630e+01,  8.0840e+00,  8.6777e+00,  4.1222e+00,  4.8569e+00,\n",
              "          4.7023e+00,  1.9420e+01,  1.0692e+01,  1.3820e+01,  1.3180e+01,\n",
              "          1.0863e+01,  6.8510e+00,  1.0136e+01,  1.3299e+01,  1.5546e+01,\n",
              "          1.2810e+01,  1.0274e+01,  1.2620e+01,  7.8516e+00,  1.3442e+01,\n",
              "          6.6578e+00,  1.3887e+01,  1.0648e+01,  1.0098e+01,  9.7598e+00,\n",
              "          1.8330e+01,  9.3555e+00,  2.0215e+01,  1.2903e+01,  1.6705e+01,\n",
              "          1.0027e+01,  6.9900e+00,  1.5015e+01,  9.5249e+00,  6.9414e+00,\n",
              "          6.7244e+00,  4.1439e+00,  1.5607e+01,  6.3009e+00,  8.3868e+00,\n",
              "          8.9044e+00,  1.3991e+01,  8.2668e+00,  9.2626e+00,  2.0992e+01,\n",
              "          8.7675e+00,  1.0658e+01,  1.9688e+01,  3.9232e+00,  2.7871e+00,\n",
              "          1.5937e+00,  1.0747e+01,  7.6460e+00,  1.9779e+01,  1.9114e+01,\n",
              "          6.5244e+00,  6.4323e+00,  9.7468e+00,  9.8717e+00,  3.4226e+00,\n",
              "          6.2761e+00,  4.5589e+00,  2.4381e+00,  5.2515e+00,  4.6972e+00,\n",
              "          3.3168e+00,  4.9453e+00,  5.4433e+00,  4.3988e+00,  1.3307e+01,\n",
              "          3.9115e+00,  4.3000e+00,  8.7720e+00,  7.9167e+00,  9.2031e+00,\n",
              "          6.7331e+00,  8.5846e+00,  7.1545e+00,  1.3774e+00,  4.1554e+00,\n",
              "          5.7373e+00,  1.0387e+01,  1.7207e+01,  1.1443e+01,  8.9054e+00,\n",
              "          1.0239e+01,  4.6312e+00,  4.5453e+00,  4.5141e+00,  5.8461e+00,\n",
              "          2.2691e+01,  2.3642e+01,  2.3675e+01,  2.7865e+00,  2.5532e+00,\n",
              "          5.4329e+00, -4.1709e+00,  1.5786e+00,  4.3486e+00, -4.6746e+00,\n",
              "         -2.1609e+00,  9.0204e-01, -1.8191e+00,  2.2009e+00,  6.6201e+00,\n",
              "         -2.2585e+00,  3.2377e+00,  3.1668e+00,  6.3035e+00,  6.2739e+00,\n",
              "          3.1987e+00,  1.7930e+00,  6.1528e+00, -1.1286e+00,  1.9053e-01,\n",
              "         -2.0628e+00, -8.0765e-01,  7.6483e-02, -6.1746e-02, -2.6730e-01,\n",
              "         -3.6274e-01,  6.2095e+00, -9.0386e-01,  3.2068e+00,  4.5074e+00,\n",
              "         -7.8206e+00, -2.7921e+00, -7.5983e+00, -3.8364e+00, -5.6235e+00,\n",
              "         -1.3225e+00,  6.5355e-01, -4.1861e+00, -5.4749e+00, -8.6645e+00,\n",
              "         -4.9651e+00, -3.9030e+00, -1.6683e+00, -4.7330e+00, -3.1842e+00,\n",
              "         -5.7723e+00, -9.6080e+00, -3.5065e+00, -4.7693e+00, -4.4539e+00,\n",
              "         -7.6482e+00, -4.6750e+00, -3.7685e+00, -6.1642e+00, -9.2268e-01,\n",
              "         -8.9624e+00, -8.1633e+00,  2.2470e+00,  1.8050e+00,  2.7989e-01,\n",
              "          3.9640e+00,  3.3779e+00,  6.9630e+00,  1.6320e+00,  6.0858e+00,\n",
              "         -2.9169e+00,  3.3512e+00,  6.2013e+00,  2.4614e+00, -4.6352e+00,\n",
              "         -1.1652e+00,  1.2989e+00, -9.5034e-01, -2.8240e-01, -4.8714e+00,\n",
              "          1.4502e+00, -1.8738e+00, -1.9548e+00,  9.4825e+00,  2.0555e+00,\n",
              "         -1.9231e+00, -8.5647e+00, -9.0794e+00, -3.4119e+00,  6.5834e+00,\n",
              "          1.2310e+01,  7.9010e+00, -1.9596e-03,  5.0581e+00,  5.8444e+00,\n",
              "          4.2798e+00,  7.7669e-01,  5.6513e+00, -1.4119e+00,  4.1072e+00,\n",
              "         -2.4516e+00,  1.8313e+00,  1.0459e+00,  1.9935e+00, -2.7730e+00,\n",
              "         -1.2117e+00,  5.6348e-01,  1.2229e+00, -6.8407e-01, -1.2757e+00,\n",
              "         -7.1296e-01, -4.8463e+00,  1.6481e+00,  3.1648e+00, -6.4694e-01,\n",
              "          8.8447e-01, -2.8637e+00,  6.1755e-01,  4.7075e+00, -2.2810e-01,\n",
              "          3.8509e-01, -9.9948e-01, -1.0094e+00,  2.3687e+00, -9.1434e+00,\n",
              "         -3.9978e+00, -3.3206e+00, -8.5248e+00, -8.6680e+00, -3.0694e+00,\n",
              "         -4.8164e+00, -4.8694e+00,  1.1842e+00,  3.7073e-01, -2.3391e+00,\n",
              "         -4.5592e+00, -1.9035e+00, -4.1840e+00, -7.1391e+00, -5.7700e+00,\n",
              "         -7.6880e+00, -1.2089e+00, -3.8114e+00, -5.2136e+00,  1.7209e+00,\n",
              "         -8.2070e-01,  2.4126e+00,  3.7979e+00, -3.7481e+00, -1.0692e-01,\n",
              "          8.1426e-01,  2.6399e-02, -1.8284e+00, -7.9608e-01, -6.4498e-01,\n",
              "         -2.8565e-01,  2.3233e+00, -2.5984e+00, -4.6387e-01, -8.5188e-01,\n",
              "         -4.3295e+00, -2.5846e+00, -7.3110e-01,  4.4073e+00, -4.4022e-01,\n",
              "          5.7262e-01,  2.8753e+00, -9.9402e-01, -8.8675e-01,  1.0775e+01,\n",
              "          3.0058e-01, -3.5508e+00, -2.7726e+00, -4.2973e-01, -1.1414e+00,\n",
              "         -2.1683e-01, -5.6952e+00,  1.0300e-01,  3.9345e+00, -3.4775e+00,\n",
              "         -3.4002e+00, -1.4417e+00,  2.6331e+00,  2.5969e+00, -4.2317e+00,\n",
              "         -1.6118e+00, -2.4366e-01,  4.6245e+00,  3.0756e+00, -6.2973e-01,\n",
              "         -3.9176e+00, -1.8378e+00,  5.7856e+00,  1.3828e+00, -1.3605e+00,\n",
              "          4.0391e-01,  5.8293e-01,  5.0795e+00,  9.6330e+00, -1.2897e+00,\n",
              "         -6.4483e+00, -1.8493e+00, -5.6087e+00, -2.5612e+00,  2.4495e-01,\n",
              "          3.0168e+00, -9.3134e-01, -3.0503e+00,  4.0362e-02,  2.6953e+00,\n",
              "          5.4954e-01, -4.5268e+00, -3.8474e+00,  2.5406e+00, -2.5015e+00,\n",
              "          8.5820e-01, -4.6750e+00, -2.9973e+00, -5.6201e+00, -7.4461e+00,\n",
              "         -3.3517e+00, -4.4737e+00,  1.2189e+00, -3.5604e+00,  1.8753e+00,\n",
              "         -6.5794e-02,  4.5511e-01,  1.5150e+00, -2.3404e+00, -3.7988e+00,\n",
              "          8.1694e-01,  7.3320e+00, -3.6672e+00, -1.1397e+00, -9.1004e-01,\n",
              "         -1.4358e+00,  1.8692e-01, -1.1351e+00, -3.1413e+00, -1.3029e+00,\n",
              "         -3.6604e+00,  3.1166e+00, -1.0375e+00,  3.1788e+00, -1.5694e+00,\n",
              "         -3.5190e+00, -5.4570e+00, -3.3877e+00, -3.0548e+00,  3.2452e-01,\n",
              "          3.2495e+00,  3.6501e+00, -5.2845e+00, -8.7287e-03,  2.8739e+00,\n",
              "          5.8150e+00, -1.2926e+00, -6.8553e-01, -3.1921e-01, -3.2464e+00,\n",
              "         -2.4233e+00,  4.2543e-01,  1.4025e-01,  7.4505e-01, -9.6448e-01,\n",
              "         -2.3619e-01, -2.1856e+00,  2.9094e+00,  4.5777e+00,  1.2606e+01,\n",
              "         -4.2824e+00, -3.2210e+00,  2.7539e-01, -2.7267e+00,  1.2460e+01,\n",
              "         -5.0426e+00, -1.0287e+00,  2.1715e-01,  3.7728e+00, -1.7079e+00,\n",
              "         -9.0440e-01, -3.1164e+00, -6.4145e+00, -3.0960e-01,  7.2679e-01,\n",
              "         -2.4350e+00, -6.5614e-01,  8.6853e+00,  2.0579e+00, -4.2199e+00,\n",
              "         -2.9660e+00, -2.6104e+00, -3.2212e+00,  1.2858e-01, -2.1064e+00,\n",
              "          2.4680e+00, -4.5392e+00,  2.3872e-01, -3.9294e+00,  1.8742e-01,\n",
              "         -5.3036e+00, -2.0244e+00, -2.4101e+00,  5.8771e+00, -6.0964e+00,\n",
              "         -1.5859e+00,  5.6365e-01, -2.7090e+00, -4.5150e+00,  5.6022e-01,\n",
              "         -2.3643e+00, -4.2624e+00, -1.4844e+00,  2.3120e+00, -5.4195e-01,\n",
              "         -2.0500e+00, -3.3613e+00, -5.3554e+00, -3.1122e+00, -2.9560e+00,\n",
              "          2.7788e+00, -5.9767e+00,  1.4461e+00,  6.6888e+00,  7.1999e+00,\n",
              "         -6.2689e+00,  2.7311e+00, -5.6075e+00, -8.3176e-01, -3.4769e+00,\n",
              "         -5.7704e+00,  4.3556e-01, -4.1513e+00,  9.7913e-01, -4.7280e-01,\n",
              "          1.7753e+00, -1.5720e-01, -1.5190e+00,  4.5291e-01, -3.6326e+00,\n",
              "          1.2218e+00,  1.2403e-01,  4.7494e+00,  1.9680e+00, -1.6708e+00,\n",
              "         -9.5244e-01,  1.3490e+00, -3.1586e+00, -1.3132e+00, -4.6440e-02,\n",
              "         -1.4645e+00,  3.0955e+00, -2.0048e+00,  2.1697e+00,  1.2012e-01,\n",
              "          2.5043e+00,  9.1562e-01, -4.2769e-01, -1.0115e+00, -1.2445e+00,\n",
              "         -4.0131e+00,  8.8903e-01, -3.0056e-01, -6.2883e+00, -5.6773e-01,\n",
              "         -2.4136e+00, -9.5572e-01, -5.9608e-01, -1.8167e+00, -2.9714e+00,\n",
              "         -5.0292e+00,  2.1644e+00,  3.3866e+00,  5.5009e-01, -1.4281e+00,\n",
              "          2.6892e-01,  4.9521e-01, -8.3933e-01, -6.4203e-01, -1.4709e+00,\n",
              "         -3.3746e+00,  5.7733e-01, -2.2776e+00,  6.0740e-01, -4.5601e+00,\n",
              "          1.2011e+00,  2.1219e+00, -5.3908e+00, -1.9000e+00, -5.2134e+00,\n",
              "         -2.2118e+00, -2.2279e+00, -6.1227e+00,  5.5580e+00, -3.4477e+00,\n",
              "         -5.9353e-01, -3.8108e+00, -1.6620e+00, -9.6951e-01, -1.0864e+00,\n",
              "         -2.1217e+00,  2.6669e+00,  4.4387e-01, -2.0833e+00, -5.3025e-01,\n",
              "          8.7943e-02, -6.5170e+00,  2.3893e+00,  3.3421e+00, -1.9031e-01,\n",
              "         -5.0888e+00,  7.0887e+00, -2.1868e+00, -1.7568e-02, -3.7765e+00,\n",
              "         -3.4207e-01,  2.5187e+00, -5.1826e+00, -1.0959e+00,  1.1353e+00,\n",
              "         -3.6258e+00,  9.1567e-01, -2.3571e+00, -4.5960e-01,  5.6659e-01,\n",
              "         -1.2605e+00, -3.1259e-01, -6.6325e-01, -1.7614e+00, -4.1423e+00,\n",
              "          5.8720e-01,  9.8462e-01,  3.1930e+00,  1.0552e+00,  1.7146e+00,\n",
              "          7.0253e+00, -3.0810e+00, -8.5657e-02, -1.5188e+00,  2.3734e+00,\n",
              "         -3.8239e+00,  4.1283e+00,  6.8825e-01, -3.8378e-01,  1.6107e+00,\n",
              "         -1.9135e+00, -4.1193e+00, -2.6528e+00,  3.2978e-02, -1.6880e+00,\n",
              "         -7.7748e+00,  4.2836e+00, -8.6979e-01, -3.1398e+00, -2.3743e+00,\n",
              "         -2.6181e+00,  4.8600e+00,  3.0382e+00, -1.9119e+00, -7.3417e+00,\n",
              "          1.8344e+00, -8.7580e-02, -5.8900e+00,  7.0984e-01, -7.7794e-01,\n",
              "         -4.1005e+00,  5.7949e+00, -1.7242e+00, -1.0109e+00, -1.8678e+00,\n",
              "          5.9896e+00, -3.2151e+00, -2.9843e+00, -2.4256e-01, -2.7556e+00,\n",
              "          1.0213e+00,  4.9025e-01,  5.5736e-01,  6.8580e-01, -3.9393e+00,\n",
              "         -6.6448e-01, -2.2296e+00, -5.8248e-01,  3.7013e+00, -2.7408e+00,\n",
              "          6.7824e+00, -5.3975e+00, -3.2498e+00,  1.6154e+00, -3.1277e+00,\n",
              "         -2.5222e+00,  2.8793e+00, -1.6768e+00, -2.8841e+00, -3.4602e-01,\n",
              "          2.1477e+00,  4.9766e+00, -3.8364e+00, -3.4726e+00, -5.3436e+00,\n",
              "          5.9729e+00, -4.4893e+00,  6.6881e-01,  2.7408e+00, -1.8758e-02,\n",
              "         -1.2694e+00,  4.7452e+00,  1.8124e+00, -1.7313e+00,  7.2692e-02,\n",
              "         -1.0929e+00,  2.6495e-01, -5.8025e+00,  4.2295e+00,  6.5575e-01,\n",
              "         -5.1423e+00, -4.7818e+00,  1.9782e+00, -2.5946e+00,  2.4600e+00,\n",
              "          1.1534e+01,  2.8901e+00, -3.9778e+00, -3.2697e+00,  6.0220e+00,\n",
              "          1.3996e+00,  3.9571e+00,  3.5619e+00,  4.1447e+00,  3.8269e+00,\n",
              "         -4.0827e+00,  2.2340e-01,  3.2200e-01, -5.4943e+00,  7.7095e+00,\n",
              "         -6.8204e-01, -3.6411e+00, -3.6652e+00, -3.4301e+00,  3.0031e+00,\n",
              "          1.0113e+01,  6.3408e+00, -8.8755e-01,  1.1213e+00, -2.6388e+00,\n",
              "         -1.3924e+00,  7.2357e+00, -4.8433e+00,  2.6986e+00, -6.3091e+00,\n",
              "         -2.4432e+00,  1.9497e+00, -4.8817e+00, -4.8656e+00, -5.4992e+00,\n",
              "         -3.7191e+00, -5.6682e+00, -4.0859e+00,  2.4260e+00,  6.9891e+00,\n",
              "         -2.0342e+00, -4.9421e+00, -1.2596e+00, -4.1673e-01, -3.8869e+00,\n",
              "         -3.6881e+00,  4.6211e+00, -4.6835e+00, -3.4904e+00, -1.6446e+00,\n",
              "         -1.3927e-01, -1.2070e+00,  5.3532e+00, -5.9838e-01, -2.5649e+00,\n",
              "          8.2905e+00,  1.6833e+00, -3.6740e+00, -6.6924e-01,  3.2847e+00,\n",
              "         -1.9551e+00,  5.1829e-01, -5.2851e+00, -1.1527e+00, -2.7343e+00,\n",
              "          1.1176e+01,  1.9696e+00,  1.0584e+01, -1.2593e+00, -3.1222e+00,\n",
              "          3.0530e-02, -3.3300e+00, -1.1019e+00,  5.7724e-01, -3.3434e-01,\n",
              "         -2.7270e+00,  3.5186e-01, -4.9863e+00, -4.1183e+00, -5.0866e+00,\n",
              "          5.8110e+00, -3.3578e+00, -3.9646e+00, -1.4215e+00, -1.7921e-01,\n",
              "          1.4929e+00, -5.9588e+00,  2.4456e-01, -3.7521e+00, -4.1366e+00,\n",
              "         -3.0216e+00,  7.1522e+00,  7.1643e-01, -2.5351e+00,  3.4835e+00,\n",
              "         -1.4594e+00, -2.1431e+00,  4.5847e+00, -1.7323e+00, -1.9461e-01,\n",
              "         -2.8052e+00, -1.4733e+00, -5.0096e-01, -3.4083e+00, -2.1031e+00,\n",
              "         -3.7862e+00, -3.0747e+00, -2.5142e+00,  8.6872e-01, -1.6582e-01,\n",
              "         -4.5594e+00,  1.2629e+00,  3.3326e+00,  5.3533e+00, -7.5266e-01,\n",
              "         -4.0636e+00, -3.9981e+00, -3.5815e+00,  5.5369e+00,  3.3433e+00,\n",
              "          1.3684e-01, -1.0702e+00, -5.2307e-01, -4.6157e+00, -1.3364e+00,\n",
              "          2.3879e+00,  8.3249e+00,  1.2267e+00, -6.2645e+00, -7.0149e+00,\n",
              "         -3.8826e+00, -5.6128e-01, -2.1799e+00,  3.4466e+00,  4.9130e-01,\n",
              "         -1.9361e+00, -1.3861e+00, -5.2878e+00, -3.6708e+00, -3.2984e+00,\n",
              "         -3.8028e+00, -7.5756e+00, -4.0760e+00, -8.9053e-01,  5.2673e+00,\n",
              "         -3.9823e-01,  6.3106e-01, -4.4164e-01, -6.2052e+00, -3.3286e+00,\n",
              "         -2.7806e-01, -3.5092e+00,  1.3100e+00,  1.8365e+00,  2.3234e-01,\n",
              "         -4.6210e+00, -5.6432e+00, -1.1353e+00, -3.6301e+00, -3.7859e+00,\n",
              "         -1.3375e+00, -3.0968e+00, -3.7976e-01, -1.4990e+00, -1.6584e+00,\n",
              "         -7.1978e-01, -3.1061e+00, -7.0539e+00, -2.6802e+00, -3.0166e+00,\n",
              "         -3.3559e+00, -1.6909e+00, -3.9399e+00,  6.1197e-01, -3.9697e+00,\n",
              "         -2.5252e+00,  2.8027e+00, -4.0803e+00, -4.3662e+00, -8.0543e+00,\n",
              "         -5.9605e-01, -2.5511e+00, -5.4037e+00, -2.3270e+00, -3.8796e+00,\n",
              "         -5.0743e+00, -1.5596e+00, -5.2021e+00, -4.7807e+00, -4.4405e+00,\n",
              "         -3.5756e+00, -3.7187e+00,  1.0499e+00, -2.7033e+00, -6.3096e+00,\n",
              "         -4.0702e+00, -2.5697e+00,  1.8303e+00, -7.0770e+00, -3.6792e+00,\n",
              "         -3.4203e+00, -8.3473e+00,  5.7849e+00, -4.5550e+00,  1.8471e-01,\n",
              "         -3.3666e+00, -4.4108e+00, -3.2498e+00,  5.0052e-02, -2.7294e+00,\n",
              "          1.0374e-01,  7.7727e-01, -1.8383e-01,  8.0507e-01,  9.8640e+00]],\n",
              "       device='cuda:0', grad_fn=<AddmmBackward0>)"
            ]
          },
          "metadata": {},
          "execution_count": 127
        }
      ]
    },
    {
      "cell_type": "code",
      "source": [
        "percentage = torch.nn.functional.softmax(out, dim=1)[0] * 100\n",
        "percentage"
      ],
      "metadata": {
        "colab": {
          "base_uri": "https://localhost:8080/"
        },
        "id": "oAL4ulf3cJVd",
        "outputId": "1c6c4fc5-fad7-40a4-a8ad-ab6b62f292bb"
      },
      "execution_count": null,
      "outputs": [
        {
          "output_type": "execute_result",
          "data": {
            "text/plain": [
              "tensor([3.0645e-13, 6.3308e-13, 2.6483e-10, 2.0923e-13, 7.7450e-12, 7.3728e-10,\n",
              "        4.2410e-11, 4.9213e-10, 3.6147e-08, 7.6704e-08, 1.8334e-12, 8.4045e-13,\n",
              "        1.4179e-11, 2.0040e-11, 5.5718e-12, 1.3748e-12, 1.6676e-11, 3.5534e-10,\n",
              "        2.6691e-10, 6.7933e-11, 4.1167e-12, 1.6912e-10, 8.6254e-10, 1.1162e-08,\n",
              "        1.0001e-06, 2.1528e-12, 1.4659e-13, 3.5686e-13, 2.6267e-12, 5.9006e-12,\n",
              "        6.6064e-13, 6.2109e-12, 7.8270e-12, 2.5965e-10, 1.2417e-09, 1.1190e-11,\n",
              "        6.1771e-09, 1.7247e-11, 3.1056e-12, 2.4605e-09, 1.4474e-12, 5.9734e-12,\n",
              "        2.2799e-11, 1.0814e-09, 2.5268e-12, 1.4345e-10, 4.4554e-12, 4.9250e-12,\n",
              "        1.8435e-10, 1.1747e-11, 1.0043e-09, 4.7388e-11, 8.0947e-11, 1.4124e-12,\n",
              "        2.2401e-11, 1.4039e-12, 3.7805e-11, 1.9649e-12, 5.5800e-12, 7.9268e-13,\n",
              "        7.6249e-11, 3.3050e-12, 2.8276e-11, 8.5362e-09, 2.3821e-12, 2.2620e-10,\n",
              "        7.5873e-10, 2.1992e-09, 9.4919e-11, 9.7640e-10, 3.1686e-11, 2.3351e-12,\n",
              "        3.3522e-10, 2.8175e-10, 1.9738e-11, 1.3592e-10, 2.6102e-11, 3.2149e-09,\n",
              "        1.2972e-10, 1.3734e-09, 2.6888e-10, 1.0238e-10, 1.0860e-09, 2.0742e-10,\n",
              "        1.1161e-07, 6.8217e-09, 4.0142e-10, 8.3039e-05, 3.1610e-09, 1.5170e-08,\n",
              "        2.0951e-11, 2.6773e-13, 1.4374e-12, 1.8498e-10, 1.7526e-11, 3.4671e-14,\n",
              "        8.4643e-12, 6.0464e-09, 4.5325e-11, 1.2741e-09, 4.9861e-11, 2.2470e-10,\n",
              "        1.7373e-09, 8.7339e-10, 1.2604e-09, 1.9387e-07, 3.3112e-08, 9.6270e-12,\n",
              "        8.2341e-12, 1.3913e-09, 7.5916e-14, 2.0404e-11, 3.0251e-10, 1.6151e-11,\n",
              "        4.5204e-10, 1.3313e-12, 3.3062e-13, 1.1191e-10, 1.1100e-11, 4.1818e-12,\n",
              "        7.5637e-12, 2.1131e-11, 4.0781e-11, 2.5060e-11, 1.0545e-10, 3.0986e-10,\n",
              "        1.4210e-10, 4.5028e-09, 1.0411e-10, 6.9740e-10, 1.1934e-11, 8.7286e-12,\n",
              "        1.7037e-11, 2.5583e-13, 5.6079e-11, 2.0375e-12, 9.4975e-12, 5.4870e-12,\n",
              "        8.2462e-10, 9.3053e-11, 2.4839e-10, 3.1583e-12, 2.2990e-11, 1.0874e-11,\n",
              "        6.3548e-08, 3.9422e-11, 5.9055e-08, 3.2497e-12, 5.2845e-11, 1.8637e-10,\n",
              "        3.6348e-09, 1.4554e-06, 4.7474e-05, 2.8284e+00, 1.1045e-03, 6.1110e-03,\n",
              "        4.1329e-04, 1.1461e-06, 4.9861e-07, 1.1579e-08, 2.2929e-02, 1.2027e-05,\n",
              "        1.4185e-05, 3.5307e-08, 3.3064e-06, 2.9245e-09, 1.7360e-06, 2.9958e-07,\n",
              "        6.2362e-07, 2.7226e-04, 3.8077e-04, 6.0119e-08, 4.5632e-08, 2.5076e-07,\n",
              "        7.3611e-06, 1.2400e-02, 6.5491e-06, 1.1858e-05, 1.2462e-07, 2.5980e-07,\n",
              "        2.2259e-07, 5.4882e-01, 8.8892e-05, 2.0291e-03, 1.0697e-03, 1.0541e-04,\n",
              "        1.9085e-06, 5.0963e-05, 1.2046e-03, 1.1403e-02, 7.3878e-04, 5.8506e-05,\n",
              "        6.1120e-04, 5.1907e-06, 1.3909e-03, 1.5731e-06, 2.1695e-03, 8.5038e-05,\n",
              "        4.9093e-05, 3.4993e-05, 1.8457e-01, 2.3354e-05, 1.2148e+00, 8.1067e-04,\n",
              "        3.6324e-02, 4.5729e-05, 2.1931e-06, 6.7001e-03, 2.7667e-05, 2.0890e-06,\n",
              "        1.6816e-06, 1.2735e-07, 1.2116e-02, 1.1010e-06, 8.8645e-06, 1.4875e-05,\n",
              "        2.4081e-03, 7.8624e-06, 2.1283e-05, 2.6421e+00, 1.2972e-05, 8.5946e-05,\n",
              "        7.1715e-01, 1.0214e-07, 3.2793e-08, 9.9418e-09, 9.3860e-05, 4.2262e-06,\n",
              "        7.8542e-01, 4.0397e-01, 1.3767e-06, 1.2555e-06, 3.4540e-05, 3.9136e-05,\n",
              "        6.1907e-08, 1.0740e-06, 1.9286e-07, 2.3131e-08, 3.8549e-07, 2.2146e-07,\n",
              "        5.5692e-08, 2.8383e-07, 4.6703e-07, 1.6433e-07, 1.2153e-03, 1.0094e-07,\n",
              "        1.4887e-07, 1.3030e-05, 5.5402e-06, 2.0053e-05, 1.6963e-06, 1.0804e-05,\n",
              "        2.5853e-06, 8.0078e-09, 1.2882e-07, 6.2662e-07, 6.5495e-05, 6.0039e-02,\n",
              "        1.8836e-04, 1.4890e-05, 5.6523e-05, 2.0731e-07, 1.9026e-07, 1.8440e-07,\n",
              "        6.9864e-07, 1.4455e+01, 3.7387e+01, 3.8645e+01, 3.2773e-08, 2.5953e-08,\n",
              "        4.6216e-07, 3.1184e-11, 9.7928e-09, 1.5628e-07, 1.8845e-11, 2.3274e-10,\n",
              "        4.9784e-09, 3.2756e-10, 1.8246e-08, 1.5150e-06, 2.1110e-10, 5.1456e-08,\n",
              "        4.7938e-08, 1.1038e-06, 1.0716e-06, 4.9490e-08, 1.2135e-08, 9.4942e-07,\n",
              "        6.5338e-10, 2.4439e-09, 2.5672e-10, 9.0070e-10, 2.1805e-09, 1.8990e-09,\n",
              "        1.5461e-09, 1.4054e-09, 1.0048e-06, 8.1808e-10, 4.9892e-08, 1.8317e-07,\n",
              "        8.1077e-13, 1.2381e-10, 1.0126e-12, 4.3574e-11, 7.2961e-12, 5.3827e-10,\n",
              "        3.8830e-09, 3.0714e-11, 8.4647e-12, 3.4866e-13, 1.4094e-11, 4.0766e-11,\n",
              "        3.8090e-10, 1.7776e-11, 8.3646e-11, 6.2875e-12, 1.3572e-13, 6.0599e-11,\n",
              "        1.7141e-11, 2.3498e-11, 9.6327e-13, 1.8836e-11, 4.6634e-11, 4.2488e-12,\n",
              "        8.0282e-10, 2.5882e-13, 5.7550e-13, 1.9106e-08, 1.2281e-08, 2.6723e-09,\n",
              "        1.0638e-07, 5.9202e-08, 2.1347e-06, 1.0330e-08, 8.8789e-07, 1.0928e-10,\n",
              "        5.7640e-08, 9.9659e-07, 2.3676e-08, 1.9602e-11, 6.2993e-10, 7.4034e-09,\n",
              "        7.8092e-10, 1.5230e-09, 1.5478e-11, 8.6129e-09, 3.1014e-10, 2.8600e-10,\n",
              "        2.6516e-05, 1.5778e-08, 2.9522e-10, 3.8525e-13, 2.3024e-13, 6.6612e-11,\n",
              "        1.4604e-06, 4.4838e-04, 5.4537e-06, 2.0160e-09, 3.1771e-07, 6.9749e-07,\n",
              "        1.4589e-07, 4.3918e-09, 5.7501e-07, 4.9219e-10, 1.2276e-07, 1.7403e-10,\n",
              "        1.2609e-08, 5.7487e-09, 1.4829e-08, 1.2620e-10, 6.0130e-10, 3.5486e-09,\n",
              "        6.8614e-09, 1.0192e-09, 5.6401e-10, 9.9015e-10, 1.5871e-11, 1.0498e-08,\n",
              "        4.7841e-08, 1.0577e-09, 4.8916e-09, 1.1525e-10, 3.7457e-09, 2.2377e-07,\n",
              "        1.6080e-09, 2.9688e-09, 7.4347e-10, 7.3612e-10, 2.1580e-08, 2.1599e-13,\n",
              "        3.7079e-11, 7.2986e-11, 4.0090e-13, 3.4744e-13, 9.3825e-11, 1.6353e-11,\n",
              "        1.5509e-11, 6.6012e-09, 2.9265e-09, 1.9474e-10, 2.1150e-11, 3.0107e-10,\n",
              "        3.0779e-11, 1.6028e-12, 6.3016e-12, 9.2576e-13, 6.0299e-10, 4.4676e-11,\n",
              "        1.0992e-11, 1.1291e-08, 8.8902e-10, 2.2548e-08, 9.0101e-08, 4.7594e-11,\n",
              "        1.8151e-09, 4.5600e-09, 2.0740e-09, 3.2454e-10, 9.1118e-10, 1.0598e-09,\n",
              "        1.5180e-09, 2.0623e-08, 1.5027e-10, 1.2702e-09, 8.6172e-10, 2.6612e-11,\n",
              "        1.5236e-10, 9.7235e-10, 1.6572e-07, 1.3006e-09, 3.5811e-09, 3.5814e-08,\n",
              "        7.4755e-10, 8.3220e-10, 9.6596e-05, 2.7282e-09, 5.7973e-11, 1.2625e-10,\n",
              "        1.3143e-09, 6.4509e-10, 1.6262e-09, 6.7909e-12, 2.2391e-09, 1.0330e-07,\n",
              "        6.2385e-11, 6.7401e-11, 4.7777e-10, 2.8112e-08, 2.7112e-08, 2.9345e-11,\n",
              "        4.0301e-10, 1.5831e-09, 2.0593e-07, 4.3758e-08, 1.0761e-09, 4.0174e-11,\n",
              "        3.2150e-10, 6.5767e-07, 8.0516e-09, 5.1817e-10, 3.0252e-09, 3.6182e-09,\n",
              "        3.2460e-07, 3.0824e-05, 5.5619e-10, 3.1979e-12, 3.1784e-10, 7.4049e-12,\n",
              "        1.5596e-10, 2.5806e-09, 4.1257e-08, 7.9590e-10, 9.5630e-11, 2.1031e-09,\n",
              "        2.9916e-08, 3.4994e-09, 2.1846e-11, 4.3096e-11, 2.5628e-08, 1.6556e-10,\n",
              "        4.7648e-09, 1.8837e-11, 1.0084e-10, 7.3205e-12, 1.1790e-12, 7.0746e-11,\n",
              "        2.3036e-11, 6.8345e-09, 5.7423e-11, 1.3175e-08, 1.8913e-09, 3.1841e-09,\n",
              "        9.1899e-09, 1.9450e-10, 4.5240e-11, 4.5722e-09, 3.0872e-06, 5.1606e-11,\n",
              "        6.4620e-10, 8.1304e-10, 4.8058e-10, 2.4351e-09, 6.4917e-10, 8.7317e-11,\n",
              "        5.4887e-10, 5.1959e-11, 4.5590e-08, 7.1573e-10, 4.8513e-08, 4.2050e-10,\n",
              "        5.9850e-11, 8.6174e-12, 6.8247e-11, 9.5203e-11, 2.7943e-09, 5.2069e-08,\n",
              "        7.7727e-08, 1.0241e-11, 2.0024e-09, 3.5764e-08, 6.7728e-07, 5.5459e-10,\n",
              "        1.0177e-09, 1.4679e-09, 7.8605e-11, 1.7902e-10, 3.0910e-09, 2.3240e-09,\n",
              "        4.2551e-09, 7.6996e-10, 1.5950e-09, 2.2707e-10, 3.7058e-08, 1.9652e-07,\n",
              "        6.0270e-04, 2.7895e-11, 8.0624e-11, 2.6603e-09, 1.3217e-10, 5.2084e-04,\n",
              "        1.3043e-11, 7.2204e-10, 2.5098e-09, 8.7873e-08, 3.6610e-10, 8.1763e-10,\n",
              "        8.9520e-11, 3.3078e-12, 1.4821e-09, 4.1781e-09, 1.7693e-10, 1.0480e-09,\n",
              "        1.1949e-05, 1.5816e-08, 2.9693e-11, 1.0404e-10, 1.4847e-10, 8.0607e-11,\n",
              "        2.2971e-09, 2.4577e-10, 2.3832e-08, 2.1576e-11, 2.5645e-09, 3.9703e-11,\n",
              "        2.4363e-09, 1.0047e-11, 2.6679e-10, 1.8140e-10, 7.2065e-07, 4.5470e-12,\n",
              "        4.1362e-10, 3.5492e-09, 1.3454e-10, 2.2105e-11, 3.5370e-09, 1.8990e-10,\n",
              "        2.8457e-11, 4.5780e-10, 2.0390e-08, 1.1748e-09, 2.6002e-10, 7.0068e-11,\n",
              "        9.5391e-12, 8.9892e-11, 1.0509e-10, 3.2519e-08, 5.1247e-12, 8.5780e-09,\n",
              "        1.6227e-06, 2.7052e-06, 3.8265e-12, 3.1004e-08, 7.4133e-12, 8.7924e-10,\n",
              "        6.2423e-11, 6.2992e-12, 3.1225e-09, 3.1801e-11, 5.3773e-09, 1.2589e-09,\n",
              "        1.1921e-08, 1.7261e-09, 4.4224e-10, 3.1771e-09, 5.3424e-11, 6.8541e-09,\n",
              "        2.2866e-09, 2.3333e-07, 1.4455e-08, 3.7995e-10, 7.7928e-10, 7.7837e-09,\n",
              "        8.5814e-11, 5.4326e-10, 1.9283e-09, 4.6699e-10, 4.4636e-08, 2.7206e-10,\n",
              "        1.7687e-08, 2.2777e-09, 2.4714e-08, 5.0464e-09, 1.3170e-09, 7.3459e-10,\n",
              "        5.8192e-10, 3.6515e-11, 4.9140e-09, 1.4956e-09, 3.7528e-12, 1.1449e-09,\n",
              "        1.8076e-10, 7.7673e-10, 1.1129e-09, 3.2837e-10, 1.0349e-10, 1.3219e-11,\n",
              "        1.7593e-08, 5.9718e-08, 3.5014e-09, 4.8432e-10, 2.6432e-09, 3.3144e-09,\n",
              "        8.7261e-10, 1.0629e-09, 4.6404e-10, 6.9142e-11, 3.5980e-09, 2.0709e-10,\n",
              "        3.7079e-09, 2.1130e-11, 6.7140e-09, 1.6860e-08, 9.2071e-12, 3.0210e-10,\n",
              "        1.0995e-11, 2.2119e-10, 2.1766e-10, 4.4289e-12, 5.2379e-07, 6.4271e-11,\n",
              "        1.1158e-09, 4.4704e-11, 3.8330e-10, 7.6609e-10, 6.8157e-10, 2.4203e-10,\n",
              "        2.9078e-08, 3.1485e-09, 2.5151e-10, 1.1886e-09, 2.2056e-09, 2.9856e-12,\n",
              "        2.2028e-08, 5.7118e-08, 1.6699e-09, 1.2453e-11, 2.4205e-06, 2.2678e-10,\n",
              "        1.9847e-09, 4.6261e-11, 1.4347e-09, 2.5073e-08, 1.1338e-11, 6.7515e-10,\n",
              "        6.2859e-09, 5.3786e-11, 5.0467e-09, 1.9128e-10, 1.2757e-09, 3.5596e-09,\n",
              "        5.7266e-10, 1.4777e-09, 1.0406e-09, 3.4702e-10, 3.2088e-11, 3.6337e-09,\n",
              "        5.4069e-09, 4.9210e-08, 5.8022e-09, 1.1219e-08, 2.2718e-06, 9.2737e-11,\n",
              "        1.8541e-09, 4.4233e-10, 2.1682e-08, 4.4119e-11, 1.2538e-07, 4.0201e-09,\n",
              "        1.3761e-09, 1.0112e-08, 2.9807e-10, 3.2836e-11, 1.4230e-10, 2.0876e-09,\n",
              "        3.7346e-10, 8.4879e-13, 1.4645e-07, 8.4643e-10, 8.7444e-11, 1.8801e-10,\n",
              "        1.4734e-10, 2.6061e-07, 4.2153e-08, 2.9854e-10, 1.3087e-12, 1.2648e-08,\n",
              "        1.8505e-09, 5.5892e-12, 4.1079e-09, 9.2786e-10, 3.3459e-11, 6.6378e-07,\n",
              "        3.6020e-10, 7.3504e-10, 3.1199e-10, 8.0650e-07, 8.1106e-11, 1.0216e-10,\n",
              "        1.5849e-09, 1.2841e-10, 5.6089e-09, 3.2980e-09, 3.5269e-09, 4.0103e-09,\n",
              "        3.9312e-11, 1.0393e-09, 2.1728e-10, 1.1282e-09, 8.1807e-08, 1.3032e-10,\n",
              "        1.7820e-06, 9.1459e-12, 7.8339e-11, 1.0160e-08, 8.8512e-11, 1.6216e-10,\n",
              "        3.5959e-08, 3.7766e-10, 1.1292e-10, 1.4291e-09, 1.7300e-08, 2.9286e-07,\n",
              "        4.3572e-11, 6.2691e-11, 9.6529e-12, 7.9310e-07, 2.2681e-11, 3.9427e-09,\n",
              "        3.1309e-08, 1.9824e-09, 5.6761e-10, 2.3235e-07, 1.2372e-08, 3.5763e-10,\n",
              "        2.1722e-09, 6.7715e-10, 2.6327e-09, 6.1001e-12, 1.3873e-07, 3.8916e-09,\n",
              "        1.1805e-11, 1.6929e-11, 1.4604e-08, 1.5083e-10, 2.3644e-08, 2.0637e-04,\n",
              "        3.6350e-08, 3.7828e-11, 7.6791e-11, 8.3304e-07, 8.1879e-09, 1.0565e-07,\n",
              "        7.1163e-08, 1.2746e-07, 9.2756e-08, 3.4059e-11, 2.5255e-09, 2.7873e-09,\n",
              "        8.3024e-12, 4.5032e-06, 1.0212e-09, 5.2972e-11, 5.1708e-11, 6.5413e-11,\n",
              "        4.0698e-08, 4.9797e-05, 1.1458e-06, 8.3153e-10, 6.1987e-09, 1.4432e-10,\n",
              "        5.0191e-10, 2.8038e-06, 1.5918e-11, 3.0013e-08, 3.6756e-12, 1.7549e-10,\n",
              "        1.4193e-08, 1.5320e-11, 1.5567e-11, 8.2615e-12, 4.8996e-11, 6.9769e-12,\n",
              "        3.3949e-11, 2.2853e-08, 2.1911e-06, 2.6417e-10, 1.4422e-11, 5.7319e-10,\n",
              "        1.3315e-09, 4.1425e-11, 5.0537e-11, 2.0524e-07, 1.8677e-11, 6.1582e-11,\n",
              "        3.9004e-10, 1.7573e-09, 6.0414e-10, 4.2676e-07, 1.1104e-09, 1.5539e-10,\n",
              "        8.0508e-06, 1.0874e-08, 5.1258e-11, 1.0344e-09, 5.3932e-08, 2.8592e-10,\n",
              "        3.3918e-09, 1.0234e-11, 6.3788e-10, 1.3117e-10, 1.4427e-04, 1.4478e-08,\n",
              "        7.9788e-05, 5.7334e-10, 8.8997e-11, 2.0825e-09, 7.2297e-11, 6.7107e-10,\n",
              "        3.5977e-09, 1.4459e-09, 1.3214e-10, 2.8717e-09, 1.3798e-11, 3.2870e-11,\n",
              "        1.2481e-11, 6.7459e-07, 7.0316e-11, 3.8330e-11, 4.8750e-10, 1.6885e-09,\n",
              "        8.9888e-09, 5.2174e-12, 2.5796e-09, 4.7403e-11, 3.2274e-11, 9.8412e-11,\n",
              "        2.5793e-06, 4.1350e-09, 1.6008e-10, 6.5794e-08, 4.6939e-10, 2.3692e-10,\n",
              "        1.9789e-07, 3.5727e-10, 1.6627e-09, 1.2220e-10, 4.6289e-10, 1.2240e-09,\n",
              "        6.6857e-11, 2.4659e-10, 4.5817e-11, 9.3331e-11, 1.6346e-10, 4.8152e-09,\n",
              "        1.7113e-09, 2.1145e-11, 7.1414e-09, 5.6578e-08, 4.2684e-07, 9.5161e-10,\n",
              "        3.4718e-11, 3.7067e-11, 5.6220e-11, 5.1284e-07, 5.7187e-08, 2.3161e-09,\n",
              "        6.9271e-10, 1.1972e-09, 1.9988e-11, 5.3082e-10, 2.1998e-08, 8.3332e-06,\n",
              "        6.8879e-09, 3.8434e-12, 1.8146e-12, 4.1605e-11, 1.1523e-09, 2.2837e-10,\n",
              "        6.3410e-08, 3.3015e-09, 2.9139e-10, 5.0506e-10, 1.0206e-11, 5.1419e-11,\n",
              "        7.4622e-11, 4.5061e-11, 1.0358e-12, 3.4288e-11, 8.2905e-10, 3.9166e-07,\n",
              "        1.3564e-09, 3.7967e-09, 1.2988e-09, 4.0779e-12, 7.2398e-11, 1.5296e-09,\n",
              "        6.0439e-11, 7.4865e-09, 1.2674e-08, 2.5482e-09, 1.9882e-11, 7.1535e-12,\n",
              "        6.4906e-10, 5.3554e-11, 4.5827e-11, 5.3025e-10, 9.1285e-11, 1.3817e-09,\n",
              "        4.5118e-10, 3.8468e-10, 9.8342e-10, 9.0440e-11, 1.7452e-12, 1.3846e-10,\n",
              "        9.8908e-11, 7.0450e-11, 3.7239e-10, 3.9290e-11, 3.7249e-09, 3.8135e-11,\n",
              "        1.6168e-10, 3.3306e-08, 3.4143e-11, 2.5651e-11, 6.4181e-13, 1.1129e-09,\n",
              "        1.5754e-10, 9.0891e-12, 1.9712e-10, 4.1731e-11, 1.2636e-11, 4.2464e-10,\n",
              "        1.1120e-11, 1.6948e-11, 2.3815e-11, 5.6556e-11, 4.9013e-11, 5.7718e-09,\n",
              "        1.3530e-10, 3.6739e-12, 3.4489e-11, 1.5464e-10, 1.2595e-08, 1.7054e-12,\n",
              "        5.0992e-11, 6.6058e-11, 4.7878e-13, 6.5718e-07, 2.1239e-11, 2.4297e-09,\n",
              "        6.9700e-11, 2.4532e-11, 7.8340e-11, 2.1236e-09, 1.3182e-10, 2.2407e-09,\n",
              "        4.3944e-09, 1.6807e-09, 4.5183e-09, 3.8834e-05], device='cuda:0',\n",
              "       grad_fn=<MulBackward0>)"
            ]
          },
          "metadata": {},
          "execution_count": 128
        }
      ]
    },
    {
      "cell_type": "code",
      "source": [
        "!curl http://zacharski.org/files/courses/dmpics/imagenet_classes.txt -o imagenet_classes.txt"
      ],
      "metadata": {
        "colab": {
          "base_uri": "https://localhost:8080/"
        },
        "id": "eQYVwQE7cUT9",
        "outputId": "81800d0f-1313-44fe-f1c0-298ba8dc954d"
      },
      "execution_count": null,
      "outputs": [
        {
          "output_type": "stream",
          "name": "stdout",
          "text": [
            "  % Total    % Received % Xferd  Average Speed   Time    Time     Time  Current\n",
            "                                 Dload  Upload   Total   Spent    Left  Speed\n",
            "100 10472  100 10472    0     0  23015      0 --:--:-- --:--:-- --:--:-- 23015\n"
          ]
        }
      ]
    },
    {
      "cell_type": "code",
      "source": [
        "with open('imagenet_classes.txt') as f:\n",
        "  labels = [line.strip() for line in f.readlines()]\n",
        "print(labels[:5])"
      ],
      "metadata": {
        "colab": {
          "base_uri": "https://localhost:8080/"
        },
        "id": "I1WR8aYTcbG2",
        "outputId": "a6ce41d9-a2d9-4a59-ce91-e0e3a5460f3d"
      },
      "execution_count": null,
      "outputs": [
        {
          "output_type": "stream",
          "name": "stdout",
          "text": [
            "['tench', 'goldfish', 'great white shark', 'tiger shark', 'hammerhead']\n"
          ]
        }
      ]
    },
    {
      "cell_type": "code",
      "source": [
        "z_, index = torch.max(out, 1)"
      ],
      "metadata": {
        "id": "CxNPZMsVcqcS"
      },
      "execution_count": null,
      "outputs": []
    },
    {
      "cell_type": "code",
      "source": [
        "print(labels[index[0]], percentage[index[0]].item())"
      ],
      "metadata": {
        "colab": {
          "base_uri": "https://localhost:8080/"
        },
        "id": "WfBWHAoAcvUU",
        "outputId": "58ffa547-c41f-4041-eff9-96b2b4bd2846"
      },
      "execution_count": null,
      "outputs": [
        {
          "output_type": "stream",
          "name": "stdout",
          "text": [
            "standard poodle 38.645320892333984\n"
          ]
        }
      ]
    },
    {
      "cell_type": "code",
      "source": [
        "_, indices = torch.sort(out, descending=True)\n",
        "[(labels[idx], percentage[idx].item()) for idx in indices[0][:5]]"
      ],
      "metadata": {
        "colab": {
          "base_uri": "https://localhost:8080/"
        },
        "id": "N6tt92slc9op",
        "outputId": "d452183f-00c4-40d8-b460-607cde29cd98"
      },
      "execution_count": null,
      "outputs": [
        {
          "output_type": "execute_result",
          "data": {
            "text/plain": [
              "[('standard poodle', 38.645320892333984),\n",
              " ('miniature poodle', 37.386741638183594),\n",
              " ('toy poodle', 14.455005645751953),\n",
              " ('Maltese dog', 2.828380823135376),\n",
              " ('cocker spaniel', 2.642119884490967)]"
            ]
          },
          "metadata": {},
          "execution_count": 133
        }
      ]
    },
    {
      "cell_type": "code",
      "source": [
        "import  requests\n",
        "\n",
        "def predict(url):\n",
        "    # first download the image from the web\n",
        "    r = requests.get(url)\n",
        "    with open('tmp.jpg', 'wb') as f:\n",
        "        f.write(r.content)\n",
        "    img = Image.open('tmp.jpg')\n",
        "    img.show()\n",
        "    img_t = transform(img)\n",
        "    batch_t = torch.unsqueeze(img_t, 0)\n",
        "    batch_t = batch_t.to(device)\n",
        "    out = alexnet(batch_t)\n",
        "    _, indices = torch.sort(out, descending=True)\n",
        "    percentage = torch.nn.functional.softmax(out, dim=1)[0] * 100\n",
        "    return([(labels[idx], percentage[idx].item()) for idx in indices[0][:5]])"
      ],
      "metadata": {
        "id": "8R6Zr_utdJlL"
      },
      "execution_count": null,
      "outputs": []
    },
    {
      "cell_type": "code",
      "source": [
        "line = ''\n",
        "for i in range(len(labels)):\n",
        "  line += '%-25s' %labels[i]\n",
        "  if (i + 1) % 4 == 0:\n",
        "    print(line)\n",
        "    line = ''"
      ],
      "metadata": {
        "colab": {
          "base_uri": "https://localhost:8080/"
        },
        "id": "GTHmjEaWdVju",
        "outputId": "75a906ce-af44-4a7b-af6f-a7be073f2c56"
      },
      "execution_count": null,
      "outputs": [
        {
          "output_type": "stream",
          "name": "stdout",
          "text": [
            "tench                    goldfish                 great white shark        tiger shark              \n",
            "hammerhead               electric ray             stingray                 cock                     \n",
            "hen                      ostrich                  brambling                goldfinch                \n",
            "house finch              junco                    indigo bunting           robin                    \n",
            "bulbul                   jay                      magpie                   chickadee                \n",
            "water ouzel              kite                     bald eagle               vulture                  \n",
            "great grey owl           European fire salamander common newt              eft                      \n",
            "spotted salamander       axolotl                  bullfrog                 tree frog                \n",
            "tailed frog              loggerhead               leatherback turtle       mud turtle               \n",
            "terrapin                 box turtle               banded gecko             common iguana            \n",
            "American chameleon       whiptail                 agama                    frilled lizard           \n",
            "alligator lizard         Gila monster             green lizard             African chameleon        \n",
            "Komodo dragon            African crocodile        American alligator       triceratops              \n",
            "thunder snake            ringneck snake           hognose snake            green snake              \n",
            "king snake               garter snake             water snake              vine snake               \n",
            "night snake              boa constrictor          rock python              Indian cobra             \n",
            "green mamba              sea snake                horned viper             diamondback              \n",
            "sidewinder               trilobite                harvestman               scorpion                 \n",
            "black and gold garden spiderbarn spider              garden spider            black widow              \n",
            "tarantula                wolf spider              tick                     centipede                \n",
            "black grouse             ptarmigan                ruffed grouse            prairie chicken          \n",
            "peacock                  quail                    partridge                African grey             \n",
            "macaw                    sulphur-crested cockatoo lorikeet                 coucal                   \n",
            "bee eater                hornbill                 hummingbird              jacamar                  \n",
            "toucan                   drake                    red-breasted merganser   goose                    \n",
            "black swan               tusker                   echidna                  platypus                 \n",
            "wallaby                  koala                    wombat                   jellyfish                \n",
            "sea anemone              brain coral              flatworm                 nematode                 \n",
            "conch                    snail                    slug                     sea slug                 \n",
            "chiton                   chambered nautilus       Dungeness crab           rock crab                \n",
            "fiddler crab             king crab                American lobster         spiny lobster            \n",
            "crayfish                 hermit crab              isopod                   white stork              \n",
            "black stork              spoonbill                flamingo                 little blue heron        \n",
            "American egret           bittern                  crane                    limpkin                  \n",
            "European gallinule       American coot            bustard                  ruddy turnstone          \n",
            "red-backed sandpiper     redshank                 dowitcher                oystercatcher            \n",
            "pelican                  king penguin             albatross                grey whale               \n",
            "killer whale             dugong                   sea lion                 Chihuahua                \n",
            "Japanese spaniel         Maltese dog              Pekinese                 Shih-Tzu                 \n",
            "Blenheim spaniel         papillon                 toy terrier              Rhodesian ridgeback      \n",
            "Afghan hound             basset                   beagle                   bloodhound               \n",
            "bluetick                 black-and-tan coonhound  Walker hound             English foxhound         \n",
            "redbone                  borzoi                   Irish wolfhound          Italian greyhound        \n",
            "whippet                  Ibizan hound             Norwegian elkhound       otterhound               \n",
            "Saluki                   Scottish deerhound       Weimaraner               Staffordshire bullterrier\n",
            "American Staffordshire terrierBedlington terrier       Border terrier           Kerry blue terrier       \n",
            "Irish terrier            Norfolk terrier          Norwich terrier          Yorkshire terrier        \n",
            "wire-haired fox terrier  Lakeland terrier         Sealyham terrier         Airedale                 \n",
            "cairn                    Australian terrier       Dandie Dinmont           Boston bull              \n",
            "miniature schnauzer      giant schnauzer          standard schnauzer       Scotch terrier           \n",
            "Tibetan terrier          silky terrier            soft-coated wheaten terrierWest Highland white terrier\n",
            "Lhasa                    flat-coated retriever    curly-coated retriever   golden retriever         \n",
            "Labrador retriever       Chesapeake Bay retriever German short-haired pointervizsla                   \n",
            "English setter           Irish setter             Gordon setter            Brittany spaniel         \n",
            "clumber                  English springer         Welsh springer spaniel   cocker spaniel           \n",
            "Sussex spaniel           Irish water spaniel      kuvasz                   schipperke               \n",
            "groenendael              malinois                 briard                   kelpie                   \n",
            "komondor                 Old English sheepdog     Shetland sheepdog        collie                   \n",
            "Border collie            Bouvier des Flandres     Rottweiler               German shepherd          \n",
            "Doberman                 miniature pinscher       Greater Swiss Mountain dogBernese mountain dog     \n",
            "Appenzeller              EntleBucher              boxer                    bull mastiff             \n",
            "Tibetan mastiff          French bulldog           Great Dane               Saint Bernard            \n",
            "Eskimo dog               malamute                 Siberian husky           dalmatian                \n",
            "affenpinscher            basenji                  pug                      Leonberg                 \n",
            "Newfoundland             Great Pyrenees           Samoyed                  Pomeranian               \n",
            "chow                     keeshond                 Brabancon griffon        Pembroke                 \n",
            "Cardigan                 toy poodle               miniature poodle         standard poodle          \n",
            "Mexican hairless         timber wolf              white wolf               red wolf                 \n",
            "coyote                   dingo                    dhole                    African hunting dog      \n",
            "hyena                    red fox                  kit fox                  Arctic fox               \n",
            "grey fox                 tabby                    tiger cat                Persian cat              \n",
            "Siamese cat              Egyptian cat             cougar                   lynx                     \n",
            "leopard                  snow leopard             jaguar                   lion                     \n",
            "tiger                    cheetah                  brown bear               American black bear      \n",
            "ice bear                 sloth bear               mongoose                 meerkat                  \n",
            "tiger beetle             ladybug                  ground beetle            long-horned beetle       \n",
            "leaf beetle              dung beetle              rhinoceros beetle        weevil                   \n",
            "fly                      bee                      ant                      grasshopper              \n",
            "cricket                  walking stick            cockroach                mantis                   \n",
            "cicada                   leafhopper               lacewing                 dragonfly                \n",
            "damselfly                admiral                  ringlet                  monarch                  \n",
            "cabbage butterfly        sulphur butterfly        lycaenid                 starfish                 \n",
            "sea urchin               sea cucumber             wood rabbit              hare                     \n",
            "Angora                   hamster                  porcupine                fox squirrel             \n",
            "marmot                   beaver                   guinea pig               sorrel                   \n",
            "zebra                    hog                      wild boar                warthog                  \n",
            "hippopotamus             ox                       water buffalo            bison                    \n",
            "ram                      bighorn                  ibex                     hartebeest               \n",
            "impala                   gazelle                  Arabian camel            llama                    \n",
            "weasel                   mink                     polecat                  black-footed ferret      \n",
            "otter                    skunk                    badger                   armadillo                \n",
            "three-toed sloth         orangutan                gorilla                  chimpanzee               \n",
            "gibbon                   siamang                  guenon                   patas                    \n",
            "baboon                   macaque                  langur                   colobus                  \n",
            "proboscis monkey         marmoset                 capuchin                 howler monkey            \n",
            "titi                     spider monkey            squirrel monkey          Madagascar cat           \n",
            "indri                    Indian elephant          African elephant         lesser panda             \n",
            "giant panda              barracouta               eel                      coho                     \n",
            "rock beauty              anemone fish             sturgeon                 gar                      \n",
            "lionfish                 puffer                   abacus                   abaya                    \n",
            "academic gown            accordion                acoustic guitar          aircraft carrier         \n",
            "airliner                 airship                  altar                    ambulance                \n",
            "amphibian                analog clock             apiary                   apron                    \n",
            "ashcan                   assault rifle            backpack                 bakery                   \n",
            "balance beam             balloon                  ballpoint                Band Aid                 \n",
            "banjo                    bannister                barbell                  barber chair             \n",
            "barbershop               barn                     barometer                barrel                   \n",
            "barrow                   baseball                 basketball               bassinet                 \n",
            "bassoon                  bathing cap              bath towel               bathtub                  \n",
            "beach wagon              beacon                   beaker                   bearskin                 \n",
            "beer bottle              beer glass               bell cote                bib                      \n",
            "bicycle-built-for-two    bikini                   binder                   binoculars               \n",
            "birdhouse                boathouse                bobsled                  bolo tie                 \n",
            "bonnet                   bookcase                 bookshop                 bottlecap                \n",
            "bow                      bow tie                  brass                    brassiere                \n",
            "breakwater               breastplate              broom                    bucket                   \n",
            "buckle                   bulletproof vest         bullet train             butcher shop             \n",
            "cab                      caldron                  candle                   cannon                   \n",
            "canoe                    can opener               cardigan                 car mirror               \n",
            "carousel                 carpenter's kit          carton                   car wheel                \n",
            "cash machine             cassette                 cassette player          castle                   \n",
            "catamaran                CD player                cello                    cellular telephone       \n",
            "chain                    chainlink fence          chain mail               chain saw                \n",
            "chest                    chiffonier               chime                    china cabinet            \n",
            "Christmas stocking       church                   cinema                   cleaver                  \n",
            "cliff dwelling           cloak                    clog                     cocktail shaker          \n",
            "coffee mug               coffeepot                coil                     combination lock         \n",
            "computer keyboard        confectionery            container ship           convertible              \n",
            "corkscrew                cornet                   cowboy boot              cowboy hat               \n",
            "cradle                   crane                    crash helmet             crate                    \n",
            "crib                     Crock Pot                croquet ball             crutch                   \n",
            "cuirass                  dam                      desk                     desktop computer         \n",
            "dial telephone           diaper                   digital clock            digital watch            \n",
            "dining table             dishrag                  dishwasher               disk brake               \n",
            "dock                     dogsled                  dome                     doormat                  \n",
            "drilling platform        drum                     drumstick                dumbbell                 \n",
            "Dutch oven               electric fan             electric guitar          electric locomotive      \n",
            "entertainment center     envelope                 espresso maker           face powder              \n",
            "feather boa              file                     fireboat                 fire engine              \n",
            "fire screen              flagpole                 flute                    folding chair            \n",
            "football helmet          forklift                 fountain                 fountain pen             \n",
            "four-poster              freight car              French horn              frying pan               \n",
            "fur coat                 garbage truck            gasmask                  gas pump                 \n",
            "goblet                   go-kart                  golf ball                golfcart                 \n",
            "gondola                  gong                     gown                     grand piano              \n",
            "greenhouse               grille                   grocery store            guillotine               \n",
            "hair slide               hair spray               half track               hammer                   \n",
            "hamper                   hand blower              hand-held computer       handkerchief             \n",
            "hard disc                harmonica                harp                     harvester                \n",
            "hatchet                  holster                  home theater             honeycomb                \n",
            "hook                     hoopskirt                horizontal bar           horse cart               \n",
            "hourglass                iPod                     iron                     jack-o'-lantern          \n",
            "jean                     jeep                     jersey                   jigsaw puzzle            \n",
            "jinrikisha               joystick                 kimono                   knee pad                 \n",
            "knot                     lab coat                 ladle                    lampshade                \n",
            "laptop                   lawn mower               lens cap                 letter opener            \n",
            "library                  lifeboat                 lighter                  limousine                \n",
            "liner                    lipstick                 Loafer                   lotion                   \n",
            "loudspeaker              loupe                    lumbermill               magnetic compass         \n",
            "mailbag                  mailbox                  maillot                  maillot                  \n",
            "manhole cover            maraca                   marimba                  mask                     \n",
            "matchstick               maypole                  maze                     measuring cup            \n",
            "medicine chest           megalith                 microphone               microwave                \n",
            "military uniform         milk can                 minibus                  miniskirt                \n",
            "minivan                  missile                  mitten                   mixing bowl              \n",
            "mobile home              Model T                  modem                    monastery                \n",
            "monitor                  moped                    mortar                   mortarboard              \n",
            "mosque                   mosquito net             motor scooter            mountain bike            \n",
            "mountain tent            mouse                    mousetrap                moving van               \n",
            "muzzle                   nail                     neck brace               necklace                 \n",
            "nipple                   notebook                 obelisk                  oboe                     \n",
            "ocarina                  odometer                 oil filter               organ                    \n",
            "oscilloscope             overskirt                oxcart                   oxygen mask              \n",
            "packet                   paddle                   paddlewheel              padlock                  \n",
            "paintbrush               pajama                   palace                   panpipe                  \n",
            "paper towel              parachute                parallel bars            park bench               \n",
            "parking meter            passenger car            patio                    pay-phone                \n",
            "pedestal                 pencil box               pencil sharpener         perfume                  \n",
            "Petri dish               photocopier              pick                     pickelhaube              \n",
            "picket fence             pickup                   pier                     piggy bank               \n",
            "pill bottle              pillow                   ping-pong ball           pinwheel                 \n",
            "pirate                   pitcher                  plane                    planetarium              \n",
            "plastic bag              plate rack               plow                     plunger                  \n",
            "Polaroid camera          pole                     police van               poncho                   \n",
            "pool table               pop bottle               pot                      potter's wheel           \n",
            "power drill              prayer rug               printer                  prison                   \n",
            "projectile               projector                puck                     punching bag             \n",
            "purse                    quill                    quilt                    racer                    \n",
            "racket                   radiator                 radio                    radio telescope          \n",
            "rain barrel              recreational vehicle     reel                     reflex camera            \n",
            "refrigerator             remote control           restaurant               revolver                 \n",
            "rifle                    rocking chair            rotisserie               rubber eraser            \n",
            "rugby ball               rule                     running shoe             safe                     \n",
            "safety pin               saltshaker               sandal                   sarong                   \n",
            "sax                      scabbard                 scale                    school bus               \n",
            "schooner                 scoreboard               screen                   screw                    \n",
            "screwdriver              seat belt                sewing machine           shield                   \n",
            "shoe shop                shoji                    shopping basket          shopping cart            \n",
            "shovel                   shower cap               shower curtain           ski                      \n",
            "ski mask                 sleeping bag             slide rule               sliding door             \n",
            "slot                     snorkel                  snowmobile               snowplow                 \n",
            "soap dispenser           soccer ball              sock                     solar dish               \n",
            "sombrero                 soup bowl                space bar                space heater             \n",
            "space shuttle            spatula                  speedboat                spider web               \n",
            "spindle                  sports car               spotlight                stage                    \n",
            "steam locomotive         steel arch bridge        steel drum               stethoscope              \n",
            "stole                    stone wall               stopwatch                stove                    \n",
            "strainer                 streetcar                stretcher                studio couch             \n",
            "stupa                    submarine                suit                     sundial                  \n",
            "sunglass                 sunglasses               sunscreen                suspension bridge        \n",
            "swab                     sweatshirt               swimming trunks          swing                    \n",
            "switch                   syringe                  table lamp               tank                     \n",
            "tape player              teapot                   teddy                    television               \n",
            "tennis ball              thatch                   theater curtain          thimble                  \n",
            "thresher                 throne                   tile roof                toaster                  \n",
            "tobacco shop             toilet seat              torch                    totem pole               \n",
            "tow truck                toyshop                  tractor                  trailer truck            \n",
            "tray                     trench coat              tricycle                 trimaran                 \n",
            "tripod                   triumphal arch           trolleybus               trombone                 \n",
            "tub                      turnstile                typewriter keyboard      umbrella                 \n",
            "unicycle                 upright                  vacuum                   vase                     \n",
            "vault                    velvet                   vending machine          vestment                 \n",
            "viaduct                  violin                   volleyball               waffle iron              \n",
            "wall clock               wallet                   wardrobe                 warplane                 \n",
            "washbasin                washer                   water bottle             water jug                \n",
            "water tower              whiskey jug              whistle                  wig                      \n",
            "window screen            window shade             Windsor tie              wine bottle              \n",
            "wing                     wok                      wooden spoon             wool                     \n",
            "worm fence               wreck                    yawl                     yurt                     \n",
            "web site                 comic book               crossword puzzle         street sign              \n",
            "traffic light            book jacket              menu                     plate                    \n",
            "guacamole                consomme                 hot pot                  trifle                   \n",
            "ice cream                ice lolly                French loaf              bagel                    \n",
            "pretzel                  cheeseburger             hotdog                   mashed potato            \n",
            "head cabbage             broccoli                 cauliflower              zucchini                 \n",
            "spaghetti squash         acorn squash             butternut squash         cucumber                 \n",
            "artichoke                bell pepper              cardoon                  mushroom                 \n",
            "Granny Smith             strawberry               orange                   lemon                    \n",
            "fig                      pineapple                banana                   jackfruit                \n",
            "custard apple            pomegranate              hay                      carbonara                \n",
            "chocolate sauce          dough                    meat loaf                pizza                    \n",
            "potpie                   burrito                  red wine                 espresso                 \n",
            "cup                      eggnog                   alp                      bubble                   \n",
            "cliff                    coral reef               geyser                   lakeside                 \n",
            "promontory               sandbar                  seashore                 valley                   \n",
            "volcano                  ballplayer               groom                    scuba diver              \n",
            "rapeseed                 daisy                    yellow lady's slipper    corn                     \n",
            "acorn                    hip                      buckeye                  coral fungus             \n",
            "agaric                   gyromitra                stinkhorn                earthstar                \n",
            "hen-of-the-woods         bolete                   ear                      toilet tissue            \n"
          ]
        }
      ]
    },
    {
      "cell_type": "code",
      "source": [
        "predict('https://raw.githubusercontent.com/zacharski/ml-class/master/labs/pics/Fender_Stratocaster.jpeg')"
      ],
      "metadata": {
        "colab": {
          "base_uri": "https://localhost:8080/"
        },
        "id": "EXEO-5Btd8gK",
        "outputId": "11c7c9c9-f0e7-4a30-8c73-46542ff68b25"
      },
      "execution_count": null,
      "outputs": [
        {
          "output_type": "execute_result",
          "data": {
            "text/plain": [
              "[('electric guitar', 99.0139389038086),\n",
              " ('acoustic guitar', 0.9524719715118408),\n",
              " ('rule', 0.019165046513080597),\n",
              " ('banjo', 0.0072016301564872265),\n",
              " ('hatchet', 0.0007767516653984785)]"
            ]
          },
          "metadata": {},
          "execution_count": 136
        }
      ]
    },
    {
      "cell_type": "code",
      "source": [
        "predict('https://raw.githubusercontent.com/zacharski/ml-class/master/labs/pics/greyOwl.jpeg')"
      ],
      "metadata": {
        "colab": {
          "base_uri": "https://localhost:8080/"
        },
        "id": "sFY81gUpeA0J",
        "outputId": "6a633fa6-3726-4888-f694-194bb3535776"
      },
      "execution_count": null,
      "outputs": [
        {
          "output_type": "execute_result",
          "data": {
            "text/plain": [
              "[('great grey owl', 72.3724136352539),\n",
              " ('hare', 20.254365921020508),\n",
              " ('kite', 4.006711959838867),\n",
              " ('bittern', 1.0817829370498657),\n",
              " ('macaw', 0.6460889577865601)]"
            ]
          },
          "metadata": {},
          "execution_count": 137
        }
      ]
    },
    {
      "cell_type": "code",
      "source": [
        "predict('https://raw.githubusercontent.com/zacharski/ml-class/master/labs/pics/cello12.jpeg')"
      ],
      "metadata": {
        "colab": {
          "base_uri": "https://localhost:8080/"
        },
        "id": "rtY4p0EmeDf_",
        "outputId": "8703d2a5-7e54-4a66-b930-a11840bd83a5"
      },
      "execution_count": null,
      "outputs": [
        {
          "output_type": "execute_result",
          "data": {
            "text/plain": [
              "[('cello', 75.61215209960938),\n",
              " ('violin', 24.38234519958496),\n",
              " ('acoustic guitar', 0.0035001984797418118),\n",
              " ('banjo', 0.0019424731144681573),\n",
              " ('punching bag', 1.923392483149655e-05)]"
            ]
          },
          "metadata": {},
          "execution_count": 138
        }
      ]
    },
    {
      "cell_type": "code",
      "source": [
        "predict('https://thumbs.dreamstime.com/b/standing-mallard-duck-drake-isolated-white-standing-mallard-duck-drake-isolated-white-background-117724920.jpg')"
      ],
      "metadata": {
        "colab": {
          "base_uri": "https://localhost:8080/"
        },
        "id": "v2iqlW3ce_B7",
        "outputId": "44c74cb1-3f37-4ba8-ce17-ca7ed5879c25"
      },
      "execution_count": null,
      "outputs": [
        {
          "output_type": "execute_result",
          "data": {
            "text/plain": [
              "[('drake', 100.0),\n",
              " ('bee eater', 2.1161154108995106e-06),\n",
              " ('toucan', 5.616255975837703e-07),\n",
              " ('jay', 1.168948173813078e-07),\n",
              " ('maraca', 7.521773426333311e-08)]"
            ]
          },
          "metadata": {},
          "execution_count": 139
        }
      ]
    },
    {
      "cell_type": "code",
      "source": [
        "predict('https://i5.walmartimages.com/asr/c721459d-3826-4461-9e79-c077d5cf191e_3.ca214f10bb3c042f473588af8b240eca.jpeg')"
      ],
      "metadata": {
        "colab": {
          "base_uri": "https://localhost:8080/"
        },
        "id": "7chu9MUAfNoX",
        "outputId": "5d81ddd3-ff94-4890-e3bf-743590ef3ba8"
      },
      "execution_count": null,
      "outputs": [
        {
          "output_type": "execute_result",
          "data": {
            "text/plain": [
              "[('broccoli', 99.99239349365234),\n",
              " ('cauliflower', 0.0049988157115876675),\n",
              " ('head cabbage', 0.0012397859245538712),\n",
              " ('African chameleon', 0.0007421436021104455),\n",
              " ('weevil', 0.0003772132913582027)]"
            ]
          },
          "metadata": {},
          "execution_count": 140
        }
      ]
    },
    {
      "cell_type": "code",
      "source": [
        "predict('https://media1.popsugar-assets.com/files/thumbor/zan-t_Me63if8oqWYE9ENiPLlhA/0x224:2826x3050/fit-in/2048xorig/filters:format_auto-!!-:strip_icc-!!-/2020/02/11/894/n/1922398/87f6bb525e430e7bd44e40.22278576_/i/Drake.jpg')"
      ],
      "metadata": {
        "colab": {
          "base_uri": "https://localhost:8080/"
        },
        "id": "KUJHg7cqfUVT",
        "outputId": "b741f022-ee18-471a-aceb-4e00ac34250e"
      },
      "execution_count": null,
      "outputs": [
        {
          "output_type": "execute_result",
          "data": {
            "text/plain": [
              "[('ski mask', 41.35891342163086),\n",
              " ('neck brace', 8.736526489257812),\n",
              " ('loupe', 7.303763389587402),\n",
              " ('gasmask', 6.331208229064941),\n",
              " ('mask', 4.409131050109863)]"
            ]
          },
          "metadata": {},
          "execution_count": 141
        }
      ]
    },
    {
      "cell_type": "code",
      "source": [
        "squeezenet = models.squeezenet1_1()\n",
        "squeezenet.cuda()"
      ],
      "metadata": {
        "colab": {
          "base_uri": "https://localhost:8080/"
        },
        "id": "Y7jZbm_ggDo7",
        "outputId": "7dbcc7df-19c7-44f9-9ad4-2479cb6b41f3"
      },
      "execution_count": null,
      "outputs": [
        {
          "output_type": "execute_result",
          "data": {
            "text/plain": [
              "SqueezeNet(\n",
              "  (features): Sequential(\n",
              "    (0): Conv2d(3, 64, kernel_size=(3, 3), stride=(2, 2))\n",
              "    (1): ReLU(inplace=True)\n",
              "    (2): MaxPool2d(kernel_size=3, stride=2, padding=0, dilation=1, ceil_mode=True)\n",
              "    (3): Fire(\n",
              "      (squeeze): Conv2d(64, 16, kernel_size=(1, 1), stride=(1, 1))\n",
              "      (squeeze_activation): ReLU(inplace=True)\n",
              "      (expand1x1): Conv2d(16, 64, kernel_size=(1, 1), stride=(1, 1))\n",
              "      (expand1x1_activation): ReLU(inplace=True)\n",
              "      (expand3x3): Conv2d(16, 64, kernel_size=(3, 3), stride=(1, 1), padding=(1, 1))\n",
              "      (expand3x3_activation): ReLU(inplace=True)\n",
              "    )\n",
              "    (4): Fire(\n",
              "      (squeeze): Conv2d(128, 16, kernel_size=(1, 1), stride=(1, 1))\n",
              "      (squeeze_activation): ReLU(inplace=True)\n",
              "      (expand1x1): Conv2d(16, 64, kernel_size=(1, 1), stride=(1, 1))\n",
              "      (expand1x1_activation): ReLU(inplace=True)\n",
              "      (expand3x3): Conv2d(16, 64, kernel_size=(3, 3), stride=(1, 1), padding=(1, 1))\n",
              "      (expand3x3_activation): ReLU(inplace=True)\n",
              "    )\n",
              "    (5): MaxPool2d(kernel_size=3, stride=2, padding=0, dilation=1, ceil_mode=True)\n",
              "    (6): Fire(\n",
              "      (squeeze): Conv2d(128, 32, kernel_size=(1, 1), stride=(1, 1))\n",
              "      (squeeze_activation): ReLU(inplace=True)\n",
              "      (expand1x1): Conv2d(32, 128, kernel_size=(1, 1), stride=(1, 1))\n",
              "      (expand1x1_activation): ReLU(inplace=True)\n",
              "      (expand3x3): Conv2d(32, 128, kernel_size=(3, 3), stride=(1, 1), padding=(1, 1))\n",
              "      (expand3x3_activation): ReLU(inplace=True)\n",
              "    )\n",
              "    (7): Fire(\n",
              "      (squeeze): Conv2d(256, 32, kernel_size=(1, 1), stride=(1, 1))\n",
              "      (squeeze_activation): ReLU(inplace=True)\n",
              "      (expand1x1): Conv2d(32, 128, kernel_size=(1, 1), stride=(1, 1))\n",
              "      (expand1x1_activation): ReLU(inplace=True)\n",
              "      (expand3x3): Conv2d(32, 128, kernel_size=(3, 3), stride=(1, 1), padding=(1, 1))\n",
              "      (expand3x3_activation): ReLU(inplace=True)\n",
              "    )\n",
              "    (8): MaxPool2d(kernel_size=3, stride=2, padding=0, dilation=1, ceil_mode=True)\n",
              "    (9): Fire(\n",
              "      (squeeze): Conv2d(256, 48, kernel_size=(1, 1), stride=(1, 1))\n",
              "      (squeeze_activation): ReLU(inplace=True)\n",
              "      (expand1x1): Conv2d(48, 192, kernel_size=(1, 1), stride=(1, 1))\n",
              "      (expand1x1_activation): ReLU(inplace=True)\n",
              "      (expand3x3): Conv2d(48, 192, kernel_size=(3, 3), stride=(1, 1), padding=(1, 1))\n",
              "      (expand3x3_activation): ReLU(inplace=True)\n",
              "    )\n",
              "    (10): Fire(\n",
              "      (squeeze): Conv2d(384, 48, kernel_size=(1, 1), stride=(1, 1))\n",
              "      (squeeze_activation): ReLU(inplace=True)\n",
              "      (expand1x1): Conv2d(48, 192, kernel_size=(1, 1), stride=(1, 1))\n",
              "      (expand1x1_activation): ReLU(inplace=True)\n",
              "      (expand3x3): Conv2d(48, 192, kernel_size=(3, 3), stride=(1, 1), padding=(1, 1))\n",
              "      (expand3x3_activation): ReLU(inplace=True)\n",
              "    )\n",
              "    (11): Fire(\n",
              "      (squeeze): Conv2d(384, 64, kernel_size=(1, 1), stride=(1, 1))\n",
              "      (squeeze_activation): ReLU(inplace=True)\n",
              "      (expand1x1): Conv2d(64, 256, kernel_size=(1, 1), stride=(1, 1))\n",
              "      (expand1x1_activation): ReLU(inplace=True)\n",
              "      (expand3x3): Conv2d(64, 256, kernel_size=(3, 3), stride=(1, 1), padding=(1, 1))\n",
              "      (expand3x3_activation): ReLU(inplace=True)\n",
              "    )\n",
              "    (12): Fire(\n",
              "      (squeeze): Conv2d(512, 64, kernel_size=(1, 1), stride=(1, 1))\n",
              "      (squeeze_activation): ReLU(inplace=True)\n",
              "      (expand1x1): Conv2d(64, 256, kernel_size=(1, 1), stride=(1, 1))\n",
              "      (expand1x1_activation): ReLU(inplace=True)\n",
              "      (expand3x3): Conv2d(64, 256, kernel_size=(3, 3), stride=(1, 1), padding=(1, 1))\n",
              "      (expand3x3_activation): ReLU(inplace=True)\n",
              "    )\n",
              "  )\n",
              "  (classifier): Sequential(\n",
              "    (0): Dropout(p=0.5, inplace=False)\n",
              "    (1): Conv2d(512, 1000, kernel_size=(1, 1), stride=(1, 1))\n",
              "    (2): ReLU(inplace=True)\n",
              "    (3): AdaptiveAvgPool2d(output_size=(1, 1))\n",
              "  )\n",
              ")"
            ]
          },
          "metadata": {},
          "execution_count": 142
        }
      ]
    },
    {
      "cell_type": "code",
      "source": [
        "squeezenet.eval()"
      ],
      "metadata": {
        "colab": {
          "base_uri": "https://localhost:8080/"
        },
        "id": "tUdPjIN4ixqF",
        "outputId": "1f838bdb-6d70-49a9-b296-fae74ec5f1a1"
      },
      "execution_count": null,
      "outputs": [
        {
          "output_type": "execute_result",
          "data": {
            "text/plain": [
              "SqueezeNet(\n",
              "  (features): Sequential(\n",
              "    (0): Conv2d(3, 64, kernel_size=(3, 3), stride=(2, 2))\n",
              "    (1): ReLU(inplace=True)\n",
              "    (2): MaxPool2d(kernel_size=3, stride=2, padding=0, dilation=1, ceil_mode=True)\n",
              "    (3): Fire(\n",
              "      (squeeze): Conv2d(64, 16, kernel_size=(1, 1), stride=(1, 1))\n",
              "      (squeeze_activation): ReLU(inplace=True)\n",
              "      (expand1x1): Conv2d(16, 64, kernel_size=(1, 1), stride=(1, 1))\n",
              "      (expand1x1_activation): ReLU(inplace=True)\n",
              "      (expand3x3): Conv2d(16, 64, kernel_size=(3, 3), stride=(1, 1), padding=(1, 1))\n",
              "      (expand3x3_activation): ReLU(inplace=True)\n",
              "    )\n",
              "    (4): Fire(\n",
              "      (squeeze): Conv2d(128, 16, kernel_size=(1, 1), stride=(1, 1))\n",
              "      (squeeze_activation): ReLU(inplace=True)\n",
              "      (expand1x1): Conv2d(16, 64, kernel_size=(1, 1), stride=(1, 1))\n",
              "      (expand1x1_activation): ReLU(inplace=True)\n",
              "      (expand3x3): Conv2d(16, 64, kernel_size=(3, 3), stride=(1, 1), padding=(1, 1))\n",
              "      (expand3x3_activation): ReLU(inplace=True)\n",
              "    )\n",
              "    (5): MaxPool2d(kernel_size=3, stride=2, padding=0, dilation=1, ceil_mode=True)\n",
              "    (6): Fire(\n",
              "      (squeeze): Conv2d(128, 32, kernel_size=(1, 1), stride=(1, 1))\n",
              "      (squeeze_activation): ReLU(inplace=True)\n",
              "      (expand1x1): Conv2d(32, 128, kernel_size=(1, 1), stride=(1, 1))\n",
              "      (expand1x1_activation): ReLU(inplace=True)\n",
              "      (expand3x3): Conv2d(32, 128, kernel_size=(3, 3), stride=(1, 1), padding=(1, 1))\n",
              "      (expand3x3_activation): ReLU(inplace=True)\n",
              "    )\n",
              "    (7): Fire(\n",
              "      (squeeze): Conv2d(256, 32, kernel_size=(1, 1), stride=(1, 1))\n",
              "      (squeeze_activation): ReLU(inplace=True)\n",
              "      (expand1x1): Conv2d(32, 128, kernel_size=(1, 1), stride=(1, 1))\n",
              "      (expand1x1_activation): ReLU(inplace=True)\n",
              "      (expand3x3): Conv2d(32, 128, kernel_size=(3, 3), stride=(1, 1), padding=(1, 1))\n",
              "      (expand3x3_activation): ReLU(inplace=True)\n",
              "    )\n",
              "    (8): MaxPool2d(kernel_size=3, stride=2, padding=0, dilation=1, ceil_mode=True)\n",
              "    (9): Fire(\n",
              "      (squeeze): Conv2d(256, 48, kernel_size=(1, 1), stride=(1, 1))\n",
              "      (squeeze_activation): ReLU(inplace=True)\n",
              "      (expand1x1): Conv2d(48, 192, kernel_size=(1, 1), stride=(1, 1))\n",
              "      (expand1x1_activation): ReLU(inplace=True)\n",
              "      (expand3x3): Conv2d(48, 192, kernel_size=(3, 3), stride=(1, 1), padding=(1, 1))\n",
              "      (expand3x3_activation): ReLU(inplace=True)\n",
              "    )\n",
              "    (10): Fire(\n",
              "      (squeeze): Conv2d(384, 48, kernel_size=(1, 1), stride=(1, 1))\n",
              "      (squeeze_activation): ReLU(inplace=True)\n",
              "      (expand1x1): Conv2d(48, 192, kernel_size=(1, 1), stride=(1, 1))\n",
              "      (expand1x1_activation): ReLU(inplace=True)\n",
              "      (expand3x3): Conv2d(48, 192, kernel_size=(3, 3), stride=(1, 1), padding=(1, 1))\n",
              "      (expand3x3_activation): ReLU(inplace=True)\n",
              "    )\n",
              "    (11): Fire(\n",
              "      (squeeze): Conv2d(384, 64, kernel_size=(1, 1), stride=(1, 1))\n",
              "      (squeeze_activation): ReLU(inplace=True)\n",
              "      (expand1x1): Conv2d(64, 256, kernel_size=(1, 1), stride=(1, 1))\n",
              "      (expand1x1_activation): ReLU(inplace=True)\n",
              "      (expand3x3): Conv2d(64, 256, kernel_size=(3, 3), stride=(1, 1), padding=(1, 1))\n",
              "      (expand3x3_activation): ReLU(inplace=True)\n",
              "    )\n",
              "    (12): Fire(\n",
              "      (squeeze): Conv2d(512, 64, kernel_size=(1, 1), stride=(1, 1))\n",
              "      (squeeze_activation): ReLU(inplace=True)\n",
              "      (expand1x1): Conv2d(64, 256, kernel_size=(1, 1), stride=(1, 1))\n",
              "      (expand1x1_activation): ReLU(inplace=True)\n",
              "      (expand3x3): Conv2d(64, 256, kernel_size=(3, 3), stride=(1, 1), padding=(1, 1))\n",
              "      (expand3x3_activation): ReLU(inplace=True)\n",
              "    )\n",
              "  )\n",
              "  (classifier): Sequential(\n",
              "    (0): Dropout(p=0.5, inplace=False)\n",
              "    (1): Conv2d(512, 1000, kernel_size=(1, 1), stride=(1, 1))\n",
              "    (2): ReLU(inplace=True)\n",
              "    (3): AdaptiveAvgPool2d(output_size=(1, 1))\n",
              "  )\n",
              ")"
            ]
          },
          "metadata": {},
          "execution_count": 143
        }
      ]
    },
    {
      "cell_type": "code",
      "source": [
        "import  requests\n",
        "\n",
        "def predict_squeezenet(url):\n",
        "    # first download the image from the web\n",
        "    r = requests.get(url)\n",
        "    with open('tmp.jpg', 'wb') as f:\n",
        "        f.write(r.content)\n",
        "    img = Image.open('tmp.jpg')\n",
        "    img.show()\n",
        "    img_t = transform(img)\n",
        "    batch_t = torch.unsqueeze(img_t, 0)\n",
        "    batch_t = batch_t.to(device)\n",
        "    out = squeezenet(batch_t)\n",
        "    _, indices = torch.sort(out, descending=True)\n",
        "    percentage = torch.nn.functional.softmax(out, dim=1)[0] * 100\n",
        "    return([(labels[idx], percentage[idx].item()) for idx in indices[0][:5]])"
      ],
      "metadata": {
        "id": "U2ZLVTOMi_Ly"
      },
      "execution_count": null,
      "outputs": []
    },
    {
      "cell_type": "code",
      "source": [
        "predict('https://raw.githubusercontent.com/zacharski/ml-class/master/labs/pics/Fender_Stratocaster.jpeg')"
      ],
      "metadata": {
        "colab": {
          "base_uri": "https://localhost:8080/"
        },
        "id": "MNdX2S3_jQz4",
        "outputId": "69c440d1-fae8-4954-c076-cf8c44ee41a0"
      },
      "execution_count": null,
      "outputs": [
        {
          "output_type": "execute_result",
          "data": {
            "text/plain": [
              "[('electric guitar', 99.0139389038086),\n",
              " ('acoustic guitar', 0.9524719715118408),\n",
              " ('rule', 0.019165046513080597),\n",
              " ('banjo', 0.0072016301564872265),\n",
              " ('hatchet', 0.0007767516653984785)]"
            ]
          },
          "metadata": {},
          "execution_count": 147
        }
      ]
    },
    {
      "cell_type": "code",
      "source": [
        "predict('https://raw.githubusercontent.com/zacharski/ml-class/master/labs/pics/cello12.jpeg')"
      ],
      "metadata": {
        "colab": {
          "base_uri": "https://localhost:8080/"
        },
        "id": "OTE192AVkk0L",
        "outputId": "ddd4aabd-96a4-4c5f-98c7-e02af5bb3e4b"
      },
      "execution_count": null,
      "outputs": [
        {
          "output_type": "execute_result",
          "data": {
            "text/plain": [
              "[('cello', 75.61215209960938),\n",
              " ('violin', 24.38234519958496),\n",
              " ('acoustic guitar', 0.0035001984797418118),\n",
              " ('banjo', 0.0019424731144681573),\n",
              " ('punching bag', 1.923392483149655e-05)]"
            ]
          },
          "metadata": {},
          "execution_count": 148
        }
      ]
    },
    {
      "cell_type": "code",
      "source": [
        "predict_squeezenet('https://raw.githubusercontent.com/zacharski/ml-class/master/labs/pics/greyOwl.jpeg')\n"
      ],
      "metadata": {
        "colab": {
          "base_uri": "https://localhost:8080/"
        },
        "id": "ovn21_9QkbmZ",
        "outputId": "18dfa410-09bd-45a4-e635-9fed1ecf7aba"
      },
      "execution_count": null,
      "outputs": [
        {
          "output_type": "execute_result",
          "data": {
            "text/plain": [
              "[('nematode', 0.2215983122587204),\n",
              " ('thunder snake', 0.21774834394454956),\n",
              " ('black-footed ferret', 0.2036116123199463),\n",
              " ('papillon', 0.20054681599140167),\n",
              " ('porcupine', 0.2003687620162964)]"
            ]
          },
          "metadata": {},
          "execution_count": 146
        }
      ]
    },
    {
      "cell_type": "code",
      "source": [
        "predict_squeezenet('https://thumbs.dreamstime.com/b/standing-mallard-duck-drake-isolated-white-standing-mallard-duck-drake-isolated-white-background-117724920.jpg')"
      ],
      "metadata": {
        "colab": {
          "base_uri": "https://localhost:8080/"
        },
        "id": "iDSwnJTWknpD",
        "outputId": "afec6dba-6592-418f-853f-c8dd4f43617d"
      },
      "execution_count": null,
      "outputs": [
        {
          "output_type": "execute_result",
          "data": {
            "text/plain": [
              "[('thunder snake', 0.3782963156700134),\n",
              " ('nematode', 0.35396814346313477),\n",
              " ('porcupine', 0.35296961665153503),\n",
              " ('papillon', 0.35065171122550964),\n",
              " ('black-footed ferret', 0.3459818959236145)]"
            ]
          },
          "metadata": {},
          "execution_count": 151
        }
      ]
    },
    {
      "cell_type": "code",
      "source": [
        "predict_squeezenet('https://i5.walmartimages.com/asr/c721459d-3826-4461-9e79-c077d5cf191e_3.ca214f10bb3c042f473588af8b240eca.jpeg')"
      ],
      "metadata": {
        "colab": {
          "base_uri": "https://localhost:8080/"
        },
        "id": "7qresVrVkvFQ",
        "outputId": "f9b541bf-e3d2-44ea-9f36-2fc55f35dac4"
      },
      "execution_count": null,
      "outputs": [
        {
          "output_type": "execute_result",
          "data": {
            "text/plain": [
              "[('thunder snake', 0.35066866874694824),\n",
              " ('nematode', 0.346265584230423),\n",
              " ('porcupine', 0.33379170298576355),\n",
              " ('papillon', 0.33287763595581055),\n",
              " ('black-footed ferret', 0.3182084262371063)]"
            ]
          },
          "metadata": {},
          "execution_count": 152
        }
      ]
    },
    {
      "cell_type": "code",
      "source": [
        "predict('https://media1.popsugar-assets.com/files/thumbor/zan-t_Me63if8oqWYE9ENiPLlhA/0x224:2826x3050/fit-in/2048xorig/filters:format_auto-!!-:strip_icc-!!-/2020/02/11/894/n/1922398/87f6bb525e430e7bd44e40.22278576_/i/Drake.jpg')"
      ],
      "metadata": {
        "colab": {
          "base_uri": "https://localhost:8080/"
        },
        "id": "StQrzGsck957",
        "outputId": "9154ed07-65fe-43ac-94ee-c36f6af32415"
      },
      "execution_count": null,
      "outputs": [
        {
          "output_type": "execute_result",
          "data": {
            "text/plain": [
              "[('ski mask', 41.35891342163086),\n",
              " ('neck brace', 8.736526489257812),\n",
              " ('loupe', 7.303763389587402),\n",
              " ('gasmask', 6.331208229064941),\n",
              " ('mask', 4.409131050109863)]"
            ]
          },
          "metadata": {},
          "execution_count": 153
        }
      ]
    },
    {
      "cell_type": "markdown",
      "source": [
        "# 2. Summary\n",
        "\n",
        "1. The two modes of machine learning models are supervised and unsupervised.\n",
        "\n",
        "2. A pretrained model is a network previously trained on a large dataset.\n",
        "\n",
        "3. Supervised learning is a machine learning technique that trains a machine using labeled input data and based on that data the machine infers the output. Unsupervised machine learning is trained on unlabelel data and learns to classify data through clustering and association.\n",
        "\n",
        "4. Squeezenet is a convolution neural network designed for image classification. The neural network utilizes stratagies to reduce the number of parameters required to make predictions. As a result of these stratagies, the neural network is capable of AlexNet level accury with 50x fewer parameters.\n",
        "\n",
        "5. Alexnet classified images with the highest rate of success. However, when squeezenet and alexnet were able to correctly identify the object their results were almost identical."
      ],
      "metadata": {
        "id": "1cr1TK1KlQ8g"
      }
    }
  ]
}
